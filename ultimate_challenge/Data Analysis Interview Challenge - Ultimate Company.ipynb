{
 "cells": [
  {
   "cell_type": "markdown",
   "metadata": {},
   "source": [
    "## Part 1 ‐ Exploratory data analysis\n",
    "\n",
    "The attached logins.json file contains (simulated) timestamps of user logins in a particular geographic location. Aggregate these login counts based on 15 minute time intervals, and visualize and describe the resulting time series of login counts in ways that best characterize the underlying patterns of the demand. Please report/illustrate important features of the demand, such as daily cycles. If there are data quality issues, please report them."
   ]
  },
  {
   "cell_type": "code",
   "execution_count": 4,
   "metadata": {},
   "outputs": [],
   "source": [
    "import json\n",
    "from pandas.io.json import json_normalize\n",
    "from collections import OrderedDict\n",
    "from IPython.display import display\n",
    "import pandas as pd\n",
    "import numpy as np \n",
    "import matplotlib.pyplot as plt"
   ]
  },
  {
   "cell_type": "code",
   "execution_count": 3,
   "metadata": {},
   "outputs": [
    {
     "data": {
      "text/html": [
       "<div>\n",
       "<style scoped>\n",
       "    .dataframe tbody tr th:only-of-type {\n",
       "        vertical-align: middle;\n",
       "    }\n",
       "\n",
       "    .dataframe tbody tr th {\n",
       "        vertical-align: top;\n",
       "    }\n",
       "\n",
       "    .dataframe thead th {\n",
       "        text-align: right;\n",
       "    }\n",
       "</style>\n",
       "<table border=\"1\" class=\"dataframe\">\n",
       "  <thead>\n",
       "    <tr style=\"text-align: right;\">\n",
       "      <th></th>\n",
       "      <th>0</th>\n",
       "    </tr>\n",
       "  </thead>\n",
       "  <tbody>\n",
       "    <tr>\n",
       "      <td>93137</td>\n",
       "      <td>1970-04-13 18:50:19</td>\n",
       "    </tr>\n",
       "    <tr>\n",
       "      <td>93138</td>\n",
       "      <td>1970-04-13 18:43:56</td>\n",
       "    </tr>\n",
       "    <tr>\n",
       "      <td>93139</td>\n",
       "      <td>1970-04-13 18:54:02</td>\n",
       "    </tr>\n",
       "    <tr>\n",
       "      <td>93140</td>\n",
       "      <td>1970-04-13 18:57:38</td>\n",
       "    </tr>\n",
       "    <tr>\n",
       "      <td>93141</td>\n",
       "      <td>1970-04-13 18:54:23</td>\n",
       "    </tr>\n",
       "  </tbody>\n",
       "</table>\n",
       "</div>"
      ],
      "text/plain": [
       "                         0\n",
       "93137  1970-04-13 18:50:19\n",
       "93138  1970-04-13 18:43:56\n",
       "93139  1970-04-13 18:54:02\n",
       "93140  1970-04-13 18:57:38\n",
       "93141  1970-04-13 18:54:23"
      ]
     },
     "execution_count": 3,
     "metadata": {},
     "output_type": "execute_result"
    }
   ],
   "source": [
    "raw_json = json.loads(open(\"logins.json\").read())\n",
    "normed_json = json_normalize(raw_json,'login_time')\n",
    "normed_json.tail()"
   ]
  },
  {
   "cell_type": "markdown",
   "metadata": {},
   "source": [
    "Right away we can see here that this data is on the UNIX epoch, since it's safe to say that no one was loging into an app in 1970. This frequently happens when a date is saved in excel or the like, coverted to text from the epoch and then exported. To reverse we'll do this we'll add the number of days between 1/1/1970 and 1/1/2019 to each value."
   ]
  },
  {
   "cell_type": "code",
   "execution_count": 4,
   "metadata": {},
   "outputs": [
    {
     "data": {
      "text/plain": [
       "0    1970-01-01 20:13:18\n",
       "1    1970-01-01 20:16:10\n",
       "2    1970-01-01 20:16:37\n",
       "3    1970-01-01 20:16:36\n",
       "4    1970-01-01 20:26:21\n",
       "Name: 0, dtype: object"
      ]
     },
     "execution_count": 4,
     "metadata": {},
     "output_type": "execute_result"
    }
   ],
   "source": [
    "normed_json[0].head()"
   ]
  },
  {
   "cell_type": "code",
   "execution_count": 54,
   "metadata": {},
   "outputs": [
    {
     "data": {
      "text/html": [
       "<div>\n",
       "<style scoped>\n",
       "    .dataframe tbody tr th:only-of-type {\n",
       "        vertical-align: middle;\n",
       "    }\n",
       "\n",
       "    .dataframe tbody tr th {\n",
       "        vertical-align: top;\n",
       "    }\n",
       "\n",
       "    .dataframe thead th {\n",
       "        text-align: right;\n",
       "    }\n",
       "</style>\n",
       "<table border=\"1\" class=\"dataframe\">\n",
       "  <thead>\n",
       "    <tr style=\"text-align: right;\">\n",
       "      <th></th>\n",
       "      <th>0</th>\n",
       "      <th>count</th>\n",
       "      <th>corrected_date</th>\n",
       "    </tr>\n",
       "    <tr>\n",
       "      <th>corrected_date</th>\n",
       "      <th></th>\n",
       "      <th></th>\n",
       "      <th></th>\n",
       "    </tr>\n",
       "  </thead>\n",
       "  <tbody>\n",
       "    <tr>\n",
       "      <td>2019-01-01 20:13:18</td>\n",
       "      <td>1970-01-01 20:13:18</td>\n",
       "      <td>1</td>\n",
       "      <td>2019-01-01 20:13:18</td>\n",
       "    </tr>\n",
       "    <tr>\n",
       "      <td>2019-01-01 20:16:10</td>\n",
       "      <td>1970-01-01 20:16:10</td>\n",
       "      <td>1</td>\n",
       "      <td>2019-01-01 20:16:10</td>\n",
       "    </tr>\n",
       "    <tr>\n",
       "      <td>2019-01-01 20:16:37</td>\n",
       "      <td>1970-01-01 20:16:37</td>\n",
       "      <td>1</td>\n",
       "      <td>2019-01-01 20:16:37</td>\n",
       "    </tr>\n",
       "    <tr>\n",
       "      <td>2019-01-01 20:16:36</td>\n",
       "      <td>1970-01-01 20:16:36</td>\n",
       "      <td>1</td>\n",
       "      <td>2019-01-01 20:16:36</td>\n",
       "    </tr>\n",
       "    <tr>\n",
       "      <td>2019-01-01 20:26:21</td>\n",
       "      <td>1970-01-01 20:26:21</td>\n",
       "      <td>1</td>\n",
       "      <td>2019-01-01 20:26:21</td>\n",
       "    </tr>\n",
       "  </tbody>\n",
       "</table>\n",
       "</div>"
      ],
      "text/plain": [
       "                                       0  count      corrected_date\n",
       "corrected_date                                                     \n",
       "2019-01-01 20:13:18  1970-01-01 20:13:18      1 2019-01-01 20:13:18\n",
       "2019-01-01 20:16:10  1970-01-01 20:16:10      1 2019-01-01 20:16:10\n",
       "2019-01-01 20:16:37  1970-01-01 20:16:37      1 2019-01-01 20:16:37\n",
       "2019-01-01 20:16:36  1970-01-01 20:16:36      1 2019-01-01 20:16:36\n",
       "2019-01-01 20:26:21  1970-01-01 20:26:21      1 2019-01-01 20:26:21"
      ]
     },
     "execution_count": 54,
     "metadata": {},
     "output_type": "execute_result"
    }
   ],
   "source": [
    "from time import time\n",
    "from datetime import timedelta\n",
    "\n",
    "normed_json['corrected_date'] = pd.to_datetime(normed_json[0]) + timedelta(days=17897)\n",
    "normed_json.head()"
   ]
  },
  {
   "cell_type": "code",
   "execution_count": 14,
   "metadata": {
    "scrolled": true
   },
   "outputs": [
    {
     "data": {
      "text/html": [
       "<div>\n",
       "<style scoped>\n",
       "    .dataframe tbody tr th:only-of-type {\n",
       "        vertical-align: middle;\n",
       "    }\n",
       "\n",
       "    .dataframe tbody tr th {\n",
       "        vertical-align: top;\n",
       "    }\n",
       "\n",
       "    .dataframe thead th {\n",
       "        text-align: right;\n",
       "    }\n",
       "</style>\n",
       "<table border=\"1\" class=\"dataframe\">\n",
       "  <thead>\n",
       "    <tr style=\"text-align: right;\">\n",
       "      <th></th>\n",
       "      <th>count</th>\n",
       "    </tr>\n",
       "    <tr>\n",
       "      <th>corrected_date</th>\n",
       "      <th></th>\n",
       "    </tr>\n",
       "  </thead>\n",
       "  <tbody>\n",
       "    <tr>\n",
       "      <td>2019-01-01 20:00:00</td>\n",
       "      <td>2</td>\n",
       "    </tr>\n",
       "    <tr>\n",
       "      <td>2019-01-01 20:15:00</td>\n",
       "      <td>6</td>\n",
       "    </tr>\n",
       "    <tr>\n",
       "      <td>2019-01-01 20:30:00</td>\n",
       "      <td>9</td>\n",
       "    </tr>\n",
       "    <tr>\n",
       "      <td>2019-01-01 20:45:00</td>\n",
       "      <td>7</td>\n",
       "    </tr>\n",
       "    <tr>\n",
       "      <td>2019-01-01 21:00:00</td>\n",
       "      <td>1</td>\n",
       "    </tr>\n",
       "  </tbody>\n",
       "</table>\n",
       "</div>"
      ],
      "text/plain": [
       "                     count\n",
       "corrected_date            \n",
       "2019-01-01 20:00:00      2\n",
       "2019-01-01 20:15:00      6\n",
       "2019-01-01 20:30:00      9\n",
       "2019-01-01 20:45:00      7\n",
       "2019-01-01 21:00:00      1"
      ]
     },
     "execution_count": 14,
     "metadata": {},
     "output_type": "execute_result"
    }
   ],
   "source": [
    "normed_json.set_index(\"corrected_date\", inplace = True)\n",
    "normed_json['count']=1\n",
    "normed_json_min = normed_json.resample('15Min').sum()\n",
    "normed_json_min.head()"
   ]
  },
  {
   "cell_type": "code",
   "execution_count": 17,
   "metadata": {},
   "outputs": [
    {
     "data": {
      "image/png": "[encoded data removed]",
      "text/plain": [
       "<Figure size 432x288 with 1 Axes>"
      ]
     },
     "metadata": {
      "needs_background": "light"
     },
     "output_type": "display_data"
    }
   ],
   "source": [
    "# plotting it out\n",
    "\n",
    "plt.plot(normed_json_min.index, normed_json_min['count'])\n",
    "plt.xticks(rotation = 45)\n",
    "plt.xlabel('date')\n",
    "plt.ylabel('logins')\n",
    "plt.title('logins at 15 minute intervals');"
   ]
  },
  {
   "cell_type": "code",
   "execution_count": 32,
   "metadata": {},
   "outputs": [
    {
     "data": {
      "text/html": [
       "<div>\n",
       "<style scoped>\n",
       "    .dataframe tbody tr th:only-of-type {\n",
       "        vertical-align: middle;\n",
       "    }\n",
       "\n",
       "    .dataframe tbody tr th {\n",
       "        vertical-align: top;\n",
       "    }\n",
       "\n",
       "    .dataframe thead th {\n",
       "        text-align: right;\n",
       "    }\n",
       "</style>\n",
       "<table border=\"1\" class=\"dataframe\">\n",
       "  <thead>\n",
       "    <tr style=\"text-align: right;\">\n",
       "      <th></th>\n",
       "      <th>count</th>\n",
       "    </tr>\n",
       "    <tr>\n",
       "      <th>corrected_date</th>\n",
       "      <th></th>\n",
       "    </tr>\n",
       "  </thead>\n",
       "  <tbody>\n",
       "    <tr>\n",
       "      <td>2019-01-01</td>\n",
       "      <td>112</td>\n",
       "    </tr>\n",
       "    <tr>\n",
       "      <td>2019-01-02</td>\n",
       "      <td>681</td>\n",
       "    </tr>\n",
       "    <tr>\n",
       "      <td>2019-01-03</td>\n",
       "      <td>793</td>\n",
       "    </tr>\n",
       "    <tr>\n",
       "      <td>2019-01-04</td>\n",
       "      <td>788</td>\n",
       "    </tr>\n",
       "    <tr>\n",
       "      <td>2019-01-05</td>\n",
       "      <td>459</td>\n",
       "    </tr>\n",
       "    <tr>\n",
       "      <td>...</td>\n",
       "      <td>...</td>\n",
       "    </tr>\n",
       "    <tr>\n",
       "      <td>2019-04-09</td>\n",
       "      <td>818</td>\n",
       "    </tr>\n",
       "    <tr>\n",
       "      <td>2019-04-10</td>\n",
       "      <td>1009</td>\n",
       "    </tr>\n",
       "    <tr>\n",
       "      <td>2019-04-11</td>\n",
       "      <td>1352</td>\n",
       "    </tr>\n",
       "    <tr>\n",
       "      <td>2019-04-12</td>\n",
       "      <td>1409</td>\n",
       "    </tr>\n",
       "    <tr>\n",
       "      <td>2019-04-13</td>\n",
       "      <td>395</td>\n",
       "    </tr>\n",
       "  </tbody>\n",
       "</table>\n",
       "<p>103 rows × 1 columns</p>\n",
       "</div>"
      ],
      "text/plain": [
       "                count\n",
       "corrected_date       \n",
       "2019-01-01        112\n",
       "2019-01-02        681\n",
       "2019-01-03        793\n",
       "2019-01-04        788\n",
       "2019-01-05        459\n",
       "...               ...\n",
       "2019-04-09        818\n",
       "2019-04-10       1009\n",
       "2019-04-11       1352\n",
       "2019-04-12       1409\n",
       "2019-04-13        395\n",
       "\n",
       "[103 rows x 1 columns]"
      ]
     },
     "execution_count": 32,
     "metadata": {},
     "output_type": "execute_result"
    }
   ],
   "source": [
    "normed_json_day = normed_json.resample('24h').sum()\n",
    "normed_json_day"
   ]
  },
  {
   "cell_type": "code",
   "execution_count": 34,
   "metadata": {},
   "outputs": [
    {
     "data": {
      "image/png": "[encoded data removed]",
      "text/plain": [
       "<Figure size 432x288 with 1 Axes>"
      ]
     },
     "metadata": {
      "needs_background": "light"
     },
     "output_type": "display_data"
    }
   ],
   "source": [
    "# histogram\n",
    "\n",
    "plt.plot(normed_json_day.index, normed_json_day['count'])\n",
    "plt.xticks(rotation = 45)\n",
    "plt.xlabel('date')\n",
    "plt.ylabel('logins')\n",
    "plt.title('logins counts by day');"
   ]
  },
  {
   "cell_type": "code",
   "execution_count": 44,
   "metadata": {},
   "outputs": [
    {
     "data": {
      "text/html": [
       "<div>\n",
       "<style scoped>\n",
       "    .dataframe tbody tr th:only-of-type {\n",
       "        vertical-align: middle;\n",
       "    }\n",
       "\n",
       "    .dataframe tbody tr th {\n",
       "        vertical-align: top;\n",
       "    }\n",
       "\n",
       "    .dataframe thead th {\n",
       "        text-align: right;\n",
       "    }\n",
       "</style>\n",
       "<table border=\"1\" class=\"dataframe\">\n",
       "  <thead>\n",
       "    <tr style=\"text-align: right;\">\n",
       "      <th></th>\n",
       "      <th>count</th>\n",
       "    </tr>\n",
       "    <tr>\n",
       "      <th>corrected_date</th>\n",
       "      <th></th>\n",
       "    </tr>\n",
       "  </thead>\n",
       "  <tbody>\n",
       "    <tr>\n",
       "      <td>2019-01-06</td>\n",
       "      <td>3369</td>\n",
       "    </tr>\n",
       "    <tr>\n",
       "      <td>2019-01-13</td>\n",
       "      <td>5250</td>\n",
       "    </tr>\n",
       "    <tr>\n",
       "      <td>2019-01-20</td>\n",
       "      <td>4995</td>\n",
       "    </tr>\n",
       "    <tr>\n",
       "      <td>2019-01-27</td>\n",
       "      <td>4778</td>\n",
       "    </tr>\n",
       "    <tr>\n",
       "      <td>2019-02-03</td>\n",
       "      <td>4780</td>\n",
       "    </tr>\n",
       "    <tr>\n",
       "      <td>2019-02-10</td>\n",
       "      <td>5613</td>\n",
       "    </tr>\n",
       "    <tr>\n",
       "      <td>2019-02-17</td>\n",
       "      <td>6090</td>\n",
       "    </tr>\n",
       "    <tr>\n",
       "      <td>2019-02-24</td>\n",
       "      <td>7051</td>\n",
       "    </tr>\n",
       "    <tr>\n",
       "      <td>2019-03-03</td>\n",
       "      <td>6610</td>\n",
       "    </tr>\n",
       "    <tr>\n",
       "      <td>2019-03-10</td>\n",
       "      <td>7310</td>\n",
       "    </tr>\n",
       "    <tr>\n",
       "      <td>2019-03-17</td>\n",
       "      <td>8202</td>\n",
       "    </tr>\n",
       "    <tr>\n",
       "      <td>2019-03-24</td>\n",
       "      <td>8313</td>\n",
       "    </tr>\n",
       "    <tr>\n",
       "      <td>2019-03-31</td>\n",
       "      <td>7274</td>\n",
       "    </tr>\n",
       "    <tr>\n",
       "      <td>2019-04-07</td>\n",
       "      <td>7826</td>\n",
       "    </tr>\n",
       "    <tr>\n",
       "      <td>2019-04-14</td>\n",
       "      <td>5681</td>\n",
       "    </tr>\n",
       "  </tbody>\n",
       "</table>\n",
       "</div>"
      ],
      "text/plain": [
       "                count\n",
       "corrected_date       \n",
       "2019-01-06       3369\n",
       "2019-01-13       5250\n",
       "2019-01-20       4995\n",
       "2019-01-27       4778\n",
       "2019-02-03       4780\n",
       "2019-02-10       5613\n",
       "2019-02-17       6090\n",
       "2019-02-24       7051\n",
       "2019-03-03       6610\n",
       "2019-03-10       7310\n",
       "2019-03-17       8202\n",
       "2019-03-24       8313\n",
       "2019-03-31       7274\n",
       "2019-04-07       7826\n",
       "2019-04-14       5681"
      ]
     },
     "execution_count": 44,
     "metadata": {},
     "output_type": "execute_result"
    }
   ],
   "source": [
    "mon = normed_json.resample('W-MON').sum()\n",
    "tues = normed_json.resample('W-TUE').sum()\n",
    "weds = normed_json.resample('W-WED').sum()\n",
    "thurs = normed_json.resample('W-THU').sum()\n",
    "fri = normed_json.resample('W-FRI').sum()\n",
    "sat = normed_json.resample('W-SAT').sum()\n",
    "sun = normed_json.resample('W-SUN').sum()\n",
    "sun"
   ]
  },
  {
   "cell_type": "code",
   "execution_count": 48,
   "metadata": {},
   "outputs": [
    {
     "data": {
      "image/png": "[encoded data removed]",
      "text/plain": [
       "<Figure size 1080x576 with 1 Axes>"
      ]
     },
     "metadata": {
      "needs_background": "light"
     },
     "output_type": "display_data"
    }
   ],
   "source": [
    "# line, scatterplot, and histograms of the binned data\n",
    "fig, ax = plt.subplots(figsize = (15,8))\n",
    "plt.xlabel('Time', fontsize = 22)\n",
    "plt.ylabel('Number of Logins', fontsize = 22)\n",
    "plt.title('Logins over Time', fontsize = 22)\n",
    "\n",
    "plt.bar(mon.index, mon[\"count\"], align= 'center', width = 0.1, label = \"Mondays\")\n",
    "plt.bar(tues.index, tues[\"count\"], label = 'Tuesdays', align = 'center', width = 0.1)\n",
    "plt.bar(weds.index, weds[\"count\"], label = \"Wednesdays\", align= 'center', width = 0.1)\n",
    "plt.bar(thurs.index, thurs[\"count\"], label = \"Thursdays\", align= 'center', width = 0.1)\n",
    "plt.bar(fri.index, fri[\"count\"], align= 'center', width = 0.1, label = \"Fridays\")\n",
    "plt.bar(sat.index, sat[\"count\"], label = 'Saturday', align = 'center', width = 0.1)\n",
    "plt.bar(sun.index, sun[\"count\"], label = \"Sundays\", align= 'center', width = 0.1)\n",
    "\n",
    "plt.legend(loc='upper left', fontsize = 16)\n",
    "plt.tight_layout()"
   ]
  },
  {
   "cell_type": "code",
   "execution_count": 99,
   "metadata": {},
   "outputs": [
    {
     "data": {
      "text/html": [
       "<div>\n",
       "<style scoped>\n",
       "    .dataframe tbody tr th:only-of-type {\n",
       "        vertical-align: middle;\n",
       "    }\n",
       "\n",
       "    .dataframe tbody tr th {\n",
       "        vertical-align: top;\n",
       "    }\n",
       "\n",
       "    .dataframe thead th {\n",
       "        text-align: right;\n",
       "    }\n",
       "</style>\n",
       "<table border=\"1\" class=\"dataframe\">\n",
       "  <thead>\n",
       "    <tr style=\"text-align: right;\">\n",
       "      <th></th>\n",
       "      <th>count</th>\n",
       "    </tr>\n",
       "    <tr>\n",
       "      <th>corrected_date</th>\n",
       "      <th></th>\n",
       "    </tr>\n",
       "  </thead>\n",
       "  <tbody>\n",
       "    <tr>\n",
       "      <td>2019-01-01 20:00:00</td>\n",
       "      <td>24</td>\n",
       "    </tr>\n",
       "    <tr>\n",
       "      <td>2019-01-01 21:00:00</td>\n",
       "      <td>9</td>\n",
       "    </tr>\n",
       "    <tr>\n",
       "      <td>2019-01-01 22:00:00</td>\n",
       "      <td>21</td>\n",
       "    </tr>\n",
       "    <tr>\n",
       "      <td>2019-01-01 23:00:00</td>\n",
       "      <td>58</td>\n",
       "    </tr>\n",
       "    <tr>\n",
       "      <td>2019-01-02 00:00:00</td>\n",
       "      <td>53</td>\n",
       "    </tr>\n",
       "    <tr>\n",
       "      <td>...</td>\n",
       "      <td>...</td>\n",
       "    </tr>\n",
       "    <tr>\n",
       "      <td>2019-04-13 14:00:00</td>\n",
       "      <td>32</td>\n",
       "    </tr>\n",
       "    <tr>\n",
       "      <td>2019-04-13 15:00:00</td>\n",
       "      <td>19</td>\n",
       "    </tr>\n",
       "    <tr>\n",
       "      <td>2019-04-13 16:00:00</td>\n",
       "      <td>22</td>\n",
       "    </tr>\n",
       "    <tr>\n",
       "      <td>2019-04-13 17:00:00</td>\n",
       "      <td>22</td>\n",
       "    </tr>\n",
       "    <tr>\n",
       "      <td>2019-04-13 18:00:00</td>\n",
       "      <td>20</td>\n",
       "    </tr>\n",
       "  </tbody>\n",
       "</table>\n",
       "<p>2447 rows × 1 columns</p>\n",
       "</div>"
      ],
      "text/plain": [
       "                     count\n",
       "corrected_date            \n",
       "2019-01-01 20:00:00     24\n",
       "2019-01-01 21:00:00      9\n",
       "2019-01-01 22:00:00     21\n",
       "2019-01-01 23:00:00     58\n",
       "2019-01-02 00:00:00     53\n",
       "...                    ...\n",
       "2019-04-13 14:00:00     32\n",
       "2019-04-13 15:00:00     19\n",
       "2019-04-13 16:00:00     22\n",
       "2019-04-13 17:00:00     22\n",
       "2019-04-13 18:00:00     20\n",
       "\n",
       "[2447 rows x 1 columns]"
      ]
     },
     "execution_count": 99,
     "metadata": {},
     "output_type": "execute_result"
    }
   ],
   "source": [
    "hourly = normed_json.resample('1H').sum()\n",
    "hourly"
   ]
  },
  {
   "cell_type": "code",
   "execution_count": 119,
   "metadata": {},
   "outputs": [],
   "source": [
    "mon_H = hourly.resample('1H').sum()"
   ]
  },
  {
   "cell_type": "code",
   "execution_count": null,
   "metadata": {},
   "outputs": [],
   "source": [
    "fakehrs = hourly\n",
    "\n",
    "fakehrs.reset_index(level=0, inplace=True)"
   ]
  },
  {
   "cell_type": "code",
   "execution_count": 154,
   "metadata": {},
   "outputs": [],
   "source": [
    "fakehrs['day_of_week'] = pd.to_datetime(fakehrs['corrected_date']).dt.dayofweek\n",
    "fakehrs['hour_of_day'] = pd.to_datetime(fakehrs['corrected_date']).dt.hour"
   ]
  },
  {
   "cell_type": "code",
   "execution_count": 166,
   "metadata": {},
   "outputs": [],
   "source": [
    "fakehrs  = fakehrs.groupby(['day_of_week', 'hour_of_day']).sum()\n",
    "fakehrs.reset_index(inplace=True)"
   ]
  },
  {
   "cell_type": "code",
   "execution_count": 180,
   "metadata": {},
   "outputs": [
    {
     "data": {
      "text/plain": [
       "<matplotlib.legend.Legend at 0xb1c7855f8>"
      ]
     },
     "execution_count": 180,
     "metadata": {},
     "output_type": "execute_result"
    },
    {
     "data": {
      "image/png": "[encoded data removed]",
      "text/plain": [
       "<Figure size 432x288 with 1 Axes>"
      ]
     },
     "metadata": {
      "needs_background": "light"
     },
     "output_type": "display_data"
    }
   ],
   "source": [
    "df = fakehrs.pivot(index='hour_of_day', columns='day_of_week', values='count')\n",
    "\n",
    "df.plot()\n",
    "plt.legend(['Mon', 'Tues', 'Wed', 'Thurs', 'Fri', 'Sat', 'Sun'],ncol=2, borderaxespad=0.)"
   ]
  },
  {
   "cell_type": "markdown",
   "metadata": {},
   "source": [
    "## Analysis\n",
    "\n",
    "So we see big spikes on Thursday and Friday mornings, regular lunch spikes every other day, and pretty even flow otherwise with the classic 'drive times'."
   ]
  },
  {
   "cell_type": "markdown",
   "metadata": {},
   "source": [
    "# Part 2 ‐ Experiment and metrics design\n",
    "\n",
    "The neighboring cities of Gotham and Metropolis have complementary circadian rhythms: on weekdays, Ultimate Gotham is most active at night, and Ultimate Metropolis is most active during the day. On weekends, there is reasonable activity in both cities. However, a toll bridge, with a two­way toll, between the two cities causes driver partners to tend to be exclusive to each city. The Ultimate managers of city operations for the two cities have proposed an experiment to encourage driver partners to be available in both cities, by reimbursing all toll costs.\n",
    "    \n",
    "-  What would you choose as the key measure of success of this experiment in encouraging driver partners to serve both cities, and why would you choose this metric?\n",
    "\n",
    "        \n",
    "- Describe a practical experiment you would design to compare the effectiveness of the proposed change in relation to the key measure of success. Please provide details on: a. how you will implement the experiment b. what statistical test(s) you will conduct to verify the significance of the observation c. how you would interpret the results and provide recommendations to the city operations team along with any caveats."
   ]
  },
  {
   "cell_type": "markdown",
   "metadata": {},
   "source": [
    "## Answer:\n",
    "\n",
    "For key metrics I'd consider first the business use case as something like cost per revenue; if Ultimate is spending as much in toll costs to drive across the bridge, then it's not worth it on it's face. So I'd first propose considering number of drivers who accept the cost and how many additional fares that creates. Second would be if we see an increase in usage in the respective cities over all due to increased driver availability.\n",
    "\n",
    "For an Experiment I'd consider doing a randomized controlled experiment where drivers are split into three groups, \n",
    "\n",
    "- toll reimbursement\n",
    "- new city bonus\n",
    "- control\n",
    "\n",
    "I'd use the new city bonus to see if drivers would be more engaged by the idea of a 'bonus' as opposed to a reimbursement. Humans are bad at considering sunk cost but will do a lot of a 'bonus' even if it's not particularly valuable. "
   ]
  },
  {
   "cell_type": "markdown",
   "metadata": {},
   "source": [
    "# Part 3 ‑ Predictive modeling\n",
    "\n",
    "Ultimate is interested in predicting rider retention. To help explore this question, we have provided a sample dataset of a cohort of users who signed up for an Ultimate account in January 2014. The data was pulled several months later; we consider a user retained if they were “active” (i.e. took a trip) in the preceding 30 days.\n",
    "We would like you to use this data set to help understand what factors are the best predictors for retention, and offer suggestions to operationalize those insights to help Ultimate.\n",
    "\n",
    "The data is in the attached file ultimate_data_challenge.json.\n",
    "\n",
    "Perform any cleaning, exploratory analysis, and/or visualizations to use the provided data for this analysis (a few sentences/plots describing your approach will suffice). What fraction of the observed users were retained?\n",
    "\n",
    "Build a predictive model to help Ultimate determine whether or not a user will be active in their 6th month on the system. Discuss why you chose your approach, what alternatives you considered, and any concerns you have. How valid is your model? Include any key indicators of model performance.\n",
    "\n",
    "Briefly discuss how Ultimate might leverage the insights gained from the model to improve its long term rider retention (again, a few sentences will suffice).\n",
    "\n",
    "### Cleaning\n",
    "\n",
    "while you'll see there were some missing values below I decided to drop the catagorical ones and fill in the missing average ratings with the mean. \n",
    "\n",
    "### Feature Creation\n",
    "\n",
    "I created a target metric called six months that showed if they were active more than 6 months past their sign up date, which was slightly tricky since the company considers someone active up to 29 days past their last actual ride so I created a time delta, added 29 to it, and then selected the rows where that number was above 180 (aprox 6 months of days).\n",
    "\n",
    "I also created dummy variables for the catagorical features.\n",
    "\n",
    "### Exploration\n",
    "\n",
    "I created a correlation matrix to see what the most highly correlated values were in relation to the target 'six months', as well as some plots to gauge values. The largest differences seemed to be dependant on phone, if they were a black car (executive car) user, and average distance as well as city. "
   ]
  },
  {
   "cell_type": "code",
   "execution_count": 5,
   "metadata": {},
   "outputs": [
    {
     "data": {
      "text/html": [
       "<div>\n",
       "<style scoped>\n",
       "    .dataframe tbody tr th:only-of-type {\n",
       "        vertical-align: middle;\n",
       "    }\n",
       "\n",
       "    .dataframe tbody tr th {\n",
       "        vertical-align: top;\n",
       "    }\n",
       "\n",
       "    .dataframe thead th {\n",
       "        text-align: right;\n",
       "    }\n",
       "</style>\n",
       "<table border=\"1\" class=\"dataframe\">\n",
       "  <thead>\n",
       "    <tr style=\"text-align: right;\">\n",
       "      <th></th>\n",
       "      <th>city</th>\n",
       "      <th>trips_in_first_30_days</th>\n",
       "      <th>signup_date</th>\n",
       "      <th>avg_rating_of_driver</th>\n",
       "      <th>avg_surge</th>\n",
       "      <th>last_trip_date</th>\n",
       "      <th>phone</th>\n",
       "      <th>surge_pct</th>\n",
       "      <th>ultimate_black_user</th>\n",
       "      <th>weekday_pct</th>\n",
       "      <th>avg_dist</th>\n",
       "      <th>avg_rating_by_driver</th>\n",
       "    </tr>\n",
       "  </thead>\n",
       "  <tbody>\n",
       "    <tr>\n",
       "      <td>0</td>\n",
       "      <td>King's Landing</td>\n",
       "      <td>4</td>\n",
       "      <td>2014-01-25</td>\n",
       "      <td>4.7</td>\n",
       "      <td>1.10</td>\n",
       "      <td>2014-06-17</td>\n",
       "      <td>iPhone</td>\n",
       "      <td>15.4</td>\n",
       "      <td>True</td>\n",
       "      <td>46.2</td>\n",
       "      <td>3.67</td>\n",
       "      <td>5.0</td>\n",
       "    </tr>\n",
       "    <tr>\n",
       "      <td>1</td>\n",
       "      <td>Astapor</td>\n",
       "      <td>0</td>\n",
       "      <td>2014-01-29</td>\n",
       "      <td>5.0</td>\n",
       "      <td>1.00</td>\n",
       "      <td>2014-05-05</td>\n",
       "      <td>Android</td>\n",
       "      <td>0.0</td>\n",
       "      <td>False</td>\n",
       "      <td>50.0</td>\n",
       "      <td>8.26</td>\n",
       "      <td>5.0</td>\n",
       "    </tr>\n",
       "    <tr>\n",
       "      <td>2</td>\n",
       "      <td>Astapor</td>\n",
       "      <td>3</td>\n",
       "      <td>2014-01-06</td>\n",
       "      <td>4.3</td>\n",
       "      <td>1.00</td>\n",
       "      <td>2014-01-07</td>\n",
       "      <td>iPhone</td>\n",
       "      <td>0.0</td>\n",
       "      <td>False</td>\n",
       "      <td>100.0</td>\n",
       "      <td>0.77</td>\n",
       "      <td>5.0</td>\n",
       "    </tr>\n",
       "    <tr>\n",
       "      <td>3</td>\n",
       "      <td>King's Landing</td>\n",
       "      <td>9</td>\n",
       "      <td>2014-01-10</td>\n",
       "      <td>4.6</td>\n",
       "      <td>1.14</td>\n",
       "      <td>2014-06-29</td>\n",
       "      <td>iPhone</td>\n",
       "      <td>20.0</td>\n",
       "      <td>True</td>\n",
       "      <td>80.0</td>\n",
       "      <td>2.36</td>\n",
       "      <td>4.9</td>\n",
       "    </tr>\n",
       "    <tr>\n",
       "      <td>4</td>\n",
       "      <td>Winterfell</td>\n",
       "      <td>14</td>\n",
       "      <td>2014-01-27</td>\n",
       "      <td>4.4</td>\n",
       "      <td>1.19</td>\n",
       "      <td>2014-03-15</td>\n",
       "      <td>Android</td>\n",
       "      <td>11.8</td>\n",
       "      <td>False</td>\n",
       "      <td>82.4</td>\n",
       "      <td>3.13</td>\n",
       "      <td>4.9</td>\n",
       "    </tr>\n",
       "  </tbody>\n",
       "</table>\n",
       "</div>"
      ],
      "text/plain": [
       "             city  trips_in_first_30_days signup_date  avg_rating_of_driver  \\\n",
       "0  King's Landing                       4  2014-01-25                   4.7   \n",
       "1         Astapor                       0  2014-01-29                   5.0   \n",
       "2         Astapor                       3  2014-01-06                   4.3   \n",
       "3  King's Landing                       9  2014-01-10                   4.6   \n",
       "4      Winterfell                      14  2014-01-27                   4.4   \n",
       "\n",
       "   avg_surge last_trip_date    phone  surge_pct  ultimate_black_user  \\\n",
       "0       1.10     2014-06-17   iPhone       15.4                 True   \n",
       "1       1.00     2014-05-05  Android        0.0                False   \n",
       "2       1.00     2014-01-07   iPhone        0.0                False   \n",
       "3       1.14     2014-06-29   iPhone       20.0                 True   \n",
       "4       1.19     2014-03-15  Android       11.8                False   \n",
       "\n",
       "   weekday_pct  avg_dist  avg_rating_by_driver  \n",
       "0         46.2      3.67                   5.0  \n",
       "1         50.0      8.26                   5.0  \n",
       "2        100.0      0.77                   5.0  \n",
       "3         80.0      2.36                   4.9  \n",
       "4         82.4      3.13                   4.9  "
      ]
     },
     "execution_count": 5,
     "metadata": {},
     "output_type": "execute_result"
    }
   ],
   "source": [
    "file = open('ultimate_data_challenge.json', 'r')\n",
    "riders = pd.DataFrame(json.load(file))\n",
    "file.close()\n",
    "\n",
    "riders.head()"
   ]
  },
  {
   "cell_type": "code",
   "execution_count": 6,
   "metadata": {},
   "outputs": [
    {
     "name": "stdout",
     "output_type": "stream",
     "text": [
      "(50000, 12)\n"
     ]
    }
   ],
   "source": [
    "print(riders.shape)"
   ]
  },
  {
   "cell_type": "code",
   "execution_count": 184,
   "metadata": {},
   "outputs": [
    {
     "data": {
      "text/plain": [
       "True"
      ]
     },
     "execution_count": 184,
     "metadata": {},
     "output_type": "execute_result"
    }
   ],
   "source": [
    "riders.isnull().values.any()"
   ]
  },
  {
   "cell_type": "code",
   "execution_count": 186,
   "metadata": {},
   "outputs": [
    {
     "data": {
      "text/plain": [
       "city                         0\n",
       "trips_in_first_30_days       0\n",
       "signup_date                  0\n",
       "avg_rating_of_driver      8122\n",
       "avg_surge                    0\n",
       "last_trip_date               0\n",
       "phone                      396\n",
       "surge_pct                    0\n",
       "ultimate_black_user          0\n",
       "weekday_pct                  0\n",
       "avg_dist                     0\n",
       "avg_rating_by_driver       201\n",
       "dtype: int64"
      ]
     },
     "execution_count": 186,
     "metadata": {},
     "output_type": "execute_result"
    }
   ],
   "source": [
    "riders.isnull().sum()"
   ]
  },
  {
   "cell_type": "code",
   "execution_count": null,
   "metadata": {},
   "outputs": [],
   "source": [
    "## shift values to dates\n",
    "riders['signup_date']=pd.to_datetime(riders['signup_date'])\n",
    "riders['last_trip_date']=pd.to_datetime(riders['last_trip_date'])\n",
    "\n",
    "# time delta functions\n",
    "riders['first_last_activity'] =  [ (i.days) for i in (riders['last_trip_date'] - riders['signup_date'])]\n",
    "riders[\"six_months\"] = np.where(riders['first_last_activity']+29>=180, 1, 0)\n",
    "\n",
    "# One hot encoding catagorical variables\n",
    "riders = pd.get_dummies(riders, columns = ['city', 'phone', 'ultimate_black_user'])\n",
    "riders"
   ]
  },
  {
   "cell_type": "code",
   "execution_count": 17,
   "metadata": {},
   "outputs": [
    {
     "data": {
      "text/plain": [
       "12198"
      ]
     },
     "execution_count": 17,
     "metadata": {},
     "output_type": "execute_result"
    }
   ],
   "source": [
    "riders.six_months.sum()"
   ]
  },
  {
   "cell_type": "markdown",
   "metadata": {},
   "source": [
    "First let's check values that are correlated with six_month retention:"
   ]
  },
  {
   "cell_type": "code",
   "execution_count": 26,
   "metadata": {},
   "outputs": [
    {
     "data": {
      "text/plain": [
       "<matplotlib.axes._subplots.AxesSubplot at 0x117e94198>"
      ]
     },
     "execution_count": 26,
     "metadata": {},
     "output_type": "execute_result"
    },
    {
     "data": {
      "image/png": "[encoded data removed]",
      "text/plain": [
       "<Figure size 432x288 with 2 Axes>"
      ]
     },
     "metadata": {
      "needs_background": "light"
     },
     "output_type": "display_data"
    }
   ],
   "source": [
    "import seaborn as sb\n",
    "\n",
    "corr = riders.corr(method='pearson')\n",
    "sb.heatmap(corr, cmap= 'PiYG')"
   ]
  },
  {
   "cell_type": "markdown",
   "metadata": {},
   "source": [
    "What's interesting is that it seems like the most positively correlated values are being an executive car user,  type of phone, and riders who live in King's Landing. The most negative seems to be being in Astapor and having long distance rides."
   ]
  },
  {
   "cell_type": "code",
   "execution_count": 30,
   "metadata": {},
   "outputs": [
    {
     "data": {
      "text/plain": [
       "six_months                   1.000000\n",
       "first_last_activity          0.637210\n",
       "trips_in_first_30_days       0.204841\n",
       "city_King's Landing          0.180708\n",
       "phone_iPhone                 0.176607\n",
       "ultimate_black_user_True     0.159157\n",
       "surge_pct                    0.017045\n",
       "avg_surge                    0.006267\n",
       "weekday_pct                  0.005518\n",
       "avg_rating_of_driver        -0.008835\n",
       "city_Winterfell             -0.020727\n",
       "avg_rating_by_driver        -0.022339\n",
       "avg_dist                    -0.091802\n",
       "city_Astapor                -0.132408\n",
       "ultimate_black_user_False   -0.159157\n",
       "phone_Android               -0.176623\n",
       "Name: six_months, dtype: float64"
      ]
     },
     "execution_count": 30,
     "metadata": {},
     "output_type": "execute_result"
    }
   ],
   "source": [
    "corr.six_months.sort_values(ascending=False)"
   ]
  },
  {
   "cell_type": "markdown",
   "metadata": {},
   "source": [
    "I wanted to check if the ratings between cities were particularly different, so I mapped that by satisfaction with driver, vs other important variables like phone type and executive car user."
   ]
  },
  {
   "cell_type": "code",
   "execution_count": 32,
   "metadata": {},
   "outputs": [
    {
     "data": {
      "image/png": "[encoded data removed]",
      "text/plain": [
       "<Figure size 432x288 with 1 Axes>"
      ]
     },
     "metadata": {
      "needs_background": "light"
     },
     "output_type": "display_data"
    }
   ],
   "source": [
    "import warnings\n",
    "p1=sb.kdeplot(riders['avg_rating_of_driver'], shade=True, color=\"r\",  label='rating')"
   ]
  },
  {
   "cell_type": "code",
   "execution_count": 38,
   "metadata": {},
   "outputs": [
    {
     "data": {
      "image/png": "[encoded data removed]",
      "text/plain": [
       "<Figure size 432x288 with 1 Axes>"
      ]
     },
     "metadata": {
      "needs_background": "light"
     },
     "output_type": "display_data"
    }
   ],
   "source": [
    "p1=sb.kdeplot(riders['avg_rating_of_driver'][riders['phone_iPhone']==1], shade=True, color=\"r\",  label='iPhone')\n",
    "p1=sb.kdeplot(riders['avg_rating_of_driver'][riders['phone_iPhone']==0], shade=True, color=\"b\", label='Android')"
   ]
  },
  {
   "cell_type": "code",
   "execution_count": 39,
   "metadata": {},
   "outputs": [
    {
     "data": {
      "image/png": "[encoded data removed]",
      "text/plain": [
       "<Figure size 432x288 with 1 Axes>"
      ]
     },
     "metadata": {
      "needs_background": "light"
     },
     "output_type": "display_data"
    }
   ],
   "source": [
    "p1=sb.kdeplot(riders['avg_rating_of_driver'][riders['ultimate_black_user_True']==1], shade=True, color=\"r\",  label='Exec')\n",
    "p1=sb.kdeplot(riders['avg_rating_of_driver'][riders['ultimate_black_user_True']==0], shade=True, color=\"b\", label='Non-Exec')"
   ]
  },
  {
   "cell_type": "markdown",
   "metadata": {},
   "source": [
    "Pretty even in both cases so it seems satisfaction with our drivers isn't the problem."
   ]
  },
  {
   "cell_type": "code",
   "execution_count": 45,
   "metadata": {},
   "outputs": [
    {
     "data": {
      "text/plain": [
       "<matplotlib.axes._subplots.AxesSubplot at 0x1a2575d2e8>"
      ]
     },
     "execution_count": 45,
     "metadata": {},
     "output_type": "execute_result"
    },
    {
     "data": {
      "image/png": "[encoded data removed]",
      "text/plain": [
       "<Figure size 432x288 with 1 Axes>"
      ]
     },
     "metadata": {
      "needs_background": "light"
     },
     "output_type": "display_data"
    }
   ],
   "source": [
    "sb.boxplot(x=\"six_months\", y=\"avg_dist\", data=riders)"
   ]
  },
  {
   "cell_type": "code",
   "execution_count": 47,
   "metadata": {},
   "outputs": [
    {
     "data": {
      "text/plain": [
       "six_months\n",
       "0    6.094451\n",
       "1    4.874479\n",
       "Name: avg_dist, dtype: float64"
      ]
     },
     "execution_count": 47,
     "metadata": {},
     "output_type": "execute_result"
    }
   ],
   "source": [
    "riders.groupby('six_months').avg_dist.mean()"
   ]
  },
  {
   "cell_type": "code",
   "execution_count": 74,
   "metadata": {},
   "outputs": [
    {
     "name": "stdout",
     "output_type": "stream",
     "text": [
      "<class 'pandas.core.frame.DataFrame'>\n",
      "RangeIndex: 50000 entries, 0 to 49999\n",
      "Data columns (total 18 columns):\n",
      "trips_in_first_30_days       50000 non-null int64\n",
      "signup_date                  50000 non-null datetime64[ns]\n",
      "avg_rating_of_driver         50000 non-null float64\n",
      "avg_surge                    50000 non-null float64\n",
      "last_trip_date               50000 non-null datetime64[ns]\n",
      "surge_pct                    50000 non-null float64\n",
      "weekday_pct                  50000 non-null float64\n",
      "avg_dist                     50000 non-null float64\n",
      "avg_rating_by_driver         50000 non-null float64\n",
      "six_months                   50000 non-null int64\n",
      "first_last_activity          50000 non-null int64\n",
      "city_Astapor                 50000 non-null uint8\n",
      "city_King's Landing          50000 non-null uint8\n",
      "city_Winterfell              50000 non-null uint8\n",
      "phone_Android                50000 non-null uint8\n",
      "phone_iPhone                 50000 non-null uint8\n",
      "ultimate_black_user_False    50000 non-null uint8\n",
      "ultimate_black_user_True     50000 non-null uint8\n",
      "dtypes: datetime64[ns](2), float64(6), int64(3), uint8(7)\n",
      "memory usage: 4.5 MB\n"
     ]
    }
   ],
   "source": [
    "# now going back to fill in the na values\n",
    "riders.avg_rating_by_driver = riders.avg_rating_by_driver.fillna(riders.avg_rating_by_driver).mean()\n",
    "riders.avg_rating_of_driver = riders.avg_rating_of_driver.fillna(riders.avg_rating_of_driver).mean()\n",
    "\n",
    "riders.info()"
   ]
  },
  {
   "cell_type": "markdown",
   "metadata": {},
   "source": [
    "### Model creation\n",
    "\n",
    "I decided to use a random forest classifier and an xgboost classifier as the primary models. I passed the data through a normalizer to standarize the data into a more normal distribution and then performed a grid search for both models. "
   ]
  },
  {
   "cell_type": "code",
   "execution_count": 105,
   "metadata": {},
   "outputs": [],
   "source": [
    "from sklearn.pipeline import Pipeline\n",
    "from sklearn.model_selection import train_test_split\n",
    "from sklearn.preprocessing import QuantileTransformer\n",
    "from sklearn.model_selection import GridSearchCV\n",
    "from sklearn.metrics import accuracy_score, classification_report, roc_curve, roc_auc_score\n",
    "from sklearn.metrics import precision_score, recall_score, f1_score, confusion_matrix\n",
    "from sklearn.ensemble import RandomForestClassifier\n",
    "from xgboost import XGBClassifier\n",
    "from sklearn.feature_selection import SelectFromModel\n",
    "\n",
    "target_metric = riders['six_months'].values\n",
    "\n",
    "#features = [col for col in riders.columns if 'six_months' not in col]\n",
    "ind_features = riders.drop(['six_months',\"first_last_activity\",\"signup_date\", \"last_trip_date\"], axis = 1).values\n"
   ]
  },
  {
   "cell_type": "code",
   "execution_count": 76,
   "metadata": {},
   "outputs": [
    {
     "data": {
      "text/plain": [
       "array([[4.        , 4.60155929, 1.1       , ..., 1.        , 0.        ,\n",
       "        1.        ],\n",
       "       [0.        , 4.60155929, 1.        , ..., 0.        , 1.        ,\n",
       "        0.        ],\n",
       "       [3.        , 4.60155929, 1.        , ..., 1.        , 1.        ,\n",
       "        0.        ],\n",
       "       ...,\n",
       "       [0.        , 4.60155929, 1.        , ..., 0.        , 0.        ,\n",
       "        1.        ],\n",
       "       [2.        , 4.60155929, 1.        , ..., 1.        , 1.        ,\n",
       "        0.        ],\n",
       "       [0.        , 4.60155929, 1.        , ..., 0.        , 1.        ,\n",
       "        0.        ]])"
      ]
     },
     "execution_count": 76,
     "metadata": {},
     "output_type": "execute_result"
    }
   ],
   "source": [
    "ind_features"
   ]
  },
  {
   "cell_type": "code",
   "execution_count": 77,
   "metadata": {},
   "outputs": [
    {
     "name": "stdout",
     "output_type": "stream",
     "text": [
      "(40000, 14) (40000,)\n",
      "(10000, 14) (10000,)\n"
     ]
    }
   ],
   "source": [
    "## split the data\n",
    "X_train, X_test, y_train, y_test = train_test_split(ind_features, target_metric, test_size=0.2, random_state=123)\n",
    "\n",
    "print( X_train.shape, y_train.shape)\n",
    "print (X_test.shape, y_test.shape)"
   ]
  },
  {
   "cell_type": "code",
   "execution_count": 106,
   "metadata": {},
   "outputs": [],
   "source": [
    "pipe_rf = Pipeline([('scl', QuantileTransformer()),('clf', RandomForestClassifier(random_state=123))])\n",
    "\n",
    "pipe_xgb = Pipeline([('scl', QuantileTransformer()),('clf', XGBClassifier(random_state=123))])"
   ]
  },
  {
   "cell_type": "code",
   "execution_count": 107,
   "metadata": {},
   "outputs": [],
   "source": [
    "# Set grid search params\n",
    "md_range = [1,2,5]\n",
    "param_range_fl = [1.0, 0.5, 0.1]\n",
    "param_range_treesd = [ None,3,  5]\n",
    "param_range_treesf = [None, 10, 25]\n",
    "param_range_treeml = [50, 100, 200] \n",
    "param_range_treesne = [500, 600, 700] \n",
    "e_stop = [10]\n",
    "\n",
    "grid_params_rf = [{'clf__min_samples_leaf': param_range_treeml,'clf__max_depth': md_range, 'clf__min_samples_split': param_range_treeml, \"clf__min_impurity_decrease\":e_stop}]\n",
    "\n",
    "grid_params_xgb = [{\"clf__objective\" : ['binary:logistic'] ,'clf__min_samples_leaf': param_range_treeml,'clf__max_depth': md_range,  'clf__n_samples_split':param_range_treesne, \"clf__early_stopping_rounds\":e_stop}]"
   ]
  },
  {
   "cell_type": "code",
   "execution_count": 80,
   "metadata": {},
   "outputs": [],
   "source": [
    "jobs = -1\n",
    "\n",
    "gs_rf = GridSearchCV(estimator=pipe_rf,param_grid=grid_params_rf,cv=5,n_jobs=jobs,verbose = 10,scoring='accuracy')\n",
    "\n",
    "gs_xgb = GridSearchCV(estimator=pipe_xgb,param_grid=grid_params_xgb,scoring='accuracy',cv=3,n_jobs=jobs,verbose = 10)"
   ]
  },
  {
   "cell_type": "code",
   "execution_count": 108,
   "metadata": {},
   "outputs": [
    {
     "name": "stdout",
     "output_type": "stream",
     "text": [
      "Fitting 5 folds for each of 27 candidates, totalling 135 fits\n"
     ]
    },
    {
     "name": "stderr",
     "output_type": "stream",
     "text": [
      "[Parallel(n_jobs=-1)]: Using backend LokyBackend with 8 concurrent workers.\n",
      "[Parallel(n_jobs=-1)]: Done   2 tasks      | elapsed:    2.5s\n",
      "[Parallel(n_jobs=-1)]: Done   9 tasks      | elapsed:    3.3s\n",
      "[Parallel(n_jobs=-1)]: Done  16 tasks      | elapsed:    3.4s\n",
      "[Parallel(n_jobs=-1)]: Done  25 tasks      | elapsed:    5.0s\n",
      "[Parallel(n_jobs=-1)]: Done  34 tasks      | elapsed:    5.9s\n",
      "[Parallel(n_jobs=-1)]: Done  45 tasks      | elapsed:    6.9s\n",
      "[Parallel(n_jobs=-1)]: Done  56 tasks      | elapsed:    7.8s\n",
      "[Parallel(n_jobs=-1)]: Done  69 tasks      | elapsed:    9.5s\n",
      "[Parallel(n_jobs=-1)]: Done  82 tasks      | elapsed:   11.1s\n",
      "[Parallel(n_jobs=-1)]: Done  97 tasks      | elapsed:   12.9s\n",
      "[Parallel(n_jobs=-1)]: Done 112 tasks      | elapsed:   14.2s\n"
     ]
    },
    {
     "name": "stdout",
     "output_type": "stream",
     "text": [
      "GridSearchCV took 17.00 seconds for 27 candidate parameter settings.\n"
     ]
    },
    {
     "name": "stderr",
     "output_type": "stream",
     "text": [
      "[Parallel(n_jobs=-1)]: Done 135 out of 135 | elapsed:   16.9s finished\n",
      "/anaconda3/lib/python3.7/site-packages/sklearn/ensemble/forest.py:246: FutureWarning: The default value of n_estimators will change from 10 in version 0.20 to 100 in 0.22.\n",
      "  \"10 in version 0.20 to 100 in 0.22.\", FutureWarning)\n"
     ]
    },
    {
     "data": {
      "text/plain": [
       "{'clf__max_depth': 1,\n",
       " 'clf__min_impurity_decrease': 10,\n",
       " 'clf__min_samples_leaf': 50,\n",
       " 'clf__min_samples_split': 50}"
      ]
     },
     "execution_count": 108,
     "metadata": {},
     "output_type": "execute_result"
    }
   ],
   "source": [
    "## random forest regressor\n",
    "import time\n",
    "start = time.gmtime()\n",
    "gs_rf.fit(X_train, y_train)\n",
    "end = time.gmtime()\n",
    "print(\"GridSearchCV took %.2f seconds for %d candidate parameter settings.\" % (time.mktime(time.gmtime()) - time.mktime(start), len(gs_rf.cv_results_['params'])))\n",
    "gs_rf.best_params_"
   ]
  },
  {
   "cell_type": "code",
   "execution_count": 85,
   "metadata": {},
   "outputs": [
    {
     "name": "stdout",
     "output_type": "stream",
     "text": [
      "              precision    recall  f1-score   support\n",
      "\n",
      "           0       0.75      1.00      0.86      7528\n",
      "           1       0.00      0.00      0.00      2472\n",
      "\n",
      "   micro avg       0.75      0.75      0.75     10000\n",
      "   macro avg       0.38      0.50      0.43     10000\n",
      "weighted avg       0.57      0.75      0.65     10000\n",
      "\n"
     ]
    },
    {
     "name": "stderr",
     "output_type": "stream",
     "text": [
      "/anaconda3/lib/python3.7/site-packages/sklearn/metrics/classification.py:1143: UndefinedMetricWarning: Precision and F-score are ill-defined and being set to 0.0 in labels with no predicted samples.\n",
      "  'precision', 'predicted', average, warn_for)\n"
     ]
    },
    {
     "data": {
      "image/png": "[encoded data removed]",
      "text/plain": [
       "<Figure size 432x432 with 1 Axes>"
      ]
     },
     "metadata": {
      "needs_background": "light"
     },
     "output_type": "display_data"
    }
   ],
   "source": [
    "\n",
    "# make predictions on the test set\n",
    "y_pred = gs_rf.predict(X_test)\n",
    "\n",
    "# classification report\n",
    "print(classification_report(y_test, y_pred))\n",
    "\n",
    "# confusion matrix\n",
    "cm = confusion_matrix(y_true = y_test, y_pred = y_pred)\n",
    "\n",
    "fig, ax = plt.subplots(figsize = (6, 6))\n",
    "ax.matshow(cm, cmap = 'Blues', alpha = 0.3)\n",
    "for i in range(cm.shape[0]):\n",
    "    for j in range(cm.shape[1]):\n",
    "        ax.text(x=j, y=i, s=cm[i, j], va='center', ha='center')\n",
    "plt.xlabel('predicted label')\n",
    "plt.ylabel('true label');"
   ]
  },
  {
   "cell_type": "code",
   "execution_count": 88,
   "metadata": {},
   "outputs": [
    {
     "data": {
      "text/plain": [
       "0"
      ]
     },
     "execution_count": 88,
     "metadata": {},
     "output_type": "execute_result"
    }
   ],
   "source": [
    "y_pred.sum()"
   ]
  },
  {
   "cell_type": "code",
   "execution_count": 109,
   "metadata": {},
   "outputs": [
    {
     "name": "stdout",
     "output_type": "stream",
     "text": [
      "Fitting 3 folds for each of 27 candidates, totalling 81 fits\n"
     ]
    },
    {
     "name": "stderr",
     "output_type": "stream",
     "text": [
      "[Parallel(n_jobs=-1)]: Using backend LokyBackend with 8 concurrent workers.\n",
      "[Parallel(n_jobs=-1)]: Done   2 tasks      | elapsed:    4.2s\n",
      "[Parallel(n_jobs=-1)]: Done   9 tasks      | elapsed:    8.6s\n",
      "[Parallel(n_jobs=-1)]: Done  16 tasks      | elapsed:    9.0s\n",
      "[Parallel(n_jobs=-1)]: Done  25 tasks      | elapsed:   18.0s\n",
      "[Parallel(n_jobs=-1)]: Done  34 tasks      | elapsed:   23.8s\n",
      "[Parallel(n_jobs=-1)]: Done  45 tasks      | elapsed:   30.7s\n",
      "[Parallel(n_jobs=-1)]: Done  56 tasks      | elapsed:   39.6s\n",
      "[Parallel(n_jobs=-1)]: Done  75 out of  81 | elapsed:  1.0min remaining:    4.8s\n",
      "[Parallel(n_jobs=-1)]: Done  81 out of  81 | elapsed:  1.1min finished\n"
     ]
    },
    {
     "name": "stdout",
     "output_type": "stream",
     "text": [
      "GridSearchCV took 71.00 seconds for 27 candidate parameter settings.\n"
     ]
    },
    {
     "data": {
      "text/plain": [
       "{'clf__early_stopping_rounds': 10,\n",
       " 'clf__max_depth': 5,\n",
       " 'clf__min_samples_leaf': 50,\n",
       " 'clf__n_samples_split': 500,\n",
       " 'clf__objective': 'binary:logistic'}"
      ]
     },
     "execution_count": 109,
     "metadata": {},
     "output_type": "execute_result"
    }
   ],
   "source": [
    "## I reduced the folds here seeing the earlier errors, and wanting to reduce time\n",
    "import time\n",
    "xgb_start = time.gmtime()\n",
    "gs_xgb.fit(X_train, y_train)\n",
    "xgb_end = time.gmtime()\n",
    "print(\"GridSearchCV took %.2f seconds for %d candidate parameter settings.\"% (time.mktime(time.gmtime()) - time.mktime(xgb_start), len(gs_xgb.cv_results_['params'])))\n",
    "gs_xgb.best_params_"
   ]
  },
  {
   "cell_type": "code",
   "execution_count": 90,
   "metadata": {},
   "outputs": [
    {
     "name": "stdout",
     "output_type": "stream",
     "text": [
      "              precision    recall  f1-score   support\n",
      "\n",
      "           0       0.82      0.93      0.87      7528\n",
      "           1       0.64      0.38      0.47      2472\n",
      "\n",
      "   micro avg       0.79      0.79      0.79     10000\n",
      "   macro avg       0.73      0.65      0.67     10000\n",
      "weighted avg       0.77      0.79      0.77     10000\n",
      "\n"
     ]
    },
    {
     "data": {
      "image/png": "[encoded data removed]",
      "text/plain": [
       "<Figure size 432x432 with 1 Axes>"
      ]
     },
     "metadata": {
      "needs_background": "light"
     },
     "output_type": "display_data"
    }
   ],
   "source": [
    "\n",
    "# make predictions on the test set\n",
    "y_pred = gs_xgb.predict(X_test)\n",
    "\n",
    "# classification report\n",
    "print(classification_report(y_test, y_pred))\n",
    "\n",
    "# confusion matrix\n",
    "cm = confusion_matrix(y_true = y_test, y_pred = y_pred)\n",
    "\n",
    "fig, ax = plt.subplots(figsize = (6, 6))\n",
    "ax.matshow(cm, cmap = 'Blues', alpha = 0.3)\n",
    "for i in range(cm.shape[0]):\n",
    "    for j in range(cm.shape[1]):\n",
    "        ax.text(x=j, y=i, s=cm[i, j], va='center', ha='center')\n",
    "plt.xlabel('predicted label')\n",
    "plt.ylabel('true label');"
   ]
  },
  {
   "cell_type": "markdown",
   "metadata": {},
   "source": [
    "The first model failed most likely due to the data being too imbalanced to handle the predictions so it breaks hard toward being a non-renewal.  The boosted trees can handle this problem, rather fantastically actually, given that Recall and precision.  Below is the feature importance for this model"
   ]
  },
  {
   "cell_type": "code",
   "execution_count": 119,
   "metadata": {},
   "outputs": [
    {
     "data": {
      "image/png": "[encoded data removed]",
      "text/plain": [
       "<Figure size 1080x648 with 1 Axes>"
      ]
     },
     "metadata": {
      "needs_background": "light"
     },
     "output_type": "display_data"
    }
   ],
   "source": [
    "# calculate feature importances\n",
    "importance = gs_xgb.best_estimator_.named_steps[\"clf\"].feature_importances_\n",
    "# sort feature importances in descending order\n",
    "indices = np.argsort(importance)[::-1]\n",
    "\n",
    "# rearrange feature names so they match the sorted feature importances\n",
    "names = [ riders.drop(['six_months',\"first_last_activity\",\"signup_date\", \"last_trip_date\"], axis = 1).columns[i] for i in indices]\n",
    "\n",
    "plt.figure(figsize = (15, 9))\n",
    "plt.bar(range( riders.drop(['six_months',\"first_last_activity\",\"signup_date\", \"last_trip_date\"], axis = 1).shape[1]), importance[indices])\n",
    "plt.xticks(range( riders.drop(['six_months',\"first_last_activity\",\"signup_date\", \"last_trip_date\"], axis = 1).shape[1]), names, rotation = 90);"
   ]
  },
  {
   "cell_type": "markdown",
   "metadata": {},
   "source": [
    "What's interesting is that while the city and phone type do pop here, The Percentage Surge seems to also be a deciding factor. \n",
    "\n",
    "## Conclusions\n",
    "\n",
    "I'd encourage Ultimate to look at three things: \n",
    "\n",
    "1) what the difference is between the iPhone and Android interfaces that's causing such drop off\n",
    "\n",
    "2) re-considering how surge pricing is handled, prehaps preventing it for new users\n",
    "\n",
    "3) what the difference is between the cities that's also causing these discrepancies in performance that seem locality based.\n"
   ]
  },
  {
   "cell_type": "code",
   "execution_count": null,
   "metadata": {},
   "outputs": [],
   "source": []
  }
 ],
 "metadata": {
  "kernelspec": {
   "display_name": "Python 3",
   "language": "python",
   "name": "python3"
  },
  "language_info": {
   "codemirror_mode": {
    "name": "ipython",
    "version": 3
   },
   "file_extension": ".py",
   "mimetype": "text/x-python",
   "name": "python",
   "nbconvert_exporter": "python",
   "pygments_lexer": "ipython3",
   "version": "3.7.1"
  }
 },
 "nbformat": 4,
 "nbformat_minor": 2
}
