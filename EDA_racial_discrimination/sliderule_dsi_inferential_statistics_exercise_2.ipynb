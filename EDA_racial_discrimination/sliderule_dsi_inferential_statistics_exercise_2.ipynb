{
 "cells": [
  {
   "cell_type": "markdown",
   "metadata": {},
   "source": [
    "# Examining Racial Discrimination in the US Job Market\n",
    "\n",
    "### Background\n",
    "Racial discrimination continues to be pervasive in cultures throughout the world. Researchers examined the level of racial discrimination in the United States labor market by randomly assigning identical résumés to black-sounding or white-sounding names and observing the impact on requests for interviews from employers.\n",
    "\n",
    "### Data\n",
    "In the dataset provided, each row represents a resume. The 'race' column has two values, 'b' and 'w', indicating black-sounding and white-sounding. The column 'call' has two values, 1 and 0, indicating whether the resume received a call from employers or not.\n",
    "\n",
    "Note that the 'b' and 'w' values in race are assigned randomly to the resumes when presented to the employer."
   ]
  },
  {
   "cell_type": "markdown",
   "metadata": {},
   "source": [
    "### Exercises\n",
    "You will perform a statistical analysis to establish whether race has a significant impact on the rate of callbacks for resumes.\n",
    "\n",
    "Answer the following questions **in this notebook below and submit to your Github account**. \n",
    "\n",
    "   1. What test is appropriate for this problem? Does CLT apply?\n",
    "   2. What are the null and alternate hypotheses?\n",
    "   3. Compute margin of error, confidence interval, and p-value. Try using both the bootstrapping and the frequentist statistical approaches.\n",
    "   4. Write a story describing the statistical significance in the context or the original problem.\n",
    "   5. Does your analysis mean that race/name is the most important factor in callback success? Why or why not? If not, how would you amend your analysis?\n",
    "\n",
    "You can include written notes in notebook cells using Markdown: \n",
    "   - In the control panel at the top, choose Cell > Cell Type > Markdown\n",
    "   - Markdown syntax: http://nestacms.com/docs/creating-content/markdown-cheat-sheet\n",
    "\n",
    "#### Resources\n",
    "+ Experiment information and data source: http://www.povertyactionlab.org/evaluation/discrimination-job-market-united-states\n",
    "+ Scipy statistical methods: http://docs.scipy.org/doc/scipy/reference/stats.html \n",
    "+ Markdown syntax: http://nestacms.com/docs/creating-content/markdown-cheat-sheet\n",
    "+ Formulas for the Bernoulli distribution: https://en.wikipedia.org/wiki/Bernoulli_distribution"
   ]
  },
  {
   "cell_type": "code",
   "execution_count": 40,
   "metadata": {},
   "outputs": [],
   "source": [
    "import pandas as pd\n",
    "import numpy as np\n",
    "from scipy import stats\n",
    "import matplotlib.pyplot as plt"
   ]
  },
  {
   "cell_type": "code",
   "execution_count": 30,
   "metadata": {},
   "outputs": [],
   "source": [
    "data = pd.io.stata.read_stata('data/us_job_market_discrimination.dta')"
   ]
  },
  {
   "cell_type": "code",
   "execution_count": 31,
   "metadata": {},
   "outputs": [
    {
     "data": {
      "text/plain": [
       "235.0"
      ]
     },
     "execution_count": 31,
     "metadata": {},
     "output_type": "execute_result"
    }
   ],
   "source": [
    "# number of callbacks for black-sounding names\n",
    "sum(data[data.race=='w'].call)"
   ]
  },
  {
   "cell_type": "code",
   "execution_count": 32,
   "metadata": {},
   "outputs": [
    {
     "data": {
      "text/plain": [
       "<bound method NDFrame.describe of      id   ad  education  ofjobs  yearsexp  honors  volunteer  military  \\\n",
       "0     b    1          4       2         6       0          0         0   \n",
       "1     b    1          3       3         6       0          1         1   \n",
       "2     b    1          4       1         6       0          0         0   \n",
       "3     b    1          3       4         6       0          1         0   \n",
       "4     b    1          3       3        22       0          0         0   \n",
       "5     b    1          4       2         6       1          0         0   \n",
       "6     b    1          4       2         5       0          1         0   \n",
       "7     b    1          3       4        21       0          1         0   \n",
       "8     b    1          4       3         3       0          0         0   \n",
       "9     b    1          4       2         6       0          1         0   \n",
       "10    b    1          4       4         8       0          1         0   \n",
       "11    b    1          4       4         8       0          0         0   \n",
       "12    b    1          4       4         4       0          0         0   \n",
       "13    b    1          4       2         4       0          0         0   \n",
       "14    b    1          4       2         5       0          1         0   \n",
       "15    b    1          1       3         4       0          0         0   \n",
       "16    b    1          4       3         5       0          1         0   \n",
       "17    b    1          4       3         6       0          0         0   \n",
       "18    b    1          4       2         6       1          1         0   \n",
       "19    b    1          2       2         8       0          0         0   \n",
       "20    b    1          4       3         4       0          1         0   \n",
       "21    b    1          4       3         3       0          0         0   \n",
       "22    b    1          2       2         2       0          0         0   \n",
       "23    b    1          4       3         7       0          0         0   \n",
       "24    b    1          4       3         3       0          1         0   \n",
       "25    b    1          4       4         6       0          0         0   \n",
       "26    b    1          1       3         4       0          1         0   \n",
       "27    b    1          3       4         6       0          1         0   \n",
       "28    b    1          3       3         7       0          0         0   \n",
       "29    b    1          4       3         2       0          0         0   \n",
       "...  ..  ...        ...     ...       ...     ...        ...       ...   \n",
       "4840  a  93b          4       3         7       0          0         0   \n",
       "4841  a  93b          4       6         8       0          1         0   \n",
       "4842  b   95          3       6        16       0          1         0   \n",
       "4843  b   95          4       4        11       0          0         0   \n",
       "4844  b   95          3       2         2       0          0         0   \n",
       "4845  b   95          4       1         5       0          1         0   \n",
       "4846  a  95b          4       4         2       0          1         1   \n",
       "4847  a  95b          4       3         7       0          0         0   \n",
       "4848  a  95b          4       6         8       0          1         0   \n",
       "4849  a  95b          4       4         6       0          0         0   \n",
       "4850  b   96          3       5         4       0          0         0   \n",
       "4851  b   96          2       4        19       0          1         0   \n",
       "4852  b   96          3       5        13       0          0         0   \n",
       "4853  b   96          3       7        18       0          1         0   \n",
       "4854  a  96b          4       6         8       0          1         0   \n",
       "4855  a  96b          4       3         7       0          0         0   \n",
       "4856  a  96b          4       4         6       0          0         0   \n",
       "4857  a  96b          4       4         2       0          1         1   \n",
       "4858  a  98b          4       4         2       0          1         1   \n",
       "4859  a  98b          4       4         6       0          0         0   \n",
       "4860  a  98b          4       6         8       0          1         0   \n",
       "4861  a  98b          4       3         7       0          0         0   \n",
       "4862  b   99          3       5        13       0          0         0   \n",
       "4863  b   99          2       4        16       0          0         0   \n",
       "4864  b   99          3       5        26       1          1         0   \n",
       "4865  b   99          3       2         1       0          0         0   \n",
       "4866  a  99b          4       4         6       0          0         0   \n",
       "4867  a  99b          4       6         8       0          1         0   \n",
       "4868  a  99b          4       4         2       0          1         1   \n",
       "4869  a  99b          4       3         7       0          0         0   \n",
       "\n",
       "      empholes  occupspecific    ...      compreq  orgreq  manuf  transcom  \\\n",
       "0            1             17    ...          1.0     0.0    1.0       0.0   \n",
       "1            0            316    ...          1.0     0.0    1.0       0.0   \n",
       "2            0             19    ...          1.0     0.0    1.0       0.0   \n",
       "3            1            313    ...          1.0     0.0    1.0       0.0   \n",
       "4            0            313    ...          1.0     1.0    0.0       0.0   \n",
       "5            0            266    ...          0.0     0.0    0.0       0.0   \n",
       "6            0             13    ...          0.0     0.0    0.0       0.0   \n",
       "7            1            313    ...          1.0     1.0    0.0       0.0   \n",
       "8            0            316    ...          0.0     0.0    0.0       0.0   \n",
       "9            0            263    ...          0.0     0.0    0.0       0.0   \n",
       "10           1            379    ...          1.0     0.0    0.0       0.0   \n",
       "11           0            316    ...          1.0     0.0    0.0       0.0   \n",
       "12           1             27    ...          1.0     1.0    0.0       0.0   \n",
       "13           0             21    ...          1.0     1.0    0.0       0.0   \n",
       "14           0            263    ...          0.0     0.0    0.0       0.0   \n",
       "15           0            316    ...          0.0     0.0    0.0       0.0   \n",
       "16           0            268    ...          0.0     0.0    0.0       0.0   \n",
       "17           0            267    ...          0.0     0.0    0.0       0.0   \n",
       "18           0            266    ...          0.0     0.0    0.0       0.0   \n",
       "19           1            265    ...          0.0     0.0    0.0       0.0   \n",
       "20           0            316    ...          0.0     0.0    0.0       0.0   \n",
       "21           0            317    ...          0.0     0.0    0.0       0.0   \n",
       "22           0            265    ...          0.0     0.0    0.0       0.0   \n",
       "23           1            313    ...          1.0     0.0    0.0       0.0   \n",
       "24           0            316    ...          0.0     0.0    0.0       0.0   \n",
       "25           1            313    ...          1.0     0.0    0.0       0.0   \n",
       "26           0            316    ...          0.0     0.0    0.0       0.0   \n",
       "27           1            313    ...          1.0     0.0    0.0       0.0   \n",
       "28           0            313    ...          1.0     0.0    0.0       0.0   \n",
       "29           0            317    ...          0.0     0.0    0.0       0.0   \n",
       "...        ...            ...    ...          ...     ...    ...       ...   \n",
       "4840         1            274    ...          0.0     0.0    0.0       0.0   \n",
       "4841         0             21    ...          0.0     0.0    0.0       0.0   \n",
       "4842         0             21    ...          1.0     0.0    0.0       0.0   \n",
       "4843         0            387    ...          1.0     0.0    0.0       0.0   \n",
       "4844         1            379    ...          1.0     0.0    0.0       0.0   \n",
       "4845         0            379    ...          1.0     0.0    0.0       0.0   \n",
       "4846         0            267    ...          0.0     0.0    0.0       0.0   \n",
       "4847         1            274    ...          0.0     0.0    0.0       0.0   \n",
       "4848         0             21    ...          0.0     0.0    0.0       0.0   \n",
       "4849         0            285    ...          0.0     0.0    0.0       0.0   \n",
       "4850         1            443    ...          0.0     0.0    0.0       0.0   \n",
       "4851         0             22    ...          0.0     0.0    0.0       0.0   \n",
       "4852         1            307    ...          0.0     0.0    0.0       0.0   \n",
       "4853         1            304    ...          0.0     0.0    0.0       0.0   \n",
       "4854         0             21    ...          0.0     0.0    0.0       0.0   \n",
       "4855         1            274    ...          0.0     0.0    0.0       0.0   \n",
       "4856         0            285    ...          0.0     0.0    0.0       0.0   \n",
       "4857         0            267    ...          0.0     0.0    0.0       0.0   \n",
       "4858         0            267    ...          0.0     0.0    0.0       0.0   \n",
       "4859         0            285    ...          0.0     0.0    0.0       0.0   \n",
       "4860         0             21    ...          0.0     0.0    0.0       0.0   \n",
       "4861         1            274    ...          0.0     0.0    0.0       0.0   \n",
       "4862         0             27    ...          1.0     0.0    0.0       0.0   \n",
       "4863         1             27    ...          1.0     0.0    0.0       0.0   \n",
       "4864         1            313    ...          1.0     0.0    0.0       0.0   \n",
       "4865         1            313    ...          1.0     0.0    0.0       0.0   \n",
       "4866         0            285    ...          0.0     0.0    0.0       0.0   \n",
       "4867         0             21    ...          0.0     0.0    0.0       0.0   \n",
       "4868         0            267    ...          0.0     0.0    0.0       0.0   \n",
       "4869         1            274    ...          0.0     0.0    0.0       0.0   \n",
       "\n",
       "      bankreal trade busservice othservice  missind  ownership  \n",
       "0          0.0   0.0        0.0        0.0      0.0             \n",
       "1          0.0   0.0        0.0        0.0      0.0             \n",
       "2          0.0   0.0        0.0        0.0      0.0             \n",
       "3          0.0   0.0        0.0        0.0      0.0             \n",
       "4          0.0   0.0        0.0        1.0      0.0  Nonprofit  \n",
       "5          0.0   1.0        0.0        0.0      0.0    Private  \n",
       "6          0.0   1.0        0.0        0.0      0.0    Private  \n",
       "7          0.0   0.0        0.0        1.0      0.0  Nonprofit  \n",
       "8          0.0   1.0        0.0        0.0      0.0    Private  \n",
       "9          0.0   1.0        0.0        0.0      0.0    Private  \n",
       "10         0.0   0.0        0.0        1.0      0.0  Nonprofit  \n",
       "11         0.0   0.0        0.0        1.0      0.0  Nonprofit  \n",
       "12         0.0   0.0        1.0        0.0      0.0    Private  \n",
       "13         0.0   0.0        1.0        0.0      0.0    Private  \n",
       "14         0.0   1.0        0.0        0.0      0.0             \n",
       "15         0.0   1.0        0.0        0.0      0.0             \n",
       "16         0.0   1.0        0.0        0.0      0.0             \n",
       "17         0.0   1.0        0.0        0.0      0.0             \n",
       "18         0.0   1.0        0.0        0.0      0.0    Private  \n",
       "19         0.0   1.0        0.0        0.0      0.0    Private  \n",
       "20         0.0   1.0        0.0        0.0      0.0    Private  \n",
       "21         0.0   1.0        0.0        0.0      0.0    Private  \n",
       "22         0.0   1.0        0.0        0.0      0.0             \n",
       "23         0.0   0.0        0.0        1.0      0.0  Nonprofit  \n",
       "24         0.0   1.0        0.0        0.0      0.0             \n",
       "25         0.0   0.0        0.0        1.0      0.0  Nonprofit  \n",
       "26         0.0   1.0        0.0        0.0      0.0             \n",
       "27         0.0   0.0        0.0        1.0      0.0  Nonprofit  \n",
       "28         0.0   0.0        0.0        1.0      0.0  Nonprofit  \n",
       "29         0.0   1.0        0.0        0.0      0.0             \n",
       "...        ...   ...        ...        ...      ...        ...  \n",
       "4840       0.0   1.0        0.0        0.0      0.0    Private  \n",
       "4841       0.0   1.0        0.0        0.0      0.0    Private  \n",
       "4842       0.0   0.0        1.0        0.0      0.0     Public  \n",
       "4843       0.0   0.0        1.0        0.0      0.0     Public  \n",
       "4844       0.0   0.0        1.0        0.0      0.0     Public  \n",
       "4845       0.0   0.0        1.0        0.0      0.0     Public  \n",
       "4846       0.0   1.0        0.0        0.0      0.0    Private  \n",
       "4847       0.0   1.0        0.0        0.0      0.0    Private  \n",
       "4848       0.0   1.0        0.0        0.0      0.0    Private  \n",
       "4849       0.0   1.0        0.0        0.0      0.0    Private  \n",
       "4850       0.0   0.0        1.0        0.0      0.0    Private  \n",
       "4851       0.0   0.0        1.0        0.0      0.0    Private  \n",
       "4852       0.0   0.0        1.0        0.0      0.0    Private  \n",
       "4853       0.0   0.0        1.0        0.0      0.0    Private  \n",
       "4854       0.0   0.0        0.0        0.0      1.0             \n",
       "4855       0.0   0.0        0.0        0.0      1.0             \n",
       "4856       0.0   0.0        0.0        0.0      1.0             \n",
       "4857       0.0   0.0        0.0        0.0      1.0             \n",
       "4858       0.0   1.0        0.0        0.0      0.0    Private  \n",
       "4859       0.0   1.0        0.0        0.0      0.0    Private  \n",
       "4860       0.0   1.0        0.0        0.0      0.0    Private  \n",
       "4861       0.0   1.0        0.0        0.0      0.0    Private  \n",
       "4862       1.0   0.0        0.0        0.0      0.0    Private  \n",
       "4863       1.0   0.0        0.0        0.0      0.0    Private  \n",
       "4864       1.0   0.0        0.0        0.0      0.0    Private  \n",
       "4865       1.0   0.0        0.0        0.0      0.0    Private  \n",
       "4866       0.0   0.0        0.0        0.0      1.0             \n",
       "4867       0.0   0.0        0.0        0.0      1.0             \n",
       "4868       0.0   0.0        0.0        0.0      1.0             \n",
       "4869       0.0   0.0        0.0        0.0      1.0             \n",
       "\n",
       "[4870 rows x 65 columns]>"
      ]
     },
     "execution_count": 32,
     "metadata": {},
     "output_type": "execute_result"
    }
   ],
   "source": [
    "data.describe"
   ]
  },
  {
   "cell_type": "code",
   "execution_count": 33,
   "metadata": {},
   "outputs": [
    {
     "data": {
      "text/html": [
       "<div>\n",
       "<style scoped>\n",
       "    .dataframe tbody tr th:only-of-type {\n",
       "        vertical-align: middle;\n",
       "    }\n",
       "\n",
       "    .dataframe tbody tr th {\n",
       "        vertical-align: top;\n",
       "    }\n",
       "\n",
       "    .dataframe thead th {\n",
       "        text-align: right;\n",
       "    }\n",
       "</style>\n",
       "<table border=\"1\" class=\"dataframe\">\n",
       "  <thead>\n",
       "    <tr style=\"text-align: right;\">\n",
       "      <th></th>\n",
       "      <th>id</th>\n",
       "      <th>ad</th>\n",
       "      <th>education</th>\n",
       "      <th>ofjobs</th>\n",
       "      <th>yearsexp</th>\n",
       "      <th>honors</th>\n",
       "      <th>volunteer</th>\n",
       "      <th>military</th>\n",
       "      <th>empholes</th>\n",
       "      <th>occupspecific</th>\n",
       "      <th>...</th>\n",
       "      <th>compreq</th>\n",
       "      <th>orgreq</th>\n",
       "      <th>manuf</th>\n",
       "      <th>transcom</th>\n",
       "      <th>bankreal</th>\n",
       "      <th>trade</th>\n",
       "      <th>busservice</th>\n",
       "      <th>othservice</th>\n",
       "      <th>missind</th>\n",
       "      <th>ownership</th>\n",
       "    </tr>\n",
       "  </thead>\n",
       "  <tbody>\n",
       "    <tr>\n",
       "      <th>0</th>\n",
       "      <td>b</td>\n",
       "      <td>1</td>\n",
       "      <td>4</td>\n",
       "      <td>2</td>\n",
       "      <td>6</td>\n",
       "      <td>0</td>\n",
       "      <td>0</td>\n",
       "      <td>0</td>\n",
       "      <td>1</td>\n",
       "      <td>17</td>\n",
       "      <td>...</td>\n",
       "      <td>1.0</td>\n",
       "      <td>0.0</td>\n",
       "      <td>1.0</td>\n",
       "      <td>0.0</td>\n",
       "      <td>0.0</td>\n",
       "      <td>0.0</td>\n",
       "      <td>0.0</td>\n",
       "      <td>0.0</td>\n",
       "      <td>0.0</td>\n",
       "      <td></td>\n",
       "    </tr>\n",
       "    <tr>\n",
       "      <th>1</th>\n",
       "      <td>b</td>\n",
       "      <td>1</td>\n",
       "      <td>3</td>\n",
       "      <td>3</td>\n",
       "      <td>6</td>\n",
       "      <td>0</td>\n",
       "      <td>1</td>\n",
       "      <td>1</td>\n",
       "      <td>0</td>\n",
       "      <td>316</td>\n",
       "      <td>...</td>\n",
       "      <td>1.0</td>\n",
       "      <td>0.0</td>\n",
       "      <td>1.0</td>\n",
       "      <td>0.0</td>\n",
       "      <td>0.0</td>\n",
       "      <td>0.0</td>\n",
       "      <td>0.0</td>\n",
       "      <td>0.0</td>\n",
       "      <td>0.0</td>\n",
       "      <td></td>\n",
       "    </tr>\n",
       "    <tr>\n",
       "      <th>2</th>\n",
       "      <td>b</td>\n",
       "      <td>1</td>\n",
       "      <td>4</td>\n",
       "      <td>1</td>\n",
       "      <td>6</td>\n",
       "      <td>0</td>\n",
       "      <td>0</td>\n",
       "      <td>0</td>\n",
       "      <td>0</td>\n",
       "      <td>19</td>\n",
       "      <td>...</td>\n",
       "      <td>1.0</td>\n",
       "      <td>0.0</td>\n",
       "      <td>1.0</td>\n",
       "      <td>0.0</td>\n",
       "      <td>0.0</td>\n",
       "      <td>0.0</td>\n",
       "      <td>0.0</td>\n",
       "      <td>0.0</td>\n",
       "      <td>0.0</td>\n",
       "      <td></td>\n",
       "    </tr>\n",
       "    <tr>\n",
       "      <th>3</th>\n",
       "      <td>b</td>\n",
       "      <td>1</td>\n",
       "      <td>3</td>\n",
       "      <td>4</td>\n",
       "      <td>6</td>\n",
       "      <td>0</td>\n",
       "      <td>1</td>\n",
       "      <td>0</td>\n",
       "      <td>1</td>\n",
       "      <td>313</td>\n",
       "      <td>...</td>\n",
       "      <td>1.0</td>\n",
       "      <td>0.0</td>\n",
       "      <td>1.0</td>\n",
       "      <td>0.0</td>\n",
       "      <td>0.0</td>\n",
       "      <td>0.0</td>\n",
       "      <td>0.0</td>\n",
       "      <td>0.0</td>\n",
       "      <td>0.0</td>\n",
       "      <td></td>\n",
       "    </tr>\n",
       "    <tr>\n",
       "      <th>4</th>\n",
       "      <td>b</td>\n",
       "      <td>1</td>\n",
       "      <td>3</td>\n",
       "      <td>3</td>\n",
       "      <td>22</td>\n",
       "      <td>0</td>\n",
       "      <td>0</td>\n",
       "      <td>0</td>\n",
       "      <td>0</td>\n",
       "      <td>313</td>\n",
       "      <td>...</td>\n",
       "      <td>1.0</td>\n",
       "      <td>1.0</td>\n",
       "      <td>0.0</td>\n",
       "      <td>0.0</td>\n",
       "      <td>0.0</td>\n",
       "      <td>0.0</td>\n",
       "      <td>0.0</td>\n",
       "      <td>1.0</td>\n",
       "      <td>0.0</td>\n",
       "      <td>Nonprofit</td>\n",
       "    </tr>\n",
       "  </tbody>\n",
       "</table>\n",
       "<p>5 rows × 65 columns</p>\n",
       "</div>"
      ],
      "text/plain": [
       "  id ad  education  ofjobs  yearsexp  honors  volunteer  military  empholes  \\\n",
       "0  b  1          4       2         6       0          0         0         1   \n",
       "1  b  1          3       3         6       0          1         1         0   \n",
       "2  b  1          4       1         6       0          0         0         0   \n",
       "3  b  1          3       4         6       0          1         0         1   \n",
       "4  b  1          3       3        22       0          0         0         0   \n",
       "\n",
       "   occupspecific    ...      compreq  orgreq  manuf  transcom  bankreal trade  \\\n",
       "0             17    ...          1.0     0.0    1.0       0.0       0.0   0.0   \n",
       "1            316    ...          1.0     0.0    1.0       0.0       0.0   0.0   \n",
       "2             19    ...          1.0     0.0    1.0       0.0       0.0   0.0   \n",
       "3            313    ...          1.0     0.0    1.0       0.0       0.0   0.0   \n",
       "4            313    ...          1.0     1.0    0.0       0.0       0.0   0.0   \n",
       "\n",
       "  busservice othservice  missind  ownership  \n",
       "0        0.0        0.0      0.0             \n",
       "1        0.0        0.0      0.0             \n",
       "2        0.0        0.0      0.0             \n",
       "3        0.0        0.0      0.0             \n",
       "4        0.0        1.0      0.0  Nonprofit  \n",
       "\n",
       "[5 rows x 65 columns]"
      ]
     },
     "execution_count": 33,
     "metadata": {},
     "output_type": "execute_result"
    }
   ],
   "source": [
    "data.head()"
   ]
  },
  {
   "cell_type": "markdown",
   "metadata": {
    "collapsed": true
   },
   "source": [
    "<div class=\"span5 alert alert-success\">\n",
    "<p>Your answers to Q1 and Q2 here</p>\n",
    "</div>\n",
    "\n",
    "1. What test is appropriate for this problem? Does CLT apply?\n",
    "\n",
    "Central Limit Theorum does in fact apply since we have a sufficiently large data set that we should see a normal distribution of response rates.\n",
    "\n",
    "Since we can assume the data is normally distributed and we know the mean and standard deviation a Z-test makes the most sense.\n",
    "\n",
    "2. What are the null and alternate hypotheses?\n",
    "\n",
    "The Null Hypothesis is that there is no difference in response rate between racial groups, particularly when controlled for quality of resume or neighborhood. The Alternate is that there is measurable discrimination as shown by lower response rates for African American sounding names. "
   ]
  },
  {
   "cell_type": "code",
   "execution_count": 34,
   "metadata": {},
   "outputs": [],
   "source": [
    "w = data[data.race=='w']\n",
    "b = data[data.race=='b']"
   ]
  },
  {
   "cell_type": "markdown",
   "metadata": {},
   "source": [
    "<div class=\"span5 alert alert-success\">\n",
    "<p>3. Compute margin of error, confidence interval, and p-value. Try using both the bootstrapping and the frequentist statistical approaches.</p>\n",
    "</div>"
   ]
  },
  {
   "cell_type": "code",
   "execution_count": 84,
   "metadata": {},
   "outputs": [
    {
     "name": "stdout",
     "output_type": "stream",
     "text": [
      "white sounding success % : 0.097\n",
      "afam sounding success % : 0.064\n",
      "overall success % : 0.08\n"
     ]
    }
   ],
   "source": [
    "# Your solution to Q3 here\n",
    "w_mu = len(w[w.call ==1])/len(w)\n",
    "w_mu\n",
    "\n",
    "\n",
    "b_mu=len(b[b.call ==1])/len(b)\n",
    "b_mu\n",
    "\n",
    "gen_mu = len(data[data.call ==1])/len(data)\n",
    "\n",
    "print(\"white sounding success % :\",round(w_mu,3))\n",
    "print(\"afam sounding success % :\",round(b_mu,3))\n",
    "print(\"overall success % :\",round(gen_mu,3))"
   ]
  },
  {
   "cell_type": "code",
   "execution_count": 127,
   "metadata": {},
   "outputs": [
    {
     "data": {
      "text/plain": [
       "2435"
      ]
     },
     "execution_count": 127,
     "metadata": {},
     "output_type": "execute_result"
    }
   ],
   "source": [
    "w_obs = np.sum(w.call ==1)\n",
    "w_obs\n",
    "w_n = len(w)\n",
    "\n",
    "b_obs = np.sum(b.call ==1)\n",
    "b_obs\n",
    "b_n = len(b)\n"
   ]
  },
  {
   "cell_type": "code",
   "execution_count": 89,
   "metadata": {},
   "outputs": [
    {
     "data": {
      "image/png": "[encoded data removed]",
      "text/plain": [
       "<Figure size 432x288 with 1 Axes>"
      ]
     },
     "metadata": {
      "needs_background": "light"
     },
     "output_type": "display_data"
    }
   ],
   "source": [
    "\n",
    "def ecdf(data):\n",
    "    n = len(data)\n",
    "    x = np.sort(data)\n",
    "    y = np.arange(1, n+1) / n\n",
    "    return x, y\n",
    "\n",
    "# extrapoliate vols\n",
    "w_samp = np.random.binomial(len(w), w_mu, size=10000)\n",
    "b_samp = np.random.binomial(len(b), b_mu, size=10000)\n",
    "\n",
    "\n",
    "bx, by = ecdf(b_samp)\n",
    "_ = plt.plot(bx, by, marker='.', linestyle='none')\n",
    "\n",
    "wx, wy = ecdf(w_samp)\n",
    "_ = plt.plot(wx, wy, marker='.', linestyle='none')\n",
    "\n",
    "plt.margins = 0.02\n",
    "\n",
    "_ = plt.xlabel('number of callbacks')\n",
    "_ = plt.ylabel('CDF')\n",
    "_ = plt.title('AfAm - vs. White-sounding Names')\n",
    "_ = plt.legend(('AfAm-sounding Names', 'White-sounding Names'))\n"
   ]
  },
  {
   "cell_type": "code",
   "execution_count": 131,
   "metadata": {},
   "outputs": [
    {
     "name": "stdout",
     "output_type": "stream",
     "text": [
      "z_stat:  4.108\n",
      "p_val:  3.983886837577444e-05\n"
     ]
    }
   ],
   "source": [
    "## calculate z_statistic and p-value\n",
    "\n",
    "def ztest_proportions_two_samples(r1, n1, r2, n2, one_sided=False):\n",
    "    \"\"\"Returns the z-statistic and p-value for a 2-sample Z-test of proportions\"\"\"\n",
    "    p1 = r1/n1\n",
    "    p2 = r2/n2\n",
    "    \n",
    "    p = (r1+r2)/(n1+n2)\n",
    "    se = np.sqrt(p*(1-p)*(1/n1+1/n2))\n",
    "    \n",
    "    z = (p1-p2)/se\n",
    "    p = 1-stats.norm.cdf(abs(z))\n",
    "    p *= 2-one_sided\n",
    "    return z, p\n",
    "    \n",
    "\n",
    "z_stat, p_val = ztest_proportions_two_samples(n1=w_n,r1=w_obs,n2=b_n,r2=b_obs)\n",
    "                                              \n",
    "print('z_stat: ', round(z_stat,3))\n",
    "print('p_val: ', p_val)\n",
    "                                              "
   ]
  },
  {
   "cell_type": "code",
   "execution_count": 141,
   "metadata": {},
   "outputs": [
    {
     "name": "stdout",
     "output_type": "stream",
     "text": [
      "MoE:  1.526 %\n",
      "95% conf int: \t 0.016777447859559147 - 0.047288260559332024\n"
     ]
    }
   ],
   "source": [
    "## MoE\n",
    "w_ob_p = w_mu*(1-w_mu)/w_n\n",
    "b_ob_p =  b_mu*(1-b_mu)/b_n\n",
    "conf_high = (w_mu-b_mu) + (1.96*(np.sqrt(w_ob_p + b_ob_p)))\n",
    "conf_low = (w_mu-b_mu) - (1.96*(np.sqrt(w_ob_p + b_ob_p)))\n",
    "\n",
    "moe = (conf_high - conf_low)/2\n",
    "print('MoE: ',round(moe*100,3),\"%\")\n",
    "print('95% conf int: \\t {} - {}'.format(conf_low, conf_high))"
   ]
  },
  {
   "cell_type": "markdown",
   "metadata": {},
   "source": [
    "It's safe to say here that the observed difference that's above 3.2% exceeds our MoE and the z-stat is more than four standard deviations above the expected value. Our P-value means we can accept this as significant.\n",
    "\n",
    "Testing a boostrapped value and frequentist measurements:"
   ]
  },
  {
   "cell_type": "code",
   "execution_count": 196,
   "metadata": {},
   "outputs": [
    {
     "name": "stdout",
     "output_type": "stream",
     "text": [
      "obs diff: 0.032\n",
      "\n",
      "np-value: 0.0\n",
      "95% conf. int.: [-0.01478439  0.01519507]\n"
     ]
    }
   ],
   "source": [
    "## bootstraping a sample of both\n",
    "np.random.seed(1234)\n",
    "## create range to store results, running 10k reps\n",
    "sim_range = np.empty(10000)\n",
    "\n",
    "## simulating on the actual data.call column\n",
    "for i in range(10000):\n",
    "    w_reps = np.sum(np.random.choice(data.call, size=w_n))\n",
    "    b_reps = np.sum(np.random.choice(data.call, size=b_n))\n",
    "    \n",
    "    sim_range[i] = (w_reps - b_reps)/b_n\n",
    "    \n",
    "bs_p_value = np.sum(sim_range >= (w_mu-b_mu)) / len(sim_range)\n",
    "\n",
    "\n",
    "bs_conf = np.percentile(sim_range, [2.5, 97.5])\n",
    "bs_mean_diff = np.mean(sim_range)\n",
    "\n",
    "print('obs diff: {}\\n'.format(round(w_mu-b_mu,3)))\n",
    "print('np-value: {}\\n95% conf. int.: {}'.format(bs_p_value, bs_conf))"
   ]
  },
  {
   "cell_type": "markdown",
   "metadata": {},
   "source": [
    "This bootstrap sample fits in line with our frequentist statistics, with the numbers again lying well above the expected deviation. "
   ]
  },
  {
   "cell_type": "markdown",
   "metadata": {},
   "source": [
    "<div class=\"span5 alert alert-success\">\n",
    "<p> Your answers to Q4 and Q5 here </p>\n",
    "</div>"
   ]
  },
  {
   "cell_type": "markdown",
   "metadata": {},
   "source": [
    "4. Write a story describing the statistical significance in the context of the original problem."
   ]
  },
  {
   "cell_type": "markdown",
   "metadata": {},
   "source": [
    "Above we outlined what expected range of call backs would be for applicants with white and African American sounding names. The observed rate of call backs for participants with African American sounding names was infact more than 4 standard deviations lower than we would have expected if there was an aproximately even rate of cals. Additionally when we simulated a blind trial it showed that we should have found half the rate of differentiation than the rate we actually observed. Given these numbers we can reject the null hypothesis and conclude that there is some discrimination against applicants with African American sounding names."
   ]
  },
  {
   "cell_type": "markdown",
   "metadata": {},
   "source": [
    "5. Does your analysis mean that race/name is the most important factor in callback success? Why or why not? If not, how would you amend your analysis?"
   ]
  },
  {
   "cell_type": "markdown",
   "metadata": {},
   "source": [
    "The study controlled for other variables such as experience and gaps in resume, in order to have implied race be the only differentiating factor, so we would be safe in that assumption. That said, we could perhaps measure this using a logistic regression model or other method to prove it here if we were to go back and use some advanced statistical methods. "
   ]
  },
  {
   "cell_type": "code",
   "execution_count": null,
   "metadata": {},
   "outputs": [],
   "source": []
  }
 ],
 "metadata": {
  "kernelspec": {
   "display_name": "Python 3",
   "language": "python",
   "name": "python3"
  },
  "language_info": {
   "codemirror_mode": {
    "name": "ipython",
    "version": 3
   },
   "file_extension": ".py",
   "mimetype": "text/x-python",
   "name": "python",
   "nbconvert_exporter": "python",
   "pygments_lexer": "ipython3",
   "version": "3.7.1"
  }
 },
 "nbformat": 4,
 "nbformat_minor": 1
}
