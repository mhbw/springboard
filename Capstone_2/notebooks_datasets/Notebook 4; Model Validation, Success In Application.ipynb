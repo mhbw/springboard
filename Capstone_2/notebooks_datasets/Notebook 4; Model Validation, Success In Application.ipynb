{
 "cells": [
  {
   "cell_type": "markdown",
   "metadata": {},
   "source": [
    "## Model Performance In Application\n",
    "\n",
    "After the model was build it was tested using a tool called [FantasyCruncher](https://www.fantasycruncher.com/lineup-rewind/draftkings/NHL/2016-02-23)(Paywall). FantasyCruncher is considered an essential lineup optimizer by most daily fantasy sports professionals, as it does the difficult leg work of maximizing points per lineup. Additionally you can easily import your own models and calculate line performance based on those. \n",
    "\n",
    "Five days were choosen at random using python's random function, three of which had data in FantasyCruncher, 2/23/2016, 5/11/2016, and 10/27/2018. Then the model was imported and tested both \n",
    "\n"
   ]
  },
  {
   "cell_type": "code",
   "execution_count": null,
   "metadata": {},
   "outputs": [],
   "source": []
  }
 ],
 "metadata": {
  "kernelspec": {
   "display_name": "Python 3",
   "language": "python",
   "name": "python3"
  },
  "language_info": {
   "codemirror_mode": {
    "name": "ipython",
    "version": 3
   },
   "file_extension": ".py",
   "mimetype": "text/x-python",
   "name": "python",
   "nbconvert_exporter": "python",
   "pygments_lexer": "ipython3",
   "version": "3.7.1"
  }
 },
 "nbformat": 4,
 "nbformat_minor": 2
}
