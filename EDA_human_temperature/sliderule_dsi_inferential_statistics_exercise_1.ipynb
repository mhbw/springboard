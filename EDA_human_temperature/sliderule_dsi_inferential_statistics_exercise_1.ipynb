{
 "cells": [
  {
   "cell_type": "markdown",
   "metadata": {},
   "source": [
    "# What is the True Normal Human Body Temperature? \n",
    "\n",
    "#### Background\n",
    "\n",
    "The mean normal body temperature was held to be 37$^{\\circ}$C or 98.6$^{\\circ}$F for more than 120 years since it was first conceptualized and reported by Carl Wunderlich in a famous 1868 book. But, is this value statistically correct?"
   ]
  },
  {
   "cell_type": "markdown",
   "metadata": {},
   "source": [
    "<h3>Exercises</h3>\n",
    "\n",
    "<p>In this exercise, you will analyze a dataset of human body temperatures and employ the concepts of hypothesis testing, confidence intervals, and statistical significance.</p>\n",
    "\n",
    "<p>Answer the following questions <b>in this notebook below and submit to your Github account</b>.</p> \n",
    "\n",
    "<ol>\n",
    "<li>  Is the distribution of body temperatures normal? \n",
    "    <ul>\n",
    "    <li> Although this is not a requirement for the Central Limit Theorem to hold (read the introduction on Wikipedia's page about the CLT carefully: https://en.wikipedia.org/wiki/Central_limit_theorem), it gives us some peace of mind that the population may also be normally distributed if we assume that this sample is representative of the population.\n",
    "    <li> Think about the way you're going to check for the normality of the distribution. Graphical methods are usually used first, but there are also other ways: https://en.wikipedia.org/wiki/Normality_test\n",
    "    </ul>\n",
    "<li>  Is the sample size large? Are the observations independent?\n",
    "    <ul>\n",
    "    <li> Remember that this is a condition for the Central Limit Theorem, and hence the statistical tests we are using, to apply.\n",
    "    </ul>\n",
    "<li>  Is the true population mean really 98.6 degrees F?\n",
    "    <ul>\n",
    "    <li> First, try a bootstrap hypothesis test.\n",
    "    <li> Now, let's try frequentist statistical testing. Would you use a one-sample or two-sample test? Why?\n",
    "    <li> In this situation, is it appropriate to use the $t$ or $z$ statistic? \n",
    "    <li> Now try using the other test. How is the result be different? Why?\n",
    "    </ul>\n",
    "<li>  Draw a small sample of size 10 from the data and repeat both frequentist tests. \n",
    "    <ul>\n",
    "    <li> Which one is the correct one to use? \n",
    "    <li> What do you notice? What does this tell you about the difference in application of the $t$ and $z$ statistic?\n",
    "    </ul>\n",
    "<li>  At what temperature should we consider someone's temperature to be \"abnormal\"?\n",
    "    <ul>\n",
    "    <li> As in the previous example, try calculating everything using the boostrap approach, as well as the frequentist approach.\n",
    "    <li> Start by computing the margin of error and confidence interval. When calculating the confidence interval, keep in mind that you should use the appropriate formula for one draw, and not N draws.\n",
    "    </ul>\n",
    "<li>  Is there a significant difference between males and females in normal temperature?\n",
    "    <ul>\n",
    "    <li> What testing approach did you use and why?\n",
    "    <li> Write a story with your conclusion in the context of the original problem.\n",
    "    </ul>\n",
    "</ol>\n",
    "\n",
    "You can include written notes in notebook cells using Markdown: \n",
    "   - In the control panel at the top, choose Cell > Cell Type > Markdown\n",
    "   - Markdown syntax: http://nestacms.com/docs/creating-content/markdown-cheat-sheet\n",
    "\n",
    "#### Resources\n",
    "\n",
    "+ Information and data sources: http://www.amstat.org/publications/jse/datasets/normtemp.txt, http://www.amstat.org/publications/jse/jse_data_archive.htm\n",
    "+ Markdown syntax: http://nestacms.com/docs/creating-content/markdown-cheat-sheet\n",
    "\n",
    "****"
   ]
  },
  {
   "cell_type": "code",
   "execution_count": 1,
   "metadata": {},
   "outputs": [],
   "source": [
    "import pandas as pd\n",
    "\n",
    "df = pd.read_csv('data/human_body_temperature.csv')"
   ]
  },
  {
   "cell_type": "markdown",
   "metadata": {
    "collapsed": true
   },
   "source": [
    "## 1. Normal Distibuted?"
   ]
  },
  {
   "cell_type": "code",
   "execution_count": 31,
   "metadata": {},
   "outputs": [
    {
     "data": {
      "text/plain": [
       "((array([-2.55445479, -2.22902648, -2.0419783 , -1.90719589, -1.80015121,\n",
       "         -1.71047373, -1.63275826, -1.56381343, -1.50159038, -1.44469181,\n",
       "         -1.39212017, -1.3431372 , -1.29718048, -1.2538112 , -1.21268003,\n",
       "         -1.17350409, -1.13605091, -1.10012698, -1.06556939, -1.03223961,\n",
       "         -1.00001877, -0.96880405, -0.93850586, -0.90904562, -0.88035396,\n",
       "         -0.85236935, -0.82503685, -0.79830725, -0.77213622, -0.74648367,\n",
       "         -0.72131321, -0.69659166, -0.67228871, -0.64837651, -0.62482945,\n",
       "         -0.60162387, -0.57873784, -0.55615102, -0.53384444, -0.51180041,\n",
       "         -0.49000234, -0.46843466, -0.44708273, -0.42593273, -0.40497157,\n",
       "         -0.38418687, -0.36356684, -0.34310027, -0.32277642, -0.30258504,\n",
       "         -0.28251629, -0.2625607 , -0.24270913, -0.22295275, -0.20328303,\n",
       "         -0.18369165, -0.16417053, -0.14471177, -0.12530767, -0.10595063,\n",
       "         -0.08663321, -0.06734807, -0.04808795, -0.02884566, -0.00961403,\n",
       "          0.00961403,  0.02884566,  0.04808795,  0.06734807,  0.08663321,\n",
       "          0.10595063,  0.12530767,  0.14471177,  0.16417053,  0.18369165,\n",
       "          0.20328303,  0.22295275,  0.24270913,  0.2625607 ,  0.28251629,\n",
       "          0.30258504,  0.32277642,  0.34310027,  0.36356684,  0.38418687,\n",
       "          0.40497157,  0.42593273,  0.44708273,  0.46843466,  0.49000234,\n",
       "          0.51180041,  0.53384444,  0.55615102,  0.57873784,  0.60162387,\n",
       "          0.62482945,  0.64837651,  0.67228871,  0.69659166,  0.72131321,\n",
       "          0.74648367,  0.77213622,  0.79830725,  0.82503685,  0.85236935,\n",
       "          0.88035396,  0.90904562,  0.93850586,  0.96880405,  1.00001877,\n",
       "          1.03223961,  1.06556939,  1.10012698,  1.13605091,  1.17350409,\n",
       "          1.21268003,  1.2538112 ,  1.29718048,  1.3431372 ,  1.39212017,\n",
       "          1.44469181,  1.50159038,  1.56381343,  1.63275826,  1.71047373,\n",
       "          1.80015121,  1.90719589,  2.0419783 ,  2.22902648,  2.55445479]),\n",
       "  array([ 96.3,  96.4,  96.7,  96.7,  96.8,  96.9,  97. ,  97.1,  97.1,\n",
       "          97.1,  97.2,  97.2,  97.2,  97.3,  97.4,  97.4,  97.4,  97.4,\n",
       "          97.4,  97.5,  97.5,  97.6,  97.6,  97.6,  97.6,  97.7,  97.7,\n",
       "          97.7,  97.8,  97.8,  97.8,  97.8,  97.8,  97.8,  97.8,  97.9,\n",
       "          97.9,  97.9,  97.9,  97.9,  98. ,  98. ,  98. ,  98. ,  98. ,\n",
       "          98. ,  98. ,  98. ,  98. ,  98. ,  98. ,  98.1,  98.1,  98.1,\n",
       "          98.2,  98.2,  98.2,  98.2,  98.2,  98.2,  98.2,  98.2,  98.2,\n",
       "          98.2,  98.3,  98.3,  98.3,  98.3,  98.3,  98.4,  98.4,  98.4,\n",
       "          98.4,  98.4,  98.4,  98.4,  98.4,  98.4,  98.5,  98.5,  98.5,\n",
       "          98.6,  98.6,  98.6,  98.6,  98.6,  98.6,  98.6,  98.6,  98.6,\n",
       "          98.6,  98.7,  98.7,  98.7,  98.7,  98.7,  98.7,  98.7,  98.7,\n",
       "          98.8,  98.8,  98.8,  98.8,  98.8,  98.8,  98.8,  98.8,  98.8,\n",
       "          98.8,  98.9,  98.9,  99. ,  99. ,  99. ,  99. ,  99. ,  99.1,\n",
       "          99.1,  99.1,  99.2,  99.2,  99.2,  99.3,  99.3,  99.4,  99.4,\n",
       "          99.5,  99.9, 100. , 100.8])),\n",
       " (0.7360312365506642, 98.24923076923078, 0.9915720036585683))"
      ]
     },
     "execution_count": 31,
     "metadata": {},
     "output_type": "execute_result"
    },
    {
     "data": {
      "image/png": "[encoded data removed]",
      "text/plain": [
       "<Figure size 432x288 with 1 Axes>"
      ]
     },
     "metadata": {
      "needs_background": "light"
     },
     "output_type": "display_data"
    }
   ],
   "source": [
    "## 1. Is the distribution of body temperatures normal?\n",
    "## \n",
    "\n",
    "from scipy import stats\n",
    "import matplotlib.pyplot as plt\n",
    "import numpy as np\n",
    "np.random.seed(123)\n",
    "\n",
    "\n",
    "\n",
    "stats.probplot(df.temperature, plot=plt)"
   ]
  },
  {
   "cell_type": "code",
   "execution_count": 20,
   "metadata": {},
   "outputs": [
    {
     "data": {
      "image/png": "[encoded data removed]",
      "text/plain": [
       "<Figure size 432x288 with 1 Axes>"
      ]
     },
     "metadata": {
      "needs_background": "light"
     },
     "output_type": "display_data"
    }
   ],
   "source": [
    "## quick ecdf plot, taken from the datacamp course\n",
    "\n",
    "def ecdf(data):\n",
    "    n = len(data)\n",
    "    x = np.sort(data)\n",
    "    y = np.arange(1, n+1) / n\n",
    "    return x, y\n",
    "\n",
    "x_temp, y_temp = ecdf(df.temperature)\n",
    "\n",
    "plt.plot(x_temp, y_temp,marker='.', linestyle='none')\n",
    "plt.xlabel('temp')\n",
    "plt.ylabel('ECDF')\n",
    "plt.show()"
   ]
  },
  {
   "cell_type": "code",
   "execution_count": 30,
   "metadata": {},
   "outputs": [
    {
     "data": {
      "image/png": "[encoded data removed]",
      "text/plain": [
       "<Figure size 432x288 with 1 Axes>"
      ]
     },
     "metadata": {
      "needs_background": "light"
     },
     "output_type": "display_data"
    }
   ],
   "source": [
    "## that looks very normal all around, looking above and below the respective 95% line\n",
    "## and add those to the plot\n",
    "temp_per = np.percentile(df.temperature, [2.5,97.5])\n",
    "percentiles = np.array([2.5,97.5])\n",
    "plt.plot(x_temp, y_temp,marker='.', linestyle='none')\n",
    "plt.xlabel('temp')\n",
    "plt.ylabel('ECDF')\n",
    "\n",
    "plt.plot(temp_per, percentiles/100, marker='D', color='red',\n",
    "         linestyle='none')\n",
    "\n",
    "plt.show()"
   ]
  },
  {
   "cell_type": "code",
   "execution_count": 33,
   "metadata": {},
   "outputs": [
    {
     "data": {
      "image/png": "[encoded data removed]",
      "text/plain": [
       "<Figure size 432x288 with 1 Axes>"
      ]
     },
     "metadata": {
      "needs_background": "light"
     },
     "output_type": "display_data"
    }
   ],
   "source": [
    "## overlay random numbers to see how those would line up\n",
    "mu = np.mean(df.temperature)\n",
    "sigma = np.std(df.temperature)\n",
    "\n",
    "# fake temps\n",
    "fake_temps = np.random.normal(mu, sigma, size=len(df.temperature))\n",
    "\n",
    "faked_x, faked_y = ecdf(fake_temps)\n",
    "\n",
    "\n",
    "plt.plot(x_temp, y_temp,marker='.', linestyle='none')\n",
    "plt.plot(faked_x, faked_y, marker='.', color='red',linestyle='none')\n",
    "plt.xlabel('temp')\n",
    "plt.ylabel('ECDF')\n",
    "plt.show()"
   ]
  },
  {
   "cell_type": "markdown",
   "metadata": {},
   "source": [
    "While the simulated data in red is flatter, the actual data doesn't sit that differently and is if anything tigher, so we can feel comfortable that this is a normal distro. "
   ]
  },
  {
   "cell_type": "markdown",
   "metadata": {},
   "source": [
    "## 2. Sample size large enough?\n",
    "\n",
    "well, there are more than 100 samples, which is plenty, and according to [the article this data is from](https://med.stanford.edu/content/dam/sm/epidemiology/documents/HRP236/Parsonnet---Critical-Appraisal-of-98.6F.pdf) they were independantly selected."
   ]
  },
  {
   "cell_type": "markdown",
   "metadata": {},
   "source": [
    "## 3. True Pop mean: 98.6?\n",
    "bootstrap hypothesis\n",
    "freqency test. one or two samples?\n",
    "t-score or z-score?"
   ]
  },
  {
   "cell_type": "markdown",
   "metadata": {},
   "source": [
    "First, let's look at the mean; and standard deviation, which we calculated above:"
   ]
  },
  {
   "cell_type": "code",
   "execution_count": 36,
   "metadata": {},
   "outputs": [
    {
     "name": "stdout",
     "output_type": "stream",
     "text": [
      "The sample mean is : 98.24923076923078\n",
      "The standard deviation is : 0.7303577789050377\n"
     ]
    }
   ],
   "source": [
    "print('The sample mean is :', mu)\n",
    "print('The standard deviation is :', sigma)"
   ]
  },
  {
   "cell_type": "markdown",
   "metadata": {},
   "source": [
    "Alright, let's bootstrap a new sample. We'll pick 10000 samples of 130 values since it's not too computationally heavy."
   ]
  },
  {
   "cell_type": "code",
   "execution_count": 92,
   "metadata": {},
   "outputs": [
    {
     "name": "stdout",
     "output_type": "stream",
     "text": [
      "bootstrap sample mean : 98.24890800000001\n",
      "bootstrap sample 2.5% and 97.5% : [96.7 99.5]\n",
      "bootstrap sample standard deviation : 0.730374219043698\n"
     ]
    }
   ],
   "source": [
    "samp = np.random.choice(df.temperature, (130, 10000))\n",
    "samp_mu = np.mean(samp)\n",
    "\n",
    "samp_std = np.std(samp)\n",
    "\n",
    "print('bootstrap sample mean :', samp_mu)\n",
    "print('bootstrap sample 2.5% and 97.5% :',np.percentile(samp, [2.5, 97.5]))\n",
    "print('bootstrap sample standard deviation :', samp_std)"
   ]
  },
  {
   "cell_type": "markdown",
   "metadata": {},
   "source": [
    "These values all lie pretty well below the 98.6. \n",
    "\n",
    "We'd use a one sample test since we know the population distributions fairly well here. \n",
    "\n",
    "Given that we have a sample greater than 30 and we know the standard deviation the z-score makes the most sense. Let's calculate that. "
   ]
  },
  {
   "cell_type": "code",
   "execution_count": 93,
   "metadata": {},
   "outputs": [
    {
     "data": {
      "text/plain": [
       "5.480840641842719"
      ]
     },
     "execution_count": 93,
     "metadata": {},
     "output_type": "execute_result"
    }
   ],
   "source": [
    "(98.6 - samp_mu)/(samp_std/np.sqrt(len(samp)))"
   ]
  },
  {
   "cell_type": "markdown",
   "metadata": {},
   "source": [
    "that tells us that for 98.6 to be the true population mean this sample would have to be 5.46 standard deviations above the actual mean for that to be accurate. Given that we can reject the premise that 98.6 is the true population mean. "
   ]
  },
  {
   "cell_type": "markdown",
   "metadata": {},
   "source": [
    "Constructing a t-test:"
   ]
  },
  {
   "cell_type": "code",
   "execution_count": 99,
   "metadata": {},
   "outputs": [
    {
     "data": {
      "text/plain": [
       "Ttest_1sampResult(statistic=-48.30066492939843, pvalue=0.0)"
      ]
     },
     "execution_count": 99,
     "metadata": {},
     "output_type": "execute_result"
    }
   ],
   "source": [
    "samp2 = np.random.choice(df.temperature,  10000)\n",
    "\n",
    "stats.ttest_1samp(pd.Series(np.ndarray.flatten(samp2)), 98.6)"
   ]
  },
  {
   "cell_type": "markdown",
   "metadata": {},
   "source": [
    "The T test has a very similar outcome to the z test, both being a number of order of magnatute outside the expected range if body temp is in fact 98.6 degrees. "
   ]
  },
  {
   "cell_type": "markdown",
   "metadata": {},
   "source": [
    "## 4. Draw a small sample of size 10 from the data and repeat both frequentist tests.\n",
    "Which one is the correct one to use?\n",
    "What do you notice? \n",
    "What does this tell you about the difference in application of the  𝑡 and  𝑧  statistic?"
   ]
  },
  {
   "cell_type": "code",
   "execution_count": 63,
   "metadata": {},
   "outputs": [
    {
     "data": {
      "text/plain": [
       "Ttest_1sampResult(statistic=-1.5727681579875108, pvalue=0.150222861396039)"
      ]
     },
     "execution_count": 63,
     "metadata": {},
     "output_type": "execute_result"
    }
   ],
   "source": [
    "temp_ten = np.random.choice(df.temperature, size=10)\n",
    "stats.ttest_1samp(temp_ten, 98.6)"
   ]
  },
  {
   "cell_type": "code",
   "execution_count": 64,
   "metadata": {},
   "outputs": [
    {
     "data": {
      "text/plain": [
       "1.6578432035426927"
      ]
     },
     "execution_count": 64,
     "metadata": {},
     "output_type": "execute_result"
    }
   ],
   "source": [
    "## z score of the sample\n",
    "\n",
    "small_mu = np.mean(temp_ten)\n",
    "small_sigma = np.std(temp_ten)\n",
    "\n",
    "(98.6 - small_mu)/(small_sigma/np.sqrt(10))"
   ]
  },
  {
   "cell_type": "markdown",
   "metadata": {},
   "source": [
    "for both of these the number reduced on significant orders of magnitute as far as confidence even thought they both fell outside the expected range. In general larger numbers are desired, if not required, in order to have an effective levels of power for the test."
   ]
  },
  {
   "cell_type": "markdown",
   "metadata": {},
   "source": [
    "## 5. At what temperature should we consider someone's temperature to be \"abnormal\"?\n",
    "As in the previous example, try calculating everything using the boostrap approach, as well as the frequentist approach.\n",
    "Start by computing the margin of error and confidence interval. When calculating the confidence interval, keep in mind that you should use the appropriate formula for one draw, and not N draws."
   ]
  },
  {
   "cell_type": "code",
   "execution_count": 70,
   "metadata": {},
   "outputs": [
    {
     "name": "stdout",
     "output_type": "stream",
     "text": [
      "bootstrap sample 2.5% and 97.5% : [96.7 99.5]\n"
     ]
    }
   ],
   "source": [
    "## we already have a bootstrap sample above so we'll re-use that\n",
    "## we know that if we look above the 2.5 and 97.5 % marks we get \n",
    "\n",
    "print('bootstrap sample 2.5% and 97.5% :',np.percentile(samp, [2.5, 97.5]))"
   ]
  },
  {
   "cell_type": "markdown",
   "metadata": {},
   "source": [
    "So we could conclude that anything above 99.5 or below 96.7 degrees is abnormal."
   ]
  },
  {
   "cell_type": "code",
   "execution_count": 136,
   "metadata": {},
   "outputs": [
    {
     "name": "stdout",
     "output_type": "stream",
     "text": [
      "p-value:  0.0\n",
      "95% confidence interval: 96.817 - 99.68\n",
      "MoE +/-1.4312\n",
      "\n",
      "\n"
     ]
    }
   ],
   "source": [
    "## Bootstraping\n",
    "## calculating the p-value MoE and Conf interval\n",
    "## going to make a new random for inside the confidence interval\n",
    "bs_means = np.empty(10000)\n",
    "for i in range(10000):\n",
    "    loc_samp = np.random.choice(df.temperature,  10000)\n",
    "    bs_means[i]=np.mean(loc_samp)\n",
    "    \n",
    "\n",
    "p = np.sum(bs_means >= 98.6) / 10000\n",
    "print('p-value: ', p)\n",
    "\n",
    "ci = stats.norm.interval(0.95, loc=samp_mu, scale=sigma)\n",
    "\n",
    "print('95% confidence interval: {:0.5} - {:0.5}'.format(ci[0], ci[1]))\n",
    "print('MoE +/-{:0.5}\\n\\n'.format((ci[1] - mu)))"
   ]
  },
  {
   "cell_type": "code",
   "execution_count": 140,
   "metadata": {},
   "outputs": [
    {
     "name": "stdout",
     "output_type": "stream",
     "text": [
      "95% confidence interval: 96.817 - 99.68\n",
      "margin of error: +/-1.4315\n"
     ]
    }
   ],
   "source": [
    "## that's quite close to our 2.5/97.5 values\n",
    "## freq\n",
    "\n",
    "# confidence interval for one draw\n",
    "low_ci, hi_ci = stats.norm.interval(0.95, loc=samp_mu, scale=samp_std)\n",
    "print('95% confidence interval: {:0.5} - {:0.5}'.format(low_ci, hi_ci))\n",
    "\n",
    "# margin of error \n",
    "print('margin of error: +/-{:0.5}'.format((hi_ci - samp_mu))) \n"
   ]
  },
  {
   "cell_type": "markdown",
   "metadata": {},
   "source": [
    "So we get essentially the same values in both runs here, which is likely due to granting such large numbers to the bootstrap. Both are fine, all jive with our understanding of reality. "
   ]
  },
  {
   "cell_type": "markdown",
   "metadata": {},
   "source": [
    "## 6. Is there a significant difference between males and females in normal temperature?\n",
    "What testing approach did you use and why?\n",
    "Write a story with your conclusion in the context of the original problem."
   ]
  },
  {
   "cell_type": "code",
   "execution_count": 146,
   "metadata": {},
   "outputs": [
    {
     "name": "stdout",
     "output_type": "stream",
     "text": [
      "65\n",
      "65\n"
     ]
    }
   ],
   "source": [
    "men = df[df['gender']=='M']\n",
    "women= df[df['gender']=='F']\n",
    "print(len(men))\n",
    "print(len(women))"
   ]
  },
  {
   "cell_type": "code",
   "execution_count": 158,
   "metadata": {},
   "outputs": [
    {
     "data": {
      "image/png": "[encoded data removed]",
      "text/plain": [
       "<Figure size 432x288 with 1 Axes>"
      ]
     },
     "metadata": {
      "needs_background": "light"
     },
     "output_type": "display_data"
    }
   ],
   "source": [
    "## this is a nice even split which makes things a lot easier.\n",
    "import seaborn as sns\n",
    "sns.distplot(men.temperature)\n",
    "sns.distplot(women.temperature)\n",
    "plt.legend('MF', ncol=2, loc='upper left')\n",
    "plt.show()"
   ]
  },
  {
   "cell_type": "code",
   "execution_count": 163,
   "metadata": {},
   "outputs": [
    {
     "data": {
      "text/plain": [
       "count    65.000000\n",
       "mean     98.104615\n",
       "std       0.698756\n",
       "min      96.300000\n",
       "25%      97.600000\n",
       "50%      98.100000\n",
       "75%      98.600000\n",
       "max      99.500000\n",
       "Name: temperature, dtype: float64"
      ]
     },
     "execution_count": 163,
     "metadata": {},
     "output_type": "execute_result"
    }
   ],
   "source": [
    "men.temperature.describe()"
   ]
  },
  {
   "cell_type": "code",
   "execution_count": 164,
   "metadata": {},
   "outputs": [
    {
     "data": {
      "text/plain": [
       "count     65.000000\n",
       "mean      98.393846\n",
       "std        0.743488\n",
       "min       96.400000\n",
       "25%       98.000000\n",
       "50%       98.400000\n",
       "75%       98.800000\n",
       "max      100.800000\n",
       "Name: temperature, dtype: float64"
      ]
     },
     "execution_count": 164,
     "metadata": {},
     "output_type": "execute_result"
    }
   ],
   "source": [
    "women.temperature.describe()"
   ]
  },
  {
   "cell_type": "markdown",
   "metadata": {},
   "source": [
    "This is odd just in that most liturature shows that women's body temp is consistantly lower than men, but here we see slightly higher.  This does seem to be due to a wider distribution in women's population and a very dense distribution for the men.\n",
    "\n",
    "Here will plot both out, and then do the same bootstrap method as above and see how the values fall. "
   ]
  },
  {
   "cell_type": "code",
   "execution_count": 166,
   "metadata": {},
   "outputs": [
    {
     "data": {
      "image/png": "[encoded data removed]",
      "text/plain": [
       "<Figure size 432x288 with 1 Axes>"
      ]
     },
     "metadata": {
      "needs_background": "light"
     },
     "output_type": "display_data"
    }
   ],
   "source": [
    "x_women, y_women = ecdf(women.temperature)\n",
    "x_men, y_men = ecdf(men.temperature)\n",
    "\n",
    "plt.plot(x_women, y_women,marker='.', linestyle='none', color = 'orange')\n",
    "plt.plot(x_men, y_men,marker='.', linestyle='none', color = 'blue')\n",
    "plt.xlabel('temp')\n",
    "plt.ylabel('ECDF')\n",
    "plt.margins = 0.02\n",
    "plt.show()"
   ]
  },
  {
   "cell_type": "code",
   "execution_count": 168,
   "metadata": {},
   "outputs": [
    {
     "name": "stdout",
     "output_type": "stream",
     "text": [
      "bootstrap sample mean : 98.10272353846155\n",
      "bootstrap sample 2.5% and 97.5% : [96.7 99.4]\n",
      "bootstrap sample standard deviation : 0.6921989804182713\n"
     ]
    }
   ],
   "source": [
    "## bootstraping a sample of both\n",
    "\n",
    "## men\n",
    "samp_men = np.random.choice(men.temperature, (65, 10000))\n",
    "samp_men_mu = np.mean(samp_men)\n",
    "\n",
    "samp_men_std = np.std(samp_men)\n",
    "\n",
    "print('bootstrap sample mean :', samp_men_mu)\n",
    "print('bootstrap sample 2.5% and 97.5% :',np.percentile(samp_men, [2.5, 97.5]))\n",
    "print('bootstrap sample standard deviation :', samp_men_std)"
   ]
  },
  {
   "cell_type": "code",
   "execution_count": 169,
   "metadata": {},
   "outputs": [
    {
     "name": "stdout",
     "output_type": "stream",
     "text": [
      "bootstrap sample mean : 98.393068\n",
      "bootstrap sample 2.5% and 97.5% : [ 96.7 100. ]\n",
      "bootstrap sample standard deviation : 0.7371281965474051\n"
     ]
    }
   ],
   "source": [
    "## women\n",
    "samp_women = np.random.choice(women.temperature, (65, 10000))\n",
    "samp_women_mu = np.mean(samp_women)\n",
    "\n",
    "samp_women_std = np.std(samp_women)\n",
    "\n",
    "print('bootstrap sample mean :', samp_women_mu)\n",
    "print('bootstrap sample 2.5% and 97.5% :',np.percentile(samp_women, [2.5, 97.5]))\n",
    "print('bootstrap sample standard deviation :', samp_women_std)"
   ]
  },
  {
   "cell_type": "code",
   "execution_count": 172,
   "metadata": {},
   "outputs": [
    {
     "data": {
      "text/plain": [
       "Ttest_indResult(statistic=2.285434538165611, pvalue=0.023938264182934196)"
      ]
     },
     "execution_count": 172,
     "metadata": {},
     "output_type": "execute_result"
    }
   ],
   "source": [
    "stats.ttest_ind(women.temperature, men.temperature, equal_var=False)"
   ]
  },
  {
   "cell_type": "markdown",
   "metadata": {},
   "source": [
    "Again we see the same general mean and significant distribution, although it's interesting that we see about the same bottom end. Over all, according to this study we can estimate that the body temp for women runs slightly higher."
   ]
  },
  {
   "cell_type": "markdown",
   "metadata": {},
   "source": [
    "We can conlude that the distribution is normal of both groups, and that given these values our t-test shows that there is significant enough difference to support our claim."
   ]
  },
  {
   "cell_type": "code",
   "execution_count": null,
   "metadata": {},
   "outputs": [],
   "source": []
  }
 ],
 "metadata": {
  "kernelspec": {
   "display_name": "Python 3",
   "language": "python",
   "name": "python3"
  },
  "language_info": {
   "codemirror_mode": {
    "name": "ipython",
    "version": 3
   },
   "file_extension": ".py",
   "mimetype": "text/x-python",
   "name": "python",
   "nbconvert_exporter": "python",
   "pygments_lexer": "ipython3",
   "version": "3.7.1"
  }
 },
 "nbformat": 4,
 "nbformat_minor": 1
}
