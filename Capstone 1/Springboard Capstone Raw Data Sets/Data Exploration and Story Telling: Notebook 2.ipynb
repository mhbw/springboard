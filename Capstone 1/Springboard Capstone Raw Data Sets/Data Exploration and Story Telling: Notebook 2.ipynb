{
 "cells": [
  {
   "cell_type": "markdown",
   "metadata": {},
   "source": [
    "# Capstone Project 1: Primary Data Exploration And Story Telling\n",
    "\n",
    "This is the second notebook of four relating to the capstone project.  This leg is all about looking at some quick snapshots of the data to see what we can understand before we build our models."
   ]
  },
  {
   "cell_type": "code",
   "execution_count": 2,
   "metadata": {},
   "outputs": [],
   "source": [
    "## import working modules\n",
    "import pandas as pd\n",
    "import numpy as np\n",
    "import glob\n",
    "import os\n",
    "import unicodedata\n",
    "from datetime import datetime\n",
    "from functools import reduce\n",
    "from matplotlib import pyplot as plt\n",
    "from matplotlib import cm as cm\n",
    "import seaborn as sb\n",
    "import researchpy as rp\n",
    "from scipy import stats\n",
    "import time"
   ]
  },
  {
   "cell_type": "code",
   "execution_count": 3,
   "metadata": {
    "scrolled": true
   },
   "outputs": [
    {
     "data": {
      "text/html": [
       "<div>\n",
       "<style scoped>\n",
       "    .dataframe tbody tr th:only-of-type {\n",
       "        vertical-align: middle;\n",
       "    }\n",
       "\n",
       "    .dataframe tbody tr th {\n",
       "        vertical-align: top;\n",
       "    }\n",
       "\n",
       "    .dataframe thead th {\n",
       "        text-align: right;\n",
       "    }\n",
       "</style>\n",
       "<table border=\"1\" class=\"dataframe\">\n",
       "  <thead>\n",
       "    <tr style=\"text-align: right;\">\n",
       "      <th></th>\n",
       "      <th>Unnamed: 0</th>\n",
       "      <th>Fantasy Points</th>\n",
       "      <th>Player</th>\n",
       "      <th>Year</th>\n",
       "      <th>Team</th>\n",
       "      <th>Position</th>\n",
       "      <th>GP</th>\n",
       "      <th>TOI</th>\n",
       "      <th>Goals</th>\n",
       "      <th>Total_Assists</th>\n",
       "      <th>...</th>\n",
       "      <th>Overall_Draft_Position</th>\n",
       "      <th>Fantasy Points Per Game</th>\n",
       "      <th>drafted</th>\n",
       "      <th>Total Minutes Played</th>\n",
       "      <th>FantasyPoints_60</th>\n",
       "      <th>Cleaned_Position</th>\n",
       "      <th>C</th>\n",
       "      <th>D</th>\n",
       "      <th>L</th>\n",
       "      <th>R</th>\n",
       "    </tr>\n",
       "  </thead>\n",
       "  <tbody>\n",
       "    <tr>\n",
       "      <th>0</th>\n",
       "      <td>0</td>\n",
       "      <td>25.80</td>\n",
       "      <td>Aaron Ness</td>\n",
       "      <td>2014</td>\n",
       "      <td>NYI</td>\n",
       "      <td>D</td>\n",
       "      <td>20</td>\n",
       "      <td>275.25</td>\n",
       "      <td>1</td>\n",
       "      <td>2</td>\n",
       "      <td>...</td>\n",
       "      <td>40.0</td>\n",
       "      <td>1.29</td>\n",
       "      <td>1</td>\n",
       "      <td>295.88</td>\n",
       "      <td>5.23</td>\n",
       "      <td>D</td>\n",
       "      <td>0</td>\n",
       "      <td>1</td>\n",
       "      <td>0</td>\n",
       "      <td>0</td>\n",
       "    </tr>\n",
       "    <tr>\n",
       "      <th>1</th>\n",
       "      <td>1</td>\n",
       "      <td>0.95</td>\n",
       "      <td>Aaron Palushaj</td>\n",
       "      <td>2014</td>\n",
       "      <td>CAR</td>\n",
       "      <td>R</td>\n",
       "      <td>2</td>\n",
       "      <td>17.52</td>\n",
       "      <td>0</td>\n",
       "      <td>0</td>\n",
       "      <td>...</td>\n",
       "      <td>44.0</td>\n",
       "      <td>0.48</td>\n",
       "      <td>1</td>\n",
       "      <td>18.65</td>\n",
       "      <td>3.06</td>\n",
       "      <td>R</td>\n",
       "      <td>0</td>\n",
       "      <td>0</td>\n",
       "      <td>0</td>\n",
       "      <td>1</td>\n",
       "    </tr>\n",
       "    <tr>\n",
       "      <th>2</th>\n",
       "      <td>2</td>\n",
       "      <td>27.50</td>\n",
       "      <td>Aaron Rome</td>\n",
       "      <td>2014</td>\n",
       "      <td>DAL</td>\n",
       "      <td>D</td>\n",
       "      <td>25</td>\n",
       "      <td>301.20</td>\n",
       "      <td>0</td>\n",
       "      <td>1</td>\n",
       "      <td>...</td>\n",
       "      <td>104.0</td>\n",
       "      <td>1.10</td>\n",
       "      <td>1</td>\n",
       "      <td>327.20</td>\n",
       "      <td>5.04</td>\n",
       "      <td>D</td>\n",
       "      <td>0</td>\n",
       "      <td>1</td>\n",
       "      <td>0</td>\n",
       "      <td>0</td>\n",
       "    </tr>\n",
       "    <tr>\n",
       "      <th>3</th>\n",
       "      <td>3</td>\n",
       "      <td>32.25</td>\n",
       "      <td>Aaron Volpatti</td>\n",
       "      <td>2014</td>\n",
       "      <td>WSH</td>\n",
       "      <td>L</td>\n",
       "      <td>41</td>\n",
       "      <td>300.18</td>\n",
       "      <td>2</td>\n",
       "      <td>0</td>\n",
       "      <td>...</td>\n",
       "      <td>1000.0</td>\n",
       "      <td>0.79</td>\n",
       "      <td>0</td>\n",
       "      <td>301.87</td>\n",
       "      <td>6.41</td>\n",
       "      <td>L</td>\n",
       "      <td>0</td>\n",
       "      <td>0</td>\n",
       "      <td>1</td>\n",
       "      <td>0</td>\n",
       "    </tr>\n",
       "    <tr>\n",
       "      <th>4</th>\n",
       "      <td>4</td>\n",
       "      <td>3.45</td>\n",
       "      <td>Adam Almquist</td>\n",
       "      <td>2014</td>\n",
       "      <td>DET</td>\n",
       "      <td>D</td>\n",
       "      <td>2</td>\n",
       "      <td>31.52</td>\n",
       "      <td>1</td>\n",
       "      <td>0</td>\n",
       "      <td>...</td>\n",
       "      <td>210.0</td>\n",
       "      <td>1.72</td>\n",
       "      <td>1</td>\n",
       "      <td>34.43</td>\n",
       "      <td>6.01</td>\n",
       "      <td>D</td>\n",
       "      <td>0</td>\n",
       "      <td>1</td>\n",
       "      <td>0</td>\n",
       "      <td>0</td>\n",
       "    </tr>\n",
       "  </tbody>\n",
       "</table>\n",
       "<p>5 rows × 247 columns</p>\n",
       "</div>"
      ],
      "text/plain": [
       "   Unnamed: 0  Fantasy Points          Player  Year Team Position  GP     TOI  \\\n",
       "0           0           25.80      Aaron Ness  2014  NYI        D  20  275.25   \n",
       "1           1            0.95  Aaron Palushaj  2014  CAR        R   2   17.52   \n",
       "2           2           27.50      Aaron Rome  2014  DAL        D  25  301.20   \n",
       "3           3           32.25  Aaron Volpatti  2014  WSH        L  41  300.18   \n",
       "4           4            3.45   Adam Almquist  2014  DET        D   2   31.52   \n",
       "\n",
       "   Goals  Total_Assists ...  Overall_Draft_Position  Fantasy Points Per Game  \\\n",
       "0      1              2 ...                    40.0                     1.29   \n",
       "1      0              0 ...                    44.0                     0.48   \n",
       "2      0              1 ...                   104.0                     1.10   \n",
       "3      2              0 ...                  1000.0                     0.79   \n",
       "4      1              0 ...                   210.0                     1.72   \n",
       "\n",
       "   drafted  Total Minutes Played  FantasyPoints_60  Cleaned_Position  C  D  L  \\\n",
       "0        1                295.88              5.23                 D  0  1  0   \n",
       "1        1                 18.65              3.06                 R  0  0  0   \n",
       "2        1                327.20              5.04                 D  0  1  0   \n",
       "3        0                301.87              6.41                 L  0  0  1   \n",
       "4        1                 34.43              6.01                 D  0  1  0   \n",
       "\n",
       "   R  \n",
       "0  0  \n",
       "1  1  \n",
       "2  0  \n",
       "3  0  \n",
       "4  0  \n",
       "\n",
       "[5 rows x 247 columns]"
      ]
     },
     "execution_count": 3,
     "metadata": {},
     "output_type": "execute_result"
    }
   ],
   "source": [
    "## import our now cleaned flat file, remind ourselves what it looks like\n",
    "\n",
    "player_data = pd.read_csv('Combined_Player_Data2.csv')\n",
    "player_data.head()"
   ]
  },
  {
   "cell_type": "markdown",
   "metadata": {},
   "source": [
    "From the start, we can see that this data set is impossibly long to look at every feature, so here we'll pick a few key metrics that will likely pop to visualize.\n",
    "\n"
   ]
  },
  {
   "cell_type": "code",
   "execution_count": 10,
   "metadata": {},
   "outputs": [
    {
     "data": {
      "image/png": "[encoded data removed]",
      "text/plain": [
       "<Figure size 432x288 with 1 Axes>"
      ]
     },
     "metadata": {
      "needs_background": "light"
     },
     "output_type": "display_data"
    }
   ],
   "source": [
    "## here I'll map a few of the basic stats as well as essential values\n",
    "fantasy_points = player_data['Fantasy Points'].sort_values(ascending=False)\n",
    "point_hist  = fantasy_points.hist(color='k', alpha=0.5, bins=25)\n",
    "point_hist.plot()\n",
    "plt.ylabel(\"Fantasy Points\")\n",
    "plt.xlabel(\"Number of Players\")\n",
    "plt.savefig('Images/scoredistro.png')"
   ]
  },
  {
   "cell_type": "code",
   "execution_count": 9,
   "metadata": {},
   "outputs": [
    {
     "data": {
      "text/plain": [
       "778     357.35\n",
       "905     349.90\n",
       "3755    342.30\n",
       "3626    341.60\n",
       "2125    338.00\n",
       "Name: Fantasy Points, dtype: float64"
      ]
     },
     "execution_count": 9,
     "metadata": {},
     "output_type": "execute_result"
    }
   ],
   "source": [
    "player_data['Fantasy Points'].sort_values(ascending=False).head()"
   ]
  },
  {
   "cell_type": "markdown",
   "metadata": {},
   "source": [
    "We see a  big grouping at fewer than 50 pt and around 125, then a long tail off to the superstars above 300. What about games played?"
   ]
  },
  {
   "cell_type": "code",
   "execution_count": 5,
   "metadata": {},
   "outputs": [
    {
     "data": {
      "text/plain": [
       "<matplotlib.axes._subplots.AxesSubplot at 0x1a2233c390>"
      ]
     },
     "execution_count": 5,
     "metadata": {},
     "output_type": "execute_result"
    },
    {
     "data": {
      "image/png": "[encoded data removed]",
      "text/plain": [
       "<Figure size 432x288 with 1 Axes>"
      ]
     },
     "metadata": {
      "needs_background": "light"
     },
     "output_type": "display_data"
    }
   ],
   "source": [
    "player_data['GP'].hist(color='k', alpha=0.5, bins=25)"
   ]
  },
  {
   "cell_type": "markdown",
   "metadata": {},
   "source": [
    "This is much more bimodal, and might be an effective binning to use as a way of eliminating potential draft candidates. Afterall, if you're only showing up for less than a quarter of a season, I likely am not interested in drafting you for my team so I wouldn't worry about them.  I'm considering dropping everyone with fewer than 20. What would that look like?"
   ]
  },
  {
   "cell_type": "code",
   "execution_count": 11,
   "metadata": {},
   "outputs": [
    {
     "data": {
      "text/plain": [
       "1077"
      ]
     },
     "execution_count": 11,
     "metadata": {},
     "output_type": "execute_result"
    }
   ],
   "source": [
    "## that said this does drop almost a full quarter of our entries, which has a pretty large trade off\n",
    "player_data['GP'][player_data['GP'] < 20].count()\n",
    "\n"
   ]
  },
  {
   "cell_type": "markdown",
   "metadata": {},
   "source": [
    "Nearly a quarter of players are around for fewer than 20 games! This actually jives with some insider hockey knowledge: since 25 games played is the cut off for an NHL rookie season, teams will bring up young players for trial basis and have them play a few games late in the season or early to give them some experience or a try out. "
   ]
  },
  {
   "cell_type": "markdown",
   "metadata": {},
   "source": [
    "Lets make some fun box plots! Some game specific terminology: \n",
    "\n",
    "GF_60 = 'goals per 60 minutes played'\n",
    "TOI_SIndC = 'time on ice, 5 v 5'\n",
    "iCF_PPIndC = 'independant Corsi For'  \n",
    "iFF_PPIndC = 'independant fenwick for'\n",
    "\n",
    "[Corsi and Fewick](https://en.wikipedia.org/wiki/Analytics_(ice_hockey)) are shot metrics, which are described in the hyperlink, but essentially it's shots taken and unblocked shots taken. At this point these are the most accepted form of advanced analytics that the game has, which tells you plenty about the state of the game. "
   ]
  },
  {
   "cell_type": "markdown",
   "metadata": {},
   "source": [
    "Going to map some values based around their sort of relative size, but not their relationship. We're looking for distribution not correlation here."
   ]
  },
  {
   "cell_type": "code",
   "execution_count": 11,
   "metadata": {},
   "outputs": [
    {
     "data": {
      "text/plain": [
       "<matplotlib.axes._subplots.AxesSubplot at 0x1a20cdd9b0>"
      ]
     },
     "execution_count": 11,
     "metadata": {},
     "output_type": "execute_result"
    },
    {
     "data": {
      "image/png": "[encoded data removed]",
      "text/plain": [
       "<Figure size 432x288 with 1 Axes>"
      ]
     },
     "metadata": {
      "needs_background": "light"
     },
     "output_type": "display_data"
    }
   ],
   "source": [
    "player_data[['GP','Goals', 'Height_(in)', 'Age',]].boxplot()"
   ]
  },
  {
   "cell_type": "code",
   "execution_count": 12,
   "metadata": {},
   "outputs": [
    {
     "data": {
      "text/plain": [
       "<matplotlib.axes._subplots.AxesSubplot at 0x1a20e05940>"
      ]
     },
     "execution_count": 12,
     "metadata": {},
     "output_type": "execute_result"
    },
    {
     "data": {
      "image/png": "[encoded data removed]",
      "text/plain": [
       "<Figure size 432x288 with 1 Axes>"
      ]
     },
     "metadata": {
      "needs_background": "light"
     },
     "output_type": "display_data"
    }
   ],
   "source": [
    "## Analytics Values as Mentioned\n",
    "\n",
    "player_data[[ 'iCF','iFF']].boxplot()\n",
    "\n"
   ]
  },
  {
   "cell_type": "code",
   "execution_count": 13,
   "metadata": {},
   "outputs": [
    {
     "data": {
      "text/plain": [
       "<matplotlib.axes._subplots.AxesSubplot at 0x1a20d96908>"
      ]
     },
     "execution_count": 13,
     "metadata": {},
     "output_type": "execute_result"
    },
    {
     "data": {
      "image/png": "[encoded data removed]",
      "text/plain": [
       "<Figure size 432x288 with 1 Axes>"
      ]
     },
     "metadata": {
      "needs_background": "light"
     },
     "output_type": "display_data"
    }
   ],
   "source": [
    "## medium values, again totally unrelated\n",
    "\n",
    "player_data[['Fantasy Points','Weight_(lbs)']].boxplot()\n",
    "\n"
   ]
  },
  {
   "cell_type": "markdown",
   "metadata": {},
   "source": [
    "I'm interested in that top outlier, and had a wild guess that it was Alex Ovechkin, arguably the best player of this generation, who is also something of a [regular](http://www.depthockeyanalytics.com/uncategorized/alex-ovechkins-statistical-dominance-in-the-nhl-hardly/) [discussion](https://twitter.com/IneffectiveMath/status/1091505560699260928) point in the analytics community (for reference, I am inclined to agree with them). "
   ]
  },
  {
   "cell_type": "code",
   "execution_count": 14,
   "metadata": {},
   "outputs": [
    {
     "data": {
      "text/html": [
       "<div>\n",
       "<style scoped>\n",
       "    .dataframe tbody tr th:only-of-type {\n",
       "        vertical-align: middle;\n",
       "    }\n",
       "\n",
       "    .dataframe tbody tr th {\n",
       "        vertical-align: top;\n",
       "    }\n",
       "\n",
       "    .dataframe thead th {\n",
       "        text-align: right;\n",
       "    }\n",
       "</style>\n",
       "<table border=\"1\" class=\"dataframe\">\n",
       "  <thead>\n",
       "    <tr style=\"text-align: right;\">\n",
       "      <th></th>\n",
       "      <th>Unnamed: 0</th>\n",
       "      <th>Fantasy Points</th>\n",
       "      <th>Player</th>\n",
       "      <th>Year</th>\n",
       "      <th>Team</th>\n",
       "      <th>Position</th>\n",
       "      <th>GP</th>\n",
       "      <th>TOI</th>\n",
       "      <th>Goals</th>\n",
       "      <th>Total_Assists</th>\n",
       "      <th>...</th>\n",
       "      <th>Overall_Draft_Position</th>\n",
       "      <th>Fantasy Points Per Game</th>\n",
       "      <th>drafted</th>\n",
       "      <th>Total Minutes Played</th>\n",
       "      <th>FantasyPoints_60</th>\n",
       "      <th>Cleaned_Position</th>\n",
       "      <th>C</th>\n",
       "      <th>D</th>\n",
       "      <th>L</th>\n",
       "      <th>R</th>\n",
       "    </tr>\n",
       "  </thead>\n",
       "  <tbody>\n",
       "    <tr>\n",
       "      <th>778</th>\n",
       "      <td>778</td>\n",
       "      <td>357.35</td>\n",
       "      <td>Sidney Crosby</td>\n",
       "      <td>2014</td>\n",
       "      <td>PIT</td>\n",
       "      <td>C</td>\n",
       "      <td>80</td>\n",
       "      <td>1373.37</td>\n",
       "      <td>25</td>\n",
       "      <td>41</td>\n",
       "      <td>...</td>\n",
       "      <td>1.0</td>\n",
       "      <td>4.47</td>\n",
       "      <td>1</td>\n",
       "      <td>1757.78</td>\n",
       "      <td>12.20</td>\n",
       "      <td>C</td>\n",
       "      <td>1</td>\n",
       "      <td>0</td>\n",
       "      <td>0</td>\n",
       "      <td>0</td>\n",
       "    </tr>\n",
       "    <tr>\n",
       "      <th>905</th>\n",
       "      <td>905</td>\n",
       "      <td>349.90</td>\n",
       "      <td>Alex Ovechkin</td>\n",
       "      <td>2015</td>\n",
       "      <td>WSH</td>\n",
       "      <td>L</td>\n",
       "      <td>81</td>\n",
       "      <td>1334.75</td>\n",
       "      <td>28</td>\n",
       "      <td>19</td>\n",
       "      <td>...</td>\n",
       "      <td>1.0</td>\n",
       "      <td>4.32</td>\n",
       "      <td>1</td>\n",
       "      <td>1646.33</td>\n",
       "      <td>12.75</td>\n",
       "      <td>L</td>\n",
       "      <td>0</td>\n",
       "      <td>0</td>\n",
       "      <td>1</td>\n",
       "      <td>0</td>\n",
       "    </tr>\n",
       "    <tr>\n",
       "      <th>3755</th>\n",
       "      <td>3755</td>\n",
       "      <td>342.30</td>\n",
       "      <td>Connor McDavid</td>\n",
       "      <td>2018</td>\n",
       "      <td>EDM</td>\n",
       "      <td>C</td>\n",
       "      <td>82</td>\n",
       "      <td>1433.65</td>\n",
       "      <td>35</td>\n",
       "      <td>49</td>\n",
       "      <td>...</td>\n",
       "      <td>1.0</td>\n",
       "      <td>4.17</td>\n",
       "      <td>1</td>\n",
       "      <td>1766.80</td>\n",
       "      <td>11.62</td>\n",
       "      <td>C</td>\n",
       "      <td>1</td>\n",
       "      <td>0</td>\n",
       "      <td>0</td>\n",
       "      <td>0</td>\n",
       "    </tr>\n",
       "    <tr>\n",
       "      <th>3626</th>\n",
       "      <td>3626</td>\n",
       "      <td>341.60</td>\n",
       "      <td>Anze Kopitar</td>\n",
       "      <td>2018</td>\n",
       "      <td>L.A</td>\n",
       "      <td>C</td>\n",
       "      <td>82</td>\n",
       "      <td>1395.50</td>\n",
       "      <td>28</td>\n",
       "      <td>35</td>\n",
       "      <td>...</td>\n",
       "      <td>11.0</td>\n",
       "      <td>4.17</td>\n",
       "      <td>1</td>\n",
       "      <td>1810.58</td>\n",
       "      <td>11.32</td>\n",
       "      <td>C</td>\n",
       "      <td>1</td>\n",
       "      <td>0</td>\n",
       "      <td>0</td>\n",
       "      <td>0</td>\n",
       "    </tr>\n",
       "    <tr>\n",
       "      <th>2125</th>\n",
       "      <td>2125</td>\n",
       "      <td>338.00</td>\n",
       "      <td>Jamie Benn</td>\n",
       "      <td>2016</td>\n",
       "      <td>DAL</td>\n",
       "      <td>L</td>\n",
       "      <td>82</td>\n",
       "      <td>1251.85</td>\n",
       "      <td>22</td>\n",
       "      <td>32</td>\n",
       "      <td>...</td>\n",
       "      <td>129.0</td>\n",
       "      <td>4.12</td>\n",
       "      <td>1</td>\n",
       "      <td>1641.80</td>\n",
       "      <td>12.35</td>\n",
       "      <td>L</td>\n",
       "      <td>0</td>\n",
       "      <td>0</td>\n",
       "      <td>1</td>\n",
       "      <td>0</td>\n",
       "    </tr>\n",
       "  </tbody>\n",
       "</table>\n",
       "<p>5 rows × 247 columns</p>\n",
       "</div>"
      ],
      "text/plain": [
       "      Unnamed: 0  Fantasy Points          Player  Year Team Position  GP  \\\n",
       "778          778          357.35   Sidney Crosby  2014  PIT        C  80   \n",
       "905          905          349.90   Alex Ovechkin  2015  WSH        L  81   \n",
       "3755        3755          342.30  Connor McDavid  2018  EDM        C  82   \n",
       "3626        3626          341.60    Anze Kopitar  2018  L.A        C  82   \n",
       "2125        2125          338.00      Jamie Benn  2016  DAL        L  82   \n",
       "\n",
       "          TOI  Goals  Total_Assists ...  Overall_Draft_Position  \\\n",
       "778   1373.37     25             41 ...                     1.0   \n",
       "905   1334.75     28             19 ...                     1.0   \n",
       "3755  1433.65     35             49 ...                     1.0   \n",
       "3626  1395.50     28             35 ...                    11.0   \n",
       "2125  1251.85     22             32 ...                   129.0   \n",
       "\n",
       "      Fantasy Points Per Game  drafted  Total Minutes Played  \\\n",
       "778                      4.47        1               1757.78   \n",
       "905                      4.32        1               1646.33   \n",
       "3755                     4.17        1               1766.80   \n",
       "3626                     4.17        1               1810.58   \n",
       "2125                     4.12        1               1641.80   \n",
       "\n",
       "      FantasyPoints_60  Cleaned_Position  C  D  L  R  \n",
       "778              12.20                 C  1  0  0  0  \n",
       "905              12.75                 L  0  0  1  0  \n",
       "3755             11.62                 C  1  0  0  0  \n",
       "3626             11.32                 C  1  0  0  0  \n",
       "2125             12.35                 L  0  0  1  0  \n",
       "\n",
       "[5 rows x 247 columns]"
      ]
     },
     "execution_count": 14,
     "metadata": {},
     "output_type": "execute_result"
    }
   ],
   "source": [
    "player_data[player_data['Fantasy Points']>300].sort_values(['Fantasy Points'], ascending=False)[0:5]"
   ]
  },
  {
   "cell_type": "markdown",
   "metadata": {},
   "source": [
    "Turns out, I was wrong:  Ovie missed being above 350 by .2 points.  That said this is an interesting barometer for the top players. Crosby and Ovie having the most regular appearances above 300 points, with  Crosby appearing every year that's measured. Not shown here, this current season he's on track for 377, as is Ovechkin. Both players are in  their 14th season, which again, just shows what insanely talented outliers they are."
   ]
  },
  {
   "cell_type": "code",
   "execution_count": 15,
   "metadata": {},
   "outputs": [
    {
     "data": {
      "text/plain": [
       "Player\n",
       "Sidney Crosby        5\n",
       "Jamie Benn           4\n",
       "Alex Ovechkin        4\n",
       "Claude Giroux        3\n",
       "Joe Pavelski         3\n",
       "Erik Karlsson        2\n",
       "Brent Burns          2\n",
       "John Tavares         2\n",
       "Connor McDavid       2\n",
       "Anze Kopitar         1\n",
       "Blake Wheeler        1\n",
       "Vincent Trocheck     1\n",
       "Evgeni Malkin        1\n",
       "Tyler Seguin         1\n",
       "Nathan MacKinnon     1\n",
       "Patrice Bergeron     1\n",
       "Patrick Kane         1\n",
       "Ryan Getzlaf         1\n",
       "Taylor Hall          1\n",
       "Aleksander Barkov    1\n",
       "Name: Player, dtype: int64"
      ]
     },
     "execution_count": 15,
     "metadata": {},
     "output_type": "execute_result"
    }
   ],
   "source": [
    "player_data[player_data['Fantasy Points']>300].groupby(\"Player\")[\"Player\"].count().sort_values( ascending=False)"
   ]
  },
  {
   "cell_type": "markdown",
   "metadata": {},
   "source": [
    "Lets check out the drafted vs undrafted numbers."
   ]
  },
  {
   "cell_type": "code",
   "execution_count": 16,
   "metadata": {
    "scrolled": true
   },
   "outputs": [
    {
     "data": {
      "text/plain": [
       "<matplotlib.axes._subplots.AxesSubplot at 0x1a20775400>"
      ]
     },
     "execution_count": 16,
     "metadata": {},
     "output_type": "execute_result"
    },
    {
     "data": {
      "image/png": "[encoded data removed]",
      "text/plain": [
       "<Figure size 432x288 with 1 Axes>"
      ]
     },
     "metadata": {
      "needs_background": "light"
     },
     "output_type": "display_data"
    }
   ],
   "source": [
    "pd.value_counts(player_data['drafted']).plot.bar()"
   ]
  },
  {
   "cell_type": "code",
   "execution_count": 17,
   "metadata": {
    "scrolled": true
   },
   "outputs": [
    {
     "name": "stderr",
     "output_type": "stream",
     "text": [
      "No handles with labels found to put in legend.\n"
     ]
    },
    {
     "data": {
      "image/png": "[encoded data removed]",
      "text/plain": [
       "<Figure size 432x288 with 1 Axes>"
      ]
     },
     "metadata": {
      "needs_background": "light"
     },
     "output_type": "display_data"
    }
   ],
   "source": [
    "player_data.boxplot(column='Fantasy Points',by='drafted')\n",
    "plt.ylabel('Fantasy Points')\n",
    "plt.figlegend()\n",
    "plt.savefig('Images/drafted_undrafted.png')"
   ]
  },
  {
   "cell_type": "markdown",
   "metadata": {},
   "source": [
    "While the undrafted group is a lot smaller they have a lot lower bounds on their potential.  lets do some more descriptive things by this and by position."
   ]
  },
  {
   "cell_type": "code",
   "execution_count": 18,
   "metadata": {},
   "outputs": [
    {
     "data": {
      "text/html": [
       "<div>\n",
       "<style scoped>\n",
       "    .dataframe tbody tr th:only-of-type {\n",
       "        vertical-align: middle;\n",
       "    }\n",
       "\n",
       "    .dataframe tbody tr th {\n",
       "        vertical-align: top;\n",
       "    }\n",
       "\n",
       "    .dataframe thead th {\n",
       "        text-align: right;\n",
       "    }\n",
       "</style>\n",
       "<table border=\"1\" class=\"dataframe\">\n",
       "  <thead>\n",
       "    <tr style=\"text-align: right;\">\n",
       "      <th></th>\n",
       "      <th>count</th>\n",
       "      <th>mean</th>\n",
       "      <th>std</th>\n",
       "      <th>min</th>\n",
       "      <th>25%</th>\n",
       "      <th>50%</th>\n",
       "      <th>75%</th>\n",
       "      <th>max</th>\n",
       "    </tr>\n",
       "    <tr>\n",
       "      <th>Position</th>\n",
       "      <th></th>\n",
       "      <th></th>\n",
       "      <th></th>\n",
       "      <th></th>\n",
       "      <th></th>\n",
       "      <th></th>\n",
       "      <th></th>\n",
       "      <th></th>\n",
       "    </tr>\n",
       "  </thead>\n",
       "  <tbody>\n",
       "    <tr>\n",
       "      <th>C</th>\n",
       "      <td>1252.0</td>\n",
       "      <td>110.033107</td>\n",
       "      <td>87.092646</td>\n",
       "      <td>0.00</td>\n",
       "      <td>25.4500</td>\n",
       "      <td>102.925</td>\n",
       "      <td>174.9250</td>\n",
       "      <td>357.35</td>\n",
       "    </tr>\n",
       "    <tr>\n",
       "      <th>C, L</th>\n",
       "      <td>52.0</td>\n",
       "      <td>135.097115</td>\n",
       "      <td>65.955875</td>\n",
       "      <td>10.95</td>\n",
       "      <td>80.0375</td>\n",
       "      <td>128.925</td>\n",
       "      <td>194.5875</td>\n",
       "      <td>274.15</td>\n",
       "    </tr>\n",
       "    <tr>\n",
       "      <th>C, R</th>\n",
       "      <td>30.0</td>\n",
       "      <td>140.131667</td>\n",
       "      <td>56.783126</td>\n",
       "      <td>28.95</td>\n",
       "      <td>100.6750</td>\n",
       "      <td>151.275</td>\n",
       "      <td>182.1250</td>\n",
       "      <td>239.00</td>\n",
       "    </tr>\n",
       "    <tr>\n",
       "      <th>D</th>\n",
       "      <td>1521.0</td>\n",
       "      <td>95.785043</td>\n",
       "      <td>70.669238</td>\n",
       "      <td>0.00</td>\n",
       "      <td>29.5000</td>\n",
       "      <td>94.050</td>\n",
       "      <td>148.5500</td>\n",
       "      <td>321.60</td>\n",
       "    </tr>\n",
       "    <tr>\n",
       "      <th>D, R</th>\n",
       "      <td>1.0</td>\n",
       "      <td>2.600000</td>\n",
       "      <td>NaN</td>\n",
       "      <td>2.60</td>\n",
       "      <td>2.6000</td>\n",
       "      <td>2.600</td>\n",
       "      <td>2.6000</td>\n",
       "      <td>2.60</td>\n",
       "    </tr>\n",
       "    <tr>\n",
       "      <th>L</th>\n",
       "      <td>834.0</td>\n",
       "      <td>91.337950</td>\n",
       "      <td>75.391500</td>\n",
       "      <td>0.00</td>\n",
       "      <td>19.8875</td>\n",
       "      <td>84.050</td>\n",
       "      <td>146.1375</td>\n",
       "      <td>349.90</td>\n",
       "    </tr>\n",
       "    <tr>\n",
       "      <th>L, R</th>\n",
       "      <td>14.0</td>\n",
       "      <td>117.228571</td>\n",
       "      <td>75.300344</td>\n",
       "      <td>1.00</td>\n",
       "      <td>59.6125</td>\n",
       "      <td>146.975</td>\n",
       "      <td>159.2625</td>\n",
       "      <td>222.45</td>\n",
       "    </tr>\n",
       "    <tr>\n",
       "      <th>R</th>\n",
       "      <td>740.0</td>\n",
       "      <td>92.999189</td>\n",
       "      <td>75.060902</td>\n",
       "      <td>0.00</td>\n",
       "      <td>22.5625</td>\n",
       "      <td>83.675</td>\n",
       "      <td>147.1500</td>\n",
       "      <td>320.50</td>\n",
       "    </tr>\n",
       "  </tbody>\n",
       "</table>\n",
       "</div>"
      ],
      "text/plain": [
       "           count        mean        std    min       25%      50%       75%  \\\n",
       "Position                                                                      \n",
       "C         1252.0  110.033107  87.092646   0.00   25.4500  102.925  174.9250   \n",
       "C, L        52.0  135.097115  65.955875  10.95   80.0375  128.925  194.5875   \n",
       "C, R        30.0  140.131667  56.783126  28.95  100.6750  151.275  182.1250   \n",
       "D         1521.0   95.785043  70.669238   0.00   29.5000   94.050  148.5500   \n",
       "D, R         1.0    2.600000        NaN   2.60    2.6000    2.600    2.6000   \n",
       "L          834.0   91.337950  75.391500   0.00   19.8875   84.050  146.1375   \n",
       "L, R        14.0  117.228571  75.300344   1.00   59.6125  146.975  159.2625   \n",
       "R          740.0   92.999189  75.060902   0.00   22.5625   83.675  147.1500   \n",
       "\n",
       "             max  \n",
       "Position          \n",
       "C         357.35  \n",
       "C, L      274.15  \n",
       "C, R      239.00  \n",
       "D         321.60  \n",
       "D, R        2.60  \n",
       "L         349.90  \n",
       "L, R      222.45  \n",
       "R         320.50  "
      ]
     },
     "execution_count": 18,
     "metadata": {},
     "output_type": "execute_result"
    }
   ],
   "source": [
    "player_data.groupby(\"Position\")['Fantasy Points'].describe()"
   ]
  },
  {
   "cell_type": "code",
   "execution_count": 19,
   "metadata": {},
   "outputs": [
    {
     "data": {
      "text/html": [
       "<div>\n",
       "<style scoped>\n",
       "    .dataframe tbody tr th:only-of-type {\n",
       "        vertical-align: middle;\n",
       "    }\n",
       "\n",
       "    .dataframe tbody tr th {\n",
       "        vertical-align: top;\n",
       "    }\n",
       "\n",
       "    .dataframe thead th {\n",
       "        text-align: right;\n",
       "    }\n",
       "</style>\n",
       "<table border=\"1\" class=\"dataframe\">\n",
       "  <thead>\n",
       "    <tr style=\"text-align: right;\">\n",
       "      <th></th>\n",
       "      <th>Unnamed: 0</th>\n",
       "      <th>Fantasy Points</th>\n",
       "      <th>Player</th>\n",
       "      <th>Year</th>\n",
       "      <th>Team</th>\n",
       "      <th>Position</th>\n",
       "      <th>GP</th>\n",
       "      <th>TOI</th>\n",
       "      <th>Goals</th>\n",
       "      <th>Total_Assists</th>\n",
       "      <th>...</th>\n",
       "      <th>Overall_Draft_Position</th>\n",
       "      <th>Fantasy Points Per Game</th>\n",
       "      <th>drafted</th>\n",
       "      <th>Total Minutes Played</th>\n",
       "      <th>FantasyPoints_60</th>\n",
       "      <th>Cleaned_Position</th>\n",
       "      <th>C</th>\n",
       "      <th>D</th>\n",
       "      <th>L</th>\n",
       "      <th>R</th>\n",
       "    </tr>\n",
       "  </thead>\n",
       "  <tbody>\n",
       "    <tr>\n",
       "      <th>2278</th>\n",
       "      <td>2278</td>\n",
       "      <td>2.6</td>\n",
       "      <td>Luke Witkowski</td>\n",
       "      <td>2016</td>\n",
       "      <td>T.B</td>\n",
       "      <td>D, R</td>\n",
       "      <td>4</td>\n",
       "      <td>28.52</td>\n",
       "      <td>0</td>\n",
       "      <td>0</td>\n",
       "      <td>...</td>\n",
       "      <td>160.0</td>\n",
       "      <td>0.65</td>\n",
       "      <td>1</td>\n",
       "      <td>28.52</td>\n",
       "      <td>5.47</td>\n",
       "      <td>D</td>\n",
       "      <td>0</td>\n",
       "      <td>1</td>\n",
       "      <td>0</td>\n",
       "      <td>0</td>\n",
       "    </tr>\n",
       "  </tbody>\n",
       "</table>\n",
       "<p>1 rows × 247 columns</p>\n",
       "</div>"
      ],
      "text/plain": [
       "      Unnamed: 0  Fantasy Points          Player  Year Team Position  GP  \\\n",
       "2278        2278             2.6  Luke Witkowski  2016  T.B     D, R   4   \n",
       "\n",
       "        TOI  Goals  Total_Assists ...  Overall_Draft_Position  \\\n",
       "2278  28.52      0              0 ...                   160.0   \n",
       "\n",
       "      Fantasy Points Per Game  drafted  Total Minutes Played  \\\n",
       "2278                     0.65        1                 28.52   \n",
       "\n",
       "      FantasyPoints_60  Cleaned_Position  C  D  L  R  \n",
       "2278              5.47                 D  0  1  0  0  \n",
       "\n",
       "[1 rows x 247 columns]"
      ]
     },
     "execution_count": 19,
     "metadata": {},
     "output_type": "execute_result"
    }
   ],
   "source": [
    "## I'm reasonably sure that D, R player is an encoding error somewhere...\n",
    "player_data[player_data['Position']== 'D, R']"
   ]
  },
  {
   "cell_type": "markdown",
   "metadata": {},
   "source": [
    "according to wikipedia, it is not an error, but he is a [scrub](https://en.wikipedia.org/wiki/Luke_Witkowski#Detroit_Red_Wings). Some summary stats:"
   ]
  },
  {
   "cell_type": "code",
   "execution_count": 20,
   "metadata": {},
   "outputs": [
    {
     "name": "stdout",
     "output_type": "stream",
     "text": [
      "\n",
      "\n"
     ]
    },
    {
     "data": {
      "text/html": [
       "<div>\n",
       "<style scoped>\n",
       "    .dataframe tbody tr th:only-of-type {\n",
       "        vertical-align: middle;\n",
       "    }\n",
       "\n",
       "    .dataframe tbody tr th {\n",
       "        vertical-align: top;\n",
       "    }\n",
       "\n",
       "    .dataframe thead th {\n",
       "        text-align: right;\n",
       "    }\n",
       "</style>\n",
       "<table border=\"1\" class=\"dataframe\">\n",
       "  <thead>\n",
       "    <tr style=\"text-align: right;\">\n",
       "      <th></th>\n",
       "      <th>N</th>\n",
       "      <th>Mean</th>\n",
       "      <th>SD</th>\n",
       "      <th>SE</th>\n",
       "      <th>95% Conf.</th>\n",
       "      <th>Interval</th>\n",
       "    </tr>\n",
       "    <tr>\n",
       "      <th>Position</th>\n",
       "      <th></th>\n",
       "      <th></th>\n",
       "      <th></th>\n",
       "      <th></th>\n",
       "      <th></th>\n",
       "      <th></th>\n",
       "    </tr>\n",
       "  </thead>\n",
       "  <tbody>\n",
       "    <tr>\n",
       "      <th>C</th>\n",
       "      <td>1252</td>\n",
       "      <td>110.033107</td>\n",
       "      <td>87.092646</td>\n",
       "      <td>2.461384</td>\n",
       "      <td>105.206867</td>\n",
       "      <td>114.859347</td>\n",
       "    </tr>\n",
       "    <tr>\n",
       "      <th>C, L</th>\n",
       "      <td>52</td>\n",
       "      <td>135.097115</td>\n",
       "      <td>65.955875</td>\n",
       "      <td>9.146434</td>\n",
       "      <td>116.995202</td>\n",
       "      <td>153.199028</td>\n",
       "    </tr>\n",
       "    <tr>\n",
       "      <th>C, R</th>\n",
       "      <td>30</td>\n",
       "      <td>140.131667</td>\n",
       "      <td>56.783126</td>\n",
       "      <td>10.367133</td>\n",
       "      <td>119.464718</td>\n",
       "      <td>160.798616</td>\n",
       "    </tr>\n",
       "    <tr>\n",
       "      <th>D</th>\n",
       "      <td>1521</td>\n",
       "      <td>95.785043</td>\n",
       "      <td>70.669238</td>\n",
       "      <td>1.812032</td>\n",
       "      <td>92.232292</td>\n",
       "      <td>99.337793</td>\n",
       "    </tr>\n",
       "    <tr>\n",
       "      <th>D, R</th>\n",
       "      <td>1</td>\n",
       "      <td>2.600000</td>\n",
       "      <td>NaN</td>\n",
       "      <td>NaN</td>\n",
       "      <td>NaN</td>\n",
       "      <td>NaN</td>\n",
       "    </tr>\n",
       "    <tr>\n",
       "      <th>L</th>\n",
       "      <td>834</td>\n",
       "      <td>91.337950</td>\n",
       "      <td>75.391500</td>\n",
       "      <td>2.610594</td>\n",
       "      <td>86.218115</td>\n",
       "      <td>96.457785</td>\n",
       "    </tr>\n",
       "    <tr>\n",
       "      <th>L, R</th>\n",
       "      <td>14</td>\n",
       "      <td>117.228571</td>\n",
       "      <td>75.300344</td>\n",
       "      <td>20.124863</td>\n",
       "      <td>76.294838</td>\n",
       "      <td>158.162305</td>\n",
       "    </tr>\n",
       "    <tr>\n",
       "      <th>R</th>\n",
       "      <td>740</td>\n",
       "      <td>92.999189</td>\n",
       "      <td>75.060902</td>\n",
       "      <td>2.759294</td>\n",
       "      <td>87.587316</td>\n",
       "      <td>98.411063</td>\n",
       "    </tr>\n",
       "  </tbody>\n",
       "</table>\n",
       "</div>"
      ],
      "text/plain": [
       "             N        Mean         SD         SE   95% Conf.    Interval\n",
       "Position                                                                \n",
       "C         1252  110.033107  87.092646   2.461384  105.206867  114.859347\n",
       "C, L        52  135.097115  65.955875   9.146434  116.995202  153.199028\n",
       "C, R        30  140.131667  56.783126  10.367133  119.464718  160.798616\n",
       "D         1521   95.785043  70.669238   1.812032   92.232292   99.337793\n",
       "D, R         1    2.600000        NaN        NaN         NaN         NaN\n",
       "L          834   91.337950  75.391500   2.610594   86.218115   96.457785\n",
       "L, R        14  117.228571  75.300344  20.124863   76.294838  158.162305\n",
       "R          740   92.999189  75.060902   2.759294   87.587316   98.411063"
      ]
     },
     "execution_count": 20,
     "metadata": {},
     "output_type": "execute_result"
    }
   ],
   "source": [
    "rp.summary_cont(player_data.groupby(\"Position\")['Fantasy Points'])"
   ]
  },
  {
   "cell_type": "markdown",
   "metadata": {},
   "source": [
    "let's compare avg time vs avg ppg, starting with some t-tests and looking at correlated values."
   ]
  },
  {
   "cell_type": "code",
   "execution_count": 21,
   "metadata": {},
   "outputs": [
    {
     "data": {
      "text/plain": [
       "Ttest_indResult(statistic=-197.2636052093086, pvalue=0.0)"
      ]
     },
     "execution_count": 21,
     "metadata": {},
     "output_type": "execute_result"
    }
   ],
   "source": [
    "## t-test \n",
    "\n",
    "\n",
    "stats.ttest_ind(player_data['Fantasy Points Per Game'],player_data['TOI_GP'])\n",
    "\n"
   ]
  },
  {
   "cell_type": "markdown",
   "metadata": {},
   "source": [
    "I've never seen a p-value that's literally 0"
   ]
  },
  {
   "cell_type": "code",
   "execution_count": 22,
   "metadata": {
    "scrolled": true
   },
   "outputs": [
    {
     "data": {
      "text/plain": [
       "<matplotlib.axes._subplots.AxesSubplot at 0x1a1f9fe860>"
      ]
     },
     "execution_count": 22,
     "metadata": {},
     "output_type": "execute_result"
    },
    {
     "data": {
      "image/png": "[encoded data removed]",
      "text/plain": [
       "<Figure size 432x288 with 2 Axes>"
      ]
     },
     "metadata": {
      "needs_background": "light"
     },
     "output_type": "display_data"
    }
   ],
   "source": [
    "## fun but messy plotting\n",
    "corr = player_data.corr(method='pearson')\n",
    "sb.heatmap(corr)"
   ]
  },
  {
   "cell_type": "markdown",
   "metadata": {},
   "source": [
    "what stands out to me here is that corsi (iCF), fenwick (iFF), and time on ice (metrics with TOI) all coorelate better than values that I'd have guessed would be way more predictive, such as assists or goals, which are actually included in the metric. Also interesting is the negative corralation from Draft Position, which I'd have assumed would be similar in value to TOI. \n",
    "\n",
    "Someplace in between is the values against players (GA_60 = Goals against the player over 60 min, SA_60 shots against the player's team, etc) also have a negative correlation. While I wouldn't have expected a massive link, negative is a bit surprising. My thesis on this (which will go unexplored here because it would be a much different project) is that players work harder if they're doing poorly defensively or playing from behind frequently. \n",
    "\n",
    "Finally Draft Position seems very low on correlation which fits with the first draft here, but is perhaps even lower than expected."
   ]
  },
  {
   "cell_type": "code",
   "execution_count": 23,
   "metadata": {},
   "outputs": [
    {
     "data": {
      "text/plain": [
       "D                       1.000000\n",
       "Shots_Blocked           0.564024\n",
       "TOI_GP                  0.485088\n",
       "Shots_Blocked_PkIndC    0.424144\n",
       "Hits_PkIndC             0.392866\n",
       "Giveaways_PkIndC        0.383379\n",
       "PKTOI_GP                0.358788\n",
       "Shots_Blocked_PPIndC    0.303059\n",
       "PKTOI                   0.280984\n",
       "TOI_PkIndC              0.280984\n",
       "Giveaways               0.263534\n",
       "Height_(in)             0.233306\n",
       "Hits_Taken_PkIndC       0.194625\n",
       "PKPDO                   0.193604\n",
       "Hits_Taken              0.188436\n",
       "Name: D, dtype: float64"
      ]
     },
     "execution_count": 23,
     "metadata": {},
     "output_type": "execute_result"
    }
   ],
   "source": [
    "\n",
    "sorted_fantasy_value = corr.iloc[:,-3].sort_values(ascending = False)\n",
    "sorted_fantasy_value.iloc[0:15,]"
   ]
  },
  {
   "cell_type": "code",
   "execution_count": 24,
   "metadata": {},
   "outputs": [
    {
     "data": {
      "text/plain": [
       "iHDCF_PkIndC            -0.263476\n",
       "Faceoffs_Lost_PkIndC    -0.266876\n",
       "iSCF_PkIndC             -0.272123\n",
       "SHPer                   -0.275922\n",
       "Rush_Attempts           -0.295324\n",
       "R                       -0.322588\n",
       "Off. Zone_Faceoffs_60   -0.326164\n",
       "iHDCF_PPIndC            -0.328731\n",
       "Faceoffs_Won            -0.330161\n",
       "FantasyPoints_60        -0.336123\n",
       "Faceoffs_Lost           -0.345306\n",
       "L                       -0.350474\n",
       "Goals                   -0.359143\n",
       "iSCF                    -0.395893\n",
       "Faceoffs_Per_PPIndC     -0.465978\n",
       "C                       -0.472678\n",
       "IPP                     -0.506400\n",
       "iHDCF                   -0.524242\n",
       "Name: D, dtype: float64"
      ]
     },
     "execution_count": 24,
     "metadata": {},
     "output_type": "execute_result"
    }
   ],
   "source": [
    "sorted_fantasy_value.iloc[220:,]"
   ]
  },
  {
   "cell_type": "code",
   "execution_count": 25,
   "metadata": {},
   "outputs": [
    {
     "data": {
      "text/plain": [
       "-0.008305515990254933"
      ]
     },
     "execution_count": 25,
     "metadata": {},
     "output_type": "execute_result"
    }
   ],
   "source": [
    "sorted_fantasy_value.loc['drafted']"
   ]
  },
  {
   "cell_type": "code",
   "execution_count": 38,
   "metadata": {},
   "outputs": [
    {
     "data": {
      "text/plain": [
       "<matplotlib.axes._subplots.AxesSubplot at 0x1a21930470>"
      ]
     },
     "execution_count": 38,
     "metadata": {},
     "output_type": "execute_result"
    },
    {
     "data": {
      "image/png": "[encoded data removed]",
      "text/plain": [
       "<Figure size 432x288 with 2 Axes>"
      ]
     },
     "metadata": {
      "needs_background": "light"
     },
     "output_type": "display_data"
    }
   ],
   "source": [
    "mapable_fantasy_value = corr.sort_values(by=\"Fantasy Points\",ascending = False)\n",
    "sb.heatmap(mapable_fantasy_value.iloc[0:10])"
   ]
  },
  {
   "cell_type": "markdown",
   "metadata": {},
   "source": [
    "So the correlation to drafted is very slight but does exist. Just to make sure this wasn't from the alteration I made in the data munging of creating false numeric values for the undrafted players, I recreated the frame without the undrafted players and rechecked the correlations."
   ]
  },
  {
   "cell_type": "code",
   "execution_count": 17,
   "metadata": {
    "scrolled": true
   },
   "outputs": [
    {
     "data": {
      "text/plain": [
       "D                       1.000000\n",
       "Shots_Blocked           0.573146\n",
       "TOI_GP                  0.477452\n",
       "Shots_Blocked_PkIndC    0.436242\n",
       "Hits_PkIndC             0.405060\n",
       "Giveaways_PkIndC        0.395292\n",
       "PKTOI_GP                0.375809\n",
       "Shots_Blocked_PPIndC    0.310770\n",
       "PKTOI                   0.288934\n",
       "TOI_PkIndC              0.288934\n",
       "Name: D, dtype: float64"
      ]
     },
     "execution_count": 17,
     "metadata": {},
     "output_type": "execute_result"
    }
   ],
   "source": [
    "draft_index = (player_data['drafted'] == 1) \n",
    "drafted_players = player_data[draft_index]\n",
    "dcorr = drafted_players.corr(method='pearson')\n",
    "drafted_fantasy_value = dcorr.iloc[:,-3].sort_values(ascending = False)\n",
    "drafted_fantasy_value.iloc[0:10,]"
   ]
  },
  {
   "cell_type": "code",
   "execution_count": 43,
   "metadata": {},
   "outputs": [
    {
     "data": {
      "text/plain": [
       "-0.22545016611316257"
      ]
     },
     "execution_count": 43,
     "metadata": {},
     "output_type": "execute_result"
    }
   ],
   "source": [
    "drafted_fantasy_value.loc['Draft_Round']\n"
   ]
  },
  {
   "cell_type": "code",
   "execution_count": 44,
   "metadata": {},
   "outputs": [
    {
     "data": {
      "text/plain": [
       "-0.2353855889528494"
      ]
     },
     "execution_count": 44,
     "metadata": {},
     "output_type": "execute_result"
    }
   ],
   "source": [
    "drafted_fantasy_value.loc['Overall_Draft_Position']"
   ]
  },
  {
   "cell_type": "markdown",
   "metadata": {},
   "source": [
    "interestingly that stays almost the exact same, Overall Postion went from -0.232 to -0.235, while Draft_Round went from -0.207 to -0.225. I'd say that means it's safe to use the whole data set, and since I won't use the negative values, or the drafted value, it's fine to ignore that grouping. Still surprising how little impact it has over all. Just for fun I'm mapping out the draft value vs fantasy points here. "
   ]
  },
  {
   "cell_type": "code",
   "execution_count": 45,
   "metadata": {},
   "outputs": [
    {
     "name": "stderr",
     "output_type": "stream",
     "text": [
      "/anaconda3/lib/python3.7/site-packages/scipy/stats/stats.py:1713: FutureWarning: Using a non-tuple sequence for multidimensional indexing is deprecated; use `arr[tuple(seq)]` instead of `arr[seq]`. In the future this will be interpreted as an array index, `arr[np.array(seq)]`, which will result either in an error or a different result.\n",
      "  return np.add.reduce(sorted[indexer] * weights, axis=axis) / sumval\n"
     ]
    },
    {
     "data": {
      "text/plain": [
       "<matplotlib.axes._subplots.AxesSubplot at 0x1a22a01550>"
      ]
     },
     "execution_count": 45,
     "metadata": {},
     "output_type": "execute_result"
    },
    {
     "data": {
      "image/png": "[encoded data removed]",
      "text/plain": [
       "<Figure size 432x288 with 1 Axes>"
      ]
     },
     "metadata": {
      "needs_background": "light"
     },
     "output_type": "display_data"
    }
   ],
   "source": [
    "\n",
    "sb.regplot(player_data['Fantasy Points'],player_data['Overall_Draft_Position'])\n"
   ]
  },
  {
   "cell_type": "markdown",
   "metadata": {},
   "source": [
    "That looks terrible due to the undrafted players. running it again with just the drafted folks is somewhat better but you can still see the lack of real correlation pretty quickly."
   ]
  },
  {
   "cell_type": "code",
   "execution_count": 41,
   "metadata": {
    "scrolled": true
   },
   "outputs": [
    {
     "name": "stderr",
     "output_type": "stream",
     "text": [
      "/anaconda3/lib/python3.7/site-packages/scipy/stats/stats.py:1713: FutureWarning: Using a non-tuple sequence for multidimensional indexing is deprecated; use `arr[tuple(seq)]` instead of `arr[seq]`. In the future this will be interpreted as an array index, `arr[np.array(seq)]`, which will result either in an error or a different result.\n",
      "  return np.add.reduce(sorted[indexer] * weights, axis=axis) / sumval\n"
     ]
    },
    {
     "data": {
      "image/png": "[encoded data removed]",
      "text/plain": [
       "<Figure size 432x288 with 1 Axes>"
      ]
     },
     "metadata": {
      "needs_background": "light"
     },
     "output_type": "display_data"
    }
   ],
   "source": [
    "sb.regplot(drafted_players['Fantasy Points'],drafted_players['Overall_Draft_Position'])\n",
    "plt.savefig('Images/draft_position.png')"
   ]
  },
  {
   "cell_type": "markdown",
   "metadata": {},
   "source": [
    "I was also interested in the narrative of how height affects performance, as there is a belief that 'small undersized players can't compete'. but what we see here is there's no correlation, at least to fantasy value."
   ]
  },
  {
   "cell_type": "code",
   "execution_count": 20,
   "metadata": {},
   "outputs": [
    {
     "data": {
      "image/png": "[encoded data removed]",
      "text/plain": [
       "<Figure size 432x288 with 1 Axes>"
      ]
     },
     "metadata": {
      "needs_background": "light"
     },
     "output_type": "display_data"
    }
   ],
   "source": [
    "sb.regplot(player_data['Height_(in)'],player_data['Fantasy Points'])\n",
    "plt.savefig('Images/height_value.png')"
   ]
  },
  {
   "cell_type": "code",
   "execution_count": 21,
   "metadata": {},
   "outputs": [
    {
     "data": {
      "image/png": "[encoded data removed]",
      "text/plain": [
       "<Figure size 432x288 with 1 Axes>"
      ]
     },
     "metadata": {
      "needs_background": "light"
     },
     "output_type": "display_data"
    }
   ],
   "source": [
    "sb.regplot(player_data['Weight_(lbs)'],player_data['Fantasy Points'])\n",
    "plt.savefig('Images/weight_value.png')"
   ]
  },
  {
   "cell_type": "markdown",
   "metadata": {},
   "source": [
    "Ok, enough of the things that don't correlate, that's test some that are. \n",
    "\n",
    "I'm going to look values that are above .8 and aren't directly scored in fantasy value creation. That leaves us with:\n",
    "\n",
    "     TOI_SIndR                  0.918613\n",
    "     iCF                        0.911318\n",
    "     iFF                        0.909016\n",
    "     TOI                        0.901212\n",
    "     GP                         0.868733\n",
    "     TOI_PPIndC                 0.822900\n",
    "     PPTOI                      0.822900\n",
    "     iSCF                       0.817299\n",
    "     Rebounds_Created           0.809625\n",
    "     Takeaways                  0.807529\n",
    "\n",
    "This is a nice even 10 values; I think you could make a good argument that games played is a junk value in some ways since of course a higher number of games played is going to result in a higher total on average, but you can't particularly control for that or predict it given the nature of injuries. I'm going to leave it in there at the moment, but might remove it later on. I'd probably drop it overall if there weren't so few values above 80, and only 4 above 90, but the fact that it's 5th highest does raise some flags.\n",
    "\n",
    "I also wanted to compare what would happen with the high valued players if they were comparing rates verse total points. It seems like that doesn't really create any surprises. "
   ]
  },
  {
   "cell_type": "code",
   "execution_count": 42,
   "metadata": {},
   "outputs": [
    {
     "data": {
      "text/html": [
       "<div>\n",
       "<style scoped>\n",
       "    .dataframe tbody tr th:only-of-type {\n",
       "        vertical-align: middle;\n",
       "    }\n",
       "\n",
       "    .dataframe tbody tr th {\n",
       "        vertical-align: top;\n",
       "    }\n",
       "\n",
       "    .dataframe thead th {\n",
       "        text-align: right;\n",
       "    }\n",
       "</style>\n",
       "<table border=\"1\" class=\"dataframe\">\n",
       "  <thead>\n",
       "    <tr style=\"text-align: right;\">\n",
       "      <th></th>\n",
       "      <th>Player</th>\n",
       "      <th>Year</th>\n",
       "      <th>Team</th>\n",
       "      <th>Fantasy Points</th>\n",
       "      <th>Fantasy Points Per Game</th>\n",
       "      <th>TOI_SIndR</th>\n",
       "      <th>iCF</th>\n",
       "      <th>iFF</th>\n",
       "      <th>TOI</th>\n",
       "      <th>GP</th>\n",
       "      <th>TOI_PPIndC</th>\n",
       "      <th>PPTOI</th>\n",
       "      <th>iSCF</th>\n",
       "      <th>Rebounds_Created</th>\n",
       "      <th>Takeaways</th>\n",
       "    </tr>\n",
       "  </thead>\n",
       "  <tbody>\n",
       "    <tr>\n",
       "      <th>778</th>\n",
       "      <td>Sidney Crosby</td>\n",
       "      <td>2014</td>\n",
       "      <td>PIT</td>\n",
       "      <td>357.35</td>\n",
       "      <td>4.47</td>\n",
       "      <td>1757.78</td>\n",
       "      <td>305</td>\n",
       "      <td>250</td>\n",
       "      <td>1373.37</td>\n",
       "      <td>80</td>\n",
       "      <td>343.03</td>\n",
       "      <td>343.03</td>\n",
       "      <td>195</td>\n",
       "      <td>20</td>\n",
       "      <td>38</td>\n",
       "    </tr>\n",
       "    <tr>\n",
       "      <th>905</th>\n",
       "      <td>Alex Ovechkin</td>\n",
       "      <td>2015</td>\n",
       "      <td>WSH</td>\n",
       "      <td>349.90</td>\n",
       "      <td>4.32</td>\n",
       "      <td>1646.40</td>\n",
       "      <td>558</td>\n",
       "      <td>390</td>\n",
       "      <td>1334.75</td>\n",
       "      <td>81</td>\n",
       "      <td>309.27</td>\n",
       "      <td>309.27</td>\n",
       "      <td>269</td>\n",
       "      <td>24</td>\n",
       "      <td>42</td>\n",
       "    </tr>\n",
       "    <tr>\n",
       "      <th>3755</th>\n",
       "      <td>Connor McDavid</td>\n",
       "      <td>2018</td>\n",
       "      <td>EDM</td>\n",
       "      <td>342.30</td>\n",
       "      <td>4.17</td>\n",
       "      <td>1766.80</td>\n",
       "      <td>358</td>\n",
       "      <td>301</td>\n",
       "      <td>1433.65</td>\n",
       "      <td>82</td>\n",
       "      <td>243.02</td>\n",
       "      <td>243.02</td>\n",
       "      <td>275</td>\n",
       "      <td>25</td>\n",
       "      <td>100</td>\n",
       "    </tr>\n",
       "    <tr>\n",
       "      <th>3626</th>\n",
       "      <td>Anze Kopitar</td>\n",
       "      <td>2018</td>\n",
       "      <td>L.A</td>\n",
       "      <td>341.60</td>\n",
       "      <td>4.17</td>\n",
       "      <td>1810.97</td>\n",
       "      <td>261</td>\n",
       "      <td>199</td>\n",
       "      <td>1395.50</td>\n",
       "      <td>82</td>\n",
       "      <td>236.70</td>\n",
       "      <td>236.70</td>\n",
       "      <td>159</td>\n",
       "      <td>15</td>\n",
       "      <td>49</td>\n",
       "    </tr>\n",
       "    <tr>\n",
       "      <th>733</th>\n",
       "      <td>Ryan Getzlaf</td>\n",
       "      <td>2014</td>\n",
       "      <td>ANA</td>\n",
       "      <td>338.00</td>\n",
       "      <td>4.39</td>\n",
       "      <td>1638.97</td>\n",
       "      <td>248</td>\n",
       "      <td>197</td>\n",
       "      <td>1188.18</td>\n",
       "      <td>77</td>\n",
       "      <td>282.03</td>\n",
       "      <td>282.03</td>\n",
       "      <td>140</td>\n",
       "      <td>19</td>\n",
       "      <td>36</td>\n",
       "    </tr>\n",
       "    <tr>\n",
       "      <th>2125</th>\n",
       "      <td>Jamie Benn</td>\n",
       "      <td>2016</td>\n",
       "      <td>DAL</td>\n",
       "      <td>338.00</td>\n",
       "      <td>4.12</td>\n",
       "      <td>1641.80</td>\n",
       "      <td>316</td>\n",
       "      <td>247</td>\n",
       "      <td>1251.85</td>\n",
       "      <td>82</td>\n",
       "      <td>261.20</td>\n",
       "      <td>261.20</td>\n",
       "      <td>201</td>\n",
       "      <td>19</td>\n",
       "      <td>57</td>\n",
       "    </tr>\n",
       "    <tr>\n",
       "      <th>3444</th>\n",
       "      <td>Sidney Crosby</td>\n",
       "      <td>2017</td>\n",
       "      <td>PIT</td>\n",
       "      <td>332.85</td>\n",
       "      <td>4.44</td>\n",
       "      <td>1490.83</td>\n",
       "      <td>307</td>\n",
       "      <td>239</td>\n",
       "      <td>1210.08</td>\n",
       "      <td>75</td>\n",
       "      <td>271.07</td>\n",
       "      <td>271.07</td>\n",
       "      <td>200</td>\n",
       "      <td>26</td>\n",
       "      <td>39</td>\n",
       "    </tr>\n",
       "    <tr>\n",
       "      <th>4410</th>\n",
       "      <td>Vincent Trocheck</td>\n",
       "      <td>2018</td>\n",
       "      <td>FLA</td>\n",
       "      <td>332.35</td>\n",
       "      <td>4.05</td>\n",
       "      <td>1751.87</td>\n",
       "      <td>338</td>\n",
       "      <td>284</td>\n",
       "      <td>1317.43</td>\n",
       "      <td>82</td>\n",
       "      <td>285.10</td>\n",
       "      <td>285.10</td>\n",
       "      <td>173</td>\n",
       "      <td>20</td>\n",
       "      <td>50</td>\n",
       "    </tr>\n",
       "    <tr>\n",
       "      <th>4324</th>\n",
       "      <td>Sidney Crosby</td>\n",
       "      <td>2018</td>\n",
       "      <td>PIT</td>\n",
       "      <td>331.50</td>\n",
       "      <td>4.04</td>\n",
       "      <td>1696.52</td>\n",
       "      <td>312</td>\n",
       "      <td>258</td>\n",
       "      <td>1376.13</td>\n",
       "      <td>82</td>\n",
       "      <td>299.25</td>\n",
       "      <td>299.25</td>\n",
       "      <td>201</td>\n",
       "      <td>21</td>\n",
       "      <td>38</td>\n",
       "    </tr>\n",
       "    <tr>\n",
       "      <th>2550</th>\n",
       "      <td>Sidney Crosby</td>\n",
       "      <td>2016</td>\n",
       "      <td>PIT</td>\n",
       "      <td>328.60</td>\n",
       "      <td>4.11</td>\n",
       "      <td>1637.55</td>\n",
       "      <td>329</td>\n",
       "      <td>254</td>\n",
       "      <td>1308.80</td>\n",
       "      <td>80</td>\n",
       "      <td>296.88</td>\n",
       "      <td>296.88</td>\n",
       "      <td>192</td>\n",
       "      <td>21</td>\n",
       "      <td>38</td>\n",
       "    </tr>\n",
       "  </tbody>\n",
       "</table>\n",
       "</div>"
      ],
      "text/plain": [
       "                Player  Year Team  Fantasy Points  Fantasy Points Per Game  \\\n",
       "778      Sidney Crosby  2014  PIT          357.35                     4.47   \n",
       "905      Alex Ovechkin  2015  WSH          349.90                     4.32   \n",
       "3755    Connor McDavid  2018  EDM          342.30                     4.17   \n",
       "3626      Anze Kopitar  2018  L.A          341.60                     4.17   \n",
       "733       Ryan Getzlaf  2014  ANA          338.00                     4.39   \n",
       "2125        Jamie Benn  2016  DAL          338.00                     4.12   \n",
       "3444     Sidney Crosby  2017  PIT          332.85                     4.44   \n",
       "4410  Vincent Trocheck  2018  FLA          332.35                     4.05   \n",
       "4324     Sidney Crosby  2018  PIT          331.50                     4.04   \n",
       "2550     Sidney Crosby  2016  PIT          328.60                     4.11   \n",
       "\n",
       "      TOI_SIndR  iCF  iFF      TOI  GP  TOI_PPIndC   PPTOI  iSCF  \\\n",
       "778     1757.78  305  250  1373.37  80      343.03  343.03   195   \n",
       "905     1646.40  558  390  1334.75  81      309.27  309.27   269   \n",
       "3755    1766.80  358  301  1433.65  82      243.02  243.02   275   \n",
       "3626    1810.97  261  199  1395.50  82      236.70  236.70   159   \n",
       "733     1638.97  248  197  1188.18  77      282.03  282.03   140   \n",
       "2125    1641.80  316  247  1251.85  82      261.20  261.20   201   \n",
       "3444    1490.83  307  239  1210.08  75      271.07  271.07   200   \n",
       "4410    1751.87  338  284  1317.43  82      285.10  285.10   173   \n",
       "4324    1696.52  312  258  1376.13  82      299.25  299.25   201   \n",
       "2550    1637.55  329  254  1308.80  80      296.88  296.88   192   \n",
       "\n",
       "      Rebounds_Created  Takeaways  \n",
       "778                 20         38  \n",
       "905                 24         42  \n",
       "3755                25        100  \n",
       "3626                15         49  \n",
       "733                 19         36  \n",
       "2125                19         57  \n",
       "3444                26         39  \n",
       "4410                20         50  \n",
       "4324                21         38  \n",
       "2550                21         38  "
      ]
     },
     "execution_count": 42,
     "metadata": {},
     "output_type": "execute_result"
    }
   ],
   "source": [
    "\n",
    "high_valued = player_data[['Player','Year','Team','Fantasy Points', 'Fantasy Points Per Game','TOI_SIndR',\"iCF\",\"iFF\",\"TOI\",\"GP\", \"TOI_PPIndC\", \"PPTOI\", \"iSCF\", \"Rebounds_Created\", \"Takeaways\"]]\n",
    "high_valued.sort_values(by='Fantasy Points', ascending = False)[0:10]"
   ]
  },
  {
   "cell_type": "code",
   "execution_count": 43,
   "metadata": {
    "scrolled": true
   },
   "outputs": [
    {
     "data": {
      "text/html": [
       "<div>\n",
       "<style scoped>\n",
       "    .dataframe tbody tr th:only-of-type {\n",
       "        vertical-align: middle;\n",
       "    }\n",
       "\n",
       "    .dataframe tbody tr th {\n",
       "        vertical-align: top;\n",
       "    }\n",
       "\n",
       "    .dataframe thead th {\n",
       "        text-align: right;\n",
       "    }\n",
       "</style>\n",
       "<table border=\"1\" class=\"dataframe\">\n",
       "  <thead>\n",
       "    <tr style=\"text-align: right;\">\n",
       "      <th></th>\n",
       "      <th>Player</th>\n",
       "      <th>Year</th>\n",
       "      <th>Team</th>\n",
       "      <th>Fantasy Points</th>\n",
       "      <th>Fantasy Points Per Game</th>\n",
       "      <th>TOI_SIndR</th>\n",
       "      <th>iCF</th>\n",
       "      <th>iFF</th>\n",
       "      <th>TOI</th>\n",
       "      <th>GP</th>\n",
       "      <th>TOI_PPIndC</th>\n",
       "      <th>PPTOI</th>\n",
       "      <th>iSCF</th>\n",
       "      <th>Rebounds_Created</th>\n",
       "      <th>Takeaways</th>\n",
       "    </tr>\n",
       "  </thead>\n",
       "  <tbody>\n",
       "    <tr>\n",
       "      <th>778</th>\n",
       "      <td>Sidney Crosby</td>\n",
       "      <td>2014</td>\n",
       "      <td>PIT</td>\n",
       "      <td>357.35</td>\n",
       "      <td>4.47</td>\n",
       "      <td>1757.78</td>\n",
       "      <td>305</td>\n",
       "      <td>250</td>\n",
       "      <td>1373.37</td>\n",
       "      <td>80</td>\n",
       "      <td>343.03</td>\n",
       "      <td>343.03</td>\n",
       "      <td>195</td>\n",
       "      <td>20</td>\n",
       "      <td>38</td>\n",
       "    </tr>\n",
       "    <tr>\n",
       "      <th>3444</th>\n",
       "      <td>Sidney Crosby</td>\n",
       "      <td>2017</td>\n",
       "      <td>PIT</td>\n",
       "      <td>332.85</td>\n",
       "      <td>4.44</td>\n",
       "      <td>1490.83</td>\n",
       "      <td>307</td>\n",
       "      <td>239</td>\n",
       "      <td>1210.08</td>\n",
       "      <td>75</td>\n",
       "      <td>271.07</td>\n",
       "      <td>271.07</td>\n",
       "      <td>200</td>\n",
       "      <td>26</td>\n",
       "      <td>39</td>\n",
       "    </tr>\n",
       "    <tr>\n",
       "      <th>733</th>\n",
       "      <td>Ryan Getzlaf</td>\n",
       "      <td>2014</td>\n",
       "      <td>ANA</td>\n",
       "      <td>338.00</td>\n",
       "      <td>4.39</td>\n",
       "      <td>1638.97</td>\n",
       "      <td>248</td>\n",
       "      <td>197</td>\n",
       "      <td>1188.18</td>\n",
       "      <td>77</td>\n",
       "      <td>282.03</td>\n",
       "      <td>282.03</td>\n",
       "      <td>140</td>\n",
       "      <td>19</td>\n",
       "      <td>36</td>\n",
       "    </tr>\n",
       "    <tr>\n",
       "      <th>905</th>\n",
       "      <td>Alex Ovechkin</td>\n",
       "      <td>2015</td>\n",
       "      <td>WSH</td>\n",
       "      <td>349.90</td>\n",
       "      <td>4.32</td>\n",
       "      <td>1646.40</td>\n",
       "      <td>558</td>\n",
       "      <td>390</td>\n",
       "      <td>1334.75</td>\n",
       "      <td>81</td>\n",
       "      <td>309.27</td>\n",
       "      <td>309.27</td>\n",
       "      <td>269</td>\n",
       "      <td>24</td>\n",
       "      <td>42</td>\n",
       "    </tr>\n",
       "    <tr>\n",
       "      <th>4172</th>\n",
       "      <td>Nathan MacKinnon</td>\n",
       "      <td>2018</td>\n",
       "      <td>COL</td>\n",
       "      <td>317.35</td>\n",
       "      <td>4.29</td>\n",
       "      <td>1472.98</td>\n",
       "      <td>382</td>\n",
       "      <td>301</td>\n",
       "      <td>1182.30</td>\n",
       "      <td>74</td>\n",
       "      <td>266.35</td>\n",
       "      <td>266.35</td>\n",
       "      <td>234</td>\n",
       "      <td>22</td>\n",
       "      <td>35</td>\n",
       "    </tr>\n",
       "    <tr>\n",
       "      <th>794</th>\n",
       "      <td>Steven Stamkos</td>\n",
       "      <td>2014</td>\n",
       "      <td>T.B</td>\n",
       "      <td>158.40</td>\n",
       "      <td>4.28</td>\n",
       "      <td>749.22</td>\n",
       "      <td>146</td>\n",
       "      <td>115</td>\n",
       "      <td>586.18</td>\n",
       "      <td>37</td>\n",
       "      <td>142.05</td>\n",
       "      <td>142.05</td>\n",
       "      <td>91</td>\n",
       "      <td>4</td>\n",
       "      <td>22</td>\n",
       "    </tr>\n",
       "    <tr>\n",
       "      <th>3847</th>\n",
       "      <td>Evgeni Malkin</td>\n",
       "      <td>2018</td>\n",
       "      <td>PIT</td>\n",
       "      <td>325.80</td>\n",
       "      <td>4.18</td>\n",
       "      <td>1481.22</td>\n",
       "      <td>252</td>\n",
       "      <td>210</td>\n",
       "      <td>1189.45</td>\n",
       "      <td>78</td>\n",
       "      <td>286.28</td>\n",
       "      <td>286.28</td>\n",
       "      <td>177</td>\n",
       "      <td>22</td>\n",
       "      <td>71</td>\n",
       "    </tr>\n",
       "    <tr>\n",
       "      <th>22</th>\n",
       "      <td>Alex Ovechkin</td>\n",
       "      <td>2014</td>\n",
       "      <td>WSH</td>\n",
       "      <td>325.60</td>\n",
       "      <td>4.17</td>\n",
       "      <td>1602.53</td>\n",
       "      <td>505</td>\n",
       "      <td>367</td>\n",
       "      <td>1204.22</td>\n",
       "      <td>78</td>\n",
       "      <td>392.77</td>\n",
       "      <td>392.77</td>\n",
       "      <td>217</td>\n",
       "      <td>19</td>\n",
       "      <td>28</td>\n",
       "    </tr>\n",
       "    <tr>\n",
       "      <th>3626</th>\n",
       "      <td>Anze Kopitar</td>\n",
       "      <td>2018</td>\n",
       "      <td>L.A</td>\n",
       "      <td>341.60</td>\n",
       "      <td>4.17</td>\n",
       "      <td>1810.97</td>\n",
       "      <td>261</td>\n",
       "      <td>199</td>\n",
       "      <td>1395.50</td>\n",
       "      <td>82</td>\n",
       "      <td>236.70</td>\n",
       "      <td>236.70</td>\n",
       "      <td>159</td>\n",
       "      <td>15</td>\n",
       "      <td>49</td>\n",
       "    </tr>\n",
       "    <tr>\n",
       "      <th>3755</th>\n",
       "      <td>Connor McDavid</td>\n",
       "      <td>2018</td>\n",
       "      <td>EDM</td>\n",
       "      <td>342.30</td>\n",
       "      <td>4.17</td>\n",
       "      <td>1766.80</td>\n",
       "      <td>358</td>\n",
       "      <td>301</td>\n",
       "      <td>1433.65</td>\n",
       "      <td>82</td>\n",
       "      <td>243.02</td>\n",
       "      <td>243.02</td>\n",
       "      <td>275</td>\n",
       "      <td>25</td>\n",
       "      <td>100</td>\n",
       "    </tr>\n",
       "  </tbody>\n",
       "</table>\n",
       "</div>"
      ],
      "text/plain": [
       "                Player  Year Team  Fantasy Points  Fantasy Points Per Game  \\\n",
       "778      Sidney Crosby  2014  PIT          357.35                     4.47   \n",
       "3444     Sidney Crosby  2017  PIT          332.85                     4.44   \n",
       "733       Ryan Getzlaf  2014  ANA          338.00                     4.39   \n",
       "905      Alex Ovechkin  2015  WSH          349.90                     4.32   \n",
       "4172  Nathan MacKinnon  2018  COL          317.35                     4.29   \n",
       "794     Steven Stamkos  2014  T.B          158.40                     4.28   \n",
       "3847     Evgeni Malkin  2018  PIT          325.80                     4.18   \n",
       "22       Alex Ovechkin  2014  WSH          325.60                     4.17   \n",
       "3626      Anze Kopitar  2018  L.A          341.60                     4.17   \n",
       "3755    Connor McDavid  2018  EDM          342.30                     4.17   \n",
       "\n",
       "      TOI_SIndR  iCF  iFF      TOI  GP  TOI_PPIndC   PPTOI  iSCF  \\\n",
       "778     1757.78  305  250  1373.37  80      343.03  343.03   195   \n",
       "3444    1490.83  307  239  1210.08  75      271.07  271.07   200   \n",
       "733     1638.97  248  197  1188.18  77      282.03  282.03   140   \n",
       "905     1646.40  558  390  1334.75  81      309.27  309.27   269   \n",
       "4172    1472.98  382  301  1182.30  74      266.35  266.35   234   \n",
       "794      749.22  146  115   586.18  37      142.05  142.05    91   \n",
       "3847    1481.22  252  210  1189.45  78      286.28  286.28   177   \n",
       "22      1602.53  505  367  1204.22  78      392.77  392.77   217   \n",
       "3626    1810.97  261  199  1395.50  82      236.70  236.70   159   \n",
       "3755    1766.80  358  301  1433.65  82      243.02  243.02   275   \n",
       "\n",
       "      Rebounds_Created  Takeaways  \n",
       "778                 20         38  \n",
       "3444                26         39  \n",
       "733                 19         36  \n",
       "905                 24         42  \n",
       "4172                22         35  \n",
       "794                  4         22  \n",
       "3847                22         71  \n",
       "22                  19         28  \n",
       "3626                15         49  \n",
       "3755                25        100  "
      ]
     },
     "execution_count": 43,
     "metadata": {},
     "output_type": "execute_result"
    }
   ],
   "source": [
    "\n",
    "high_valued[high_valued['GP']>20].sort_values(by='Fantasy Points Per Game', ascending = False)[0:10]"
   ]
  },
  {
   "cell_type": "markdown",
   "metadata": {},
   "source": [
    "Let's again look at some t-tests for how the highest metrics line up wiht the highly valued players."
   ]
  },
  {
   "cell_type": "code",
   "execution_count": 44,
   "metadata": {},
   "outputs": [
    {
     "data": {
      "text/plain": [
       "Ttest_indResult(statistic=-83.38713763326211, pvalue=0.0)"
      ]
     },
     "execution_count": 44,
     "metadata": {},
     "output_type": "execute_result"
    }
   ],
   "source": [
    "stats.ttest_ind(high_valued['Fantasy Points'],high_valued['TOI_SIndR'])"
   ]
  },
  {
   "cell_type": "code",
   "execution_count": 45,
   "metadata": {},
   "outputs": [
    {
     "name": "stdout",
     "output_type": "stream",
     "text": [
      "Fantasy Points Per Game   :     Ttest_indResult(statistic=83.84715301341431, pvalue=0.0)\n",
      "TOI_SIndR   :     Ttest_indResult(statistic=-83.38713763326211, pvalue=0.0)\n",
      "iCF   :     Ttest_indResult(statistic=-16.407521106640285, pvalue=1.2655513711812856e-59)\n",
      "iFF   :     Ttest_indResult(statistic=1.4719473746068694, pvalue=0.1410705031398806)\n",
      "TOI   :     Ttest_indResult(statistic=-84.10092190030643, pvalue=0.0)\n",
      "GP   :     Ttest_indResult(statistic=39.55693024909682, pvalue=0.0)\n",
      "TOI_PPIndC   :     Ttest_indResult(statistic=15.522496311169691, pvalue=1.2319996029054058e-53)\n",
      "PPTOI   :     Ttest_indResult(statistic=15.522496311169691, pvalue=1.2319996029054058e-53)\n",
      "iSCF   :     Ttest_indResult(statistic=28.25137678974906, pvalue=3.1754817960054516e-168)\n",
      "Rebounds_Created   :     Ttest_indResult(statistic=78.96938007509733, pvalue=0.0)\n",
      "Takeaways   :     Ttest_indResult(statistic=70.13308825204936, pvalue=0.0)\n"
     ]
    }
   ],
   "source": [
    "for i in high_valued.iloc[:, 4:]:\n",
    "    print(i+\"   :    \", stats.ttest_ind(high_valued['Fantasy Points'],high_valued[i]))"
   ]
  },
  {
   "cell_type": "code",
   "execution_count": 46,
   "metadata": {},
   "outputs": [
    {
     "name": "stdout",
     "output_type": "stream",
     "text": [
      "The results of the independent t-test are: \n",
      "\tt-value = -83.387\n",
      "\tp-value = 0.000\n",
      "\n",
      "The difference between groups is -729.0 [-746.1 to -711.9] (mean [95% CI])\n"
     ]
    }
   ],
   "source": [
    "from math import sqrt\n",
    "from scipy.stats import t\n",
    "# Run independent t-test\n",
    "ind_t_test = stats.ttest_ind(high_valued['Fantasy Points'],high_valued['TOI_SIndR'])\n",
    "\n",
    "# Calculate the mean difference and 95% confidence interval\n",
    "N1 = 4444\n",
    "N2 = 4444\n",
    "df = (N1 + N2)\n",
    "std1 = high_valued['Fantasy Points'].std()\n",
    "std2 = high_valued['TOI_SIndR'].std()\n",
    "std_N1N2 = sqrt( ((N1 - 1)*(std1)**2 + (N2 - 1)*(std2)**2) / df) \n",
    "\n",
    "diff_mean = high_valued['Fantasy Points'].mean() - high_valued['TOI_SIndR'].mean()\n",
    "MoE = t.ppf(0.975, df) * std_N1N2 * sqrt(1/N1 + 1/N2)\n",
    "\n",
    "print('The results of the independent t-test are: \\n\\tt-value = {:4.3f}\\n\\tp-value = {:4.3f}'.format(ind_t_test[0],ind_t_test[1]))\n",
    "print ('\\nThe difference between groups is {:3.1f} [{:3.1f} to {:3.1f}] (mean [95% CI])'.format(diff_mean, diff_mean - MoE, diff_mean + MoE))"
   ]
  },
  {
   "cell_type": "markdown",
   "metadata": {},
   "source": [
    "Turns out that's a jumbled mess. Let's try creating a new feature, and tuning for that. We're going to create a fantasy points per 60 measure, and then see how our results work if instead we look at fantasy points per game instead of whole season. Then we'll look at a second round of summary stats like mean value."
   ]
  },
  {
   "cell_type": "code",
   "execution_count": 47,
   "metadata": {},
   "outputs": [],
   "source": [
    "## first we need an actual count of minutes played\n",
    "player_data['Total Minutes Played'] = player_data['TOI'] + player_data['PPTOI'] + player_data['PKTOI']\n",
    "\n",
    "player_data['FantasyPoints_60'] = player_data['Fantasy Points']/(player_data['Total Minutes Played']/60)\n"
   ]
  },
  {
   "cell_type": "code",
   "execution_count": 48,
   "metadata": {},
   "outputs": [
    {
     "data": {
      "text/html": [
       "<div>\n",
       "<style scoped>\n",
       "    .dataframe tbody tr th:only-of-type {\n",
       "        vertical-align: middle;\n",
       "    }\n",
       "\n",
       "    .dataframe tbody tr th {\n",
       "        vertical-align: top;\n",
       "    }\n",
       "\n",
       "    .dataframe thead th {\n",
       "        text-align: right;\n",
       "    }\n",
       "</style>\n",
       "<table border=\"1\" class=\"dataframe\">\n",
       "  <thead>\n",
       "    <tr style=\"text-align: right;\">\n",
       "      <th></th>\n",
       "      <th>Player</th>\n",
       "      <th>Year</th>\n",
       "      <th>Fantasy Points</th>\n",
       "      <th>Fantasy Points Per Game</th>\n",
       "      <th>FantasyPoints_60</th>\n",
       "      <th>Total Minutes Played</th>\n",
       "    </tr>\n",
       "  </thead>\n",
       "  <tbody>\n",
       "    <tr>\n",
       "      <th>0</th>\n",
       "      <td>Aaron Ness</td>\n",
       "      <td>2014</td>\n",
       "      <td>25.80</td>\n",
       "      <td>1.29</td>\n",
       "      <td>5.231674</td>\n",
       "      <td>295.89</td>\n",
       "    </tr>\n",
       "    <tr>\n",
       "      <th>1</th>\n",
       "      <td>Aaron Palushaj</td>\n",
       "      <td>2014</td>\n",
       "      <td>0.95</td>\n",
       "      <td>0.48</td>\n",
       "      <td>3.056300</td>\n",
       "      <td>18.65</td>\n",
       "    </tr>\n",
       "    <tr>\n",
       "      <th>2</th>\n",
       "      <td>Aaron Rome</td>\n",
       "      <td>2014</td>\n",
       "      <td>27.50</td>\n",
       "      <td>1.10</td>\n",
       "      <td>5.042787</td>\n",
       "      <td>327.20</td>\n",
       "    </tr>\n",
       "    <tr>\n",
       "      <th>3</th>\n",
       "      <td>Aaron Volpatti</td>\n",
       "      <td>2014</td>\n",
       "      <td>32.25</td>\n",
       "      <td>0.79</td>\n",
       "      <td>6.410044</td>\n",
       "      <td>301.87</td>\n",
       "    </tr>\n",
       "    <tr>\n",
       "      <th>4</th>\n",
       "      <td>Adam Almquist</td>\n",
       "      <td>2014</td>\n",
       "      <td>3.45</td>\n",
       "      <td>1.72</td>\n",
       "      <td>6.010453</td>\n",
       "      <td>34.44</td>\n",
       "    </tr>\n",
       "    <tr>\n",
       "      <th>5</th>\n",
       "      <td>Adam Burish</td>\n",
       "      <td>2014</td>\n",
       "      <td>13.10</td>\n",
       "      <td>0.87</td>\n",
       "      <td>5.446985</td>\n",
       "      <td>144.30</td>\n",
       "    </tr>\n",
       "    <tr>\n",
       "      <th>6</th>\n",
       "      <td>Adam Cracknell</td>\n",
       "      <td>2014</td>\n",
       "      <td>18.35</td>\n",
       "      <td>0.97</td>\n",
       "      <td>7.082663</td>\n",
       "      <td>155.45</td>\n",
       "    </tr>\n",
       "    <tr>\n",
       "      <th>7</th>\n",
       "      <td>Adam Hall</td>\n",
       "      <td>2014</td>\n",
       "      <td>89.95</td>\n",
       "      <td>1.12</td>\n",
       "      <td>6.862920</td>\n",
       "      <td>786.40</td>\n",
       "    </tr>\n",
       "    <tr>\n",
       "      <th>8</th>\n",
       "      <td>Adam Henrique</td>\n",
       "      <td>2014</td>\n",
       "      <td>199.45</td>\n",
       "      <td>2.59</td>\n",
       "      <td>8.608238</td>\n",
       "      <td>1390.18</td>\n",
       "    </tr>\n",
       "    <tr>\n",
       "      <th>9</th>\n",
       "      <td>Adam Larsson</td>\n",
       "      <td>2014</td>\n",
       "      <td>37.75</td>\n",
       "      <td>1.45</td>\n",
       "      <td>4.898462</td>\n",
       "      <td>462.39</td>\n",
       "    </tr>\n",
       "    <tr>\n",
       "      <th>10</th>\n",
       "      <td>Adam McQuaid</td>\n",
       "      <td>2014</td>\n",
       "      <td>50.00</td>\n",
       "      <td>1.67</td>\n",
       "      <td>6.231436</td>\n",
       "      <td>481.43</td>\n",
       "    </tr>\n",
       "  </tbody>\n",
       "</table>\n",
       "</div>"
      ],
      "text/plain": [
       "            Player  Year  Fantasy Points  Fantasy Points Per Game  \\\n",
       "0       Aaron Ness  2014           25.80                     1.29   \n",
       "1   Aaron Palushaj  2014            0.95                     0.48   \n",
       "2       Aaron Rome  2014           27.50                     1.10   \n",
       "3   Aaron Volpatti  2014           32.25                     0.79   \n",
       "4    Adam Almquist  2014            3.45                     1.72   \n",
       "5      Adam Burish  2014           13.10                     0.87   \n",
       "6   Adam Cracknell  2014           18.35                     0.97   \n",
       "7        Adam Hall  2014           89.95                     1.12   \n",
       "8    Adam Henrique  2014          199.45                     2.59   \n",
       "9     Adam Larsson  2014           37.75                     1.45   \n",
       "10    Adam McQuaid  2014           50.00                     1.67   \n",
       "\n",
       "    FantasyPoints_60  Total Minutes Played  \n",
       "0           5.231674                295.89  \n",
       "1           3.056300                 18.65  \n",
       "2           5.042787                327.20  \n",
       "3           6.410044                301.87  \n",
       "4           6.010453                 34.44  \n",
       "5           5.446985                144.30  \n",
       "6           7.082663                155.45  \n",
       "7           6.862920                786.40  \n",
       "8           8.608238               1390.18  \n",
       "9           4.898462                462.39  \n",
       "10          6.231436                481.43  "
      ]
     },
     "execution_count": 48,
     "metadata": {},
     "output_type": "execute_result"
    }
   ],
   "source": [
    "player_data[['Player', 'Year', 'Fantasy Points','Fantasy Points Per Game','FantasyPoints_60', 'Total Minutes Played']][0:11]"
   ]
  },
  {
   "cell_type": "code",
   "execution_count": 49,
   "metadata": {},
   "outputs": [
    {
     "data": {
      "text/plain": [
       "Year                       2016.003150\n",
       "Fantasy Points               99.306604\n",
       "Fantasy Points Per Game       1.719617\n",
       "FantasyPoints_60              6.811713\n",
       "Total Minutes Played        828.187894\n",
       "dtype: float64"
      ]
     },
     "execution_count": 49,
     "metadata": {},
     "output_type": "execute_result"
    }
   ],
   "source": [
    "player_data[['Player', 'Year', 'Fantasy Points','Fantasy Points Per Game','FantasyPoints_60', 'Total Minutes Played']].mean()"
   ]
  },
  {
   "cell_type": "markdown",
   "metadata": {},
   "source": [
    "Looking at rates by points per game with more than 4 complete games played we see basically the same thing again, few surprises:"
   ]
  },
  {
   "cell_type": "code",
   "execution_count": 50,
   "metadata": {},
   "outputs": [
    {
     "data": {
      "text/html": [
       "<div>\n",
       "<style scoped>\n",
       "    .dataframe tbody tr th:only-of-type {\n",
       "        vertical-align: middle;\n",
       "    }\n",
       "\n",
       "    .dataframe tbody tr th {\n",
       "        vertical-align: top;\n",
       "    }\n",
       "\n",
       "    .dataframe thead th {\n",
       "        text-align: right;\n",
       "    }\n",
       "</style>\n",
       "<table border=\"1\" class=\"dataframe\">\n",
       "  <thead>\n",
       "    <tr style=\"text-align: right;\">\n",
       "      <th></th>\n",
       "      <th>Player</th>\n",
       "      <th>Year</th>\n",
       "      <th>Fantasy Points</th>\n",
       "      <th>Fantasy Points Per Game</th>\n",
       "      <th>FantasyPoints_60</th>\n",
       "      <th>Total Minutes Played</th>\n",
       "    </tr>\n",
       "  </thead>\n",
       "  <tbody>\n",
       "    <tr>\n",
       "      <th>3456</th>\n",
       "      <td>Steven Stamkos</td>\n",
       "      <td>2017</td>\n",
       "      <td>69.35</td>\n",
       "      <td>4.08</td>\n",
       "      <td>13.692004</td>\n",
       "      <td>303.90</td>\n",
       "    </tr>\n",
       "    <tr>\n",
       "      <th>3444</th>\n",
       "      <td>Sidney Crosby</td>\n",
       "      <td>2017</td>\n",
       "      <td>332.85</td>\n",
       "      <td>4.44</td>\n",
       "      <td>13.395894</td>\n",
       "      <td>1490.83</td>\n",
       "    </tr>\n",
       "    <tr>\n",
       "      <th>1077</th>\n",
       "      <td>Colin McDonald</td>\n",
       "      <td>2015</td>\n",
       "      <td>42.00</td>\n",
       "      <td>2.33</td>\n",
       "      <td>13.324169</td>\n",
       "      <td>189.13</td>\n",
       "    </tr>\n",
       "    <tr>\n",
       "      <th>3847</th>\n",
       "      <td>Evgeni Malkin</td>\n",
       "      <td>2018</td>\n",
       "      <td>325.80</td>\n",
       "      <td>4.18</td>\n",
       "      <td>13.197318</td>\n",
       "      <td>1481.21</td>\n",
       "    </tr>\n",
       "    <tr>\n",
       "      <th>4172</th>\n",
       "      <td>Nathan MacKinnon</td>\n",
       "      <td>2018</td>\n",
       "      <td>317.35</td>\n",
       "      <td>4.29</td>\n",
       "      <td>12.935726</td>\n",
       "      <td>1471.97</td>\n",
       "    </tr>\n",
       "    <tr>\n",
       "      <th>2956</th>\n",
       "      <td>Evgeni Malkin</td>\n",
       "      <td>2017</td>\n",
       "      <td>245.45</td>\n",
       "      <td>3.96</td>\n",
       "      <td>12.757387</td>\n",
       "      <td>1154.39</td>\n",
       "    </tr>\n",
       "    <tr>\n",
       "      <th>905</th>\n",
       "      <td>Alex Ovechkin</td>\n",
       "      <td>2015</td>\n",
       "      <td>349.90</td>\n",
       "      <td>4.32</td>\n",
       "      <td>12.751922</td>\n",
       "      <td>1646.34</td>\n",
       "    </tr>\n",
       "    <tr>\n",
       "      <th>4347</th>\n",
       "      <td>Taylor Hall</td>\n",
       "      <td>2018</td>\n",
       "      <td>307.80</td>\n",
       "      <td>4.05</td>\n",
       "      <td>12.694878</td>\n",
       "      <td>1454.76</td>\n",
       "    </tr>\n",
       "    <tr>\n",
       "      <th>794</th>\n",
       "      <td>Steven Stamkos</td>\n",
       "      <td>2014</td>\n",
       "      <td>158.40</td>\n",
       "      <td>4.28</td>\n",
       "      <td>12.685362</td>\n",
       "      <td>749.21</td>\n",
       "    </tr>\n",
       "    <tr>\n",
       "      <th>4226</th>\n",
       "      <td>Patrice Bergeron</td>\n",
       "      <td>2018</td>\n",
       "      <td>262.55</td>\n",
       "      <td>4.10</td>\n",
       "      <td>12.663285</td>\n",
       "      <td>1243.99</td>\n",
       "    </tr>\n",
       "    <tr>\n",
       "      <th>3633</th>\n",
       "      <td>Auston Matthews</td>\n",
       "      <td>2018</td>\n",
       "      <td>233.35</td>\n",
       "      <td>3.76</td>\n",
       "      <td>12.456960</td>\n",
       "      <td>1123.95</td>\n",
       "    </tr>\n",
       "    <tr>\n",
       "      <th>733</th>\n",
       "      <td>Ryan Getzlaf</td>\n",
       "      <td>2014</td>\n",
       "      <td>338.00</td>\n",
       "      <td>4.39</td>\n",
       "      <td>12.381482</td>\n",
       "      <td>1637.93</td>\n",
       "    </tr>\n",
       "    <tr>\n",
       "      <th>2125</th>\n",
       "      <td>Jamie Benn</td>\n",
       "      <td>2016</td>\n",
       "      <td>338.00</td>\n",
       "      <td>4.12</td>\n",
       "      <td>12.352296</td>\n",
       "      <td>1641.80</td>\n",
       "    </tr>\n",
       "    <tr>\n",
       "      <th>22</th>\n",
       "      <td>Alex Ovechkin</td>\n",
       "      <td>2014</td>\n",
       "      <td>325.60</td>\n",
       "      <td>4.17</td>\n",
       "      <td>12.201840</td>\n",
       "      <td>1601.07</td>\n",
       "    </tr>\n",
       "    <tr>\n",
       "      <th>778</th>\n",
       "      <td>Sidney Crosby</td>\n",
       "      <td>2014</td>\n",
       "      <td>357.35</td>\n",
       "      <td>4.47</td>\n",
       "      <td>12.197772</td>\n",
       "      <td>1757.78</td>\n",
       "    </tr>\n",
       "  </tbody>\n",
       "</table>\n",
       "</div>"
      ],
      "text/plain": [
       "                Player  Year  Fantasy Points  Fantasy Points Per Game  \\\n",
       "3456    Steven Stamkos  2017           69.35                     4.08   \n",
       "3444     Sidney Crosby  2017          332.85                     4.44   \n",
       "1077    Colin McDonald  2015           42.00                     2.33   \n",
       "3847     Evgeni Malkin  2018          325.80                     4.18   \n",
       "4172  Nathan MacKinnon  2018          317.35                     4.29   \n",
       "2956     Evgeni Malkin  2017          245.45                     3.96   \n",
       "905      Alex Ovechkin  2015          349.90                     4.32   \n",
       "4347       Taylor Hall  2018          307.80                     4.05   \n",
       "794     Steven Stamkos  2014          158.40                     4.28   \n",
       "4226  Patrice Bergeron  2018          262.55                     4.10   \n",
       "3633   Auston Matthews  2018          233.35                     3.76   \n",
       "733       Ryan Getzlaf  2014          338.00                     4.39   \n",
       "2125        Jamie Benn  2016          338.00                     4.12   \n",
       "22       Alex Ovechkin  2014          325.60                     4.17   \n",
       "778      Sidney Crosby  2014          357.35                     4.47   \n",
       "\n",
       "      FantasyPoints_60  Total Minutes Played  \n",
       "3456         13.692004                303.90  \n",
       "3444         13.395894               1490.83  \n",
       "1077         13.324169                189.13  \n",
       "3847         13.197318               1481.21  \n",
       "4172         12.935726               1471.97  \n",
       "2956         12.757387               1154.39  \n",
       "905          12.751922               1646.34  \n",
       "4347         12.694878               1454.76  \n",
       "794          12.685362                749.21  \n",
       "4226         12.663285               1243.99  \n",
       "3633         12.456960               1123.95  \n",
       "733          12.381482               1637.93  \n",
       "2125         12.352296               1641.80  \n",
       "22           12.201840               1601.07  \n",
       "778          12.197772               1757.78  "
      ]
     },
     "execution_count": 50,
     "metadata": {},
     "output_type": "execute_result"
    }
   ],
   "source": [
    "Avg_min = player_data[player_data['Total Minutes Played']>120]\n",
    "Avg_min[['Player', 'Year', 'Fantasy Points','Fantasy Points Per Game','FantasyPoints_60', 'Total Minutes Played']].sort_values(by = ['FantasyPoints_60','Fantasy Points','FantasyPoints_60'],ascending = False)[0:15]"
   ]
  },
  {
   "cell_type": "markdown",
   "metadata": {},
   "source": [
    "On a global scale, lots of players who just played one game or two show up very high due to limited sample.  That said limiting to the players who have played 5 games worth of minutes we see exactly the kind of grouping we'd expect here, and about the same for those who played the average toi per game * 5. That said the drop in performance is a lot less: the bottom players still are averaging some impact.\n",
    "\n",
    "This first chart is players who have over 350 minutes. I arrived at 350 minutes since that's more than 20 games given the average time played per game in the sample."
   ]
  },
  {
   "cell_type": "code",
   "execution_count": 51,
   "metadata": {},
   "outputs": [
    {
     "data": {
      "text/html": [
       "<div>\n",
       "<style scoped>\n",
       "    .dataframe tbody tr th:only-of-type {\n",
       "        vertical-align: middle;\n",
       "    }\n",
       "\n",
       "    .dataframe tbody tr th {\n",
       "        vertical-align: top;\n",
       "    }\n",
       "\n",
       "    .dataframe thead th {\n",
       "        text-align: right;\n",
       "    }\n",
       "</style>\n",
       "<table border=\"1\" class=\"dataframe\">\n",
       "  <thead>\n",
       "    <tr style=\"text-align: right;\">\n",
       "      <th></th>\n",
       "      <th>Unnamed: 0</th>\n",
       "      <th>Fantasy Points</th>\n",
       "      <th>Player</th>\n",
       "      <th>Year</th>\n",
       "      <th>Team</th>\n",
       "      <th>Position</th>\n",
       "      <th>GP</th>\n",
       "      <th>TOI</th>\n",
       "      <th>Goals</th>\n",
       "      <th>Total_Assists</th>\n",
       "      <th>...</th>\n",
       "      <th>Overall_Draft_Position</th>\n",
       "      <th>Fantasy Points Per Game</th>\n",
       "      <th>drafted</th>\n",
       "      <th>Total Minutes Played</th>\n",
       "      <th>FantasyPoints_60</th>\n",
       "      <th>Cleaned_Position</th>\n",
       "      <th>C</th>\n",
       "      <th>D</th>\n",
       "      <th>L</th>\n",
       "      <th>R</th>\n",
       "    </tr>\n",
       "  </thead>\n",
       "  <tbody>\n",
       "    <tr>\n",
       "      <th>3444</th>\n",
       "      <td>3444</td>\n",
       "      <td>332.85</td>\n",
       "      <td>Sidney Crosby</td>\n",
       "      <td>2017</td>\n",
       "      <td>PIT</td>\n",
       "      <td>C</td>\n",
       "      <td>75</td>\n",
       "      <td>1210.08</td>\n",
       "      <td>30</td>\n",
       "      <td>34</td>\n",
       "      <td>...</td>\n",
       "      <td>1.0</td>\n",
       "      <td>4.44</td>\n",
       "      <td>1</td>\n",
       "      <td>1490.83</td>\n",
       "      <td>13.395894</td>\n",
       "      <td>C</td>\n",
       "      <td>1</td>\n",
       "      <td>0</td>\n",
       "      <td>0</td>\n",
       "      <td>0</td>\n",
       "    </tr>\n",
       "    <tr>\n",
       "      <th>3847</th>\n",
       "      <td>3847</td>\n",
       "      <td>325.80</td>\n",
       "      <td>Evgeni Malkin</td>\n",
       "      <td>2018</td>\n",
       "      <td>PIT</td>\n",
       "      <td>C</td>\n",
       "      <td>78</td>\n",
       "      <td>1189.45</td>\n",
       "      <td>28</td>\n",
       "      <td>32</td>\n",
       "      <td>...</td>\n",
       "      <td>2.0</td>\n",
       "      <td>4.18</td>\n",
       "      <td>1</td>\n",
       "      <td>1481.21</td>\n",
       "      <td>13.197318</td>\n",
       "      <td>C</td>\n",
       "      <td>1</td>\n",
       "      <td>0</td>\n",
       "      <td>0</td>\n",
       "      <td>0</td>\n",
       "    </tr>\n",
       "    <tr>\n",
       "      <th>4172</th>\n",
       "      <td>4172</td>\n",
       "      <td>317.35</td>\n",
       "      <td>Nathan MacKinnon</td>\n",
       "      <td>2018</td>\n",
       "      <td>COL</td>\n",
       "      <td>C</td>\n",
       "      <td>74</td>\n",
       "      <td>1182.30</td>\n",
       "      <td>27</td>\n",
       "      <td>37</td>\n",
       "      <td>...</td>\n",
       "      <td>1.0</td>\n",
       "      <td>4.29</td>\n",
       "      <td>1</td>\n",
       "      <td>1471.97</td>\n",
       "      <td>12.935726</td>\n",
       "      <td>C</td>\n",
       "      <td>1</td>\n",
       "      <td>0</td>\n",
       "      <td>0</td>\n",
       "      <td>0</td>\n",
       "    </tr>\n",
       "    <tr>\n",
       "      <th>2956</th>\n",
       "      <td>2956</td>\n",
       "      <td>245.45</td>\n",
       "      <td>Evgeni Malkin</td>\n",
       "      <td>2017</td>\n",
       "      <td>PIT</td>\n",
       "      <td>C</td>\n",
       "      <td>62</td>\n",
       "      <td>923.42</td>\n",
       "      <td>22</td>\n",
       "      <td>27</td>\n",
       "      <td>...</td>\n",
       "      <td>2.0</td>\n",
       "      <td>3.96</td>\n",
       "      <td>1</td>\n",
       "      <td>1154.39</td>\n",
       "      <td>12.757387</td>\n",
       "      <td>C</td>\n",
       "      <td>1</td>\n",
       "      <td>0</td>\n",
       "      <td>0</td>\n",
       "      <td>0</td>\n",
       "    </tr>\n",
       "    <tr>\n",
       "      <th>905</th>\n",
       "      <td>905</td>\n",
       "      <td>349.90</td>\n",
       "      <td>Alex Ovechkin</td>\n",
       "      <td>2015</td>\n",
       "      <td>WSH</td>\n",
       "      <td>L</td>\n",
       "      <td>81</td>\n",
       "      <td>1334.75</td>\n",
       "      <td>28</td>\n",
       "      <td>19</td>\n",
       "      <td>...</td>\n",
       "      <td>1.0</td>\n",
       "      <td>4.32</td>\n",
       "      <td>1</td>\n",
       "      <td>1646.34</td>\n",
       "      <td>12.751922</td>\n",
       "      <td>L</td>\n",
       "      <td>0</td>\n",
       "      <td>0</td>\n",
       "      <td>1</td>\n",
       "      <td>0</td>\n",
       "    </tr>\n",
       "    <tr>\n",
       "      <th>4347</th>\n",
       "      <td>4347</td>\n",
       "      <td>307.80</td>\n",
       "      <td>Taylor Hall</td>\n",
       "      <td>2018</td>\n",
       "      <td>N.J</td>\n",
       "      <td>L</td>\n",
       "      <td>76</td>\n",
       "      <td>1225.68</td>\n",
       "      <td>24</td>\n",
       "      <td>30</td>\n",
       "      <td>...</td>\n",
       "      <td>1.0</td>\n",
       "      <td>4.05</td>\n",
       "      <td>1</td>\n",
       "      <td>1454.76</td>\n",
       "      <td>12.694878</td>\n",
       "      <td>L</td>\n",
       "      <td>0</td>\n",
       "      <td>0</td>\n",
       "      <td>1</td>\n",
       "      <td>0</td>\n",
       "    </tr>\n",
       "    <tr>\n",
       "      <th>794</th>\n",
       "      <td>794</td>\n",
       "      <td>158.40</td>\n",
       "      <td>Steven Stamkos</td>\n",
       "      <td>2014</td>\n",
       "      <td>T.B</td>\n",
       "      <td>C</td>\n",
       "      <td>37</td>\n",
       "      <td>586.18</td>\n",
       "      <td>15</td>\n",
       "      <td>11</td>\n",
       "      <td>...</td>\n",
       "      <td>1.0</td>\n",
       "      <td>4.28</td>\n",
       "      <td>1</td>\n",
       "      <td>749.21</td>\n",
       "      <td>12.685362</td>\n",
       "      <td>C</td>\n",
       "      <td>1</td>\n",
       "      <td>0</td>\n",
       "      <td>0</td>\n",
       "      <td>0</td>\n",
       "    </tr>\n",
       "    <tr>\n",
       "      <th>4226</th>\n",
       "      <td>4226</td>\n",
       "      <td>262.55</td>\n",
       "      <td>Patrice Bergeron</td>\n",
       "      <td>2018</td>\n",
       "      <td>BOS</td>\n",
       "      <td>C</td>\n",
       "      <td>64</td>\n",
       "      <td>935.98</td>\n",
       "      <td>18</td>\n",
       "      <td>21</td>\n",
       "      <td>...</td>\n",
       "      <td>45.0</td>\n",
       "      <td>4.10</td>\n",
       "      <td>1</td>\n",
       "      <td>1243.99</td>\n",
       "      <td>12.663285</td>\n",
       "      <td>C</td>\n",
       "      <td>1</td>\n",
       "      <td>0</td>\n",
       "      <td>0</td>\n",
       "      <td>0</td>\n",
       "    </tr>\n",
       "    <tr>\n",
       "      <th>3633</th>\n",
       "      <td>3633</td>\n",
       "      <td>233.35</td>\n",
       "      <td>Auston Matthews</td>\n",
       "      <td>2018</td>\n",
       "      <td>TOR</td>\n",
       "      <td>C</td>\n",
       "      <td>62</td>\n",
       "      <td>988.73</td>\n",
       "      <td>28</td>\n",
       "      <td>21</td>\n",
       "      <td>...</td>\n",
       "      <td>1.0</td>\n",
       "      <td>3.76</td>\n",
       "      <td>1</td>\n",
       "      <td>1123.95</td>\n",
       "      <td>12.456960</td>\n",
       "      <td>C</td>\n",
       "      <td>1</td>\n",
       "      <td>0</td>\n",
       "      <td>0</td>\n",
       "      <td>0</td>\n",
       "    </tr>\n",
       "    <tr>\n",
       "      <th>733</th>\n",
       "      <td>733</td>\n",
       "      <td>338.00</td>\n",
       "      <td>Ryan Getzlaf</td>\n",
       "      <td>2014</td>\n",
       "      <td>ANA</td>\n",
       "      <td>C</td>\n",
       "      <td>77</td>\n",
       "      <td>1188.18</td>\n",
       "      <td>26</td>\n",
       "      <td>38</td>\n",
       "      <td>...</td>\n",
       "      <td>19.0</td>\n",
       "      <td>4.39</td>\n",
       "      <td>1</td>\n",
       "      <td>1637.93</td>\n",
       "      <td>12.381482</td>\n",
       "      <td>C</td>\n",
       "      <td>1</td>\n",
       "      <td>0</td>\n",
       "      <td>0</td>\n",
       "      <td>0</td>\n",
       "    </tr>\n",
       "    <tr>\n",
       "      <th>2125</th>\n",
       "      <td>2125</td>\n",
       "      <td>338.00</td>\n",
       "      <td>Jamie Benn</td>\n",
       "      <td>2016</td>\n",
       "      <td>DAL</td>\n",
       "      <td>L</td>\n",
       "      <td>82</td>\n",
       "      <td>1251.85</td>\n",
       "      <td>22</td>\n",
       "      <td>32</td>\n",
       "      <td>...</td>\n",
       "      <td>129.0</td>\n",
       "      <td>4.12</td>\n",
       "      <td>1</td>\n",
       "      <td>1641.80</td>\n",
       "      <td>12.352296</td>\n",
       "      <td>L</td>\n",
       "      <td>0</td>\n",
       "      <td>0</td>\n",
       "      <td>1</td>\n",
       "      <td>0</td>\n",
       "    </tr>\n",
       "    <tr>\n",
       "      <th>22</th>\n",
       "      <td>22</td>\n",
       "      <td>325.60</td>\n",
       "      <td>Alex Ovechkin</td>\n",
       "      <td>2014</td>\n",
       "      <td>WSH</td>\n",
       "      <td>L</td>\n",
       "      <td>78</td>\n",
       "      <td>1204.22</td>\n",
       "      <td>27</td>\n",
       "      <td>12</td>\n",
       "      <td>...</td>\n",
       "      <td>1.0</td>\n",
       "      <td>4.17</td>\n",
       "      <td>1</td>\n",
       "      <td>1601.07</td>\n",
       "      <td>12.201840</td>\n",
       "      <td>L</td>\n",
       "      <td>0</td>\n",
       "      <td>0</td>\n",
       "      <td>1</td>\n",
       "      <td>0</td>\n",
       "    </tr>\n",
       "    <tr>\n",
       "      <th>778</th>\n",
       "      <td>778</td>\n",
       "      <td>357.35</td>\n",
       "      <td>Sidney Crosby</td>\n",
       "      <td>2014</td>\n",
       "      <td>PIT</td>\n",
       "      <td>C</td>\n",
       "      <td>80</td>\n",
       "      <td>1373.37</td>\n",
       "      <td>25</td>\n",
       "      <td>41</td>\n",
       "      <td>...</td>\n",
       "      <td>1.0</td>\n",
       "      <td>4.47</td>\n",
       "      <td>1</td>\n",
       "      <td>1757.78</td>\n",
       "      <td>12.197772</td>\n",
       "      <td>C</td>\n",
       "      <td>1</td>\n",
       "      <td>0</td>\n",
       "      <td>0</td>\n",
       "      <td>0</td>\n",
       "    </tr>\n",
       "    <tr>\n",
       "      <th>3333</th>\n",
       "      <td>3333</td>\n",
       "      <td>225.95</td>\n",
       "      <td>Patric Hornqvist</td>\n",
       "      <td>2017</td>\n",
       "      <td>PIT</td>\n",
       "      <td>R</td>\n",
       "      <td>70</td>\n",
       "      <td>903.43</td>\n",
       "      <td>11</td>\n",
       "      <td>16</td>\n",
       "      <td>...</td>\n",
       "      <td>230.0</td>\n",
       "      <td>3.23</td>\n",
       "      <td>1</td>\n",
       "      <td>1116.58</td>\n",
       "      <td>12.141539</td>\n",
       "      <td>R</td>\n",
       "      <td>0</td>\n",
       "      <td>0</td>\n",
       "      <td>0</td>\n",
       "      <td>1</td>\n",
       "    </tr>\n",
       "    <tr>\n",
       "      <th>229</th>\n",
       "      <td>229</td>\n",
       "      <td>291.40</td>\n",
       "      <td>David Backes</td>\n",
       "      <td>2014</td>\n",
       "      <td>STL</td>\n",
       "      <td>R</td>\n",
       "      <td>74</td>\n",
       "      <td>1107.35</td>\n",
       "      <td>17</td>\n",
       "      <td>24</td>\n",
       "      <td>...</td>\n",
       "      <td>62.0</td>\n",
       "      <td>3.94</td>\n",
       "      <td>1</td>\n",
       "      <td>1446.55</td>\n",
       "      <td>12.086689</td>\n",
       "      <td>R</td>\n",
       "      <td>0</td>\n",
       "      <td>0</td>\n",
       "      <td>0</td>\n",
       "      <td>1</td>\n",
       "    </tr>\n",
       "    <tr>\n",
       "      <th>2550</th>\n",
       "      <td>2550</td>\n",
       "      <td>328.60</td>\n",
       "      <td>Sidney Crosby</td>\n",
       "      <td>2016</td>\n",
       "      <td>PIT</td>\n",
       "      <td>C</td>\n",
       "      <td>80</td>\n",
       "      <td>1308.80</td>\n",
       "      <td>26</td>\n",
       "      <td>35</td>\n",
       "      <td>...</td>\n",
       "      <td>1.0</td>\n",
       "      <td>4.11</td>\n",
       "      <td>1</td>\n",
       "      <td>1637.55</td>\n",
       "      <td>12.039938</td>\n",
       "      <td>C</td>\n",
       "      <td>1</td>\n",
       "      <td>0</td>\n",
       "      <td>0</td>\n",
       "      <td>0</td>\n",
       "    </tr>\n",
       "    <tr>\n",
       "      <th>3836</th>\n",
       "      <td>3836</td>\n",
       "      <td>293.00</td>\n",
       "      <td>Eric Staal</td>\n",
       "      <td>2018</td>\n",
       "      <td>MIN</td>\n",
       "      <td>C</td>\n",
       "      <td>82</td>\n",
       "      <td>1192.83</td>\n",
       "      <td>29</td>\n",
       "      <td>27</td>\n",
       "      <td>...</td>\n",
       "      <td>2.0</td>\n",
       "      <td>3.57</td>\n",
       "      <td>1</td>\n",
       "      <td>1460.58</td>\n",
       "      <td>12.036314</td>\n",
       "      <td>C</td>\n",
       "      <td>1</td>\n",
       "      <td>0</td>\n",
       "      <td>0</td>\n",
       "      <td>0</td>\n",
       "    </tr>\n",
       "    <tr>\n",
       "      <th>1118</th>\n",
       "      <td>1118</td>\n",
       "      <td>297.90</td>\n",
       "      <td>David Backes</td>\n",
       "      <td>2015</td>\n",
       "      <td>STL</td>\n",
       "      <td>R</td>\n",
       "      <td>80</td>\n",
       "      <td>1154.00</td>\n",
       "      <td>16</td>\n",
       "      <td>26</td>\n",
       "      <td>...</td>\n",
       "      <td>62.0</td>\n",
       "      <td>3.72</td>\n",
       "      <td>1</td>\n",
       "      <td>1491.28</td>\n",
       "      <td>11.985677</td>\n",
       "      <td>R</td>\n",
       "      <td>0</td>\n",
       "      <td>0</td>\n",
       "      <td>0</td>\n",
       "      <td>1</td>\n",
       "    </tr>\n",
       "    <tr>\n",
       "      <th>348</th>\n",
       "      <td>348</td>\n",
       "      <td>308.45</td>\n",
       "      <td>Jamie Benn</td>\n",
       "      <td>2014</td>\n",
       "      <td>DAL</td>\n",
       "      <td>L</td>\n",
       "      <td>81</td>\n",
       "      <td>1193.30</td>\n",
       "      <td>28</td>\n",
       "      <td>29</td>\n",
       "      <td>...</td>\n",
       "      <td>129.0</td>\n",
       "      <td>3.81</td>\n",
       "      <td>1</td>\n",
       "      <td>1551.34</td>\n",
       "      <td>11.929687</td>\n",
       "      <td>L</td>\n",
       "      <td>0</td>\n",
       "      <td>0</td>\n",
       "      <td>1</td>\n",
       "      <td>0</td>\n",
       "    </tr>\n",
       "    <tr>\n",
       "      <th>2165</th>\n",
       "      <td>2165</td>\n",
       "      <td>322.45</td>\n",
       "      <td>Joe Pavelski</td>\n",
       "      <td>2016</td>\n",
       "      <td>S.J</td>\n",
       "      <td>C</td>\n",
       "      <td>82</td>\n",
       "      <td>1277.72</td>\n",
       "      <td>26</td>\n",
       "      <td>24</td>\n",
       "      <td>...</td>\n",
       "      <td>205.0</td>\n",
       "      <td>3.93</td>\n",
       "      <td>1</td>\n",
       "      <td>1624.90</td>\n",
       "      <td>11.906579</td>\n",
       "      <td>C</td>\n",
       "      <td>1</td>\n",
       "      <td>0</td>\n",
       "      <td>0</td>\n",
       "      <td>0</td>\n",
       "    </tr>\n",
       "  </tbody>\n",
       "</table>\n",
       "<p>20 rows × 247 columns</p>\n",
       "</div>"
      ],
      "text/plain": [
       "      Unnamed: 0  Fantasy Points            Player  Year Team Position  GP  \\\n",
       "3444        3444          332.85     Sidney Crosby  2017  PIT        C  75   \n",
       "3847        3847          325.80     Evgeni Malkin  2018  PIT        C  78   \n",
       "4172        4172          317.35  Nathan MacKinnon  2018  COL        C  74   \n",
       "2956        2956          245.45     Evgeni Malkin  2017  PIT        C  62   \n",
       "905          905          349.90     Alex Ovechkin  2015  WSH        L  81   \n",
       "4347        4347          307.80       Taylor Hall  2018  N.J        L  76   \n",
       "794          794          158.40    Steven Stamkos  2014  T.B        C  37   \n",
       "4226        4226          262.55  Patrice Bergeron  2018  BOS        C  64   \n",
       "3633        3633          233.35   Auston Matthews  2018  TOR        C  62   \n",
       "733          733          338.00      Ryan Getzlaf  2014  ANA        C  77   \n",
       "2125        2125          338.00        Jamie Benn  2016  DAL        L  82   \n",
       "22            22          325.60     Alex Ovechkin  2014  WSH        L  78   \n",
       "778          778          357.35     Sidney Crosby  2014  PIT        C  80   \n",
       "3333        3333          225.95  Patric Hornqvist  2017  PIT        R  70   \n",
       "229          229          291.40      David Backes  2014  STL        R  74   \n",
       "2550        2550          328.60     Sidney Crosby  2016  PIT        C  80   \n",
       "3836        3836          293.00        Eric Staal  2018  MIN        C  82   \n",
       "1118        1118          297.90      David Backes  2015  STL        R  80   \n",
       "348          348          308.45        Jamie Benn  2014  DAL        L  81   \n",
       "2165        2165          322.45      Joe Pavelski  2016  S.J        C  82   \n",
       "\n",
       "          TOI  Goals  Total_Assists ...  Overall_Draft_Position  \\\n",
       "3444  1210.08     30             34 ...                     1.0   \n",
       "3847  1189.45     28             32 ...                     2.0   \n",
       "4172  1182.30     27             37 ...                     1.0   \n",
       "2956   923.42     22             27 ...                     2.0   \n",
       "905   1334.75     28             19 ...                     1.0   \n",
       "4347  1225.68     24             30 ...                     1.0   \n",
       "794    586.18     15             11 ...                     1.0   \n",
       "4226   935.98     18             21 ...                    45.0   \n",
       "3633   988.73     28             21 ...                     1.0   \n",
       "733   1188.18     26             38 ...                    19.0   \n",
       "2125  1251.85     22             32 ...                   129.0   \n",
       "22    1204.22     27             12 ...                     1.0   \n",
       "778   1373.37     25             41 ...                     1.0   \n",
       "3333   903.43     11             16 ...                   230.0   \n",
       "229   1107.35     17             24 ...                    62.0   \n",
       "2550  1308.80     26             35 ...                     1.0   \n",
       "3836  1192.83     29             27 ...                     2.0   \n",
       "1118  1154.00     16             26 ...                    62.0   \n",
       "348   1193.30     28             29 ...                   129.0   \n",
       "2165  1277.72     26             24 ...                   205.0   \n",
       "\n",
       "      Fantasy Points Per Game  drafted  Total Minutes Played  \\\n",
       "3444                     4.44        1               1490.83   \n",
       "3847                     4.18        1               1481.21   \n",
       "4172                     4.29        1               1471.97   \n",
       "2956                     3.96        1               1154.39   \n",
       "905                      4.32        1               1646.34   \n",
       "4347                     4.05        1               1454.76   \n",
       "794                      4.28        1                749.21   \n",
       "4226                     4.10        1               1243.99   \n",
       "3633                     3.76        1               1123.95   \n",
       "733                      4.39        1               1637.93   \n",
       "2125                     4.12        1               1641.80   \n",
       "22                       4.17        1               1601.07   \n",
       "778                      4.47        1               1757.78   \n",
       "3333                     3.23        1               1116.58   \n",
       "229                      3.94        1               1446.55   \n",
       "2550                     4.11        1               1637.55   \n",
       "3836                     3.57        1               1460.58   \n",
       "1118                     3.72        1               1491.28   \n",
       "348                      3.81        1               1551.34   \n",
       "2165                     3.93        1               1624.90   \n",
       "\n",
       "      FantasyPoints_60  Cleaned_Position  C  D  L  R  \n",
       "3444         13.395894                 C  1  0  0  0  \n",
       "3847         13.197318                 C  1  0  0  0  \n",
       "4172         12.935726                 C  1  0  0  0  \n",
       "2956         12.757387                 C  1  0  0  0  \n",
       "905          12.751922                 L  0  0  1  0  \n",
       "4347         12.694878                 L  0  0  1  0  \n",
       "794          12.685362                 C  1  0  0  0  \n",
       "4226         12.663285                 C  1  0  0  0  \n",
       "3633         12.456960                 C  1  0  0  0  \n",
       "733          12.381482                 C  1  0  0  0  \n",
       "2125         12.352296                 L  0  0  1  0  \n",
       "22           12.201840                 L  0  0  1  0  \n",
       "778          12.197772                 C  1  0  0  0  \n",
       "3333         12.141539                 R  0  0  0  1  \n",
       "229          12.086689                 R  0  0  0  1  \n",
       "2550         12.039938                 C  1  0  0  0  \n",
       "3836         12.036314                 C  1  0  0  0  \n",
       "1118         11.985677                 R  0  0  0  1  \n",
       "348          11.929687                 L  0  0  1  0  \n",
       "2165         11.906579                 C  1  0  0  0  \n",
       "\n",
       "[20 rows x 247 columns]"
      ]
     },
     "execution_count": 51,
     "metadata": {},
     "output_type": "execute_result"
    }
   ],
   "source": [
    "player_data[player_data['Total Minutes Played']>350].sort_values(by = ['FantasyPoints_60','Fantasy Points','FantasyPoints_60'],ascending = False)[0:20]"
   ]
  },
  {
   "cell_type": "code",
   "execution_count": 52,
   "metadata": {},
   "outputs": [
    {
     "data": {
      "text/plain": [
       "15.021347884788423"
      ]
     },
     "execution_count": 52,
     "metadata": {},
     "output_type": "execute_result"
    }
   ],
   "source": [
    "player_data['TOI_GP'].mean()"
   ]
  },
  {
   "cell_type": "code",
   "execution_count": 53,
   "metadata": {},
   "outputs": [
    {
     "data": {
      "text/plain": [
       "75.10673942394212"
      ]
     },
     "execution_count": 53,
     "metadata": {},
     "output_type": "execute_result"
    }
   ],
   "source": [
    "player_data['TOI_GP'].mean() * 5"
   ]
  },
  {
   "cell_type": "markdown",
   "metadata": {},
   "source": [
    "The Following is just five games played:"
   ]
  },
  {
   "cell_type": "code",
   "execution_count": 54,
   "metadata": {},
   "outputs": [
    {
     "data": {
      "text/html": [
       "<div>\n",
       "<style scoped>\n",
       "    .dataframe tbody tr th:only-of-type {\n",
       "        vertical-align: middle;\n",
       "    }\n",
       "\n",
       "    .dataframe tbody tr th {\n",
       "        vertical-align: top;\n",
       "    }\n",
       "\n",
       "    .dataframe thead th {\n",
       "        text-align: right;\n",
       "    }\n",
       "</style>\n",
       "<table border=\"1\" class=\"dataframe\">\n",
       "  <thead>\n",
       "    <tr style=\"text-align: right;\">\n",
       "      <th></th>\n",
       "      <th>Unnamed: 0</th>\n",
       "      <th>Fantasy Points</th>\n",
       "      <th>Player</th>\n",
       "      <th>Year</th>\n",
       "      <th>Team</th>\n",
       "      <th>Position</th>\n",
       "      <th>GP</th>\n",
       "      <th>TOI</th>\n",
       "      <th>Goals</th>\n",
       "      <th>Total_Assists</th>\n",
       "      <th>...</th>\n",
       "      <th>Overall_Draft_Position</th>\n",
       "      <th>Fantasy Points Per Game</th>\n",
       "      <th>drafted</th>\n",
       "      <th>Total Minutes Played</th>\n",
       "      <th>FantasyPoints_60</th>\n",
       "      <th>Cleaned_Position</th>\n",
       "      <th>C</th>\n",
       "      <th>D</th>\n",
       "      <th>L</th>\n",
       "      <th>R</th>\n",
       "    </tr>\n",
       "  </thead>\n",
       "  <tbody>\n",
       "    <tr>\n",
       "      <th>3456</th>\n",
       "      <td>3456</td>\n",
       "      <td>69.35</td>\n",
       "      <td>Steven Stamkos</td>\n",
       "      <td>2017</td>\n",
       "      <td>T.B</td>\n",
       "      <td>C</td>\n",
       "      <td>17</td>\n",
       "      <td>235.32</td>\n",
       "      <td>6</td>\n",
       "      <td>7</td>\n",
       "      <td>...</td>\n",
       "      <td>1.0</td>\n",
       "      <td>4.08</td>\n",
       "      <td>1</td>\n",
       "      <td>303.90</td>\n",
       "      <td>13.692004</td>\n",
       "      <td>C</td>\n",
       "      <td>1</td>\n",
       "      <td>0</td>\n",
       "      <td>0</td>\n",
       "      <td>0</td>\n",
       "    </tr>\n",
       "    <tr>\n",
       "      <th>3444</th>\n",
       "      <td>3444</td>\n",
       "      <td>332.85</td>\n",
       "      <td>Sidney Crosby</td>\n",
       "      <td>2017</td>\n",
       "      <td>PIT</td>\n",
       "      <td>C</td>\n",
       "      <td>75</td>\n",
       "      <td>1210.08</td>\n",
       "      <td>30</td>\n",
       "      <td>34</td>\n",
       "      <td>...</td>\n",
       "      <td>1.0</td>\n",
       "      <td>4.44</td>\n",
       "      <td>1</td>\n",
       "      <td>1490.83</td>\n",
       "      <td>13.395894</td>\n",
       "      <td>C</td>\n",
       "      <td>1</td>\n",
       "      <td>0</td>\n",
       "      <td>0</td>\n",
       "      <td>0</td>\n",
       "    </tr>\n",
       "    <tr>\n",
       "      <th>1077</th>\n",
       "      <td>1077</td>\n",
       "      <td>42.00</td>\n",
       "      <td>Colin McDonald</td>\n",
       "      <td>2015</td>\n",
       "      <td>NYI</td>\n",
       "      <td>R</td>\n",
       "      <td>18</td>\n",
       "      <td>186.63</td>\n",
       "      <td>2</td>\n",
       "      <td>6</td>\n",
       "      <td>...</td>\n",
       "      <td>51.0</td>\n",
       "      <td>2.33</td>\n",
       "      <td>1</td>\n",
       "      <td>189.13</td>\n",
       "      <td>13.324169</td>\n",
       "      <td>R</td>\n",
       "      <td>0</td>\n",
       "      <td>0</td>\n",
       "      <td>0</td>\n",
       "      <td>1</td>\n",
       "    </tr>\n",
       "    <tr>\n",
       "      <th>3847</th>\n",
       "      <td>3847</td>\n",
       "      <td>325.80</td>\n",
       "      <td>Evgeni Malkin</td>\n",
       "      <td>2018</td>\n",
       "      <td>PIT</td>\n",
       "      <td>C</td>\n",
       "      <td>78</td>\n",
       "      <td>1189.45</td>\n",
       "      <td>28</td>\n",
       "      <td>32</td>\n",
       "      <td>...</td>\n",
       "      <td>2.0</td>\n",
       "      <td>4.18</td>\n",
       "      <td>1</td>\n",
       "      <td>1481.21</td>\n",
       "      <td>13.197318</td>\n",
       "      <td>C</td>\n",
       "      <td>1</td>\n",
       "      <td>0</td>\n",
       "      <td>0</td>\n",
       "      <td>0</td>\n",
       "    </tr>\n",
       "    <tr>\n",
       "      <th>4172</th>\n",
       "      <td>4172</td>\n",
       "      <td>317.35</td>\n",
       "      <td>Nathan MacKinnon</td>\n",
       "      <td>2018</td>\n",
       "      <td>COL</td>\n",
       "      <td>C</td>\n",
       "      <td>74</td>\n",
       "      <td>1182.30</td>\n",
       "      <td>27</td>\n",
       "      <td>37</td>\n",
       "      <td>...</td>\n",
       "      <td>1.0</td>\n",
       "      <td>4.29</td>\n",
       "      <td>1</td>\n",
       "      <td>1471.97</td>\n",
       "      <td>12.935726</td>\n",
       "      <td>C</td>\n",
       "      <td>1</td>\n",
       "      <td>0</td>\n",
       "      <td>0</td>\n",
       "      <td>0</td>\n",
       "    </tr>\n",
       "    <tr>\n",
       "      <th>2956</th>\n",
       "      <td>2956</td>\n",
       "      <td>245.45</td>\n",
       "      <td>Evgeni Malkin</td>\n",
       "      <td>2017</td>\n",
       "      <td>PIT</td>\n",
       "      <td>C</td>\n",
       "      <td>62</td>\n",
       "      <td>923.42</td>\n",
       "      <td>22</td>\n",
       "      <td>27</td>\n",
       "      <td>...</td>\n",
       "      <td>2.0</td>\n",
       "      <td>3.96</td>\n",
       "      <td>1</td>\n",
       "      <td>1154.39</td>\n",
       "      <td>12.757387</td>\n",
       "      <td>C</td>\n",
       "      <td>1</td>\n",
       "      <td>0</td>\n",
       "      <td>0</td>\n",
       "      <td>0</td>\n",
       "    </tr>\n",
       "    <tr>\n",
       "      <th>905</th>\n",
       "      <td>905</td>\n",
       "      <td>349.90</td>\n",
       "      <td>Alex Ovechkin</td>\n",
       "      <td>2015</td>\n",
       "      <td>WSH</td>\n",
       "      <td>L</td>\n",
       "      <td>81</td>\n",
       "      <td>1334.75</td>\n",
       "      <td>28</td>\n",
       "      <td>19</td>\n",
       "      <td>...</td>\n",
       "      <td>1.0</td>\n",
       "      <td>4.32</td>\n",
       "      <td>1</td>\n",
       "      <td>1646.34</td>\n",
       "      <td>12.751922</td>\n",
       "      <td>L</td>\n",
       "      <td>0</td>\n",
       "      <td>0</td>\n",
       "      <td>1</td>\n",
       "      <td>0</td>\n",
       "    </tr>\n",
       "    <tr>\n",
       "      <th>4347</th>\n",
       "      <td>4347</td>\n",
       "      <td>307.80</td>\n",
       "      <td>Taylor Hall</td>\n",
       "      <td>2018</td>\n",
       "      <td>N.J</td>\n",
       "      <td>L</td>\n",
       "      <td>76</td>\n",
       "      <td>1225.68</td>\n",
       "      <td>24</td>\n",
       "      <td>30</td>\n",
       "      <td>...</td>\n",
       "      <td>1.0</td>\n",
       "      <td>4.05</td>\n",
       "      <td>1</td>\n",
       "      <td>1454.76</td>\n",
       "      <td>12.694878</td>\n",
       "      <td>L</td>\n",
       "      <td>0</td>\n",
       "      <td>0</td>\n",
       "      <td>1</td>\n",
       "      <td>0</td>\n",
       "    </tr>\n",
       "    <tr>\n",
       "      <th>794</th>\n",
       "      <td>794</td>\n",
       "      <td>158.40</td>\n",
       "      <td>Steven Stamkos</td>\n",
       "      <td>2014</td>\n",
       "      <td>T.B</td>\n",
       "      <td>C</td>\n",
       "      <td>37</td>\n",
       "      <td>586.18</td>\n",
       "      <td>15</td>\n",
       "      <td>11</td>\n",
       "      <td>...</td>\n",
       "      <td>1.0</td>\n",
       "      <td>4.28</td>\n",
       "      <td>1</td>\n",
       "      <td>749.21</td>\n",
       "      <td>12.685362</td>\n",
       "      <td>C</td>\n",
       "      <td>1</td>\n",
       "      <td>0</td>\n",
       "      <td>0</td>\n",
       "      <td>0</td>\n",
       "    </tr>\n",
       "    <tr>\n",
       "      <th>4226</th>\n",
       "      <td>4226</td>\n",
       "      <td>262.55</td>\n",
       "      <td>Patrice Bergeron</td>\n",
       "      <td>2018</td>\n",
       "      <td>BOS</td>\n",
       "      <td>C</td>\n",
       "      <td>64</td>\n",
       "      <td>935.98</td>\n",
       "      <td>18</td>\n",
       "      <td>21</td>\n",
       "      <td>...</td>\n",
       "      <td>45.0</td>\n",
       "      <td>4.10</td>\n",
       "      <td>1</td>\n",
       "      <td>1243.99</td>\n",
       "      <td>12.663285</td>\n",
       "      <td>C</td>\n",
       "      <td>1</td>\n",
       "      <td>0</td>\n",
       "      <td>0</td>\n",
       "      <td>0</td>\n",
       "    </tr>\n",
       "  </tbody>\n",
       "</table>\n",
       "<p>10 rows × 247 columns</p>\n",
       "</div>"
      ],
      "text/plain": [
       "      Unnamed: 0  Fantasy Points            Player  Year Team Position  GP  \\\n",
       "3456        3456           69.35    Steven Stamkos  2017  T.B        C  17   \n",
       "3444        3444          332.85     Sidney Crosby  2017  PIT        C  75   \n",
       "1077        1077           42.00    Colin McDonald  2015  NYI        R  18   \n",
       "3847        3847          325.80     Evgeni Malkin  2018  PIT        C  78   \n",
       "4172        4172          317.35  Nathan MacKinnon  2018  COL        C  74   \n",
       "2956        2956          245.45     Evgeni Malkin  2017  PIT        C  62   \n",
       "905          905          349.90     Alex Ovechkin  2015  WSH        L  81   \n",
       "4347        4347          307.80       Taylor Hall  2018  N.J        L  76   \n",
       "794          794          158.40    Steven Stamkos  2014  T.B        C  37   \n",
       "4226        4226          262.55  Patrice Bergeron  2018  BOS        C  64   \n",
       "\n",
       "          TOI  Goals  Total_Assists ...  Overall_Draft_Position  \\\n",
       "3456   235.32      6              7 ...                     1.0   \n",
       "3444  1210.08     30             34 ...                     1.0   \n",
       "1077   186.63      2              6 ...                    51.0   \n",
       "3847  1189.45     28             32 ...                     2.0   \n",
       "4172  1182.30     27             37 ...                     1.0   \n",
       "2956   923.42     22             27 ...                     2.0   \n",
       "905   1334.75     28             19 ...                     1.0   \n",
       "4347  1225.68     24             30 ...                     1.0   \n",
       "794    586.18     15             11 ...                     1.0   \n",
       "4226   935.98     18             21 ...                    45.0   \n",
       "\n",
       "      Fantasy Points Per Game  drafted  Total Minutes Played  \\\n",
       "3456                     4.08        1                303.90   \n",
       "3444                     4.44        1               1490.83   \n",
       "1077                     2.33        1                189.13   \n",
       "3847                     4.18        1               1481.21   \n",
       "4172                     4.29        1               1471.97   \n",
       "2956                     3.96        1               1154.39   \n",
       "905                      4.32        1               1646.34   \n",
       "4347                     4.05        1               1454.76   \n",
       "794                      4.28        1                749.21   \n",
       "4226                     4.10        1               1243.99   \n",
       "\n",
       "      FantasyPoints_60  Cleaned_Position  C  D  L  R  \n",
       "3456         13.692004                 C  1  0  0  0  \n",
       "3444         13.395894                 C  1  0  0  0  \n",
       "1077         13.324169                 R  0  0  0  1  \n",
       "3847         13.197318                 C  1  0  0  0  \n",
       "4172         12.935726                 C  1  0  0  0  \n",
       "2956         12.757387                 C  1  0  0  0  \n",
       "905          12.751922                 L  0  0  1  0  \n",
       "4347         12.694878                 L  0  0  1  0  \n",
       "794          12.685362                 C  1  0  0  0  \n",
       "4226         12.663285                 C  1  0  0  0  \n",
       "\n",
       "[10 rows x 247 columns]"
      ]
     },
     "execution_count": 54,
     "metadata": {},
     "output_type": "execute_result"
    }
   ],
   "source": [
    "player_data[player_data['Total Minutes Played']>75].sort_values(by = ['FantasyPoints_60','Fantasy Points'],ascending = False)[0:10]"
   ]
  },
  {
   "cell_type": "markdown",
   "metadata": {},
   "source": [
    "This list still makes good sense, guys like Steve Stamkos and Jeff Carter who are top of class players who had seasons cut short due to injury or the like.  The one surprise here is Colin McDonald who shows up at 3rd. Looking at some articles for that season, it appears he was a late season call up the hottest line of a team making a play off push. Basically everything at the right time. Moving on to things corralating to fantasy points per game."
   ]
  },
  {
   "cell_type": "code",
   "execution_count": 55,
   "metadata": {},
   "outputs": [
    {
     "data": {
      "text/plain": [
       "1.7196174617461755"
      ]
     },
     "execution_count": 55,
     "metadata": {},
     "output_type": "execute_result"
    }
   ],
   "source": [
    "player_data['Fantasy Points Per Game'].mean()"
   ]
  },
  {
   "cell_type": "code",
   "execution_count": 56,
   "metadata": {},
   "outputs": [
    {
     "data": {
      "text/plain": [
       "0.7767397757292049"
      ]
     },
     "execution_count": 56,
     "metadata": {},
     "output_type": "execute_result"
    }
   ],
   "source": [
    "player_data['Fantasy Points Per Game'].std()"
   ]
  },
  {
   "cell_type": "code",
   "execution_count": 57,
   "metadata": {},
   "outputs": [
    {
     "data": {
      "text/plain": [
       "D                       1.000000\n",
       "Shots_Blocked           0.564024\n",
       "TOI_GP                  0.485088\n",
       "Shots_Blocked_PkIndC    0.424144\n",
       "Hits_PkIndC             0.392866\n",
       "Giveaways_PkIndC        0.383379\n",
       "PKTOI_GP                0.358788\n",
       "Shots_Blocked_PPIndC    0.303059\n",
       "PKTOI                   0.280984\n",
       "TOI_PkIndC              0.280984\n",
       "Giveaways               0.263534\n",
       "Height_(in)             0.233306\n",
       "Hits_Taken_PkIndC       0.194625\n",
       "PKPDO                   0.193604\n",
       "Hits_Taken              0.188436\n",
       "Name: D, dtype: float64"
      ]
     },
     "execution_count": 57,
     "metadata": {},
     "output_type": "execute_result"
    }
   ],
   "source": [
    "newCorr = player_data.corr(method = 'pearson')\n",
    "sorted_fantasy_valuePG = newCorr.iloc[:,-3].sort_values(ascending = False)\n",
    "sorted_fantasy_valuePG.iloc[0:15,]"
   ]
  },
  {
   "cell_type": "markdown",
   "metadata": {},
   "source": [
    "What's interesting to me here is that the values are aproximately the same still (Corsi and Fensick specifically sit at the same ranking), but the strength of correlation has dropped off, as has the value of scoring chances, rebounds and takeaways. Witness the top values side by side with respective correlation\n",
    "\n",
    "| Feature      | Total Points           | Points Per Game  | Points Per Game Rank |\n",
    "| ------------- |:-------------:| -----:| -----:|\n",
    "| TOI_SIndR     |  0.918613 | 0.689959 | 6th |\n",
    "| iCF      | 0.911318     |   0.714986 | 2nd |\n",
    "| iFF | 0.909016     |    0.714448 | 3rd |\n",
    "| TOI    |  0.901212 | 0.662317 | 9th |\n",
    "| GP     | 0.868733    |   0.579444 | 20th |\n",
    "| TOI_PPIndC  | 0.822900     |    0.719050 | 1st |\n",
    "| iSCF      | 0.822900 | 0.649937 | 11th |\n",
    "| Rebounds_Created      | 0.809625     |   0.636078 | 15th |\n",
    "| Takeaways | 0.807529     |    0.643104 | 14th |\n",
    "\n",
    "Here are the top ten correlated values directly for Points Per Game:\n",
    "\n",
    "| Feature       | Correlation to Points Per Game         | \n",
    "| ------------- |:-------------:| \n",
    "TOI_PPIndC                 0.719050\n",
    "iCF                        0.714986\n",
    "iFF                        0.714448\n",
    "TOI_GP                     0.701839\n",
    "Total Minutes Played       0.689966\n",
    "TOI_SIndR                  0.689959\n",
    "PPTOI_GP                   0.682719\n",
    "iSCF_PPIndC                0.680967\n",
    "TOI                        0.662317\n",
    "iFF_PPIndC                 0.656715\n",
    "\n",
    "\n",
    "Interestingly, these values are now 6 out of 10 based around minutes played, where as with over all points it was 4 of 10. This was essentially the inverse of what I'd expected, since I thought that the Points Per Game feature would reduce the dependancy on time.  Let's see what happens with fantasy points per 60 minutes.\n"
   ]
  },
  {
   "cell_type": "code",
   "execution_count": 58,
   "metadata": {},
   "outputs": [
    {
     "data": {
      "text/plain": [
       "R                          1.000000\n",
       "IPP                        0.162738\n",
       "iHDCF                      0.158660\n",
       "Off. Zone_Faceoffs_60      0.135955\n",
       "iSCF                       0.130485\n",
       "iHDCF_PPIndC               0.121581\n",
       "OffZoneStartPer            0.121076\n",
       "Goals                      0.116466\n",
       "Rush_Attempts              0.115106\n",
       "Neu. Zone_Faceoffs_60      0.106911\n",
       "PKOff. Zone_Faceoff_Per    0.106534\n",
       "PKOffZoneStartPer          0.102869\n",
       "PIM_PPIndC                 0.093604\n",
       "Total_Penalties_PPIndC     0.090391\n",
       "Misconduct                 0.090267\n",
       "Name: R, dtype: float64"
      ]
     },
     "execution_count": 58,
     "metadata": {},
     "output_type": "execute_result"
    }
   ],
   "source": [
    "sorted_fantasy_valuePG = newCorr.iloc[:,-1].sort_values(ascending = False)\n",
    "sorted_fantasy_valuePG.iloc[0:15,]\n"
   ]
  },
  {
   "cell_type": "markdown",
   "metadata": {},
   "source": [
    "This is slightly disheartening, since we have effectively dropped down to having only 3 values that are above 50 that aren't baked into the points score (IPP, SHPer, and GF_60). So we're back where we started. Given that total points is in fact what we're most interested in, the feature creation seems to have been something of a null result, and perhaps a lesson in overtuning. \n",
    "\n",
    "Let's take a quick lok at how things stand up based on position, first with a T-Test and then some density plots."
   ]
  },
  {
   "cell_type": "code",
   "execution_count": 13,
   "metadata": {},
   "outputs": [
    {
     "data": {
      "text/html": [
       "<div>\n",
       "<style scoped>\n",
       "    .dataframe tbody tr th:only-of-type {\n",
       "        vertical-align: middle;\n",
       "    }\n",
       "\n",
       "    .dataframe tbody tr th {\n",
       "        vertical-align: top;\n",
       "    }\n",
       "\n",
       "    .dataframe thead th {\n",
       "        text-align: right;\n",
       "    }\n",
       "</style>\n",
       "<table border=\"1\" class=\"dataframe\">\n",
       "  <thead>\n",
       "    <tr style=\"text-align: right;\">\n",
       "      <th></th>\n",
       "      <th>Unnamed: 0</th>\n",
       "      <th>Fantasy Points</th>\n",
       "      <th>Player</th>\n",
       "      <th>Year</th>\n",
       "      <th>Team</th>\n",
       "      <th>Position</th>\n",
       "      <th>GP</th>\n",
       "      <th>TOI</th>\n",
       "      <th>Goals</th>\n",
       "      <th>Total_Assists</th>\n",
       "      <th>...</th>\n",
       "      <th>FantasyPoints_60</th>\n",
       "      <th>Cleaned_Position</th>\n",
       "      <th>C</th>\n",
       "      <th>D</th>\n",
       "      <th>L</th>\n",
       "      <th>R</th>\n",
       "      <th>C</th>\n",
       "      <th>D</th>\n",
       "      <th>L</th>\n",
       "      <th>R</th>\n",
       "    </tr>\n",
       "  </thead>\n",
       "  <tbody>\n",
       "    <tr>\n",
       "      <th>0</th>\n",
       "      <td>0</td>\n",
       "      <td>25.80</td>\n",
       "      <td>Aaron Ness</td>\n",
       "      <td>2014</td>\n",
       "      <td>NYI</td>\n",
       "      <td>D</td>\n",
       "      <td>20</td>\n",
       "      <td>275.25</td>\n",
       "      <td>1</td>\n",
       "      <td>2</td>\n",
       "      <td>...</td>\n",
       "      <td>5.23</td>\n",
       "      <td>D</td>\n",
       "      <td>0</td>\n",
       "      <td>1</td>\n",
       "      <td>0</td>\n",
       "      <td>0</td>\n",
       "      <td>0</td>\n",
       "      <td>1</td>\n",
       "      <td>0</td>\n",
       "      <td>0</td>\n",
       "    </tr>\n",
       "    <tr>\n",
       "      <th>1</th>\n",
       "      <td>1</td>\n",
       "      <td>0.95</td>\n",
       "      <td>Aaron Palushaj</td>\n",
       "      <td>2014</td>\n",
       "      <td>CAR</td>\n",
       "      <td>R</td>\n",
       "      <td>2</td>\n",
       "      <td>17.52</td>\n",
       "      <td>0</td>\n",
       "      <td>0</td>\n",
       "      <td>...</td>\n",
       "      <td>3.06</td>\n",
       "      <td>R</td>\n",
       "      <td>0</td>\n",
       "      <td>0</td>\n",
       "      <td>0</td>\n",
       "      <td>1</td>\n",
       "      <td>0</td>\n",
       "      <td>0</td>\n",
       "      <td>0</td>\n",
       "      <td>1</td>\n",
       "    </tr>\n",
       "    <tr>\n",
       "      <th>2</th>\n",
       "      <td>2</td>\n",
       "      <td>27.50</td>\n",
       "      <td>Aaron Rome</td>\n",
       "      <td>2014</td>\n",
       "      <td>DAL</td>\n",
       "      <td>D</td>\n",
       "      <td>25</td>\n",
       "      <td>301.20</td>\n",
       "      <td>0</td>\n",
       "      <td>1</td>\n",
       "      <td>...</td>\n",
       "      <td>5.04</td>\n",
       "      <td>D</td>\n",
       "      <td>0</td>\n",
       "      <td>1</td>\n",
       "      <td>0</td>\n",
       "      <td>0</td>\n",
       "      <td>0</td>\n",
       "      <td>1</td>\n",
       "      <td>0</td>\n",
       "      <td>0</td>\n",
       "    </tr>\n",
       "    <tr>\n",
       "      <th>3</th>\n",
       "      <td>3</td>\n",
       "      <td>32.25</td>\n",
       "      <td>Aaron Volpatti</td>\n",
       "      <td>2014</td>\n",
       "      <td>WSH</td>\n",
       "      <td>L</td>\n",
       "      <td>41</td>\n",
       "      <td>300.18</td>\n",
       "      <td>2</td>\n",
       "      <td>0</td>\n",
       "      <td>...</td>\n",
       "      <td>6.41</td>\n",
       "      <td>L</td>\n",
       "      <td>0</td>\n",
       "      <td>0</td>\n",
       "      <td>1</td>\n",
       "      <td>0</td>\n",
       "      <td>0</td>\n",
       "      <td>0</td>\n",
       "      <td>1</td>\n",
       "      <td>0</td>\n",
       "    </tr>\n",
       "    <tr>\n",
       "      <th>4</th>\n",
       "      <td>4</td>\n",
       "      <td>3.45</td>\n",
       "      <td>Adam Almquist</td>\n",
       "      <td>2014</td>\n",
       "      <td>DET</td>\n",
       "      <td>D</td>\n",
       "      <td>2</td>\n",
       "      <td>31.52</td>\n",
       "      <td>1</td>\n",
       "      <td>0</td>\n",
       "      <td>...</td>\n",
       "      <td>6.01</td>\n",
       "      <td>D</td>\n",
       "      <td>0</td>\n",
       "      <td>1</td>\n",
       "      <td>0</td>\n",
       "      <td>0</td>\n",
       "      <td>0</td>\n",
       "      <td>1</td>\n",
       "      <td>0</td>\n",
       "      <td>0</td>\n",
       "    </tr>\n",
       "  </tbody>\n",
       "</table>\n",
       "<p>5 rows × 251 columns</p>\n",
       "</div>"
      ],
      "text/plain": [
       "   Unnamed: 0  Fantasy Points          Player  Year Team Position  GP     TOI  \\\n",
       "0           0           25.80      Aaron Ness  2014  NYI        D  20  275.25   \n",
       "1           1            0.95  Aaron Palushaj  2014  CAR        R   2   17.52   \n",
       "2           2           27.50      Aaron Rome  2014  DAL        D  25  301.20   \n",
       "3           3           32.25  Aaron Volpatti  2014  WSH        L  41  300.18   \n",
       "4           4            3.45   Adam Almquist  2014  DET        D   2   31.52   \n",
       "\n",
       "   Goals  Total_Assists ...  FantasyPoints_60  Cleaned_Position  C  D  L  R  \\\n",
       "0      1              2 ...              5.23                 D  0  1  0  0   \n",
       "1      0              0 ...              3.06                 R  0  0  0  1   \n",
       "2      0              1 ...              5.04                 D  0  1  0  0   \n",
       "3      2              0 ...              6.41                 L  0  0  1  0   \n",
       "4      1              0 ...              6.01                 D  0  1  0  0   \n",
       "\n",
       "   C  D  L  R  \n",
       "0  0  1  0  0  \n",
       "1  0  0  0  1  \n",
       "2  0  1  0  0  \n",
       "3  0  0  1  0  \n",
       "4  0  1  0  0  \n",
       "\n",
       "[5 rows x 251 columns]"
      ]
     },
     "execution_count": 13,
     "metadata": {},
     "output_type": "execute_result"
    }
   ],
   "source": [
    "## one hot again\n",
    "## create position as just one value instead of multiple, accepting that first listed value is primary\n",
    "player_data['Cleaned_Position'] = player_data['Position'].str[0]\n",
    "\n",
    "## let's one hot these for better feature usage since most every model will want a numerical value\n",
    "one_hot_p = pd.get_dummies(player_data.Cleaned_Position)\n",
    "new_player_data = pd.concat([player_data, one_hot_p], axis=1)\n",
    "new_player_data[0:5]"
   ]
  },
  {
   "cell_type": "code",
   "execution_count": null,
   "metadata": {},
   "outputs": [],
   "source": []
  },
  {
   "cell_type": "code",
   "execution_count": 69,
   "metadata": {},
   "outputs": [
    {
     "data": {
      "text/plain": [
       "Ttest_indResult(statistic=7.004654692044053, pvalue=2.8478722526491826e-12)"
      ]
     },
     "execution_count": 69,
     "metadata": {},
     "output_type": "execute_result"
    }
   ],
   "source": [
    "## lets see how the t_tests stand up here\n",
    "\n",
    "\n",
    "stats.ttest_ind(player_data['Fantasy Points'][player_data['C']== 1],player_data['Fantasy Points'][player_data['C']== 0])"
   ]
  },
  {
   "cell_type": "code",
   "execution_count": 70,
   "metadata": {},
   "outputs": [
    {
     "data": {
      "image/png": "[encoded data removed]",
      "text/plain": [
       "<Figure size 432x288 with 1 Axes>"
      ]
     },
     "metadata": {
      "needs_background": "light"
     },
     "output_type": "display_data"
    }
   ],
   "source": [
    "## looks good, quick density plot\n",
    "p1=sb.kdeplot(player_data['Fantasy Points'][player_data['C']== 1], shade=True, color=\"r\",  label='Centers')\n",
    "p1=sb.kdeplot(player_data['Fantasy Points'][player_data['C']== 0], shade=True, color=\"b\", label='Other')"
   ]
  },
  {
   "cell_type": "code",
   "execution_count": 71,
   "metadata": {},
   "outputs": [
    {
     "data": {
      "text/plain": [
       "Ttest_indResult(statistic=-2.2227924441443117, pvalue=0.026279949321131098)"
      ]
     },
     "execution_count": 71,
     "metadata": {},
     "output_type": "execute_result"
    }
   ],
   "source": [
    "# repeating for D men\n",
    "stats.ttest_ind(player_data['Fantasy Points'][player_data['D']== 1],player_data['Fantasy Points'][player_data['D']== 0])"
   ]
  },
  {
   "cell_type": "code",
   "execution_count": 72,
   "metadata": {},
   "outputs": [
    {
     "data": {
      "image/png": "[encoded data removed]",
      "text/plain": [
       "<Figure size 432x288 with 1 Axes>"
      ]
     },
     "metadata": {
      "needs_background": "light"
     },
     "output_type": "display_data"
    }
   ],
   "source": [
    "# interesting that defensive players see  2 point drop and a significantly, if still significant, smaller p-value\n",
    "p1=sb.kdeplot(player_data['Fantasy Points'][player_data['D']== 1], shade=True, color=\"r\",  label='D-Men')\n",
    "p1=sb.kdeplot(player_data['Fantasy Points'][player_data['D']== 0], shade=True, color=\"b\", label='Forwards')"
   ]
  },
  {
   "cell_type": "code",
   "execution_count": 80,
   "metadata": {},
   "outputs": [
    {
     "data": {
      "image/png": "[encoded data removed]",
      "text/plain": [
       "<Figure size 432x288 with 1 Axes>"
      ]
     },
     "metadata": {
      "needs_background": "light"
     },
     "output_type": "display_data"
    }
   ],
   "source": [
    "## all four values at once, Centers still stand out the most\n",
    "p1=sb.kdeplot(player_data['Fantasy Points'][player_data['D']== 1], shade=True, color=\"r\",  label='D-Men')\n",
    "p1=sb.kdeplot(player_data['Fantasy Points'][player_data['C']== 1], shade=True, color=\"b\",  label='Centers')\n",
    "p1=sb.kdeplot(player_data['Fantasy Points'][player_data['L']== 1], shade=True, color=\"g\",  label='Left')\n",
    "p1=sb.kdeplot(player_data['Fantasy Points'][player_data['R']== 1], shade=True, color=\"y\",  label='Right')\n",
    "plt.xlabel('Fantasy Points')\n",
    "plt.ylabel('Group Percentage')\n",
    "plt.title(\"All Players\")\n",
    "plt.savefig('Images/score_distro1.png')"
   ]
  },
  {
   "cell_type": "markdown",
   "metadata": {},
   "source": [
    "I think the most interesting development here is that dip that happens right around the 75 point range. I think we can conclude that's basically the cut line for those who made it above the 20 game marker. To test that I limited the new player data and re-made the plot."
   ]
  },
  {
   "cell_type": "code",
   "execution_count": 14,
   "metadata": {},
   "outputs": [
    {
     "name": "stderr",
     "output_type": "stream",
     "text": [
      "/anaconda3/lib/python3.7/site-packages/scipy/stats/stats.py:1713: FutureWarning: Using a non-tuple sequence for multidimensional indexing is deprecated; use `arr[tuple(seq)]` instead of `arr[seq]`. In the future this will be interpreted as an array index, `arr[np.array(seq)]`, which will result either in an error or a different result.\n",
      "  return np.add.reduce(sorted[indexer] * weights, axis=axis) / sumval\n"
     ]
    },
    {
     "data": {
      "image/png": "[encoded data removed]",
      "text/plain": [
       "<Figure size 432x288 with 1 Axes>"
      ]
     },
     "metadata": {
      "needs_background": "light"
     },
     "output_type": "display_data"
    }
   ],
   "source": [
    "twenty_gamers = player_data[new_player_data['GP'] > 20]\n",
    "p1=sb.kdeplot(twenty_gamers['Fantasy Points'][twenty_gamers['D']== 1], shade=True, color=\"r\",  label='D-Men')\n",
    "p1=sb.kdeplot(twenty_gamers['Fantasy Points'][twenty_gamers['C']== 1], shade=True, color=\"b\",  label='Centers')\n",
    "p1=sb.kdeplot(twenty_gamers['Fantasy Points'][twenty_gamers['L']== 1], shade=True, color=\"g\",  label='Left')\n",
    "p1=sb.kdeplot(twenty_gamers['Fantasy Points'][twenty_gamers['R']== 1], shade=True, color=\"y\",  label='Right')\n",
    "plt.xlabel('Fantasy Points')\n",
    "plt.ylabel('Group Percentage')\n",
    "plt.title(\"Players With More than 20 Games\")\n",
    "plt.savefig('Images/score_distro2.png')"
   ]
  },
  {
   "cell_type": "markdown",
   "metadata": {},
   "source": [
    "This is essentially exactly what we expected, the distribution instantly went from being bipolar to unimodal. Interesting that it seems the Defensive players both have higher peaks on both the bottom and the middle above right wingers but right wingers have a spike above 40.  Quick look at just Defensive players and Right Wingers:"
   ]
  },
  {
   "cell_type": "code",
   "execution_count": 15,
   "metadata": {
    "scrolled": true
   },
   "outputs": [
    {
     "data": {
      "image/png": "[encoded data removed]",
      "text/plain": [
       "<Figure size 432x288 with 1 Axes>"
      ]
     },
     "metadata": {
      "needs_background": "light"
     },
     "output_type": "display_data"
    }
   ],
   "source": [
    "p1=sb.kdeplot(twenty_gamers['Fantasy Points'][twenty_gamers['D']== 1], shade=True, color=\"r\",  label='D-Men')\n",
    "p1=sb.kdeplot(twenty_gamers['Fantasy Points'][twenty_gamers['R']== 1], shade=True, color=\"y\",  label='Right')"
   ]
  },
  {
   "cell_type": "markdown",
   "metadata": {},
   "source": [
    "## Conclusion\n",
    "\n",
    "What we see here from our quick analysis breaks down into three main points, the first two of which are not particularly surprising. Those primary points are that once you get past the set of players who will be cut, there is a remarkably normal distribution of points, and second that there is little benefit to creating additional features around points per game.\n",
    "\n",
    "The more third interesting segment is how correlated time is to a players performance as we can see in the mapping of correlations above.  This is certainly a prime example of how correlation is not causation, but time on ice stands as the most important metric we see above, and will certainly play a role in our models in the next segment. "
   ]
  }
 ],
 "metadata": {
  "kernelspec": {
   "display_name": "Python 3",
   "language": "python",
   "name": "python3"
  },
  "language_info": {
   "codemirror_mode": {
    "name": "ipython",
    "version": 3
   },
   "file_extension": ".py",
   "mimetype": "text/x-python",
   "name": "python",
   "nbconvert_exporter": "python",
   "pygments_lexer": "ipython3",
   "version": "3.7.1"
  }
 },
 "nbformat": 4,
 "nbformat_minor": 2
}
