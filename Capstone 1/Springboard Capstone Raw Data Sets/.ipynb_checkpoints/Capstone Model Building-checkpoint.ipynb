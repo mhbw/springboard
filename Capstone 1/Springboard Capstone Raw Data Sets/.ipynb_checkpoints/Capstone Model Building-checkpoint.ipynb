{
 "cells": [
  {
   "cell_type": "markdown",
   "metadata": {},
   "source": [
    "## Capstone Model Building\n",
    "\n",
    "This is our inital passes at a few machine learning models designed to predict NHL player performance in an ESPN fantasy league. "
   ]
  },
  {
   "cell_type": "code",
   "execution_count": 52,
   "metadata": {},
   "outputs": [],
   "source": [
    "## set up packages and import saved flat file\n",
    "import pandas as pd\n",
    "import numpy as np\n",
    "from matplotlib import pyplot as plt\n",
    "from matplotlib import cm as cm\n",
    "import seaborn as sb\n",
    "import researchpy as rp\n",
    "from scipy import stats\n",
    "from sklearn import metrics\n",
    "from sklearn.model_selection import cross_val_predict, GridSearchCV, cross_val_score\n",
    "from sklearn.model_selection import cross_val_score\n",
    "from sklearn.ensemble import RandomForestRegressor\n",
    "from sklearn.model_selection import train_test_split\n",
    "import time\n",
    "from sklearn.metrics import roc_curve, roc_auc_score"
   ]
  },
  {
   "cell_type": "code",
   "execution_count": 2,
   "metadata": {},
   "outputs": [
    {
     "data": {
      "text/html": [
       "<div>\n",
       "<style scoped>\n",
       "    .dataframe tbody tr th:only-of-type {\n",
       "        vertical-align: middle;\n",
       "    }\n",
       "\n",
       "    .dataframe tbody tr th {\n",
       "        vertical-align: top;\n",
       "    }\n",
       "\n",
       "    .dataframe thead th {\n",
       "        text-align: right;\n",
       "    }\n",
       "</style>\n",
       "<table border=\"1\" class=\"dataframe\">\n",
       "  <thead>\n",
       "    <tr style=\"text-align: right;\">\n",
       "      <th></th>\n",
       "      <th>Player</th>\n",
       "      <th>Team</th>\n",
       "      <th>Year</th>\n",
       "      <th>Position</th>\n",
       "      <th>Fantasy Points</th>\n",
       "      <th>GP</th>\n",
       "      <th>TOI</th>\n",
       "      <th>IPP</th>\n",
       "      <th>SHPer</th>\n",
       "      <th>iCF</th>\n",
       "      <th>...</th>\n",
       "      <th>Weight_(lbs)</th>\n",
       "      <th>Draft_Round</th>\n",
       "      <th>Round_Pick</th>\n",
       "      <th>Overall_Draft_Position</th>\n",
       "      <th>drafted</th>\n",
       "      <th>Total Minutes Played</th>\n",
       "      <th>C</th>\n",
       "      <th>D</th>\n",
       "      <th>L</th>\n",
       "      <th>R</th>\n",
       "    </tr>\n",
       "  </thead>\n",
       "  <tbody>\n",
       "    <tr>\n",
       "      <th>0</th>\n",
       "      <td>Aaron Ness</td>\n",
       "      <td>NYI</td>\n",
       "      <td>2014</td>\n",
       "      <td>D</td>\n",
       "      <td>25.80</td>\n",
       "      <td>20</td>\n",
       "      <td>275.25</td>\n",
       "      <td>100.0</td>\n",
       "      <td>4.35</td>\n",
       "      <td>48</td>\n",
       "      <td>...</td>\n",
       "      <td>184</td>\n",
       "      <td>2.0</td>\n",
       "      <td>10.0</td>\n",
       "      <td>40.0</td>\n",
       "      <td>1</td>\n",
       "      <td>295.88</td>\n",
       "      <td>0</td>\n",
       "      <td>1</td>\n",
       "      <td>0</td>\n",
       "      <td>0</td>\n",
       "    </tr>\n",
       "    <tr>\n",
       "      <th>1</th>\n",
       "      <td>Aaron Palushaj</td>\n",
       "      <td>CAR</td>\n",
       "      <td>2014</td>\n",
       "      <td>R</td>\n",
       "      <td>0.95</td>\n",
       "      <td>2</td>\n",
       "      <td>17.52</td>\n",
       "      <td>0.0</td>\n",
       "      <td>0.00</td>\n",
       "      <td>4</td>\n",
       "      <td>...</td>\n",
       "      <td>187</td>\n",
       "      <td>2.0</td>\n",
       "      <td>14.0</td>\n",
       "      <td>44.0</td>\n",
       "      <td>1</td>\n",
       "      <td>18.65</td>\n",
       "      <td>0</td>\n",
       "      <td>0</td>\n",
       "      <td>0</td>\n",
       "      <td>1</td>\n",
       "    </tr>\n",
       "    <tr>\n",
       "      <th>2</th>\n",
       "      <td>Aaron Rome</td>\n",
       "      <td>DAL</td>\n",
       "      <td>2014</td>\n",
       "      <td>D</td>\n",
       "      <td>27.50</td>\n",
       "      <td>25</td>\n",
       "      <td>301.20</td>\n",
       "      <td>10.0</td>\n",
       "      <td>0.00</td>\n",
       "      <td>36</td>\n",
       "      <td>...</td>\n",
       "      <td>220</td>\n",
       "      <td>4.0</td>\n",
       "      <td>8.0</td>\n",
       "      <td>104.0</td>\n",
       "      <td>1</td>\n",
       "      <td>327.20</td>\n",
       "      <td>0</td>\n",
       "      <td>1</td>\n",
       "      <td>0</td>\n",
       "      <td>0</td>\n",
       "    </tr>\n",
       "    <tr>\n",
       "      <th>3</th>\n",
       "      <td>Aaron Volpatti</td>\n",
       "      <td>WSH</td>\n",
       "      <td>2014</td>\n",
       "      <td>L</td>\n",
       "      <td>32.25</td>\n",
       "      <td>41</td>\n",
       "      <td>300.18</td>\n",
       "      <td>50.0</td>\n",
       "      <td>11.11</td>\n",
       "      <td>39</td>\n",
       "      <td>...</td>\n",
       "      <td>215</td>\n",
       "      <td>100.0</td>\n",
       "      <td>100.0</td>\n",
       "      <td>1000.0</td>\n",
       "      <td>0</td>\n",
       "      <td>301.87</td>\n",
       "      <td>0</td>\n",
       "      <td>0</td>\n",
       "      <td>1</td>\n",
       "      <td>0</td>\n",
       "    </tr>\n",
       "    <tr>\n",
       "      <th>4</th>\n",
       "      <td>Adam Almquist</td>\n",
       "      <td>DET</td>\n",
       "      <td>2014</td>\n",
       "      <td>D</td>\n",
       "      <td>3.45</td>\n",
       "      <td>2</td>\n",
       "      <td>31.52</td>\n",
       "      <td>50.0</td>\n",
       "      <td>50.00</td>\n",
       "      <td>3</td>\n",
       "      <td>...</td>\n",
       "      <td>174</td>\n",
       "      <td>7.0</td>\n",
       "      <td>29.0</td>\n",
       "      <td>210.0</td>\n",
       "      <td>1</td>\n",
       "      <td>34.43</td>\n",
       "      <td>0</td>\n",
       "      <td>1</td>\n",
       "      <td>0</td>\n",
       "      <td>0</td>\n",
       "    </tr>\n",
       "  </tbody>\n",
       "</table>\n",
       "<p>5 rows × 219 columns</p>\n",
       "</div>"
      ],
      "text/plain": [
       "           Player Team  Year Position  Fantasy Points  GP     TOI    IPP  \\\n",
       "0      Aaron Ness  NYI  2014        D           25.80  20  275.25  100.0   \n",
       "1  Aaron Palushaj  CAR  2014        R            0.95   2   17.52    0.0   \n",
       "2      Aaron Rome  DAL  2014        D           27.50  25  301.20   10.0   \n",
       "3  Aaron Volpatti  WSH  2014        L           32.25  41  300.18   50.0   \n",
       "4   Adam Almquist  DET  2014        D            3.45   2   31.52   50.0   \n",
       "\n",
       "   SHPer  iCF ...  Weight_(lbs)  Draft_Round  Round_Pick  \\\n",
       "0   4.35   48 ...           184          2.0        10.0   \n",
       "1   0.00    4 ...           187          2.0        14.0   \n",
       "2   0.00   36 ...           220          4.0         8.0   \n",
       "3  11.11   39 ...           215        100.0       100.0   \n",
       "4  50.00    3 ...           174          7.0        29.0   \n",
       "\n",
       "   Overall_Draft_Position  drafted  Total Minutes Played  C  D  L  R  \n",
       "0                    40.0        1                295.88  0  1  0  0  \n",
       "1                    44.0        1                 18.65  0  0  0  1  \n",
       "2                   104.0        1                327.20  0  1  0  0  \n",
       "3                  1000.0        0                301.87  0  0  1  0  \n",
       "4                   210.0        1                 34.43  0  1  0  0  \n",
       "\n",
       "[5 rows x 219 columns]"
      ]
     },
     "execution_count": 2,
     "metadata": {},
     "output_type": "execute_result"
    }
   ],
   "source": [
    "## import our now cleaned flat file, remind ourselves what it looks like\n",
    "\n",
    "model_data = pd.read_csv('model_ready_data.csv')\n",
    "model_data.head()"
   ]
  },
  {
   "cell_type": "code",
   "execution_count": 12,
   "metadata": {},
   "outputs": [],
   "source": [
    "# we need to reset the index and split into target and features \n",
    "model_data.set_index(keys=['Player','Team','Year','Position'],inplace=True)\n",
    "Target = model_data.iloc[:,0].values  \n",
    "features = model_data.iloc[:, 1:].values \n",
    "X_train, X_test, y_train, y_test = train_test_split(features, Target, test_size=0.2, random_state=0)  "
   ]
  },
  {
   "cell_type": "markdown",
   "metadata": {},
   "source": [
    "Initially we'll start with a random forest regressor"
   ]
  },
  {
   "cell_type": "code",
   "execution_count": 13,
   "metadata": {},
   "outputs": [
    {
     "data": {
      "text/plain": [
       "RandomForestRegressor(bootstrap=True, criterion='mse', max_depth=None,\n",
       "           max_features='auto', max_leaf_nodes=None,\n",
       "           min_impurity_decrease=0.0, min_impurity_split=None,\n",
       "           min_samples_leaf=1, min_samples_split=2,\n",
       "           min_weight_fraction_leaf=0.0, n_estimators=20, n_jobs=None,\n",
       "           oob_score=False, random_state=0, verbose=0, warm_start=False)"
      ]
     },
     "execution_count": 13,
     "metadata": {},
     "output_type": "execute_result"
    }
   ],
   "source": [
    "## fitting without parameter tuning\n",
    "regressor = RandomForestRegressor(n_estimators=20, random_state=0)  \n",
    "regressor.fit(X_train, y_train)  "
   ]
  },
  {
   "cell_type": "markdown",
   "metadata": {},
   "source": [
    "Making intial predictions and charting performance"
   ]
  },
  {
   "cell_type": "code",
   "execution_count": 15,
   "metadata": {},
   "outputs": [
    {
     "name": "stdout",
     "output_type": "stream",
     "text": [
      "Mean Absolute Error: 11.753717660292464\n",
      "Mean Squared Error: 295.7487059898763\n",
      "Root Mean Squared Error: 17.19734589958219\n",
      "Regreessor Score: 0.9514555313337327\n"
     ]
    }
   ],
   "source": [
    "y_pred = regressor.predict(X_test)  \n",
    "from sklearn import metrics\n",
    "\n",
    "print('Mean Absolute Error:', metrics.mean_absolute_error(y_test, y_pred))  \n",
    "print('Mean Squared Error:', metrics.mean_squared_error(y_test, y_pred))  \n",
    "print('Root Mean Squared Error:', np.sqrt(metrics.mean_squared_error(y_test, y_pred))) \n",
    "print('Regreessor Score:',RandomForestRegressor.score(regressor,X_test,  y_test))"
   ]
  },
  {
   "cell_type": "markdown",
   "metadata": {},
   "source": [
    "Examining the features"
   ]
  },
  {
   "cell_type": "code",
   "execution_count": 65,
   "metadata": {},
   "outputs": [
    {
     "data": {
      "image/png": "[encoded data removed]",
      "text/plain": [
       "<Figure size 432x288 with 1 Axes>"
      ]
     },
     "metadata": {
      "needs_background": "light"
     },
     "output_type": "display_data"
    }
   ],
   "source": [
    "feature_import= list(zip(regressor.feature_importances_, model_data.columns[1:]))\n",
    "feature_import = pd.DataFrame(feature_import, columns = ['Importance', 'Feature'])\n",
    "top_features = feature_import.sort_values(by='Importance', ascending=False)[0:15]\n",
    "# quick plot of values\n",
    "sb.set_color_codes(\"pastel\")\n",
    "sb.barplot(x='Importance', y=\"Feature\", data=top_features, color=\"b\")\n",
    "sb.despine(left=True, bottom=True)"
   ]
  },
  {
   "cell_type": "markdown",
   "metadata": {},
   "source": [
    "Looking at features scores it's interesting that time again holds a lot of import. What I dislike here is that's not really something that we can then use as predictive value since that's a coaching decision, not a player skill.\n",
    "\n",
    "Let's try some grid searching to see where we can find some improvements."
   ]
  },
  {
   "cell_type": "code",
   "execution_count": 37,
   "metadata": {},
   "outputs": [
    {
     "name": "stdout",
     "output_type": "stream",
     "text": [
      "GridSearchCV took 50.00 seconds for 108 candidate parameter settings.\n"
     ]
    },
    {
     "data": {
      "text/plain": [
       "{'bootstrap': False,\n",
       " 'max_depth': None,\n",
       " 'max_features': 10,\n",
       " 'min_samples_split': 2,\n",
       " 'n_estimators': 100}"
      ]
     },
     "execution_count": 37,
     "metadata": {},
     "output_type": "execute_result"
    }
   ],
   "source": [
    "RandomForestRegressor(bootstrap=True, criterion='mse', max_depth=None,\n",
    "           max_features='auto', max_leaf_nodes=None,\n",
    "           min_impurity_decrease=0.0, min_impurity_split=None,\n",
    "           min_samples_leaf=1, min_samples_split=2,\n",
    "           min_weight_fraction_leaf=0.0, n_estimators=100, n_jobs=None,\n",
    "           oob_score=False, random_state=0, verbose=0, warm_start=False)\n",
    "\n",
    "\n",
    "param_grid = {\"max_depth\": [10, None],\n",
    "              \"max_features\": [1, 3, 10],\n",
    "              \"min_samples_split\": [2, 3, 10],\n",
    "              'n_estimators':[20,50,100],\n",
    "              \"bootstrap\": [True, False]}\n",
    "\n",
    "# run grid search\n",
    "grid_search = GridSearchCV(regressor, param_grid=param_grid, cv=5)\n",
    "start = time.gmtime()\n",
    "grid_search.fit(X_test,  y_test)\n",
    "\n",
    "print(\"GridSearchCV took %.2f seconds for %d candidate parameter settings.\"\n",
    "      % (time.mktime(time.gmtime()) - time.mktime(start), len(grid_search.cv_results_['params'])))\n",
    "grid_search.best_params_"
   ]
  },
  {
   "cell_type": "code",
   "execution_count": 41,
   "metadata": {},
   "outputs": [
    {
     "name": "stdout",
     "output_type": "stream",
     "text": [
      "Mean Absolute Error: 1.155863306580107e-13\n",
      "Mean Squared Error: 3.082982026066397e-26\n",
      "Root Mean Squared Error: 1.7558422554621462e-13\n",
      "Regreessor Score: 1.0\n"
     ]
    }
   ],
   "source": [
    "best_grid = grid_search.best_estimator_\n",
    "y_pred = best_grid.predict(X_test) \n",
    "\n",
    "print('Mean Absolute Error:', metrics.mean_absolute_error(y_test, y_pred))  \n",
    "print('Mean Squared Error:', metrics.mean_squared_error(y_test, y_pred))  \n",
    "print('Root Mean Squared Error:', np.sqrt(metrics.mean_squared_error(y_test, y_pred))) \n",
    "print('Regressor Score:',RandomForestRegressor.score(best_grid,X_test,  y_test))"
   ]
  },
  {
   "cell_type": "markdown",
   "metadata": {},
   "source": [
    "this is wildly better, almost to the point of overfitting honestly. That regressor score is perfect and those errors are exceptionally small. "
   ]
  },
  {
   "cell_type": "code",
   "execution_count": 64,
   "metadata": {},
   "outputs": [
    {
     "data": {
      "image/png": "[encoded data removed]",
      "text/plain": [
       "<Figure size 432x288 with 1 Axes>"
      ]
     },
     "metadata": {
      "needs_background": "light"
     },
     "output_type": "display_data"
    }
   ],
   "source": [
    "## checking how feature importance has changed\n",
    "feature_import= list(zip(best_grid.feature_importances_, model_data.columns[1:]))\n",
    "feature_import = pd.DataFrame(feature_import, columns = ['Importance', 'Feature'])\n",
    "top_features_grid = feature_import.sort_values(by='Importance', ascending=False)[0:15]\n",
    "# quick plot of values\n",
    "sb.set_color_codes(\"pastel\")\n",
    "sb.barplot(x='Importance', y=\"Feature\", data=top_features, color=\"b\")\n",
    "sb.despine(left=True, bottom=True)"
   ]
  },
  {
   "cell_type": "code",
   "execution_count": 66,
   "metadata": {},
   "outputs": [
    {
     "data": {
      "text/html": [
       "<div>\n",
       "<style scoped>\n",
       "    .dataframe tbody tr th:only-of-type {\n",
       "        vertical-align: middle;\n",
       "    }\n",
       "\n",
       "    .dataframe tbody tr th {\n",
       "        vertical-align: top;\n",
       "    }\n",
       "\n",
       "    .dataframe thead th {\n",
       "        text-align: right;\n",
       "    }\n",
       "</style>\n",
       "<table border=\"1\" class=\"dataframe\">\n",
       "  <thead>\n",
       "    <tr style=\"text-align: right;\">\n",
       "      <th></th>\n",
       "      <th>Importance</th>\n",
       "      <th>Feature</th>\n",
       "    </tr>\n",
       "  </thead>\n",
       "  <tbody>\n",
       "    <tr>\n",
       "      <th>1</th>\n",
       "      <td>0.075793</td>\n",
       "      <td>TOI</td>\n",
       "    </tr>\n",
       "    <tr>\n",
       "      <th>5</th>\n",
       "      <td>0.063569</td>\n",
       "      <td>iFF</td>\n",
       "    </tr>\n",
       "    <tr>\n",
       "      <th>209</th>\n",
       "      <td>0.055161</td>\n",
       "      <td>Total Minutes Played</td>\n",
       "    </tr>\n",
       "    <tr>\n",
       "      <th>155</th>\n",
       "      <td>0.050231</td>\n",
       "      <td>TOI_SIndR</td>\n",
       "    </tr>\n",
       "    <tr>\n",
       "      <th>21</th>\n",
       "      <td>0.046020</td>\n",
       "      <td>TOI_PPIndC</td>\n",
       "    </tr>\n",
       "    <tr>\n",
       "      <th>0</th>\n",
       "      <td>0.043616</td>\n",
       "      <td>GP</td>\n",
       "    </tr>\n",
       "    <tr>\n",
       "      <th>4</th>\n",
       "      <td>0.041913</td>\n",
       "      <td>iCF</td>\n",
       "    </tr>\n",
       "    <tr>\n",
       "      <th>24</th>\n",
       "      <td>0.036585</td>\n",
       "      <td>iCF_PPIndC</td>\n",
       "    </tr>\n",
       "    <tr>\n",
       "      <th>16</th>\n",
       "      <td>0.035407</td>\n",
       "      <td>Giveaways</td>\n",
       "    </tr>\n",
       "    <tr>\n",
       "      <th>6</th>\n",
       "      <td>0.030013</td>\n",
       "      <td>iSCF</td>\n",
       "    </tr>\n",
       "    <tr>\n",
       "      <th>9</th>\n",
       "      <td>0.025359</td>\n",
       "      <td>Rebounds_Created</td>\n",
       "    </tr>\n",
       "    <tr>\n",
       "      <th>25</th>\n",
       "      <td>0.025348</td>\n",
       "      <td>iFF_PPIndC</td>\n",
       "    </tr>\n",
       "    <tr>\n",
       "      <th>18</th>\n",
       "      <td>0.019440</td>\n",
       "      <td>Hits_Taken</td>\n",
       "    </tr>\n",
       "    <tr>\n",
       "      <th>108</th>\n",
       "      <td>0.018778</td>\n",
       "      <td>PPTOI</td>\n",
       "    </tr>\n",
       "    <tr>\n",
       "      <th>26</th>\n",
       "      <td>0.018759</td>\n",
       "      <td>iSCF_PPIndC</td>\n",
       "    </tr>\n",
       "  </tbody>\n",
       "</table>\n",
       "</div>"
      ],
      "text/plain": [
       "     Importance               Feature\n",
       "1      0.075793                   TOI\n",
       "5      0.063569                   iFF\n",
       "209    0.055161  Total Minutes Played\n",
       "155    0.050231             TOI_SIndR\n",
       "21     0.046020            TOI_PPIndC\n",
       "0      0.043616                    GP\n",
       "4      0.041913                   iCF\n",
       "24     0.036585            iCF_PPIndC\n",
       "16     0.035407             Giveaways\n",
       "6      0.030013                  iSCF\n",
       "9      0.025359      Rebounds_Created\n",
       "25     0.025348            iFF_PPIndC\n",
       "18     0.019440            Hits_Taken\n",
       "108    0.018778                 PPTOI\n",
       "26     0.018759           iSCF_PPIndC"
      ]
     },
     "execution_count": 66,
     "metadata": {},
     "output_type": "execute_result"
    }
   ],
   "source": [
    "top_features_grid"
   ]
  },
  {
   "cell_type": "code",
   "execution_count": 67,
   "metadata": {},
   "outputs": [
    {
     "data": {
      "text/html": [
       "<div>\n",
       "<style scoped>\n",
       "    .dataframe tbody tr th:only-of-type {\n",
       "        vertical-align: middle;\n",
       "    }\n",
       "\n",
       "    .dataframe tbody tr th {\n",
       "        vertical-align: top;\n",
       "    }\n",
       "\n",
       "    .dataframe thead th {\n",
       "        text-align: right;\n",
       "    }\n",
       "</style>\n",
       "<table border=\"1\" class=\"dataframe\">\n",
       "  <thead>\n",
       "    <tr style=\"text-align: right;\">\n",
       "      <th></th>\n",
       "      <th>Importance</th>\n",
       "      <th>Feature</th>\n",
       "    </tr>\n",
       "  </thead>\n",
       "  <tbody>\n",
       "    <tr>\n",
       "      <th>209</th>\n",
       "      <td>0.508080</td>\n",
       "      <td>Total Minutes Played</td>\n",
       "    </tr>\n",
       "    <tr>\n",
       "      <th>155</th>\n",
       "      <td>0.249757</td>\n",
       "      <td>TOI_SIndR</td>\n",
       "    </tr>\n",
       "    <tr>\n",
       "      <th>21</th>\n",
       "      <td>0.057745</td>\n",
       "      <td>TOI_PPIndC</td>\n",
       "    </tr>\n",
       "    <tr>\n",
       "      <th>108</th>\n",
       "      <td>0.047369</td>\n",
       "      <td>PPTOI</td>\n",
       "    </tr>\n",
       "    <tr>\n",
       "      <th>1</th>\n",
       "      <td>0.028903</td>\n",
       "      <td>TOI</td>\n",
       "    </tr>\n",
       "    <tr>\n",
       "      <th>5</th>\n",
       "      <td>0.016309</td>\n",
       "      <td>iFF</td>\n",
       "    </tr>\n",
       "    <tr>\n",
       "      <th>166</th>\n",
       "      <td>0.008560</td>\n",
       "      <td>GF_60</td>\n",
       "    </tr>\n",
       "    <tr>\n",
       "      <th>190</th>\n",
       "      <td>0.006044</td>\n",
       "      <td>On-Ice_SHPer</td>\n",
       "    </tr>\n",
       "    <tr>\n",
       "      <th>19</th>\n",
       "      <td>0.005610</td>\n",
       "      <td>Faceoffs_Lost</td>\n",
       "    </tr>\n",
       "    <tr>\n",
       "      <th>4</th>\n",
       "      <td>0.005164</td>\n",
       "      <td>iCF</td>\n",
       "    </tr>\n",
       "    <tr>\n",
       "      <th>2</th>\n",
       "      <td>0.004860</td>\n",
       "      <td>IPP</td>\n",
       "    </tr>\n",
       "    <tr>\n",
       "      <th>6</th>\n",
       "      <td>0.004316</td>\n",
       "      <td>iSCF</td>\n",
       "    </tr>\n",
       "    <tr>\n",
       "      <th>3</th>\n",
       "      <td>0.003562</td>\n",
       "      <td>SHPer</td>\n",
       "    </tr>\n",
       "    <tr>\n",
       "      <th>39</th>\n",
       "      <td>0.002235</td>\n",
       "      <td>Faceoffs_Lost_PPIndC</td>\n",
       "    </tr>\n",
       "    <tr>\n",
       "      <th>59</th>\n",
       "      <td>0.001957</td>\n",
       "      <td>Faceoffs_Lost_PkIndC</td>\n",
       "    </tr>\n",
       "  </tbody>\n",
       "</table>\n",
       "</div>"
      ],
      "text/plain": [
       "     Importance               Feature\n",
       "209    0.508080  Total Minutes Played\n",
       "155    0.249757             TOI_SIndR\n",
       "21     0.057745            TOI_PPIndC\n",
       "108    0.047369                 PPTOI\n",
       "1      0.028903                   TOI\n",
       "5      0.016309                   iFF\n",
       "166    0.008560                 GF_60\n",
       "190    0.006044          On-Ice_SHPer\n",
       "19     0.005610         Faceoffs_Lost\n",
       "4      0.005164                   iCF\n",
       "2      0.004860                   IPP\n",
       "6      0.004316                  iSCF\n",
       "3      0.003562                 SHPer\n",
       "39     0.002235  Faceoffs_Lost_PPIndC\n",
       "59     0.001957  Faceoffs_Lost_PkIndC"
      ]
     },
     "execution_count": 67,
     "metadata": {},
     "output_type": "execute_result"
    }
   ],
   "source": [
    "top_features"
   ]
  },
  {
   "cell_type": "code",
   "execution_count": null,
   "metadata": {},
   "outputs": [],
   "source": []
  }
 ],
 "metadata": {
  "kernelspec": {
   "display_name": "Python 3",
   "language": "python",
   "name": "python3"
  },
  "language_info": {
   "codemirror_mode": {
    "name": "ipython",
    "version": 3
   },
   "file_extension": ".py",
   "mimetype": "text/x-python",
   "name": "python",
   "nbconvert_exporter": "python",
   "pygments_lexer": "ipython3",
   "version": "3.7.1"
  }
 },
 "nbformat": 4,
 "nbformat_minor": 2
}
