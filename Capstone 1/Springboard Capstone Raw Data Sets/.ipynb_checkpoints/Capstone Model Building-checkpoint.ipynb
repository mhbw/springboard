{
 "cells": [
  {
   "cell_type": "markdown",
   "metadata": {},
   "source": [
    "## Capstone Model Building\n",
    "\n",
    "This is our inital passes at a few machine learning models designed to predict NHL player performance in an ESPN fantasy league. "
   ]
  },
  {
   "cell_type": "code",
   "execution_count": 1,
   "metadata": {},
   "outputs": [],
   "source": [
    "## set up packages and import saved flat file\n",
    "import pandas as pd\n",
    "import numpy as np\n",
    "from matplotlib import pyplot as plt\n",
    "from matplotlib import cm as cm\n",
    "import seaborn as sb\n",
    "import researchpy as rp\n",
    "from scipy import stats\n",
    "from sklearn import metrics\n",
    "from sklearn.model_selection import cross_val_predict, GridSearchCV, cross_val_score\n",
    "from sklearn.model_selection import cross_val_score\n",
    "from sklearn.ensemble import RandomForestRegressor\n",
    "from sklearn.model_selection import train_test_split\n",
    "import time\n",
    "from sklearn.metrics import roc_curve, roc_auc_score"
   ]
  },
  {
   "cell_type": "code",
   "execution_count": 2,
   "metadata": {},
   "outputs": [
    {
     "data": {
      "text/html": [
       "<div>\n",
       "<style scoped>\n",
       "    .dataframe tbody tr th:only-of-type {\n",
       "        vertical-align: middle;\n",
       "    }\n",
       "\n",
       "    .dataframe tbody tr th {\n",
       "        vertical-align: top;\n",
       "    }\n",
       "\n",
       "    .dataframe thead th {\n",
       "        text-align: right;\n",
       "    }\n",
       "</style>\n",
       "<table border=\"1\" class=\"dataframe\">\n",
       "  <thead>\n",
       "    <tr style=\"text-align: right;\">\n",
       "      <th></th>\n",
       "      <th>Player</th>\n",
       "      <th>Team</th>\n",
       "      <th>Year</th>\n",
       "      <th>Position</th>\n",
       "      <th>Fantasy Points</th>\n",
       "      <th>GP</th>\n",
       "      <th>TOI</th>\n",
       "      <th>IPP</th>\n",
       "      <th>SHPer</th>\n",
       "      <th>iCF</th>\n",
       "      <th>...</th>\n",
       "      <th>Weight_(lbs)</th>\n",
       "      <th>Draft_Round</th>\n",
       "      <th>Round_Pick</th>\n",
       "      <th>Overall_Draft_Position</th>\n",
       "      <th>drafted</th>\n",
       "      <th>Total Minutes Played</th>\n",
       "      <th>C</th>\n",
       "      <th>D</th>\n",
       "      <th>L</th>\n",
       "      <th>R</th>\n",
       "    </tr>\n",
       "  </thead>\n",
       "  <tbody>\n",
       "    <tr>\n",
       "      <th>0</th>\n",
       "      <td>Aaron Ness</td>\n",
       "      <td>NYI</td>\n",
       "      <td>2014</td>\n",
       "      <td>D</td>\n",
       "      <td>25.80</td>\n",
       "      <td>20</td>\n",
       "      <td>275.25</td>\n",
       "      <td>100.0</td>\n",
       "      <td>4.35</td>\n",
       "      <td>48</td>\n",
       "      <td>...</td>\n",
       "      <td>184</td>\n",
       "      <td>2.0</td>\n",
       "      <td>10.0</td>\n",
       "      <td>40.0</td>\n",
       "      <td>1</td>\n",
       "      <td>295.88</td>\n",
       "      <td>0</td>\n",
       "      <td>1</td>\n",
       "      <td>0</td>\n",
       "      <td>0</td>\n",
       "    </tr>\n",
       "    <tr>\n",
       "      <th>1</th>\n",
       "      <td>Aaron Palushaj</td>\n",
       "      <td>CAR</td>\n",
       "      <td>2014</td>\n",
       "      <td>R</td>\n",
       "      <td>0.95</td>\n",
       "      <td>2</td>\n",
       "      <td>17.52</td>\n",
       "      <td>0.0</td>\n",
       "      <td>0.00</td>\n",
       "      <td>4</td>\n",
       "      <td>...</td>\n",
       "      <td>187</td>\n",
       "      <td>2.0</td>\n",
       "      <td>14.0</td>\n",
       "      <td>44.0</td>\n",
       "      <td>1</td>\n",
       "      <td>18.65</td>\n",
       "      <td>0</td>\n",
       "      <td>0</td>\n",
       "      <td>0</td>\n",
       "      <td>1</td>\n",
       "    </tr>\n",
       "    <tr>\n",
       "      <th>2</th>\n",
       "      <td>Aaron Rome</td>\n",
       "      <td>DAL</td>\n",
       "      <td>2014</td>\n",
       "      <td>D</td>\n",
       "      <td>27.50</td>\n",
       "      <td>25</td>\n",
       "      <td>301.20</td>\n",
       "      <td>10.0</td>\n",
       "      <td>0.00</td>\n",
       "      <td>36</td>\n",
       "      <td>...</td>\n",
       "      <td>220</td>\n",
       "      <td>4.0</td>\n",
       "      <td>8.0</td>\n",
       "      <td>104.0</td>\n",
       "      <td>1</td>\n",
       "      <td>327.20</td>\n",
       "      <td>0</td>\n",
       "      <td>1</td>\n",
       "      <td>0</td>\n",
       "      <td>0</td>\n",
       "    </tr>\n",
       "    <tr>\n",
       "      <th>3</th>\n",
       "      <td>Aaron Volpatti</td>\n",
       "      <td>WSH</td>\n",
       "      <td>2014</td>\n",
       "      <td>L</td>\n",
       "      <td>32.25</td>\n",
       "      <td>41</td>\n",
       "      <td>300.18</td>\n",
       "      <td>50.0</td>\n",
       "      <td>11.11</td>\n",
       "      <td>39</td>\n",
       "      <td>...</td>\n",
       "      <td>215</td>\n",
       "      <td>100.0</td>\n",
       "      <td>100.0</td>\n",
       "      <td>1000.0</td>\n",
       "      <td>0</td>\n",
       "      <td>301.87</td>\n",
       "      <td>0</td>\n",
       "      <td>0</td>\n",
       "      <td>1</td>\n",
       "      <td>0</td>\n",
       "    </tr>\n",
       "    <tr>\n",
       "      <th>4</th>\n",
       "      <td>Adam Almquist</td>\n",
       "      <td>DET</td>\n",
       "      <td>2014</td>\n",
       "      <td>D</td>\n",
       "      <td>3.45</td>\n",
       "      <td>2</td>\n",
       "      <td>31.52</td>\n",
       "      <td>50.0</td>\n",
       "      <td>50.00</td>\n",
       "      <td>3</td>\n",
       "      <td>...</td>\n",
       "      <td>174</td>\n",
       "      <td>7.0</td>\n",
       "      <td>29.0</td>\n",
       "      <td>210.0</td>\n",
       "      <td>1</td>\n",
       "      <td>34.43</td>\n",
       "      <td>0</td>\n",
       "      <td>1</td>\n",
       "      <td>0</td>\n",
       "      <td>0</td>\n",
       "    </tr>\n",
       "  </tbody>\n",
       "</table>\n",
       "<p>5 rows × 219 columns</p>\n",
       "</div>"
      ],
      "text/plain": [
       "           Player Team  Year Position  Fantasy Points  GP     TOI    IPP  \\\n",
       "0      Aaron Ness  NYI  2014        D           25.80  20  275.25  100.0   \n",
       "1  Aaron Palushaj  CAR  2014        R            0.95   2   17.52    0.0   \n",
       "2      Aaron Rome  DAL  2014        D           27.50  25  301.20   10.0   \n",
       "3  Aaron Volpatti  WSH  2014        L           32.25  41  300.18   50.0   \n",
       "4   Adam Almquist  DET  2014        D            3.45   2   31.52   50.0   \n",
       "\n",
       "   SHPer  iCF ...  Weight_(lbs)  Draft_Round  Round_Pick  \\\n",
       "0   4.35   48 ...           184          2.0        10.0   \n",
       "1   0.00    4 ...           187          2.0        14.0   \n",
       "2   0.00   36 ...           220          4.0         8.0   \n",
       "3  11.11   39 ...           215        100.0       100.0   \n",
       "4  50.00    3 ...           174          7.0        29.0   \n",
       "\n",
       "   Overall_Draft_Position  drafted  Total Minutes Played  C  D  L  R  \n",
       "0                    40.0        1                295.88  0  1  0  0  \n",
       "1                    44.0        1                 18.65  0  0  0  1  \n",
       "2                   104.0        1                327.20  0  1  0  0  \n",
       "3                  1000.0        0                301.87  0  0  1  0  \n",
       "4                   210.0        1                 34.43  0  1  0  0  \n",
       "\n",
       "[5 rows x 219 columns]"
      ]
     },
     "execution_count": 2,
     "metadata": {},
     "output_type": "execute_result"
    }
   ],
   "source": [
    "## import our now cleaned flat file, remind ourselves what it looks like\n",
    "\n",
    "model_data = pd.read_csv('model_ready_data.csv')\n",
    "model_data.head()"
   ]
  },
  {
   "cell_type": "code",
   "execution_count": 3,
   "metadata": {},
   "outputs": [],
   "source": [
    "# we need to reset the index and split into target and features \n",
    "model_data.set_index(keys=['Player','Team','Year','Position'],inplace=True)\n",
    "Target = model_data.iloc[:,0].values  \n",
    "features = model_data.iloc[:, 1:].values \n",
    "X_train, X_test, y_train, y_test = train_test_split(features, Target, test_size=0.2, random_state=0)  "
   ]
  },
  {
   "cell_type": "markdown",
   "metadata": {},
   "source": [
    "Initially we'll start with a random forest regressor"
   ]
  },
  {
   "cell_type": "code",
   "execution_count": 4,
   "metadata": {},
   "outputs": [
    {
     "data": {
      "text/plain": [
       "RandomForestRegressor(bootstrap=True, criterion='mse', max_depth=None,\n",
       "           max_features='auto', max_leaf_nodes=None,\n",
       "           min_impurity_decrease=0.0, min_impurity_split=None,\n",
       "           min_samples_leaf=1, min_samples_split=2,\n",
       "           min_weight_fraction_leaf=0.0, n_estimators=20, n_jobs=None,\n",
       "           oob_score=False, random_state=0, verbose=0, warm_start=False)"
      ]
     },
     "execution_count": 4,
     "metadata": {},
     "output_type": "execute_result"
    }
   ],
   "source": [
    "## fitting without parameter tuning\n",
    "regressor = RandomForestRegressor(n_estimators=20, random_state=0)  \n",
    "regressor.fit(X_train, y_train)  "
   ]
  },
  {
   "cell_type": "markdown",
   "metadata": {},
   "source": [
    "Making intial predictions and charting performance"
   ]
  },
  {
   "cell_type": "code",
   "execution_count": 19,
   "metadata": {},
   "outputs": [
    {
     "name": "stdout",
     "output_type": "stream",
     "text": [
      "Mean Absolute Error: 11.753717660292464\n",
      "Mean Squared Error: 295.7487059898763\n",
      "Root Mean Squared Error: 17.19734589958219\n",
      "Regreessor Score: 0.9514555313337327\n"
     ]
    }
   ],
   "source": [
    "y_pred = regressor.predict(X_test)  \n",
    "from sklearn import metrics\n",
    "\n",
    "print('Mean Absolute Error:', metrics.mean_absolute_error(y_test, y_pred))  \n",
    "print('Mean Squared Error:', metrics.mean_squared_error(y_test, y_pred))  \n",
    "print('Root Mean Squared Error:', np.sqrt(metrics.mean_squared_error(y_test, y_pred))) \n",
    "print('Regreessor Score:',RandomForestRegressor.score(regressor,X_test,  y_test))"
   ]
  },
  {
   "cell_type": "markdown",
   "metadata": {},
   "source": [
    "Examining the features"
   ]
  },
  {
   "cell_type": "code",
   "execution_count": 6,
   "metadata": {
    "scrolled": true
   },
   "outputs": [
    {
     "data": {
      "image/png": "[encoded data removed]",
      "text/plain": [
       "<Figure size 432x288 with 1 Axes>"
      ]
     },
     "metadata": {
      "needs_background": "light"
     },
     "output_type": "display_data"
    }
   ],
   "source": [
    "feature_import= list(zip(regressor.feature_importances_, model_data.columns[1:]))\n",
    "feature_import = pd.DataFrame(feature_import, columns = ['Importance', 'Feature'])\n",
    "top_features = feature_import.sort_values(by='Importance', ascending=False)[0:15]\n",
    "# quick plot of values\n",
    "sb.set_color_codes(\"pastel\")\n",
    "sb.barplot(x='Importance', y=\"Feature\", data=top_features, color=\"b\")\n",
    "sb.despine(left=True, bottom=True)"
   ]
  },
  {
   "cell_type": "markdown",
   "metadata": {},
   "source": [
    "Looking at features scores it's interesting that time again holds a lot of import. What I dislike here is that's not really something that we can then use as predictive value since that's a coaching decision, not a player skill.\n",
    "\n",
    "Let's try some grid searching to see where we can find some improvements."
   ]
  },
  {
   "cell_type": "code",
   "execution_count": 7,
   "metadata": {},
   "outputs": [
    {
     "name": "stdout",
     "output_type": "stream",
     "text": [
      "GridSearchCV took 399.00 seconds for 108 candidate parameter settings.\n"
     ]
    },
    {
     "data": {
      "text/plain": [
       "{'bootstrap': False,\n",
       " 'max_depth': None,\n",
       " 'max_features': 10,\n",
       " 'min_samples_split': 2,\n",
       " 'n_estimators': 100}"
      ]
     },
     "execution_count": 7,
     "metadata": {},
     "output_type": "execute_result"
    }
   ],
   "source": [
    "RandomForestRegressor(bootstrap=True, criterion='mse', max_depth=None,\n",
    "           max_features='auto', max_leaf_nodes=None,\n",
    "           min_impurity_decrease=0.0, min_impurity_split=None,\n",
    "           min_samples_leaf=1, min_samples_split=2,\n",
    "           min_weight_fraction_leaf=0.0, n_estimators=100, n_jobs=None,\n",
    "           oob_score=False, random_state=0, verbose=0, warm_start=False)\n",
    "\n",
    "\n",
    "param_grid = {\"max_depth\": [10, None],\n",
    "              \"max_features\": [1, 3, 10],\n",
    "              \"min_samples_split\": [2, 3, 10],\n",
    "              'n_estimators':[20,50,100],\n",
    "              \"bootstrap\": [True, False]}\n",
    "\n",
    "# run grid search\n",
    "grid_search = GridSearchCV(regressor, param_grid=param_grid, cv=5)\n",
    "start = time.gmtime()\n",
    "grid_search.fit(X_train,  y_train)\n",
    "\n",
    "print(\"GridSearchCV took %.2f seconds for %d candidate parameter settings.\"\n",
    "      % (time.mktime(time.gmtime()) - time.mktime(start), len(grid_search.cv_results_['params'])))\n",
    "grid_search.best_params_"
   ]
  },
  {
   "cell_type": "code",
   "execution_count": 8,
   "metadata": {},
   "outputs": [
    {
     "name": "stdout",
     "output_type": "stream",
     "text": [
      "Mean Absolute Error: 11.198483689538806\n",
      "Mean Squared Error: 264.4461418239595\n",
      "Root Mean Squared Error: 16.261800079448754\n",
      "Regressor Score: 0.9565935634351417\n"
     ]
    }
   ],
   "source": [
    "best_grid = grid_search.best_estimator_\n",
    "y_pred = best_grid.predict(X_test) \n",
    "\n",
    "print('Mean Absolute Error:', metrics.mean_absolute_error(y_test, y_pred))  \n",
    "print('Mean Squared Error:', metrics.mean_squared_error(y_test, y_pred))  \n",
    "print('Root Mean Squared Error:', np.sqrt(metrics.mean_squared_error(y_test, y_pred))) \n",
    "print('Regressor Score:',RandomForestRegressor.score(best_grid,X_test,  y_test))"
   ]
  },
  {
   "cell_type": "markdown",
   "metadata": {},
   "source": [
    "The grid search did improve some but not a ton across the board, other than in MSE, which makes sense as that's the metric it's scoring on.\n",
    "\n",
    "| Metric      | Original          | Grid Search  | \n",
    "| ------------- |:-------------:| -----:| \n",
    "| Mean Absolute Error:    |  11.75 | **11.2** | \n",
    "| Mean Squared Error:    |  295.75 | **264.45** | \n",
    "| Root Mean Squared Error:     |  17.2 | **16.26** | \n",
    "| Regressor Score:    |  0.95 | **0.96** | \n",
    "    \n"
   ]
  },
  {
   "cell_type": "code",
   "execution_count": 9,
   "metadata": {},
   "outputs": [
    {
     "data": {
      "image/png": "[encoded data removed]",
      "text/plain": [
       "<Figure size 432x288 with 1 Axes>"
      ]
     },
     "metadata": {
      "needs_background": "light"
     },
     "output_type": "display_data"
    }
   ],
   "source": [
    "## checking how feature importance has changed\n",
    "feature_import= list(zip(best_grid.feature_importances_, model_data.columns[1:]))\n",
    "feature_import = pd.DataFrame(feature_import, columns = ['Importance', 'Feature'])\n",
    "top_features_grid = feature_import.sort_values(by='Importance', ascending=False)[0:15]\n",
    "# quick plot of values\n",
    "sb.set_color_codes(\"pastel\")\n",
    "sb.barplot(x='Importance', y=\"Feature\", data=top_features, color=\"b\")\n",
    "sb.despine(left=True, bottom=True)"
   ]
  },
  {
   "cell_type": "code",
   "execution_count": 10,
   "metadata": {},
   "outputs": [],
   "source": [
    "## for fun I decided to re run the above using just the top 15 features, to see if triming \n",
    "## the options would reduce noise even further\n",
    "feature_list = top_features_grid.Feature.unique()\n",
    "trimmed_features = model_data.loc[:,feature_list].values \n",
    "trimmed_X_train, trimmed_X_test, trimmed_y_train, trimmed_y_test = train_test_split(trimmed_features, Target, test_size=0.2, random_state=0) "
   ]
  },
  {
   "cell_type": "code",
   "execution_count": 11,
   "metadata": {
    "scrolled": true
   },
   "outputs": [
    {
     "name": "stdout",
     "output_type": "stream",
     "text": [
      "GridSearchCV took 383.00 seconds for 108 candidate parameter settings.\n"
     ]
    },
    {
     "data": {
      "text/plain": [
       "{'bootstrap': False,\n",
       " 'max_depth': None,\n",
       " 'max_features': 3,\n",
       " 'min_samples_split': 10,\n",
       " 'n_estimators': 100}"
      ]
     },
     "execution_count": 11,
     "metadata": {},
     "output_type": "execute_result"
    }
   ],
   "source": [
    "trimmed_regressor = RandomForestRegressor(n_estimators=20, random_state=0)  \n",
    "trimmed_regressor.fit(trimmed_X_train, trimmed_y_train)\n",
    "# run grid search\n",
    "grid_search = GridSearchCV(regressor, param_grid=param_grid, cv=5)\n",
    "start = time.gmtime()\n",
    "grid_search.fit(trimmed_X_train,  trimmed_y_train)\n",
    "\n",
    "print(\"GridSearchCV took %.2f seconds for %d candidate parameter settings.\"\n",
    "      % (time.mktime(time.gmtime()) - time.mktime(start), len(grid_search.cv_results_['params'])))\n",
    "grid_search.best_params_"
   ]
  },
  {
   "cell_type": "code",
   "execution_count": 32,
   "metadata": {},
   "outputs": [
    {
     "name": "stdout",
     "output_type": "stream",
     "text": [
      "Mean Absolute Error: 13.700202715955148\n",
      "Mean Squared Error: 400.8060463075549\n",
      "Root Mean Squared Error: 20.020141016175558\n",
      "Regressor Score: 0.9342113214287618\n"
     ]
    }
   ],
   "source": [
    "best_grid = grid_search.best_estimator_\n",
    "trimmed_y_pred = best_grid.predict(trimmed_X_test) \n",
    "\n",
    "print('Mean Absolute Error:', metrics.mean_absolute_error(trimmed_y_test, trimmed_y_pred))  \n",
    "print('Mean Squared Error:', metrics.mean_squared_error(trimmed_y_test, trimmed_y_pred))  \n",
    "print('Root Mean Squared Error:', np.sqrt(metrics.mean_squared_error(trimmed_y_test, trimmed_y_pred))) \n",
    "print('Regressor Score:',RandomForestRegressor.score(best_grid,trimmed_X_test,  trimmed_y_test))"
   ]
  },
  {
   "cell_type": "markdown",
   "metadata": {},
   "source": [
    "So that backfired in that it significantly increased the errors, especially on MSE, which is pretty significant.\n",
    "\n",
    "Let's move on and try some more classic models"
   ]
  },
  {
   "cell_type": "code",
   "execution_count": 13,
   "metadata": {},
   "outputs": [
    {
     "name": "stdout",
     "output_type": "stream",
     "text": [
      "87.15018870475052\n"
     ]
    }
   ],
   "source": [
    "## linear regression\n",
    "from sklearn.linear_model import LinearRegression\n",
    "lin_reg = LinearRegression()  \n",
    "lin_reg.fit(X_train, y_train) \n",
    "print(lin_reg.intercept_)"
   ]
  },
  {
   "cell_type": "code",
   "execution_count": 14,
   "metadata": {},
   "outputs": [
    {
     "data": {
      "text/html": [
       "<div>\n",
       "<style scoped>\n",
       "    .dataframe tbody tr th:only-of-type {\n",
       "        vertical-align: middle;\n",
       "    }\n",
       "\n",
       "    .dataframe tbody tr th {\n",
       "        vertical-align: top;\n",
       "    }\n",
       "\n",
       "    .dataframe thead th {\n",
       "        text-align: right;\n",
       "    }\n",
       "</style>\n",
       "<table border=\"1\" class=\"dataframe\">\n",
       "  <thead>\n",
       "    <tr style=\"text-align: right;\">\n",
       "      <th></th>\n",
       "      <th>Actual</th>\n",
       "      <th>Predicted</th>\n",
       "    </tr>\n",
       "  </thead>\n",
       "  <tbody>\n",
       "    <tr>\n",
       "      <th>1</th>\n",
       "      <td>14.35</td>\n",
       "      <td>16.345904</td>\n",
       "    </tr>\n",
       "    <tr>\n",
       "      <th>2</th>\n",
       "      <td>233.65</td>\n",
       "      <td>199.122168</td>\n",
       "    </tr>\n",
       "    <tr>\n",
       "      <th>3</th>\n",
       "      <td>141.50</td>\n",
       "      <td>153.884523</td>\n",
       "    </tr>\n",
       "    <tr>\n",
       "      <th>4</th>\n",
       "      <td>185.85</td>\n",
       "      <td>200.685100</td>\n",
       "    </tr>\n",
       "    <tr>\n",
       "      <th>5</th>\n",
       "      <td>150.95</td>\n",
       "      <td>164.722377</td>\n",
       "    </tr>\n",
       "    <tr>\n",
       "      <th>6</th>\n",
       "      <td>135.25</td>\n",
       "      <td>130.762171</td>\n",
       "    </tr>\n",
       "    <tr>\n",
       "      <th>7</th>\n",
       "      <td>75.00</td>\n",
       "      <td>91.965385</td>\n",
       "    </tr>\n",
       "    <tr>\n",
       "      <th>8</th>\n",
       "      <td>158.80</td>\n",
       "      <td>176.621316</td>\n",
       "    </tr>\n",
       "    <tr>\n",
       "      <th>9</th>\n",
       "      <td>108.85</td>\n",
       "      <td>109.707626</td>\n",
       "    </tr>\n",
       "    <tr>\n",
       "      <th>10</th>\n",
       "      <td>120.45</td>\n",
       "      <td>144.194733</td>\n",
       "    </tr>\n",
       "    <tr>\n",
       "      <th>11</th>\n",
       "      <td>28.90</td>\n",
       "      <td>37.639985</td>\n",
       "    </tr>\n",
       "    <tr>\n",
       "      <th>12</th>\n",
       "      <td>2.10</td>\n",
       "      <td>-4.960848</td>\n",
       "    </tr>\n",
       "    <tr>\n",
       "      <th>13</th>\n",
       "      <td>23.20</td>\n",
       "      <td>22.921417</td>\n",
       "    </tr>\n",
       "    <tr>\n",
       "      <th>14</th>\n",
       "      <td>306.30</td>\n",
       "      <td>275.603815</td>\n",
       "    </tr>\n",
       "    <tr>\n",
       "      <th>15</th>\n",
       "      <td>59.05</td>\n",
       "      <td>44.927538</td>\n",
       "    </tr>\n",
       "    <tr>\n",
       "      <th>16</th>\n",
       "      <td>33.55</td>\n",
       "      <td>33.830963</td>\n",
       "    </tr>\n",
       "    <tr>\n",
       "      <th>17</th>\n",
       "      <td>162.30</td>\n",
       "      <td>170.539265</td>\n",
       "    </tr>\n",
       "    <tr>\n",
       "      <th>18</th>\n",
       "      <td>1.45</td>\n",
       "      <td>-7.266848</td>\n",
       "    </tr>\n",
       "    <tr>\n",
       "      <th>19</th>\n",
       "      <td>35.95</td>\n",
       "      <td>38.811192</td>\n",
       "    </tr>\n",
       "  </tbody>\n",
       "</table>\n",
       "</div>"
      ],
      "text/plain": [
       "    Actual   Predicted\n",
       "1    14.35   16.345904\n",
       "2   233.65  199.122168\n",
       "3   141.50  153.884523\n",
       "4   185.85  200.685100\n",
       "5   150.95  164.722377\n",
       "6   135.25  130.762171\n",
       "7    75.00   91.965385\n",
       "8   158.80  176.621316\n",
       "9   108.85  109.707626\n",
       "10  120.45  144.194733\n",
       "11   28.90   37.639985\n",
       "12    2.10   -4.960848\n",
       "13   23.20   22.921417\n",
       "14  306.30  275.603815\n",
       "15   59.05   44.927538\n",
       "16   33.55   33.830963\n",
       "17  162.30  170.539265\n",
       "18    1.45   -7.266848\n",
       "19   35.95   38.811192"
      ]
     },
     "execution_count": 14,
     "metadata": {},
     "output_type": "execute_result"
    }
   ],
   "source": [
    "y_pred = lin_reg.predict(X_test)\n",
    "df = pd.DataFrame({'Actual': y_test.flatten(), 'Predicted': y_pred.flatten()})\n",
    "df[1:20]"
   ]
  },
  {
   "cell_type": "markdown",
   "metadata": {},
   "source": [
    "This is sort of goofy in that there are negative values, which I'm sure there should be some way to prevent in the code. From a glance they're low value players anyway, but it's still seems less than ideal. "
   ]
  },
  {
   "cell_type": "code",
   "execution_count": 15,
   "metadata": {},
   "outputs": [
    {
     "name": "stdout",
     "output_type": "stream",
     "text": [
      "Mean Absolute Error: 12.528944160797773\n",
      "Mean Squared Error: 280.0456966076711\n",
      "Root Mean Squared Error: 16.734565922296017\n",
      "Regressor Score: 0.9540330379516203\n"
     ]
    }
   ],
   "source": [
    "## looking at metrics\n",
    "print('Mean Absolute Error:', metrics.mean_absolute_error(y_test, y_pred))  \n",
    "print('Mean Squared Error:', metrics.mean_squared_error(y_test, y_pred))  \n",
    "print('Root Mean Squared Error:', np.sqrt(metrics.mean_squared_error(y_test, y_pred))) \n",
    "print('Regressor Score:',LinearRegression.score(lin_reg,X_test,  y_test))"
   ]
  },
  {
   "cell_type": "markdown",
   "metadata": {},
   "source": [
    "Well this is a close but no cigar type item. The RMSE was about the same, but in every other area \n",
    "\n",
    "| Metric      | Linear Regression         | Grid Search  | \n",
    "| ------------- |:-------------:| -----:| \n",
    "| Mean Absolute Error:    |  12.53 | **11.2** | \n",
    "| Mean Squared Error:    |  280.05 | **264.45** | \n",
    "| Root Mean Squared Error:     |  16.73 | **16.26** | \n",
    "| Regressor Score:    |  0.95 | **0.96** | "
   ]
  },
  {
   "cell_type": "code",
   "execution_count": 16,
   "metadata": {},
   "outputs": [
    {
     "name": "stderr",
     "output_type": "stream",
     "text": [
      "/anaconda3/lib/python3.7/site-packages/sklearn/linear_model/stochastic_gradient.py:166: FutureWarning: max_iter and tol parameters have been added in SGDRegressor in 0.19. If both are left unset, they default to max_iter=5 and tol=None. If tol is not None, max_iter defaults to max_iter=1000. From 0.21, default max_iter will be 1000, and default tol will be 1e-3.\n",
      "  FutureWarning)\n"
     ]
    }
   ],
   "source": [
    "## let's try some gradient decent\n",
    "\n",
    "from sklearn.linear_model import SGDRegressor\n",
    "\n",
    "stgd = SGDRegressor()\n",
    "stgd.fit(X_train, y_train)\n",
    "sty_pred = stgd.predict(X_test)\n"
   ]
  },
  {
   "cell_type": "code",
   "execution_count": 48,
   "metadata": {},
   "outputs": [
    {
     "name": "stdout",
     "output_type": "stream",
     "text": [
      "Mean Absolute Error: 443635586549375.94\n",
      "Mean Squared Error: 3.955475867323528e+29\n",
      "Root Mean Squared Error: 628925740236757.0\n",
      "Regressor Score: -6.492555010808275e+25\n"
     ]
    }
   ],
   "source": [
    "print('Mean Absolute Error:', metrics.mean_absolute_error(y_test, sty_pred))  \n",
    "print('Mean Squared Error:', metrics.mean_squared_error(y_test, sty_pred))  \n",
    "print('Root Mean Squared Error:', np.sqrt(metrics.mean_squared_error(y_test, sty_pred))) \n",
    "print('Regressor Score:',LinearRegression.score(stgd,X_test,  y_test))"
   ]
  },
  {
   "cell_type": "code",
   "execution_count": 18,
   "metadata": {},
   "outputs": [
    {
     "data": {
      "text/plain": [
       "array([ 1.54033541e+15, -4.49114207e+14,  1.04314885e+15,  1.60428890e+15,\n",
       "        1.24335818e+15,  1.09990686e+15,  8.93019237e+14,  6.77440925e+14,\n",
       "        1.33856185e+15,  1.28060403e+15,  1.09600890e+15,  4.88059332e+13,\n",
       "       -1.59501353e+14, -1.68344205e+14,  2.03802875e+15,  9.04006905e+13,\n",
       "       -5.04492690e+14,  1.66341661e+15, -1.43126612e+14, -6.73121022e+13,\n",
       "        1.12412235e+15,  1.33422941e+15, -2.81273656e+14,  1.23292586e+15,\n",
       "        7.31628185e+14,  7.57702858e+14,  1.01816824e+15,  2.00689108e+15,\n",
       "       -1.04599514e+13,  1.60197050e+15,  3.60324599e+13, -2.50328173e+14,\n",
       "        1.03670608e+15,  1.10985711e+15,  5.98305502e+14,  1.03535936e+15,\n",
       "        1.35308903e+15, -3.13334933e+14,  1.93884740e+15, -3.81209319e+14,\n",
       "        1.42147706e+15, -1.14822204e+14, -3.00555558e+14, -2.31191682e+14,\n",
       "        1.62147580e+15,  1.22505497e+15,  1.77634117e+14,  1.72071453e+15,\n",
       "       -3.32105052e+14,  1.30315472e+15,  1.91062347e+14, -2.55830504e+13,\n",
       "        1.86360373e+15, -2.26030164e+14, -1.75945418e+14, -2.25097201e+14,\n",
       "        1.95670490e+15,  5.52462014e+14, -1.01595060e+14,  9.65015198e+14,\n",
       "        1.51587228e+15, -3.41546559e+14, -3.02314768e+14,  8.05788331e+14,\n",
       "       -9.77625074e+13,  2.68573989e+14,  7.80812606e+14,  1.12344250e+15,\n",
       "       -1.25417981e+14, -2.00297871e+14,  5.27892389e+14,  1.69813045e+15,\n",
       "       -1.84242436e+14,  1.18053184e+15, -7.83001630e+14,  1.39463942e+15,\n",
       "       -1.91107889e+14,  5.05874573e+14,  7.95588701e+14,  7.30739960e+14,\n",
       "        1.31567290e+15, -2.99452274e+14,  1.02135006e+15, -1.85442166e+14,\n",
       "       -1.70800793e+14,  1.83647457e+15,  8.27118511e+14,  1.37309167e+15,\n",
       "       -2.12948876e+14,  9.04765724e+14, -2.16050597e+14,  1.48762343e+15,\n",
       "        7.33939175e+14,  1.24013221e+15,  1.44190524e+15, -5.41756275e+14,\n",
       "        2.77754508e+14, -2.97161670e+14,  2.21144913e+14,  1.10487715e+15,\n",
       "        5.39659070e+14, -2.02164320e+14,  8.96647072e+13,  1.38777923e+15,\n",
       "       -1.96098136e+14, -2.35714611e+14, -2.57152152e+14,  4.73541590e+13,\n",
       "        1.17855604e+15,  1.50982918e+15,  1.18648807e+15,  3.41032817e+14,\n",
       "        1.31923645e+15, -6.71358920e+13,  8.22170333e+14,  6.64718247e+14,\n",
       "        6.81086311e+14, -2.23553879e+14,  8.97647682e+14,  4.99183266e+14,\n",
       "        9.24636416e+14,  7.85752789e+13,  8.05054201e+14,  2.05750366e+14,\n",
       "       -4.78263501e+13,  1.67787028e+14,  9.41655352e+14, -1.27468697e+14,\n",
       "       -2.49065704e+14,  1.43379544e+15,  1.28210337e+14,  1.10706523e+15,\n",
       "        7.21698126e+14,  1.19844819e+15, -1.04843889e+14,  6.90980966e+14,\n",
       "       -1.72829485e+14,  1.09712079e+15,  4.85050231e+13,  1.52674495e+15,\n",
       "        2.22152067e+14, -1.11852450e+14,  3.33755054e+14,  1.28678305e+15,\n",
       "        1.19201949e+15,  3.21544853e+14,  9.85863421e+14,  8.18311239e+14,\n",
       "        1.55207159e+15,  3.14982903e+14, -3.99988742e+14, -4.05636574e+14,\n",
       "        9.28055697e+14,  6.95058111e+14,  1.65056625e+15,  1.66126181e+15,\n",
       "        1.29530898e+15,  1.77573594e+15,  2.49287864e+14,  1.52701769e+15,\n",
       "       -5.92554806e+14,  8.62172846e+14,  1.07704979e+15,  1.84638687e+15,\n",
       "        1.08885721e+15, -2.21951068e+14, -4.99078745e+14, -4.96182855e+14,\n",
       "        6.80970717e+14,  4.60926916e+14,  2.12628746e+14, -1.74229081e+14,\n",
       "        6.65087047e+14,  1.35901239e+15,  1.53636682e+15,  1.79866014e+15,\n",
       "        5.62981358e+14, -2.43186917e+14,  4.57159144e+14,  1.52316139e+15,\n",
       "        1.37508919e+15,  8.45215761e+14,  5.47157785e+14,  6.82422108e+14,\n",
       "        8.18986096e+14, -1.61434009e+15,  2.66270819e+14, -1.36961085e+14,\n",
       "        1.16746271e+15,  8.52935799e+12,  1.35043321e+15,  1.31124584e+15,\n",
       "       -1.31963055e+14, -2.76512446e+14,  9.75935083e+14,  3.30331005e+14,\n",
       "        8.95358466e+14,  3.33369253e+14,  1.00376742e+15,  1.11746091e+15,\n",
       "       -1.40499282e+14,  1.72974197e+15,  4.92838949e+14,  1.45275306e+14,\n",
       "       -7.64030433e+13,  7.11790811e+14,  1.56555637e+15,  3.25746086e+13,\n",
       "        1.62421142e+15,  9.05351644e+14,  2.93221864e+14,  2.00371891e+14,\n",
       "       -4.79454958e+13,  1.63270227e+15,  1.42742040e+15,  6.01094919e+14,\n",
       "       -2.63903782e+14,  1.50583934e+15,  1.23208837e+14,  1.02333679e+15,\n",
       "       -8.21536451e+14,  1.46481230e+15,  1.11416539e+15,  1.31344339e+15,\n",
       "        2.75390981e+14,  1.33589890e+15,  9.05583446e+14,  6.02910699e+14,\n",
       "        1.03258866e+15,  9.84020495e+12,  8.85371185e+14,  7.33874951e+14,\n",
       "        9.19064804e+14, -2.54565513e+14,  3.71538495e+14,  1.47255519e+15,\n",
       "        8.96698487e+13,  8.70658274e+14,  1.79640915e+15, -1.62268985e+14,\n",
       "       -2.27109374e+14,  2.68235574e+14,  2.73153663e+13,  4.23186099e+14,\n",
       "       -1.45024246e+13,  1.76123983e+15, -1.96848114e+14,  4.80683805e+13,\n",
       "        1.22639457e+15,  9.32317718e+14,  3.67856837e+14,  3.93402264e+14,\n",
       "        3.80460039e+13,  4.07687566e+14,  1.40742639e+15, -2.73884940e+14,\n",
       "        1.22234415e+15,  1.44393152e+14,  3.17324213e+14,  1.44093070e+14,\n",
       "       -4.61940092e+13,  1.39433384e+15,  1.09092781e+15, -1.79636262e+14,\n",
       "        4.02116032e+14,  9.20461014e+14,  1.22781126e+15,  1.52748526e+15,\n",
       "       -1.99493865e+14, -1.04251896e+14, -3.36273621e+14, -6.25268936e+14,\n",
       "        1.53520636e+15,  9.99274375e+14,  8.04588308e+14, -1.05162121e+13,\n",
       "       -1.73885779e+14,  1.27201825e+15,  1.49274163e+15,  1.37898473e+15,\n",
       "       -9.53138447e+13, -2.63817588e+14,  1.38520252e+15,  1.37947085e+15,\n",
       "        1.43713523e+15,  1.13206761e+15,  1.13988003e+15,  1.15956922e+15,\n",
       "        3.13233976e+14,  1.29285792e+15,  1.16574858e+15, -2.05749703e+14,\n",
       "        1.82615971e+15,  1.01644005e+15,  4.36062281e+14,  7.64323456e+14,\n",
       "        6.60045890e+14,  9.08614932e+14,  3.68174603e+14,  8.23763388e+14,\n",
       "        1.47918006e+15,  2.41513165e+14,  6.80599608e+14,  1.20427217e+15,\n",
       "        1.10488173e+15,  3.84830593e+14,  1.07293744e+15,  9.63825111e+14,\n",
       "        8.45262821e+14,  5.95807133e+14,  1.27345898e+15,  2.58980057e+14,\n",
       "        9.50358023e+14,  8.23019725e+14,  9.25588583e+14,  1.71970237e+15,\n",
       "        1.20009208e+15,  1.09619347e+15,  1.63354710e+15,  9.15245959e+14,\n",
       "        1.79550107e+14,  1.05394235e+15,  1.54710847e+15,  1.18888159e+12,\n",
       "        2.80095572e+14,  1.00107713e+14,  1.44835773e+15, -1.10780408e+14,\n",
       "        1.65615242e+15,  1.46372702e+15,  3.21454754e+12,  1.12123655e+15,\n",
       "        5.59256992e+13, -1.93486646e+14,  9.93273961e+14,  3.34115374e+14,\n",
       "       -4.12964026e+14,  1.19863293e+15,  1.30196181e+15,  6.01264731e+14,\n",
       "        1.18718629e+15, -3.84227504e+13,  1.73905146e+15,  2.91587384e+14,\n",
       "        1.23966349e+15,  1.19672863e+15,  5.48071543e+14,  1.34346304e+15,\n",
       "        9.23063131e+14,  6.62973763e+14,  4.59204612e+14,  1.09384819e+15,\n",
       "       -2.02341831e+14,  1.40096003e+15,  1.41348856e+15,  7.91788298e+14,\n",
       "        5.91206974e+13, -2.18835397e+13, -2.52585456e+14,  1.88345313e+14,\n",
       "        1.54031292e+15,  9.26328934e+14,  5.70631951e+14,  6.65806933e+14,\n",
       "       -6.39151608e+14,  6.23623943e+14,  1.33963150e+15,  1.52470048e+15,\n",
       "       -1.53187486e+14,  1.26428553e+15,  9.42640855e+14,  5.53736346e+14,\n",
       "        6.40096925e+14, -2.13194112e+15,  1.55435596e+15,  1.24725861e+15,\n",
       "        4.05374557e+13,  1.15834394e+15,  1.48575355e+15, -6.86614866e+13,\n",
       "        2.23574926e+14, -2.49113821e+14,  4.29620272e+14,  9.22631070e+14,\n",
       "        9.47319026e+14, -2.39451453e+14, -2.73029284e+14,  2.76614810e+14,\n",
       "        5.44710381e+14,  1.08924009e+15,  1.63734287e+15,  1.86567489e+15,\n",
       "       -1.31120965e+14, -1.05897810e+14,  4.07257573e+14,  7.89659564e+13,\n",
       "        1.57546633e+14,  1.15184401e+15, -3.58312228e+14,  2.14188186e+14,\n",
       "        5.64194604e+14, -2.07410803e+14, -2.69667933e+14,  1.49651407e+14,\n",
       "       -2.52724908e+12,  7.86243990e+14,  8.23135389e+14,  1.32645559e+15,\n",
       "        9.92638427e+14, -8.54942538e+13,  1.30545077e+15,  1.23293781e+15,\n",
       "       -3.12005155e+14,  1.75620382e+15,  1.40570826e+15,  3.40304348e+14,\n",
       "        9.19688901e+14, -5.75328733e+13,  1.65983957e+15,  1.57020521e+15,\n",
       "        8.58547285e+14,  1.20331523e+15, -2.50598597e+14, -2.79459005e+14,\n",
       "        1.10903462e+15,  5.97005884e+14,  1.33108928e+15,  1.43524640e+15,\n",
       "        7.07588577e+14, -1.61520364e+14,  7.14582366e+14,  8.76902707e+14,\n",
       "        4.00826361e+14,  1.19648208e+15,  1.47753336e+15,  8.57705927e+14,\n",
       "        1.51046978e+15,  1.46195872e+15,  1.20710298e+15,  3.19764387e+14,\n",
       "       -6.23330470e+13,  9.19354395e+14,  1.99611737e+12,  1.08270581e+15,\n",
       "        4.17764863e+14, -1.16495470e+15,  1.11645522e+15,  4.96613829e+14,\n",
       "        1.62660254e+13, -4.01340103e+14, -1.13510641e+14,  1.97481124e+15,\n",
       "        1.03731269e+15, -1.43933359e+14,  5.17576641e+14,  1.64913057e+14,\n",
       "        1.38248638e+15,  1.24191785e+15, -3.20393706e+14,  1.05082284e+15,\n",
       "        1.62098004e+14,  7.64448185e+14,  2.45886578e+14,  8.02222533e+14,\n",
       "        8.72365005e+14,  1.00646835e+15,  6.48530159e+14, -2.49076461e+13,\n",
       "        6.77280085e+14,  3.74517651e+14, -1.87737786e+14,  1.21597942e+15,\n",
       "       -1.96534211e+13,  7.02222941e+14, -4.19922600e+14,  1.42152338e+15,\n",
       "        9.46551112e+14,  1.10568240e+15,  9.93587560e+14, -3.51002716e+14,\n",
       "        1.01622757e+15, -3.15321008e+14,  5.45896291e+14, -2.18877740e+14,\n",
       "       -9.36063393e+14,  3.63467631e+13,  1.03319884e+15,  1.34653185e+15,\n",
       "        1.56058509e+14,  3.26493036e+14,  2.83433890e+14,  6.47950866e+14,\n",
       "        1.17640004e+15,  1.05786779e+15,  1.56611509e+15,  1.51711091e+14,\n",
       "        7.02216807e+14, -9.61938657e+13,  1.07567135e+15,  1.79474064e+15,\n",
       "        1.07645885e+15, -3.98091896e+14,  1.15162615e+15,  9.80777836e+14,\n",
       "        1.50420923e+15,  1.22596531e+15, -3.27442078e+14,  1.44743701e+15,\n",
       "        5.29792370e+14,  1.45209051e+15,  5.23800166e+14,  9.57057867e+14,\n",
       "        7.71803425e+14, -1.96406650e+14,  1.11215844e+15, -2.42900329e+14,\n",
       "        1.58342176e+15,  4.65626254e+14,  1.19339273e+15,  1.56407498e+15,\n",
       "        7.40835936e+14,  8.61863820e+14,  1.31445420e+15,  3.88647043e+14,\n",
       "        1.41670494e+14,  1.04394854e+15,  1.66441518e+15, -2.44136330e+14,\n",
       "       -2.31602954e+14,  1.40641127e+15, -5.55611557e+13, -1.85290632e+14,\n",
       "        3.59215060e+14, -1.76750074e+14,  4.13000842e+14,  1.03908178e+15,\n",
       "        6.09003229e+14,  4.63308894e+14, -1.22843496e+14,  8.68635175e+14,\n",
       "       -6.99957337e+14,  1.13965842e+15, -1.16115940e+14,  6.72553357e+14,\n",
       "        1.09973687e+15,  1.15255762e+15,  9.74319718e+14,  1.10088440e+15,\n",
       "        1.72034565e+15,  1.39386436e+15,  1.60655634e+15,  6.66021381e+14,\n",
       "        1.22781158e+14,  1.43067985e+15, -2.22706390e+14,  8.35132236e+14,\n",
       "       -1.79312257e+14,  4.42261828e+14,  1.46493020e+15, -1.67955741e+14,\n",
       "        5.77609050e+13, -2.45530876e+14,  1.35775749e+15,  1.39830094e+15,\n",
       "        1.41407461e+14,  1.28360238e+15,  1.26063593e+15,  8.57701940e+14,\n",
       "       -1.59255525e+14,  1.03651295e+15,  1.22991754e+15,  1.20883929e+15,\n",
       "        1.29878894e+15,  8.45096134e+14,  7.94432235e+13,  2.91297772e+14,\n",
       "       -1.77848953e+13,  1.20937384e+15,  5.08167510e+14,  6.17326812e+14,\n",
       "        7.72559317e+14, -2.28754124e+14,  1.15228189e+15, -4.21042327e+14,\n",
       "        1.40178297e+15,  6.15189360e+14,  1.20964035e+15,  2.97378925e+14,\n",
       "        1.31312092e+15,  6.92269767e+14,  9.58104178e+14,  1.23055288e+15,\n",
       "        9.43835893e+13,  1.07372004e+15,  1.37180581e+15,  1.65985959e+15,\n",
       "        8.04389113e+14,  6.37847924e+13, -5.29830726e+13,  4.13954397e+14,\n",
       "        5.61766294e+14,  1.79706179e+15, -2.19883023e+14,  6.23380458e+14,\n",
       "        1.41769952e+15,  1.21725627e+15,  1.39206168e+15, -2.09893136e+14,\n",
       "       -2.93107870e+14, -1.92557547e+14, -2.20926104e+14, -3.07938587e+14,\n",
       "        1.56857675e+15,  1.01906714e+15,  4.57498961e+14,  1.45037013e+15,\n",
       "       -3.09602810e+14,  4.16054272e+13,  1.25584572e+14,  1.50330835e+15,\n",
       "        5.92119363e+14, -2.17760092e+14,  1.22827664e+15,  1.61349832e+15,\n",
       "        9.39280439e+13,  1.46928226e+15,  5.61574772e+14,  9.28307622e+14,\n",
       "        1.20925476e+15,  1.38678155e+15,  8.50790595e+14,  3.42116563e+14,\n",
       "        8.74929666e+14,  5.01985336e+14,  1.69450022e+15,  9.15636533e+14,\n",
       "        1.56310837e+15, -7.78997187e+14,  8.54051001e+14,  4.87397906e+14,\n",
       "        1.29526788e+15, -2.43145273e+14,  4.11894424e+14,  1.37803540e+15,\n",
       "        1.61615535e+15,  1.23349756e+15,  1.30905849e+15,  1.27131937e+15,\n",
       "        7.14976375e+14,  1.16111780e+15,  1.49253362e+15,  1.19919730e+15,\n",
       "        1.21704126e+15,  6.05550324e+14, -3.26995544e+14,  9.43752384e+14,\n",
       "        1.08772254e+15, -3.21281404e+14,  6.47174172e+14,  9.43704561e+14,\n",
       "        3.98932470e+14,  3.38527738e+13,  5.80333371e+13,  1.26003748e+15,\n",
       "        1.43508671e+15,  1.58582947e+15,  1.25321954e+15, -2.63306475e+14,\n",
       "        4.51375629e+13, -2.05107639e+14,  1.25632552e+15,  4.98316152e+14,\n",
       "        1.55998504e+15,  5.18876834e+14,  9.08578677e+14,  6.06057534e+14,\n",
       "        2.17710811e+14,  1.46917214e+14,  9.14647330e+14,  7.93963802e+14,\n",
       "        1.35924313e+15,  1.18781579e+15,  1.14911498e+15,  1.50444933e+15,\n",
       "        1.30572540e+15,  7.40411467e+14,  7.64683241e+14,  1.72900617e+15,\n",
       "        1.09215661e+15, -4.07761850e+12, -4.90670835e+13, -3.95061168e+13,\n",
       "        5.10252114e+14, -3.21274017e+14,  6.15580355e+14, -2.20099944e+14,\n",
       "        7.30336364e+14,  9.10821291e+14,  1.78782209e+15,  1.42778466e+15,\n",
       "        1.30941478e+15,  8.34995401e+14,  1.37918332e+15,  1.54761308e+15,\n",
       "        3.14801312e+14,  1.40859870e+15, -2.94550895e+14,  4.92905223e+14,\n",
       "        3.95006547e+14,  8.90625332e+14,  4.14556302e+14,  6.34448169e+14,\n",
       "        8.11691035e+14,  5.10591512e+14,  1.36189316e+15,  6.84664789e+14,\n",
       "        2.25841748e+14,  8.45873607e+14,  1.28420895e+15,  3.38717469e+14,\n",
       "        8.93890190e+14,  2.73561302e+14,  8.20102501e+14,  1.55987029e+15,\n",
       "       -2.44033611e+14, -1.67996807e+14,  4.49769752e+14,  4.52168794e+14,\n",
       "        1.21761849e+15,  2.66347962e+14,  1.45727281e+15,  1.92814142e+14,\n",
       "        1.62040131e+15,  2.94765609e+14,  6.68518516e+14,  5.20982912e+14,\n",
       "        1.74596129e+15,  1.62117073e+15,  9.69840415e+14,  1.16816562e+15,\n",
       "       -8.47827720e+13,  5.25532607e+14, -1.08578877e+15, -1.52527636e+14,\n",
       "        3.88519338e+14,  8.47603790e+14,  1.51202013e+15,  1.35260638e+15,\n",
       "        1.82050563e+15,  1.33226516e+15, -7.73571056e+13,  1.42719390e+14,\n",
       "        8.64431070e+14,  1.62358686e+15,  1.15004477e+15,  1.12895615e+15,\n",
       "        6.24369412e+13,  1.18822181e+15, -1.12620421e+14,  1.34410123e+15,\n",
       "        1.08405157e+15,  1.20311765e+15,  1.01087221e+15,  9.72885718e+14,\n",
       "        1.63759116e+15,  1.15267407e+15,  1.73928030e+15,  3.60519379e+14,\n",
       "        3.90880497e+14,  1.11595991e+15,  6.40977028e+14,  1.37120515e+15,\n",
       "        1.61131683e+15,  2.20999118e+14,  1.67739566e+15,  1.49849655e+15,\n",
       "        1.17578107e+15,  9.75008321e+14,  1.65012760e+15,  1.83739313e+15,\n",
       "        9.70870100e+14,  4.42402636e+14, -8.02000030e+13, -4.50990122e+13,\n",
       "        8.97668251e+14,  5.01325492e+14,  7.69269661e+14,  1.37471084e+15,\n",
       "       -1.73303646e+13,  6.62496835e+14,  6.59681942e+14,  9.72732783e+14,\n",
       "        1.22778578e+15,  5.59547566e+14,  1.49358223e+15,  1.52208156e+15,\n",
       "       -8.18137837e+13, -5.85056728e+12,  2.42151874e+13,  1.65608825e+15,\n",
       "       -2.75960626e+14,  2.68735081e+14,  1.40988375e+15,  9.63718522e+14,\n",
       "        7.64657074e+14,  8.99053192e+14,  8.03090954e+14,  1.02681128e+15,\n",
       "       -2.91298794e+14,  8.58231979e+14, -3.62986040e+14,  1.28548085e+15,\n",
       "        1.28434858e+15, -2.79323300e+14,  1.37250723e+15,  1.26824095e+15,\n",
       "        1.41898939e+15, -2.03310265e+13,  1.31918516e+15,  1.12842149e+15,\n",
       "        1.35351167e+15,  8.05788617e+14,  9.25265956e+14,  1.44984758e+15,\n",
       "        1.78523838e+15, -6.83377920e+13,  7.56568557e+14,  9.16573435e+14,\n",
       "        7.36525830e+13,  1.24810426e+15, -1.89656052e+14,  2.94741426e+14,\n",
       "        4.81836590e+14,  5.85087054e+12,  4.58509746e+14,  1.11208856e+15,\n",
       "        1.18814152e+15,  1.11866111e+15, -1.83028510e+14,  7.05440571e+14,\n",
       "        2.69134565e+14,  1.06058278e+15,  1.34918441e+15,  1.46419027e+15,\n",
       "       -3.28711704e+14,  1.26291021e+15,  1.20907565e+15,  2.24150676e+14,\n",
       "        6.78887269e+14,  8.71787396e+14,  1.52584116e+15,  1.10261450e+15,\n",
       "        1.43018099e+15,  7.69318582e+14,  8.88024296e+14,  1.23798668e+15,\n",
       "        1.52363899e+15,  1.21993432e+15,  8.65702080e+14,  1.14147305e+15,\n",
       "        3.48419317e+14,  1.28410263e+15,  1.32729738e+15,  4.95115176e+14,\n",
       "        8.41007097e+14, -1.94804839e+14,  7.20214087e+14,  1.80169774e+15,\n",
       "        1.23647733e+15,  1.63793771e+15,  1.33001223e+15,  1.77492600e+15,\n",
       "        5.38073752e+14,  6.40691356e+14, -2.10229612e+14,  5.95321561e+14,\n",
       "        2.03914357e+14,  4.04977903e+14, -2.54006893e+14,  1.12977393e+15,\n",
       "       -9.66943505e+13,  1.08644698e+15,  2.53841975e+14, -3.74436212e+13,\n",
       "        3.05977004e+14, -8.65354498e+13,  1.48886374e+15, -2.91617125e+14,\n",
       "        7.51273832e+14])"
      ]
     },
     "execution_count": 18,
     "metadata": {},
     "output_type": "execute_result"
    }
   ],
   "source": [
    "sty_pred"
   ]
  },
  {
   "cell_type": "code",
   "execution_count": null,
   "metadata": {},
   "outputs": [],
   "source": [
    "from sklearn.svm import SVR\n",
    "svr_lin = SVR(kernel='linear')\n",
    "\n",
    "y_lin = svr_lin.fit(X_train, y_train).predict(X_test)"
   ]
  },
  {
   "cell_type": "code",
   "execution_count": null,
   "metadata": {},
   "outputs": [],
   "source": [
    "y_lin\n",
    "\n"
   ]
  },
  {
   "cell_type": "code",
   "execution_count": null,
   "metadata": {},
   "outputs": [],
   "source": [
    "print('Mean Absolute Error:', metrics.mean_absolute_error(y_test, y_lin))  \n",
    "print('Mean Squared Error:', metrics.mean_squared_error(y_test, y_lin))  \n",
    "print('Root Mean Squared Error:', np.sqrt(metrics.mean_squared_error(y_test, y_lin))) \n",
    "print('Regressor Score:',LinearRegression.score(svr_lin,X_test,  y_test))"
   ]
  },
  {
   "cell_type": "code",
   "execution_count": 20,
   "metadata": {},
   "outputs": [],
   "source": [
    "from sklearn import ensemble\n",
    "params = {'n_estimators': 500, 'max_depth': 4, 'min_samples_split': 2,\n",
    "          'learning_rate': 0.01, 'loss': 'ls'}\n",
    "clf = ensemble.GradientBoostingRegressor(**params)\n",
    "\n",
    "clf_pred = clf.fit(X_train, y_train).predict(X_test)\n",
    "\n"
   ]
  },
  {
   "cell_type": "code",
   "execution_count": 21,
   "metadata": {},
   "outputs": [
    {
     "name": "stdout",
     "output_type": "stream",
     "text": [
      "Mean Absolute Error: 10.127454022437938\n",
      "Mean Squared Error: 209.9438068388621\n",
      "Root Mean Squared Error: 14.489437768211094\n",
      "Regressor Score: 1.0\n"
     ]
    }
   ],
   "source": [
    "print('Mean Absolute Error:', metrics.mean_absolute_error(y_test, clf_pred))  \n",
    "print('Mean Squared Error:', metrics.mean_squared_error(y_test, clf_pred))  \n",
    "print('Root Mean Squared Error:', np.sqrt(metrics.mean_squared_error(y_test, clf_pred))) \n",
    "print('Regressor Score:',LinearRegression.score(clf,X_test,  clf_pred))"
   ]
  },
  {
   "cell_type": "code",
   "execution_count": 23,
   "metadata": {},
   "outputs": [
    {
     "data": {
      "image/png": "[encoded data removed]",
      "text/plain": [
       "<Figure size 432x288 with 1 Axes>"
      ]
     },
     "metadata": {
      "needs_background": "light"
     },
     "output_type": "display_data"
    }
   ],
   "source": [
    "feature_import= list(zip(clf.feature_importances_, model_data.columns[1:]))\n",
    "feature_import = pd.DataFrame(feature_import, columns = ['Importance', 'Feature'])\n",
    "top_features = feature_import.sort_values(by='Importance', ascending=False)[0:15]\n",
    "# quick plot of values\n",
    "sb.set_color_codes(\"pastel\")\n",
    "sb.barplot(x='Importance', y=\"Feature\", data=top_features, color=\"b\")\n",
    "sb.despine(left=True, bottom=True)"
   ]
  },
  {
   "cell_type": "markdown",
   "metadata": {},
   "source": [
    "This is the first model to outperform the cross-validated Random Forest Regressor, and perhaps as interesting the first to move to Fenwick up to the top three. Time factors sill dominate but not as much.  Also perhaps to have significant improvements across the board as far as errors.\n",
    "\n",
    "| Metric      | Linear Regression         | Grid Search  | Gradient Boost  |\n",
    "| ------------- |:-------------:| -----:| -----:| \n",
    "| Mean Absolute Error:    |  12.53 | 11.2 | **10.13** |\n",
    "| Mean Squared Error:    |  280.05 | 264.45 | **209.94** |  \n",
    "| Root Mean Squared Error:     |  16.73 | 16.26 |  **14.49** | \n",
    "| Regressor Score:    |  0.95 | 0.96 |  **1** | "
   ]
  },
  {
   "cell_type": "code",
   "execution_count": 52,
   "metadata": {},
   "outputs": [
    {
     "ename": "KeyboardInterrupt",
     "evalue": "",
     "output_type": "error",
     "traceback": [
      "\u001b[0;31m---------------------------------------------------------------------------\u001b[0m",
      "\u001b[0;31mKeyboardInterrupt\u001b[0m                         Traceback (most recent call last)",
      "\u001b[0;32m<ipython-input-52-3bcb5ca0a8c5>\u001b[0m in \u001b[0;36m<module>\u001b[0;34m\u001b[0m\n\u001b[1;32m      9\u001b[0m \u001b[0mclfgrid_search2\u001b[0m \u001b[0;34m=\u001b[0m \u001b[0mGridSearchCV\u001b[0m\u001b[0;34m(\u001b[0m\u001b[0mclf\u001b[0m\u001b[0;34m,\u001b[0m \u001b[0mparam_grid\u001b[0m\u001b[0;34m=\u001b[0m\u001b[0mclfparam_grid2\u001b[0m\u001b[0;34m,\u001b[0m \u001b[0mcv\u001b[0m\u001b[0;34m=\u001b[0m\u001b[0;36m5\u001b[0m\u001b[0;34m)\u001b[0m\u001b[0;34m\u001b[0m\u001b[0;34m\u001b[0m\u001b[0m\n\u001b[1;32m     10\u001b[0m \u001b[0mstart\u001b[0m \u001b[0;34m=\u001b[0m \u001b[0mtime\u001b[0m\u001b[0;34m.\u001b[0m\u001b[0mgmtime\u001b[0m\u001b[0;34m(\u001b[0m\u001b[0;34m)\u001b[0m\u001b[0;34m\u001b[0m\u001b[0;34m\u001b[0m\u001b[0m\n\u001b[0;32m---> 11\u001b[0;31m \u001b[0mclf_grid2\u001b[0m \u001b[0;34m=\u001b[0m \u001b[0mclfgrid_search2\u001b[0m\u001b[0;34m.\u001b[0m\u001b[0mfit\u001b[0m\u001b[0;34m(\u001b[0m\u001b[0mX_train\u001b[0m\u001b[0;34m,\u001b[0m  \u001b[0my_train\u001b[0m\u001b[0;34m)\u001b[0m\u001b[0;34m.\u001b[0m\u001b[0mpredict\u001b[0m\u001b[0;34m(\u001b[0m\u001b[0mX_test\u001b[0m\u001b[0;34m)\u001b[0m\u001b[0;34m\u001b[0m\u001b[0;34m\u001b[0m\u001b[0m\n\u001b[0m\u001b[1;32m     12\u001b[0m \u001b[0;34m\u001b[0m\u001b[0m\n\u001b[1;32m     13\u001b[0m print(\"GridSearchCV took %.2f seconds for %d candidate parameter settings.\"\n",
      "\u001b[0;32m/anaconda3/lib/python3.7/site-packages/sklearn/model_selection/_search.py\u001b[0m in \u001b[0;36mfit\u001b[0;34m(self, X, y, groups, **fit_params)\u001b[0m\n\u001b[1;32m    720\u001b[0m                 \u001b[0;32mreturn\u001b[0m \u001b[0mresults_container\u001b[0m\u001b[0;34m[\u001b[0m\u001b[0;36m0\u001b[0m\u001b[0;34m]\u001b[0m\u001b[0;34m\u001b[0m\u001b[0;34m\u001b[0m\u001b[0m\n\u001b[1;32m    721\u001b[0m \u001b[0;34m\u001b[0m\u001b[0m\n\u001b[0;32m--> 722\u001b[0;31m             \u001b[0mself\u001b[0m\u001b[0;34m.\u001b[0m\u001b[0m_run_search\u001b[0m\u001b[0;34m(\u001b[0m\u001b[0mevaluate_candidates\u001b[0m\u001b[0;34m)\u001b[0m\u001b[0;34m\u001b[0m\u001b[0;34m\u001b[0m\u001b[0m\n\u001b[0m\u001b[1;32m    723\u001b[0m \u001b[0;34m\u001b[0m\u001b[0m\n\u001b[1;32m    724\u001b[0m         \u001b[0mresults\u001b[0m \u001b[0;34m=\u001b[0m \u001b[0mresults_container\u001b[0m\u001b[0;34m[\u001b[0m\u001b[0;36m0\u001b[0m\u001b[0;34m]\u001b[0m\u001b[0;34m\u001b[0m\u001b[0;34m\u001b[0m\u001b[0m\n",
      "\u001b[0;32m/anaconda3/lib/python3.7/site-packages/sklearn/model_selection/_search.py\u001b[0m in \u001b[0;36m_run_search\u001b[0;34m(self, evaluate_candidates)\u001b[0m\n\u001b[1;32m   1189\u001b[0m     \u001b[0;32mdef\u001b[0m \u001b[0m_run_search\u001b[0m\u001b[0;34m(\u001b[0m\u001b[0mself\u001b[0m\u001b[0;34m,\u001b[0m \u001b[0mevaluate_candidates\u001b[0m\u001b[0;34m)\u001b[0m\u001b[0;34m:\u001b[0m\u001b[0;34m\u001b[0m\u001b[0;34m\u001b[0m\u001b[0m\n\u001b[1;32m   1190\u001b[0m         \u001b[0;34m\"\"\"Search all candidates in param_grid\"\"\"\u001b[0m\u001b[0;34m\u001b[0m\u001b[0;34m\u001b[0m\u001b[0m\n\u001b[0;32m-> 1191\u001b[0;31m         \u001b[0mevaluate_candidates\u001b[0m\u001b[0;34m(\u001b[0m\u001b[0mParameterGrid\u001b[0m\u001b[0;34m(\u001b[0m\u001b[0mself\u001b[0m\u001b[0;34m.\u001b[0m\u001b[0mparam_grid\u001b[0m\u001b[0;34m)\u001b[0m\u001b[0;34m)\u001b[0m\u001b[0;34m\u001b[0m\u001b[0;34m\u001b[0m\u001b[0m\n\u001b[0m\u001b[1;32m   1192\u001b[0m \u001b[0;34m\u001b[0m\u001b[0m\n\u001b[1;32m   1193\u001b[0m \u001b[0;34m\u001b[0m\u001b[0m\n",
      "\u001b[0;32m/anaconda3/lib/python3.7/site-packages/sklearn/model_selection/_search.py\u001b[0m in \u001b[0;36mevaluate_candidates\u001b[0;34m(candidate_params)\u001b[0m\n\u001b[1;32m    709\u001b[0m                                \u001b[0;32mfor\u001b[0m \u001b[0mparameters\u001b[0m\u001b[0;34m,\u001b[0m \u001b[0;34m(\u001b[0m\u001b[0mtrain\u001b[0m\u001b[0;34m,\u001b[0m \u001b[0mtest\u001b[0m\u001b[0;34m)\u001b[0m\u001b[0;34m\u001b[0m\u001b[0;34m\u001b[0m\u001b[0m\n\u001b[1;32m    710\u001b[0m                                in product(candidate_params,\n\u001b[0;32m--> 711\u001b[0;31m                                           cv.split(X, y, groups)))\n\u001b[0m\u001b[1;32m    712\u001b[0m \u001b[0;34m\u001b[0m\u001b[0m\n\u001b[1;32m    713\u001b[0m                 \u001b[0mall_candidate_params\u001b[0m\u001b[0;34m.\u001b[0m\u001b[0mextend\u001b[0m\u001b[0;34m(\u001b[0m\u001b[0mcandidate_params\u001b[0m\u001b[0;34m)\u001b[0m\u001b[0;34m\u001b[0m\u001b[0;34m\u001b[0m\u001b[0m\n",
      "\u001b[0;32m/anaconda3/lib/python3.7/site-packages/sklearn/externals/joblib/parallel.py\u001b[0m in \u001b[0;36m__call__\u001b[0;34m(self, iterable)\u001b[0m\n\u001b[1;32m    918\u001b[0m                 \u001b[0mself\u001b[0m\u001b[0;34m.\u001b[0m\u001b[0m_iterating\u001b[0m \u001b[0;34m=\u001b[0m \u001b[0mself\u001b[0m\u001b[0;34m.\u001b[0m\u001b[0m_original_iterator\u001b[0m \u001b[0;32mis\u001b[0m \u001b[0;32mnot\u001b[0m \u001b[0;32mNone\u001b[0m\u001b[0;34m\u001b[0m\u001b[0;34m\u001b[0m\u001b[0m\n\u001b[1;32m    919\u001b[0m \u001b[0;34m\u001b[0m\u001b[0m\n\u001b[0;32m--> 920\u001b[0;31m             \u001b[0;32mwhile\u001b[0m \u001b[0mself\u001b[0m\u001b[0;34m.\u001b[0m\u001b[0mdispatch_one_batch\u001b[0m\u001b[0;34m(\u001b[0m\u001b[0miterator\u001b[0m\u001b[0;34m)\u001b[0m\u001b[0;34m:\u001b[0m\u001b[0;34m\u001b[0m\u001b[0;34m\u001b[0m\u001b[0m\n\u001b[0m\u001b[1;32m    921\u001b[0m                 \u001b[0;32mpass\u001b[0m\u001b[0;34m\u001b[0m\u001b[0;34m\u001b[0m\u001b[0m\n\u001b[1;32m    922\u001b[0m \u001b[0;34m\u001b[0m\u001b[0m\n",
      "\u001b[0;32m/anaconda3/lib/python3.7/site-packages/sklearn/externals/joblib/parallel.py\u001b[0m in \u001b[0;36mdispatch_one_batch\u001b[0;34m(self, iterator)\u001b[0m\n\u001b[1;32m    757\u001b[0m                 \u001b[0;32mreturn\u001b[0m \u001b[0;32mFalse\u001b[0m\u001b[0;34m\u001b[0m\u001b[0;34m\u001b[0m\u001b[0m\n\u001b[1;32m    758\u001b[0m             \u001b[0;32melse\u001b[0m\u001b[0;34m:\u001b[0m\u001b[0;34m\u001b[0m\u001b[0;34m\u001b[0m\u001b[0m\n\u001b[0;32m--> 759\u001b[0;31m                 \u001b[0mself\u001b[0m\u001b[0;34m.\u001b[0m\u001b[0m_dispatch\u001b[0m\u001b[0;34m(\u001b[0m\u001b[0mtasks\u001b[0m\u001b[0;34m)\u001b[0m\u001b[0;34m\u001b[0m\u001b[0;34m\u001b[0m\u001b[0m\n\u001b[0m\u001b[1;32m    760\u001b[0m                 \u001b[0;32mreturn\u001b[0m \u001b[0;32mTrue\u001b[0m\u001b[0;34m\u001b[0m\u001b[0;34m\u001b[0m\u001b[0m\n\u001b[1;32m    761\u001b[0m \u001b[0;34m\u001b[0m\u001b[0m\n",
      "\u001b[0;32m/anaconda3/lib/python3.7/site-packages/sklearn/externals/joblib/parallel.py\u001b[0m in \u001b[0;36m_dispatch\u001b[0;34m(self, batch)\u001b[0m\n\u001b[1;32m    714\u001b[0m         \u001b[0;32mwith\u001b[0m \u001b[0mself\u001b[0m\u001b[0;34m.\u001b[0m\u001b[0m_lock\u001b[0m\u001b[0;34m:\u001b[0m\u001b[0;34m\u001b[0m\u001b[0;34m\u001b[0m\u001b[0m\n\u001b[1;32m    715\u001b[0m             \u001b[0mjob_idx\u001b[0m \u001b[0;34m=\u001b[0m \u001b[0mlen\u001b[0m\u001b[0;34m(\u001b[0m\u001b[0mself\u001b[0m\u001b[0;34m.\u001b[0m\u001b[0m_jobs\u001b[0m\u001b[0;34m)\u001b[0m\u001b[0;34m\u001b[0m\u001b[0;34m\u001b[0m\u001b[0m\n\u001b[0;32m--> 716\u001b[0;31m             \u001b[0mjob\u001b[0m \u001b[0;34m=\u001b[0m \u001b[0mself\u001b[0m\u001b[0;34m.\u001b[0m\u001b[0m_backend\u001b[0m\u001b[0;34m.\u001b[0m\u001b[0mapply_async\u001b[0m\u001b[0;34m(\u001b[0m\u001b[0mbatch\u001b[0m\u001b[0;34m,\u001b[0m \u001b[0mcallback\u001b[0m\u001b[0;34m=\u001b[0m\u001b[0mcb\u001b[0m\u001b[0;34m)\u001b[0m\u001b[0;34m\u001b[0m\u001b[0;34m\u001b[0m\u001b[0m\n\u001b[0m\u001b[1;32m    717\u001b[0m             \u001b[0;31m# A job can complete so quickly than its callback is\u001b[0m\u001b[0;34m\u001b[0m\u001b[0;34m\u001b[0m\u001b[0;34m\u001b[0m\u001b[0m\n\u001b[1;32m    718\u001b[0m             \u001b[0;31m# called before we get here, causing self._jobs to\u001b[0m\u001b[0;34m\u001b[0m\u001b[0;34m\u001b[0m\u001b[0;34m\u001b[0m\u001b[0m\n",
      "\u001b[0;32m/anaconda3/lib/python3.7/site-packages/sklearn/externals/joblib/_parallel_backends.py\u001b[0m in \u001b[0;36mapply_async\u001b[0;34m(self, func, callback)\u001b[0m\n\u001b[1;32m    180\u001b[0m     \u001b[0;32mdef\u001b[0m \u001b[0mapply_async\u001b[0m\u001b[0;34m(\u001b[0m\u001b[0mself\u001b[0m\u001b[0;34m,\u001b[0m \u001b[0mfunc\u001b[0m\u001b[0;34m,\u001b[0m \u001b[0mcallback\u001b[0m\u001b[0;34m=\u001b[0m\u001b[0;32mNone\u001b[0m\u001b[0;34m)\u001b[0m\u001b[0;34m:\u001b[0m\u001b[0;34m\u001b[0m\u001b[0;34m\u001b[0m\u001b[0m\n\u001b[1;32m    181\u001b[0m         \u001b[0;34m\"\"\"Schedule a func to be run\"\"\"\u001b[0m\u001b[0;34m\u001b[0m\u001b[0;34m\u001b[0m\u001b[0m\n\u001b[0;32m--> 182\u001b[0;31m         \u001b[0mresult\u001b[0m \u001b[0;34m=\u001b[0m \u001b[0mImmediateResult\u001b[0m\u001b[0;34m(\u001b[0m\u001b[0mfunc\u001b[0m\u001b[0;34m)\u001b[0m\u001b[0;34m\u001b[0m\u001b[0;34m\u001b[0m\u001b[0m\n\u001b[0m\u001b[1;32m    183\u001b[0m         \u001b[0;32mif\u001b[0m \u001b[0mcallback\u001b[0m\u001b[0;34m:\u001b[0m\u001b[0;34m\u001b[0m\u001b[0;34m\u001b[0m\u001b[0m\n\u001b[1;32m    184\u001b[0m             \u001b[0mcallback\u001b[0m\u001b[0;34m(\u001b[0m\u001b[0mresult\u001b[0m\u001b[0;34m)\u001b[0m\u001b[0;34m\u001b[0m\u001b[0;34m\u001b[0m\u001b[0m\n",
      "\u001b[0;32m/anaconda3/lib/python3.7/site-packages/sklearn/externals/joblib/_parallel_backends.py\u001b[0m in \u001b[0;36m__init__\u001b[0;34m(self, batch)\u001b[0m\n\u001b[1;32m    547\u001b[0m         \u001b[0;31m# Don't delay the application, to avoid keeping the input\u001b[0m\u001b[0;34m\u001b[0m\u001b[0;34m\u001b[0m\u001b[0;34m\u001b[0m\u001b[0m\n\u001b[1;32m    548\u001b[0m         \u001b[0;31m# arguments in memory\u001b[0m\u001b[0;34m\u001b[0m\u001b[0;34m\u001b[0m\u001b[0;34m\u001b[0m\u001b[0m\n\u001b[0;32m--> 549\u001b[0;31m         \u001b[0mself\u001b[0m\u001b[0;34m.\u001b[0m\u001b[0mresults\u001b[0m \u001b[0;34m=\u001b[0m \u001b[0mbatch\u001b[0m\u001b[0;34m(\u001b[0m\u001b[0;34m)\u001b[0m\u001b[0;34m\u001b[0m\u001b[0;34m\u001b[0m\u001b[0m\n\u001b[0m\u001b[1;32m    550\u001b[0m \u001b[0;34m\u001b[0m\u001b[0m\n\u001b[1;32m    551\u001b[0m     \u001b[0;32mdef\u001b[0m \u001b[0mget\u001b[0m\u001b[0;34m(\u001b[0m\u001b[0mself\u001b[0m\u001b[0;34m)\u001b[0m\u001b[0;34m:\u001b[0m\u001b[0;34m\u001b[0m\u001b[0;34m\u001b[0m\u001b[0m\n",
      "\u001b[0;32m/anaconda3/lib/python3.7/site-packages/sklearn/externals/joblib/parallel.py\u001b[0m in \u001b[0;36m__call__\u001b[0;34m(self)\u001b[0m\n\u001b[1;32m    223\u001b[0m         \u001b[0;32mwith\u001b[0m \u001b[0mparallel_backend\u001b[0m\u001b[0;34m(\u001b[0m\u001b[0mself\u001b[0m\u001b[0;34m.\u001b[0m\u001b[0m_backend\u001b[0m\u001b[0;34m,\u001b[0m \u001b[0mn_jobs\u001b[0m\u001b[0;34m=\u001b[0m\u001b[0mself\u001b[0m\u001b[0;34m.\u001b[0m\u001b[0m_n_jobs\u001b[0m\u001b[0;34m)\u001b[0m\u001b[0;34m:\u001b[0m\u001b[0;34m\u001b[0m\u001b[0;34m\u001b[0m\u001b[0m\n\u001b[1;32m    224\u001b[0m             return [func(*args, **kwargs)\n\u001b[0;32m--> 225\u001b[0;31m                     for func, args, kwargs in self.items]\n\u001b[0m\u001b[1;32m    226\u001b[0m \u001b[0;34m\u001b[0m\u001b[0m\n\u001b[1;32m    227\u001b[0m     \u001b[0;32mdef\u001b[0m \u001b[0m__len__\u001b[0m\u001b[0;34m(\u001b[0m\u001b[0mself\u001b[0m\u001b[0;34m)\u001b[0m\u001b[0;34m:\u001b[0m\u001b[0;34m\u001b[0m\u001b[0;34m\u001b[0m\u001b[0m\n",
      "\u001b[0;32m/anaconda3/lib/python3.7/site-packages/sklearn/externals/joblib/parallel.py\u001b[0m in \u001b[0;36m<listcomp>\u001b[0;34m(.0)\u001b[0m\n\u001b[1;32m    223\u001b[0m         \u001b[0;32mwith\u001b[0m \u001b[0mparallel_backend\u001b[0m\u001b[0;34m(\u001b[0m\u001b[0mself\u001b[0m\u001b[0;34m.\u001b[0m\u001b[0m_backend\u001b[0m\u001b[0;34m,\u001b[0m \u001b[0mn_jobs\u001b[0m\u001b[0;34m=\u001b[0m\u001b[0mself\u001b[0m\u001b[0;34m.\u001b[0m\u001b[0m_n_jobs\u001b[0m\u001b[0;34m)\u001b[0m\u001b[0;34m:\u001b[0m\u001b[0;34m\u001b[0m\u001b[0;34m\u001b[0m\u001b[0m\n\u001b[1;32m    224\u001b[0m             return [func(*args, **kwargs)\n\u001b[0;32m--> 225\u001b[0;31m                     for func, args, kwargs in self.items]\n\u001b[0m\u001b[1;32m    226\u001b[0m \u001b[0;34m\u001b[0m\u001b[0m\n\u001b[1;32m    227\u001b[0m     \u001b[0;32mdef\u001b[0m \u001b[0m__len__\u001b[0m\u001b[0;34m(\u001b[0m\u001b[0mself\u001b[0m\u001b[0;34m)\u001b[0m\u001b[0;34m:\u001b[0m\u001b[0;34m\u001b[0m\u001b[0;34m\u001b[0m\u001b[0m\n",
      "\u001b[0;32m/anaconda3/lib/python3.7/site-packages/sklearn/model_selection/_validation.py\u001b[0m in \u001b[0;36m_fit_and_score\u001b[0;34m(estimator, X, y, scorer, train, test, verbose, parameters, fit_params, return_train_score, return_parameters, return_n_test_samples, return_times, return_estimator, error_score)\u001b[0m\n\u001b[1;32m    526\u001b[0m             \u001b[0mestimator\u001b[0m\u001b[0;34m.\u001b[0m\u001b[0mfit\u001b[0m\u001b[0;34m(\u001b[0m\u001b[0mX_train\u001b[0m\u001b[0;34m,\u001b[0m \u001b[0;34m**\u001b[0m\u001b[0mfit_params\u001b[0m\u001b[0;34m)\u001b[0m\u001b[0;34m\u001b[0m\u001b[0;34m\u001b[0m\u001b[0m\n\u001b[1;32m    527\u001b[0m         \u001b[0;32melse\u001b[0m\u001b[0;34m:\u001b[0m\u001b[0;34m\u001b[0m\u001b[0;34m\u001b[0m\u001b[0m\n\u001b[0;32m--> 528\u001b[0;31m             \u001b[0mestimator\u001b[0m\u001b[0;34m.\u001b[0m\u001b[0mfit\u001b[0m\u001b[0;34m(\u001b[0m\u001b[0mX_train\u001b[0m\u001b[0;34m,\u001b[0m \u001b[0my_train\u001b[0m\u001b[0;34m,\u001b[0m \u001b[0;34m**\u001b[0m\u001b[0mfit_params\u001b[0m\u001b[0;34m)\u001b[0m\u001b[0;34m\u001b[0m\u001b[0;34m\u001b[0m\u001b[0m\n\u001b[0m\u001b[1;32m    529\u001b[0m \u001b[0;34m\u001b[0m\u001b[0m\n\u001b[1;32m    530\u001b[0m     \u001b[0;32mexcept\u001b[0m \u001b[0mException\u001b[0m \u001b[0;32mas\u001b[0m \u001b[0me\u001b[0m\u001b[0;34m:\u001b[0m\u001b[0;34m\u001b[0m\u001b[0;34m\u001b[0m\u001b[0m\n",
      "\u001b[0;32m/anaconda3/lib/python3.7/site-packages/sklearn/ensemble/gradient_boosting.py\u001b[0m in \u001b[0;36mfit\u001b[0;34m(self, X, y, sample_weight, monitor)\u001b[0m\n\u001b[1;32m   1463\u001b[0m         n_stages = self._fit_stages(X, y, y_pred, sample_weight, self._rng,\n\u001b[1;32m   1464\u001b[0m                                     \u001b[0mX_val\u001b[0m\u001b[0;34m,\u001b[0m \u001b[0my_val\u001b[0m\u001b[0;34m,\u001b[0m \u001b[0msample_weight_val\u001b[0m\u001b[0;34m,\u001b[0m\u001b[0;34m\u001b[0m\u001b[0;34m\u001b[0m\u001b[0m\n\u001b[0;32m-> 1465\u001b[0;31m                                     begin_at_stage, monitor, X_idx_sorted)\n\u001b[0m\u001b[1;32m   1466\u001b[0m \u001b[0;34m\u001b[0m\u001b[0m\n\u001b[1;32m   1467\u001b[0m         \u001b[0;31m# change shape of arrays after fit (early-stopping or additional ests)\u001b[0m\u001b[0;34m\u001b[0m\u001b[0;34m\u001b[0m\u001b[0;34m\u001b[0m\u001b[0m\n",
      "\u001b[0;32m/anaconda3/lib/python3.7/site-packages/sklearn/ensemble/gradient_boosting.py\u001b[0m in \u001b[0;36m_fit_stages\u001b[0;34m(self, X, y, y_pred, sample_weight, random_state, X_val, y_val, sample_weight_val, begin_at_stage, monitor, X_idx_sorted)\u001b[0m\n\u001b[1;32m   1527\u001b[0m             y_pred = self._fit_stage(i, X, y, y_pred, sample_weight,\n\u001b[1;32m   1528\u001b[0m                                      \u001b[0msample_mask\u001b[0m\u001b[0;34m,\u001b[0m \u001b[0mrandom_state\u001b[0m\u001b[0;34m,\u001b[0m \u001b[0mX_idx_sorted\u001b[0m\u001b[0;34m,\u001b[0m\u001b[0;34m\u001b[0m\u001b[0;34m\u001b[0m\u001b[0m\n\u001b[0;32m-> 1529\u001b[0;31m                                      X_csc, X_csr)\n\u001b[0m\u001b[1;32m   1530\u001b[0m \u001b[0;34m\u001b[0m\u001b[0m\n\u001b[1;32m   1531\u001b[0m             \u001b[0;31m# track deviance (= loss)\u001b[0m\u001b[0;34m\u001b[0m\u001b[0;34m\u001b[0m\u001b[0;34m\u001b[0m\u001b[0m\n",
      "\u001b[0;32m/anaconda3/lib/python3.7/site-packages/sklearn/ensemble/gradient_boosting.py\u001b[0m in \u001b[0;36m_fit_stage\u001b[0;34m(self, i, X, y, y_pred, sample_weight, sample_mask, random_state, X_idx_sorted, X_csc, X_csr)\u001b[0m\n\u001b[1;32m   1192\u001b[0m             \u001b[0mX\u001b[0m \u001b[0;34m=\u001b[0m \u001b[0mX_csr\u001b[0m \u001b[0;32mif\u001b[0m \u001b[0mX_csr\u001b[0m \u001b[0;32mis\u001b[0m \u001b[0;32mnot\u001b[0m \u001b[0;32mNone\u001b[0m \u001b[0;32melse\u001b[0m \u001b[0mX\u001b[0m\u001b[0;34m\u001b[0m\u001b[0;34m\u001b[0m\u001b[0m\n\u001b[1;32m   1193\u001b[0m             tree.fit(X, residual, sample_weight=sample_weight,\n\u001b[0;32m-> 1194\u001b[0;31m                      check_input=False, X_idx_sorted=X_idx_sorted)\n\u001b[0m\u001b[1;32m   1195\u001b[0m \u001b[0;34m\u001b[0m\u001b[0m\n\u001b[1;32m   1196\u001b[0m             \u001b[0;31m# update tree leaves\u001b[0m\u001b[0;34m\u001b[0m\u001b[0;34m\u001b[0m\u001b[0;34m\u001b[0m\u001b[0m\n",
      "\u001b[0;32m/anaconda3/lib/python3.7/site-packages/sklearn/tree/tree.py\u001b[0m in \u001b[0;36mfit\u001b[0;34m(self, X, y, sample_weight, check_input, X_idx_sorted)\u001b[0m\n\u001b[1;32m   1140\u001b[0m             \u001b[0msample_weight\u001b[0m\u001b[0;34m=\u001b[0m\u001b[0msample_weight\u001b[0m\u001b[0;34m,\u001b[0m\u001b[0;34m\u001b[0m\u001b[0;34m\u001b[0m\u001b[0m\n\u001b[1;32m   1141\u001b[0m             \u001b[0mcheck_input\u001b[0m\u001b[0;34m=\u001b[0m\u001b[0mcheck_input\u001b[0m\u001b[0;34m,\u001b[0m\u001b[0;34m\u001b[0m\u001b[0;34m\u001b[0m\u001b[0m\n\u001b[0;32m-> 1142\u001b[0;31m             X_idx_sorted=X_idx_sorted)\n\u001b[0m\u001b[1;32m   1143\u001b[0m         \u001b[0;32mreturn\u001b[0m \u001b[0mself\u001b[0m\u001b[0;34m\u001b[0m\u001b[0;34m\u001b[0m\u001b[0m\n\u001b[1;32m   1144\u001b[0m \u001b[0;34m\u001b[0m\u001b[0m\n",
      "\u001b[0;32m/anaconda3/lib/python3.7/site-packages/sklearn/tree/tree.py\u001b[0m in \u001b[0;36mfit\u001b[0;34m(self, X, y, sample_weight, check_input, X_idx_sorted)\u001b[0m\n\u001b[1;32m    364\u001b[0m                                            min_impurity_split)\n\u001b[1;32m    365\u001b[0m \u001b[0;34m\u001b[0m\u001b[0m\n\u001b[0;32m--> 366\u001b[0;31m         \u001b[0mbuilder\u001b[0m\u001b[0;34m.\u001b[0m\u001b[0mbuild\u001b[0m\u001b[0;34m(\u001b[0m\u001b[0mself\u001b[0m\u001b[0;34m.\u001b[0m\u001b[0mtree_\u001b[0m\u001b[0;34m,\u001b[0m \u001b[0mX\u001b[0m\u001b[0;34m,\u001b[0m \u001b[0my\u001b[0m\u001b[0;34m,\u001b[0m \u001b[0msample_weight\u001b[0m\u001b[0;34m,\u001b[0m \u001b[0mX_idx_sorted\u001b[0m\u001b[0;34m)\u001b[0m\u001b[0;34m\u001b[0m\u001b[0;34m\u001b[0m\u001b[0m\n\u001b[0m\u001b[1;32m    367\u001b[0m \u001b[0;34m\u001b[0m\u001b[0m\n\u001b[1;32m    368\u001b[0m         \u001b[0;32mif\u001b[0m \u001b[0mself\u001b[0m\u001b[0;34m.\u001b[0m\u001b[0mn_outputs_\u001b[0m \u001b[0;34m==\u001b[0m \u001b[0;36m1\u001b[0m\u001b[0;34m:\u001b[0m\u001b[0;34m\u001b[0m\u001b[0;34m\u001b[0m\u001b[0m\n",
      "\u001b[0;31mKeyboardInterrupt\u001b[0m: "
     ]
    }
   ],
   "source": [
    "\n",
    "\n",
    "clfparam_grid = {\"max_depth\": [4, 10, None],\n",
    "              \"max_features\": [1, 3, 10],\n",
    "              \"min_samples_split\": [2, 3, 10],\n",
    "              'n_estimators':[500,600,700]}\n",
    "\n",
    "# run grid search\n",
    "clfgrid_search = GridSearchCV(clf, param_grid=clfparam_grid, cv=5)\n",
    "start = time.gmtime()\n",
    "clf_grid = clfgrid_search.fit(X_train,  y_train).predict(X_test)\n",
    "\n",
    "print(\"GridSearchCV took %.2f seconds for %d candidate parameter settings.\"\n",
    "      % (time.mktime(time.gmtime()) - time.mktime(start), len(clfgrid_search.cv_results_['params'])))\n",
    "clfgrid_search.best_params_"
   ]
  },
  {
   "cell_type": "code",
   "execution_count": null,
   "metadata": {},
   "outputs": [],
   "source": [
    "print('Mean Absolute Error:', metrics.mean_absolute_error(y_test, clf_grid))  \n",
    "print('Mean Squared Error:', metrics.mean_squared_error(y_test, clf_grid))  \n",
    "print('Root Mean Squared Error:', np.sqrt(metrics.mean_squared_error(y_test, clf_grid))) \n",
    "print('Regressor Score:',LinearRegression.score(clf,X_test,  clf_grid))"
   ]
  },
  {
   "cell_type": "markdown",
   "metadata": {},
   "source": [
    "This actually performs worse than the first options. I'm thinking it's becuase I eliminated the 'none' options so I'm rerunning with that added back in. Score comparisions:\n",
    "\n",
    "| Metric      | Linear Regression         | Grid Search  | Gradient Boost  | Grid and Gradient  |\n",
    "| ------------- |-------------:| -----:| -----:| -----:| \n",
    "| Mean Absolute Error:    |  12.53 | 11.2 | **10.13** | 10.26 |\n",
    "| Mean Squared Error:    |  280.05 | 264.45 | **209.94** |  220.11 |\n",
    "| Root Mean Squared Error:     |  16.73 | 16.26 |  **14.49** | 14.84 |\n",
    "| Regressor Score:    |  0.95 | 0.96 |  **1** | .99 |\n"
   ]
  },
  {
   "cell_type": "code",
   "execution_count": null,
   "metadata": {
    "scrolled": true
   },
   "outputs": [],
   "source": [
    "\n",
    "clfparam_grid2 = {\"max_depth\": [ None,  10],\n",
    "              \"max_features\": [None, 10],\n",
    "              \"min_samples_split\": [2, 3, 10],\n",
    "              'n_estimators':[700,800],\n",
    "                 \n",
    "                }\n",
    "\n",
    "# run grid search\n",
    "clfgrid_search2 = GridSearchCV(clf, param_grid=clfparam_grid2, cv=5)\n",
    "start = time.gmtime()\n",
    "clf_grid2 = clfgrid_search2.fit(X_train,  y_train).predict(X_test)\n",
    "\n",
    "print(\"GridSearchCV took %.2f seconds for %d candidate parameter settings.\"\n",
    "      % (time.mktime(time.gmtime()) - time.mktime(start), len(grid_search.cv_results_['params'])))\n",
    "clfgrid_search.best_params_"
   ]
  },
  {
   "cell_type": "code",
   "execution_count": null,
   "metadata": {},
   "outputs": [],
   "source": [
    "print('Mean Absolute Error:', metrics.mean_absolute_error(y_test, clf_grid2))  \n",
    "print('Mean Squared Error:', metrics.mean_squared_error(y_test, clf_grid2))  \n",
    "print('Root Mean Squared Error:', np.sqrt(metrics.mean_squared_error(y_test, clf_grid2))) \n",
    "print('Regressor Score:',LinearRegression.score(clf,X_test,  clf_grid2))"
   ]
  },
  {
   "cell_type": "code",
   "execution_count": 39,
   "metadata": {},
   "outputs": [
    {
     "data": {
      "text/plain": [
       "GridSearchCV(cv=5, error_score='raise-deprecating',\n",
       "       estimator=GradientBoostingRegressor(alpha=0.9, criterion='friedman_mse', init=None,\n",
       "             learning_rate=0.01, loss='ls', max_depth=4, max_features=None,\n",
       "             max_leaf_nodes=None, min_impurity_decrease=0.0,\n",
       "             min_impurity_split=None, min_samples_leaf=1,\n",
       "             min_samp...=None, subsample=1.0, tol=0.0001,\n",
       "             validation_fraction=0.1, verbose=0, warm_start=False),\n",
       "       fit_params=None, iid='warn', n_jobs=None,\n",
       "       param_grid={'max_depth': [10, None], 'max_features': [1, 3, 10], 'min_samples_split': [2, 3, 10], 'n_estimators': [500, 600, 700]},\n",
       "       pre_dispatch='2*n_jobs', refit=True, return_train_score='warn',\n",
       "       scoring=None, verbose=0)"
      ]
     },
     "execution_count": 39,
     "metadata": {},
     "output_type": "execute_result"
    }
   ],
   "source": []
  },
  {
   "cell_type": "code",
   "execution_count": 41,
   "metadata": {},
   "outputs": [
    {
     "data": {
      "text/plain": [
       "GridSearchCV(cv=5, error_score='raise-deprecating',\n",
       "       estimator=GradientBoostingRegressor(alpha=0.9, criterion='friedman_mse', init=None,\n",
       "             learning_rate=0.01, loss='ls', max_depth=4, max_features=None,\n",
       "             max_leaf_nodes=None, min_impurity_decrease=0.0,\n",
       "             min_impurity_split=None, min_samples_leaf=1,\n",
       "             min_samp...=None, subsample=1.0, tol=0.0001,\n",
       "             validation_fraction=0.1, verbose=0, warm_start=False),\n",
       "       fit_params=None, iid='warn', n_jobs=None,\n",
       "       param_grid={'max_depth': [10, None], 'max_features': [1, 3, 10], 'min_samples_split': [2, 3, 10], 'n_estimators': [500, 600, 700]},\n",
       "       pre_dispatch='2*n_jobs', refit=True, return_train_score='warn',\n",
       "       scoring=None, verbose=0)"
      ]
     },
     "execution_count": 41,
     "metadata": {},
     "output_type": "execute_result"
    }
   ],
   "source": [
    "clfgrid_search."
   ]
  },
  {
   "cell_type": "code",
   "execution_count": 42,
   "metadata": {},
   "outputs": [
    {
     "data": {
      "text/plain": [
       "{'max_depth': 10,\n",
       " 'max_features': 10,\n",
       " 'min_samples_split': 10,\n",
       " 'n_estimators': 700}"
      ]
     },
     "execution_count": 42,
     "metadata": {},
     "output_type": "execute_result"
    }
   ],
   "source": [
    "clfgrid_search.best_params_"
   ]
  },
  {
   "cell_type": "code",
   "execution_count": 44,
   "metadata": {},
   "outputs": [
    {
     "data": {
      "text/plain": [
       "GridSearchCV(cv=5, error_score='raise-deprecating',\n",
       "       estimator=GradientBoostingRegressor(alpha=0.9, criterion='friedman_mse', init=None,\n",
       "             learning_rate=0.01, loss='ls', max_depth=4, max_features=None,\n",
       "             max_leaf_nodes=None, min_impurity_decrease=0.0,\n",
       "             min_impurity_split=None, min_samples_leaf=1,\n",
       "             min_samp...=None, subsample=1.0, tol=0.0001,\n",
       "             validation_fraction=0.1, verbose=0, warm_start=False),\n",
       "       fit_params=None, iid='warn', n_jobs=None,\n",
       "       param_grid={'max_depth': [10, None], 'max_features': [1, 3, 10], 'min_samples_split': [2, 3, 10], 'n_estimators': [500, 600, 700]},\n",
       "       pre_dispatch='2*n_jobs', refit=True, return_train_score='warn',\n",
       "       scoring=None, verbose=0)"
      ]
     },
     "execution_count": 44,
     "metadata": {},
     "output_type": "execute_result"
    }
   ],
   "source": [
    "clfgrid_search"
   ]
  },
  {
   "cell_type": "code",
   "execution_count": null,
   "metadata": {},
   "outputs": [],
   "source": []
  }
 ],
 "metadata": {
  "kernelspec": {
   "display_name": "Python 3",
   "language": "python",
   "name": "python3"
  },
  "language_info": {
   "codemirror_mode": {
    "name": "ipython",
    "version": 3
   },
   "file_extension": ".py",
   "mimetype": "text/x-python",
   "name": "python",
   "nbconvert_exporter": "python",
   "pygments_lexer": "ipython3",
   "version": "3.7.1"
  }
 },
 "nbformat": 4,
 "nbformat_minor": 2
}
