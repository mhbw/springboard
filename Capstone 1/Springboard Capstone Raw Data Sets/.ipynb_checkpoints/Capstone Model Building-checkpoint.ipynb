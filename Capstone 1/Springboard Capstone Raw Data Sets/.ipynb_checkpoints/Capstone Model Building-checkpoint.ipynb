{
 "cells": [
  {
   "cell_type": "markdown",
   "metadata": {},
   "source": [
    "## Capstone Model Building\n",
    "\n",
    "This is our inital passes at a few machine learning models designed to predict NHL player performance in an ESPN fantasy league. "
   ]
  },
  {
   "cell_type": "code",
   "execution_count": 1,
   "metadata": {},
   "outputs": [],
   "source": [
    "## set up packages and import saved flat file\n",
    "import pandas as pd\n",
    "import numpy as np\n",
    "from matplotlib import pyplot as plt\n",
    "from matplotlib import cm as cm\n",
    "import seaborn as sb\n",
    "import researchpy as rp\n",
    "from scipy import stats\n",
    "from sklearn import metrics\n",
    "from sklearn.model_selection import cross_val_predict, GridSearchCV, cross_val_score\n",
    "from sklearn.model_selection import cross_val_score\n",
    "from sklearn.ensemble import RandomForestRegressor\n",
    "from sklearn.model_selection import train_test_split\n",
    "import time\n",
    "from sklearn.metrics import roc_curve, roc_auc_score"
   ]
  },
  {
   "cell_type": "code",
   "execution_count": 2,
   "metadata": {},
   "outputs": [
    {
     "data": {
      "text/html": [
       "<div>\n",
       "<style scoped>\n",
       "    .dataframe tbody tr th:only-of-type {\n",
       "        vertical-align: middle;\n",
       "    }\n",
       "\n",
       "    .dataframe tbody tr th {\n",
       "        vertical-align: top;\n",
       "    }\n",
       "\n",
       "    .dataframe thead th {\n",
       "        text-align: right;\n",
       "    }\n",
       "</style>\n",
       "<table border=\"1\" class=\"dataframe\">\n",
       "  <thead>\n",
       "    <tr style=\"text-align: right;\">\n",
       "      <th></th>\n",
       "      <th>Player</th>\n",
       "      <th>Team</th>\n",
       "      <th>Year</th>\n",
       "      <th>Position</th>\n",
       "      <th>Fantasy Points</th>\n",
       "      <th>GP</th>\n",
       "      <th>TOI</th>\n",
       "      <th>IPP</th>\n",
       "      <th>SHPer</th>\n",
       "      <th>iCF</th>\n",
       "      <th>...</th>\n",
       "      <th>Weight_(lbs)</th>\n",
       "      <th>Draft_Round</th>\n",
       "      <th>Round_Pick</th>\n",
       "      <th>Overall_Draft_Position</th>\n",
       "      <th>drafted</th>\n",
       "      <th>Total Minutes Played</th>\n",
       "      <th>C</th>\n",
       "      <th>D</th>\n",
       "      <th>L</th>\n",
       "      <th>R</th>\n",
       "    </tr>\n",
       "  </thead>\n",
       "  <tbody>\n",
       "    <tr>\n",
       "      <th>0</th>\n",
       "      <td>Aaron Ness</td>\n",
       "      <td>NYI</td>\n",
       "      <td>2014</td>\n",
       "      <td>D</td>\n",
       "      <td>25.80</td>\n",
       "      <td>20</td>\n",
       "      <td>275.25</td>\n",
       "      <td>100.0</td>\n",
       "      <td>4.35</td>\n",
       "      <td>48</td>\n",
       "      <td>...</td>\n",
       "      <td>184</td>\n",
       "      <td>2.0</td>\n",
       "      <td>10.0</td>\n",
       "      <td>40.0</td>\n",
       "      <td>1</td>\n",
       "      <td>295.88</td>\n",
       "      <td>0</td>\n",
       "      <td>1</td>\n",
       "      <td>0</td>\n",
       "      <td>0</td>\n",
       "    </tr>\n",
       "    <tr>\n",
       "      <th>1</th>\n",
       "      <td>Aaron Palushaj</td>\n",
       "      <td>CAR</td>\n",
       "      <td>2014</td>\n",
       "      <td>R</td>\n",
       "      <td>0.95</td>\n",
       "      <td>2</td>\n",
       "      <td>17.52</td>\n",
       "      <td>0.0</td>\n",
       "      <td>0.00</td>\n",
       "      <td>4</td>\n",
       "      <td>...</td>\n",
       "      <td>187</td>\n",
       "      <td>2.0</td>\n",
       "      <td>14.0</td>\n",
       "      <td>44.0</td>\n",
       "      <td>1</td>\n",
       "      <td>18.65</td>\n",
       "      <td>0</td>\n",
       "      <td>0</td>\n",
       "      <td>0</td>\n",
       "      <td>1</td>\n",
       "    </tr>\n",
       "    <tr>\n",
       "      <th>2</th>\n",
       "      <td>Aaron Rome</td>\n",
       "      <td>DAL</td>\n",
       "      <td>2014</td>\n",
       "      <td>D</td>\n",
       "      <td>27.50</td>\n",
       "      <td>25</td>\n",
       "      <td>301.20</td>\n",
       "      <td>10.0</td>\n",
       "      <td>0.00</td>\n",
       "      <td>36</td>\n",
       "      <td>...</td>\n",
       "      <td>220</td>\n",
       "      <td>4.0</td>\n",
       "      <td>8.0</td>\n",
       "      <td>104.0</td>\n",
       "      <td>1</td>\n",
       "      <td>327.20</td>\n",
       "      <td>0</td>\n",
       "      <td>1</td>\n",
       "      <td>0</td>\n",
       "      <td>0</td>\n",
       "    </tr>\n",
       "    <tr>\n",
       "      <th>3</th>\n",
       "      <td>Aaron Volpatti</td>\n",
       "      <td>WSH</td>\n",
       "      <td>2014</td>\n",
       "      <td>L</td>\n",
       "      <td>32.25</td>\n",
       "      <td>41</td>\n",
       "      <td>300.18</td>\n",
       "      <td>50.0</td>\n",
       "      <td>11.11</td>\n",
       "      <td>39</td>\n",
       "      <td>...</td>\n",
       "      <td>215</td>\n",
       "      <td>100.0</td>\n",
       "      <td>100.0</td>\n",
       "      <td>1000.0</td>\n",
       "      <td>0</td>\n",
       "      <td>301.87</td>\n",
       "      <td>0</td>\n",
       "      <td>0</td>\n",
       "      <td>1</td>\n",
       "      <td>0</td>\n",
       "    </tr>\n",
       "    <tr>\n",
       "      <th>4</th>\n",
       "      <td>Adam Almquist</td>\n",
       "      <td>DET</td>\n",
       "      <td>2014</td>\n",
       "      <td>D</td>\n",
       "      <td>3.45</td>\n",
       "      <td>2</td>\n",
       "      <td>31.52</td>\n",
       "      <td>50.0</td>\n",
       "      <td>50.00</td>\n",
       "      <td>3</td>\n",
       "      <td>...</td>\n",
       "      <td>174</td>\n",
       "      <td>7.0</td>\n",
       "      <td>29.0</td>\n",
       "      <td>210.0</td>\n",
       "      <td>1</td>\n",
       "      <td>34.43</td>\n",
       "      <td>0</td>\n",
       "      <td>1</td>\n",
       "      <td>0</td>\n",
       "      <td>0</td>\n",
       "    </tr>\n",
       "  </tbody>\n",
       "</table>\n",
       "<p>5 rows × 219 columns</p>\n",
       "</div>"
      ],
      "text/plain": [
       "           Player Team  Year Position  Fantasy Points  GP     TOI    IPP  \\\n",
       "0      Aaron Ness  NYI  2014        D           25.80  20  275.25  100.0   \n",
       "1  Aaron Palushaj  CAR  2014        R            0.95   2   17.52    0.0   \n",
       "2      Aaron Rome  DAL  2014        D           27.50  25  301.20   10.0   \n",
       "3  Aaron Volpatti  WSH  2014        L           32.25  41  300.18   50.0   \n",
       "4   Adam Almquist  DET  2014        D            3.45   2   31.52   50.0   \n",
       "\n",
       "   SHPer  iCF ...  Weight_(lbs)  Draft_Round  Round_Pick  \\\n",
       "0   4.35   48 ...           184          2.0        10.0   \n",
       "1   0.00    4 ...           187          2.0        14.0   \n",
       "2   0.00   36 ...           220          4.0         8.0   \n",
       "3  11.11   39 ...           215        100.0       100.0   \n",
       "4  50.00    3 ...           174          7.0        29.0   \n",
       "\n",
       "   Overall_Draft_Position  drafted  Total Minutes Played  C  D  L  R  \n",
       "0                    40.0        1                295.88  0  1  0  0  \n",
       "1                    44.0        1                 18.65  0  0  0  1  \n",
       "2                   104.0        1                327.20  0  1  0  0  \n",
       "3                  1000.0        0                301.87  0  0  1  0  \n",
       "4                   210.0        1                 34.43  0  1  0  0  \n",
       "\n",
       "[5 rows x 219 columns]"
      ]
     },
     "execution_count": 2,
     "metadata": {},
     "output_type": "execute_result"
    }
   ],
   "source": [
    "## import our now cleaned flat file, remind ourselves what it looks like\n",
    "\n",
    "model_data = pd.read_csv('model_ready_data.csv')\n",
    "model_data.head()"
   ]
  },
  {
   "cell_type": "code",
   "execution_count": 3,
   "metadata": {},
   "outputs": [],
   "source": [
    "# we need to reset the index and split into target and features \n",
    "model_data.set_index(keys=['Player','Team','Year','Position'],inplace=True)\n",
    "Target = model_data.iloc[:,0].values  \n",
    "features = model_data.iloc[:, 1:].values \n",
    "X_train, X_test, y_train, y_test = train_test_split(features, Target, test_size=0.2, random_state=0)  "
   ]
  },
  {
   "cell_type": "markdown",
   "metadata": {},
   "source": [
    "Initially we'll start with a random forest regressor"
   ]
  },
  {
   "cell_type": "code",
   "execution_count": 4,
   "metadata": {},
   "outputs": [
    {
     "data": {
      "text/plain": [
       "RandomForestRegressor(bootstrap=True, criterion='mse', max_depth=None,\n",
       "           max_features='auto', max_leaf_nodes=None,\n",
       "           min_impurity_decrease=0.0, min_impurity_split=None,\n",
       "           min_samples_leaf=1, min_samples_split=2,\n",
       "           min_weight_fraction_leaf=0.0, n_estimators=20, n_jobs=None,\n",
       "           oob_score=False, random_state=0, verbose=0, warm_start=False)"
      ]
     },
     "execution_count": 4,
     "metadata": {},
     "output_type": "execute_result"
    }
   ],
   "source": [
    "## fitting without parameter tuning\n",
    "regressor = RandomForestRegressor(n_estimators=20, random_state=0)  \n",
    "regressor.fit(X_train, y_train)  "
   ]
  },
  {
   "cell_type": "markdown",
   "metadata": {},
   "source": [
    "Making intial predictions and charting performance"
   ]
  },
  {
   "cell_type": "code",
   "execution_count": 5,
   "metadata": {},
   "outputs": [
    {
     "name": "stdout",
     "output_type": "stream",
     "text": [
      "Mean Absolute Error: 11.753717660292464\n",
      "Mean Squared Error: 295.7487059898763\n",
      "Root Mean Squared Error: 17.19734589958219\n",
      "Regreessor Score: 0.9514555313337327\n"
     ]
    }
   ],
   "source": [
    "y_pred = regressor.predict(X_test)  \n",
    "from sklearn import metrics\n",
    "\n",
    "print('Mean Absolute Error:', metrics.mean_absolute_error(y_test, y_pred))  \n",
    "print('Mean Squared Error:', metrics.mean_squared_error(y_test, y_pred))  \n",
    "print('Root Mean Squared Error:', np.sqrt(metrics.mean_squared_error(y_test, y_pred))) \n",
    "print('Regreessor Score:',RandomForestRegressor.score(regressor,X_test,  y_test))"
   ]
  },
  {
   "cell_type": "markdown",
   "metadata": {},
   "source": [
    "Examining the features"
   ]
  },
  {
   "cell_type": "code",
   "execution_count": 6,
   "metadata": {},
   "outputs": [
    {
     "data": {
      "image/png": "[encoded data removed]",
      "text/plain": [
       "<Figure size 432x288 with 1 Axes>"
      ]
     },
     "metadata": {
      "needs_background": "light"
     },
     "output_type": "display_data"
    }
   ],
   "source": [
    "feature_import= list(zip(regressor.feature_importances_, model_data.columns[1:]))\n",
    "feature_import = pd.DataFrame(feature_import, columns = ['Importance', 'Feature'])\n",
    "top_features = feature_import.sort_values(by='Importance', ascending=False)[0:15]\n",
    "# quick plot of values\n",
    "sb.set_color_codes(\"pastel\")\n",
    "sb.barplot(x='Importance', y=\"Feature\", data=top_features, color=\"b\")\n",
    "sb.despine(left=True, bottom=True)"
   ]
  },
  {
   "cell_type": "markdown",
   "metadata": {},
   "source": [
    "Looking at features scores it's interesting that time again holds a lot of import. What I dislike here is that's not really something that we can then use as predictive value since that's a coaching decision, not a player skill.\n",
    "\n",
    "Let's try some grid searching to see where we can find some improvements."
   ]
  },
  {
   "cell_type": "code",
   "execution_count": 7,
   "metadata": {},
   "outputs": [
    {
     "name": "stdout",
     "output_type": "stream",
     "text": [
      "GridSearchCV took 184.00 seconds for 108 candidate parameter settings.\n"
     ]
    },
    {
     "data": {
      "text/plain": [
       "{'bootstrap': False,\n",
       " 'max_depth': None,\n",
       " 'max_features': 10,\n",
       " 'min_samples_split': 2,\n",
       " 'n_estimators': 100}"
      ]
     },
     "execution_count": 7,
     "metadata": {},
     "output_type": "execute_result"
    }
   ],
   "source": [
    "RandomForestRegressor(bootstrap=True, criterion='mse', max_depth=None,\n",
    "           max_features='auto', max_leaf_nodes=None,\n",
    "           min_impurity_decrease=0.0, min_impurity_split=None,\n",
    "           min_samples_leaf=1, min_samples_split=2,\n",
    "           min_weight_fraction_leaf=0.0, n_estimators=100, n_jobs=None,\n",
    "           oob_score=False, random_state=0, verbose=0, warm_start=False)\n",
    "\n",
    "\n",
    "param_grid = {\"max_depth\": [10, None],\n",
    "              \"max_features\": [1, 3, 10],\n",
    "              \"min_samples_split\": [2, 3, 10],\n",
    "              'n_estimators':[20,50,100],\n",
    "              \"bootstrap\": [True, False]}\n",
    "\n",
    "# run grid search\n",
    "grid_search = GridSearchCV(regressor, param_grid=param_grid, cv=5)\n",
    "start = time.gmtime()\n",
    "grid_search.fit(X_train,  y_train)\n",
    "\n",
    "print(\"GridSearchCV took %.2f seconds for %d candidate parameter settings.\"\n",
    "      % (time.mktime(time.gmtime()) - time.mktime(start), len(grid_search.cv_results_['params'])))\n",
    "grid_search.best_params_"
   ]
  },
  {
   "cell_type": "code",
   "execution_count": 8,
   "metadata": {},
   "outputs": [
    {
     "name": "stdout",
     "output_type": "stream",
     "text": [
      "Mean Absolute Error: 11.198483689538806\n",
      "Mean Squared Error: 264.4461418239595\n",
      "Root Mean Squared Error: 16.261800079448754\n",
      "Regressor Score: 0.9565935634351417\n"
     ]
    }
   ],
   "source": [
    "best_grid = grid_search.best_estimator_\n",
    "y_pred = best_grid.predict(X_test) \n",
    "\n",
    "print('Mean Absolute Error:', metrics.mean_absolute_error(y_test, y_pred))  \n",
    "print('Mean Squared Error:', metrics.mean_squared_error(y_test, y_pred))  \n",
    "print('Root Mean Squared Error:', np.sqrt(metrics.mean_squared_error(y_test, y_pred))) \n",
    "print('Regressor Score:',RandomForestRegressor.score(best_grid,X_test,  y_test))"
   ]
  },
  {
   "cell_type": "markdown",
   "metadata": {},
   "source": [
    "The grid search did improve some but not a ton accros the board, other than in MSE, which makes sense as that's the metric it's scoring on.\n",
    "\n",
    "| Metric      | Original          | Grid Search  | \n",
    "| ------------- |:-------------:| -----:| \n",
    "| Mean Absolute Error:    |  11.75 | 11.2 | \n",
    "| Mean Squared Error:    |  295.75 | 264.45 | \n",
    "| Root Mean Squared Error:     |  17.2 | 16.26 | \n",
    "| Regressor Score:    |  0.95 | 0.96 | \n"
   ]
  },
  {
   "cell_type": "code",
   "execution_count": 9,
   "metadata": {},
   "outputs": [
    {
     "data": {
      "image/png": "[encoded data removed]",
      "text/plain": [
       "<Figure size 432x288 with 1 Axes>"
      ]
     },
     "metadata": {
      "needs_background": "light"
     },
     "output_type": "display_data"
    }
   ],
   "source": [
    "## checking how feature importance has changed\n",
    "feature_import= list(zip(best_grid.feature_importances_, model_data.columns[1:]))\n",
    "feature_import = pd.DataFrame(feature_import, columns = ['Importance', 'Feature'])\n",
    "top_features_grid = feature_import.sort_values(by='Importance', ascending=False)[0:15]\n",
    "# quick plot of values\n",
    "sb.set_color_codes(\"pastel\")\n",
    "sb.barplot(x='Importance', y=\"Feature\", data=top_features, color=\"b\")\n",
    "sb.despine(left=True, bottom=True)"
   ]
  },
  {
   "cell_type": "code",
   "execution_count": 10,
   "metadata": {},
   "outputs": [],
   "source": [
    "## for fun I decided to re run the above using just the top 15 features, to see if triming \n",
    "## the options would reduce noise even further\n",
    "feature_list = top_features_grid.Feature.unique()\n",
    "trimmed_features = model_data.loc[:,feature_list].values \n",
    "trimmed_X_train, trimmed_X_test, trimmed_y_train, trimmed_y_test = train_test_split(trimmed_features, Target, test_size=0.2, random_state=0) "
   ]
  },
  {
   "cell_type": "code",
   "execution_count": 11,
   "metadata": {
    "scrolled": true
   },
   "outputs": [
    {
     "name": "stdout",
     "output_type": "stream",
     "text": [
      "GridSearchCV took 202.00 seconds for 108 candidate parameter settings.\n"
     ]
    },
    {
     "data": {
      "text/plain": [
       "{'bootstrap': False,\n",
       " 'max_depth': None,\n",
       " 'max_features': 3,\n",
       " 'min_samples_split': 10,\n",
       " 'n_estimators': 100}"
      ]
     },
     "execution_count": 11,
     "metadata": {},
     "output_type": "execute_result"
    }
   ],
   "source": [
    "trimmed_regressor = RandomForestRegressor(n_estimators=20, random_state=0)  \n",
    "trimmed_regressor.fit(trimmed_X_train, trimmed_y_train)\n",
    "# run grid search\n",
    "grid_search = GridSearchCV(regressor, param_grid=param_grid, cv=5)\n",
    "start = time.gmtime()\n",
    "grid_search.fit(trimmed_X_train,  trimmed_y_train)\n",
    "\n",
    "print(\"GridSearchCV took %.2f seconds for %d candidate parameter settings.\"\n",
    "      % (time.mktime(time.gmtime()) - time.mktime(start), len(grid_search.cv_results_['params'])))\n",
    "grid_search.best_params_"
   ]
  },
  {
   "cell_type": "code",
   "execution_count": 12,
   "metadata": {},
   "outputs": [
    {
     "name": "stdout",
     "output_type": "stream",
     "text": [
      "Mean Absolute Error: 13.700202715955148\n",
      "Mean Squared Error: 400.8060463075549\n",
      "Root Mean Squared Error: 20.020141016175558\n",
      "Regressor Score: 0.9342113214287618\n"
     ]
    }
   ],
   "source": [
    "best_grid = grid_search.best_estimator_\n",
    "trimmed_y_pred = best_grid.predict(trimmed_X_test) \n",
    "\n",
    "print('Mean Absolute Error:', metrics.mean_absolute_error(trimmed_y_test, trimmed_y_pred))  \n",
    "print('Mean Squared Error:', metrics.mean_squared_error(trimmed_y_test, trimmed_y_pred))  \n",
    "print('Root Mean Squared Error:', np.sqrt(metrics.mean_squared_error(trimmed_y_test, trimmed_y_pred))) \n",
    "print('Regressor Score:',RandomForestRegressor.score(best_grid,trimmed_X_test,  trimmed_y_test))"
   ]
  },
  {
   "cell_type": "markdown",
   "metadata": {},
   "source": [
    "So that backfired in that it significantly increased the errors, especially on MSE, which is pretty significant.\n",
    "\n",
    "Let's move on and try some more classic models"
   ]
  },
  {
   "cell_type": "code",
   "execution_count": 17,
   "metadata": {},
   "outputs": [
    {
     "name": "stdout",
     "output_type": "stream",
     "text": [
      "87.15018870456066\n"
     ]
    }
   ],
   "source": [
    "## linear regression\n",
    "from sklearn.linear_model import LinearRegression\n",
    "lin_reg = LinearRegression()  \n",
    "lin_reg.fit(X_train, y_train) \n",
    "print(lin_reg.intercept_)"
   ]
  },
  {
   "cell_type": "code",
   "execution_count": 27,
   "metadata": {},
   "outputs": [
    {
     "data": {
      "text/html": [
       "<div>\n",
       "<style scoped>\n",
       "    .dataframe tbody tr th:only-of-type {\n",
       "        vertical-align: middle;\n",
       "    }\n",
       "\n",
       "    .dataframe tbody tr th {\n",
       "        vertical-align: top;\n",
       "    }\n",
       "\n",
       "    .dataframe thead th {\n",
       "        text-align: right;\n",
       "    }\n",
       "</style>\n",
       "<table border=\"1\" class=\"dataframe\">\n",
       "  <thead>\n",
       "    <tr style=\"text-align: right;\">\n",
       "      <th></th>\n",
       "      <th>Actual</th>\n",
       "      <th>Predicted</th>\n",
       "    </tr>\n",
       "  </thead>\n",
       "  <tbody>\n",
       "    <tr>\n",
       "      <th>1</th>\n",
       "      <td>14.35</td>\n",
       "      <td>16.345904</td>\n",
       "    </tr>\n",
       "    <tr>\n",
       "      <th>2</th>\n",
       "      <td>233.65</td>\n",
       "      <td>199.122168</td>\n",
       "    </tr>\n",
       "    <tr>\n",
       "      <th>3</th>\n",
       "      <td>141.50</td>\n",
       "      <td>153.884523</td>\n",
       "    </tr>\n",
       "    <tr>\n",
       "      <th>4</th>\n",
       "      <td>185.85</td>\n",
       "      <td>200.685100</td>\n",
       "    </tr>\n",
       "    <tr>\n",
       "      <th>5</th>\n",
       "      <td>150.95</td>\n",
       "      <td>164.722377</td>\n",
       "    </tr>\n",
       "    <tr>\n",
       "      <th>6</th>\n",
       "      <td>135.25</td>\n",
       "      <td>130.762171</td>\n",
       "    </tr>\n",
       "    <tr>\n",
       "      <th>7</th>\n",
       "      <td>75.00</td>\n",
       "      <td>91.965385</td>\n",
       "    </tr>\n",
       "    <tr>\n",
       "      <th>8</th>\n",
       "      <td>158.80</td>\n",
       "      <td>176.621316</td>\n",
       "    </tr>\n",
       "    <tr>\n",
       "      <th>9</th>\n",
       "      <td>108.85</td>\n",
       "      <td>109.707626</td>\n",
       "    </tr>\n",
       "    <tr>\n",
       "      <th>10</th>\n",
       "      <td>120.45</td>\n",
       "      <td>144.194733</td>\n",
       "    </tr>\n",
       "    <tr>\n",
       "      <th>11</th>\n",
       "      <td>28.90</td>\n",
       "      <td>37.639985</td>\n",
       "    </tr>\n",
       "    <tr>\n",
       "      <th>12</th>\n",
       "      <td>2.10</td>\n",
       "      <td>-4.960848</td>\n",
       "    </tr>\n",
       "    <tr>\n",
       "      <th>13</th>\n",
       "      <td>23.20</td>\n",
       "      <td>22.921417</td>\n",
       "    </tr>\n",
       "    <tr>\n",
       "      <th>14</th>\n",
       "      <td>306.30</td>\n",
       "      <td>275.603815</td>\n",
       "    </tr>\n",
       "    <tr>\n",
       "      <th>15</th>\n",
       "      <td>59.05</td>\n",
       "      <td>44.927538</td>\n",
       "    </tr>\n",
       "    <tr>\n",
       "      <th>16</th>\n",
       "      <td>33.55</td>\n",
       "      <td>33.830963</td>\n",
       "    </tr>\n",
       "    <tr>\n",
       "      <th>17</th>\n",
       "      <td>162.30</td>\n",
       "      <td>170.539265</td>\n",
       "    </tr>\n",
       "    <tr>\n",
       "      <th>18</th>\n",
       "      <td>1.45</td>\n",
       "      <td>-7.266848</td>\n",
       "    </tr>\n",
       "    <tr>\n",
       "      <th>19</th>\n",
       "      <td>35.95</td>\n",
       "      <td>38.811192</td>\n",
       "    </tr>\n",
       "  </tbody>\n",
       "</table>\n",
       "</div>"
      ],
      "text/plain": [
       "    Actual   Predicted\n",
       "1    14.35   16.345904\n",
       "2   233.65  199.122168\n",
       "3   141.50  153.884523\n",
       "4   185.85  200.685100\n",
       "5   150.95  164.722377\n",
       "6   135.25  130.762171\n",
       "7    75.00   91.965385\n",
       "8   158.80  176.621316\n",
       "9   108.85  109.707626\n",
       "10  120.45  144.194733\n",
       "11   28.90   37.639985\n",
       "12    2.10   -4.960848\n",
       "13   23.20   22.921417\n",
       "14  306.30  275.603815\n",
       "15   59.05   44.927538\n",
       "16   33.55   33.830963\n",
       "17  162.30  170.539265\n",
       "18    1.45   -7.266848\n",
       "19   35.95   38.811192"
      ]
     },
     "execution_count": 27,
     "metadata": {},
     "output_type": "execute_result"
    }
   ],
   "source": [
    "y_pred = lin_reg.predict(X_test)\n",
    "df = pd.DataFrame({'Actual': y_test.flatten(), 'Predicted': y_pred.flatten()})\n",
    "df[1:20]"
   ]
  },
  {
   "cell_type": "markdown",
   "metadata": {},
   "source": [
    "This is sort of goofy in that there are negative values, which I'm sure there should be some way to prevent in the code. From a glance they're low value players anyway, but it's still seems less than ideal. "
   ]
  },
  {
   "cell_type": "code",
   "execution_count": 29,
   "metadata": {},
   "outputs": [
    {
     "name": "stdout",
     "output_type": "stream",
     "text": [
      "Mean Absolute Error: 12.528944160798359\n",
      "Mean Squared Error: 280.0456966076776\n",
      "Root Mean Squared Error: 16.73456592229621\n",
      "Regressor Score: 0.9540330379516191\n"
     ]
    }
   ],
   "source": [
    "## looking at metrics\n",
    "print('Mean Absolute Error:', metrics.mean_absolute_error(y_test, y_pred))  \n",
    "print('Mean Squared Error:', metrics.mean_squared_error(y_test, y_pred))  \n",
    "print('Root Mean Squared Error:', np.sqrt(metrics.mean_squared_error(y_test, y_pred))) \n",
    "print('Regressor Score:',LinearRegression.score(lin_reg,X_test,  y_test))"
   ]
  },
  {
   "cell_type": "markdown",
   "metadata": {},
   "source": [
    "Well this is a close but no cigar type item. The RMSE was about the same, but in every other area \n",
    "\n",
    "| Metric      | Linear Regression         | Grid Search  | \n",
    "| ------------- |:-------------:| -----:| \n",
    "| Mean Absolute Error:    |  12.53 | 11.2 | \n",
    "| Mean Squared Error:    |  280.05 | 264.45 | \n",
    "| Root Mean Squared Error:     |  16.73 | 16.26 | \n",
    "| Regressor Score:    |  0.95 | 0.96 | "
   ]
  },
  {
   "cell_type": "code",
   "execution_count": 1,
   "metadata": {},
   "outputs": [
    {
     "ename": "NameError",
     "evalue": "name 'X_train' is not defined",
     "output_type": "error",
     "traceback": [
      "\u001b[0;31m---------------------------------------------------------------------------\u001b[0m",
      "\u001b[0;31mNameError\u001b[0m                                 Traceback (most recent call last)",
      "\u001b[0;32m<ipython-input-1-702cdb219221>\u001b[0m in \u001b[0;36m<module>\u001b[0;34m\u001b[0m\n\u001b[1;32m      4\u001b[0m \u001b[0;34m\u001b[0m\u001b[0m\n\u001b[1;32m      5\u001b[0m \u001b[0mstgd\u001b[0m \u001b[0;34m=\u001b[0m \u001b[0mSGDRegressor\u001b[0m\u001b[0;34m(\u001b[0m\u001b[0mmax_iter\u001b[0m\u001b[0;34m=\u001b[0m\u001b[0;36m1000\u001b[0m\u001b[0;34m,\u001b[0m \u001b[0mtol\u001b[0m\u001b[0;34m=\u001b[0m\u001b[0;36m1e-3\u001b[0m\u001b[0;34m)\u001b[0m\u001b[0;34m\u001b[0m\u001b[0;34m\u001b[0m\u001b[0m\n\u001b[0;32m----> 6\u001b[0;31m \u001b[0mstgd\u001b[0m\u001b[0;34m.\u001b[0m\u001b[0mfit\u001b[0m\u001b[0;34m(\u001b[0m\u001b[0mX_train\u001b[0m\u001b[0;34m,\u001b[0m \u001b[0my_train\u001b[0m\u001b[0;34m)\u001b[0m\u001b[0;34m\u001b[0m\u001b[0;34m\u001b[0m\u001b[0m\n\u001b[0m\u001b[1;32m      7\u001b[0m \u001b[0msty_pred\u001b[0m \u001b[0;34m=\u001b[0m \u001b[0mstgd\u001b[0m\u001b[0;34m.\u001b[0m\u001b[0mpredict\u001b[0m\u001b[0;34m(\u001b[0m\u001b[0mX_test\u001b[0m\u001b[0;34m)\u001b[0m\u001b[0;34m\u001b[0m\u001b[0;34m\u001b[0m\u001b[0m\n",
      "\u001b[0;31mNameError\u001b[0m: name 'X_train' is not defined"
     ]
    }
   ],
   "source": [
    "## let's try some gradient decent\n",
    "\n",
    "from sklearn.linear_model import SGDRegressor\n",
    "\n",
    "stgd = SGDRegressor( tol=1e-3)\n",
    "stgd.fit(X_train, y_train)\n",
    "sty_pred = stgd.predict(X_test)\n"
   ]
  },
  {
   "cell_type": "code",
   "execution_count": 33,
   "metadata": {},
   "outputs": [
    {
     "name": "stdout",
     "output_type": "stream",
     "text": [
      "Mean Absolute Error: 276910852823952.53\n",
      "Mean Squared Error: 1.669157145384065e+29\n",
      "Root Mean Squared Error: 408553196705651.2\n",
      "Regressor Score: -2.7397701190938288e+25\n"
     ]
    }
   ],
   "source": [
    "print('Mean Absolute Error:', metrics.mean_absolute_error(y_test, sty_pred))  \n",
    "print('Mean Squared Error:', metrics.mean_squared_error(y_test, sty_pred))  \n",
    "print('Root Mean Squared Error:', np.sqrt(metrics.mean_squared_error(y_test, sty_pred))) \n",
    "print('Regressor Score:',LinearRegression.score(stgd,X_test,  y_test))"
   ]
  },
  {
   "cell_type": "code",
   "execution_count": 34,
   "metadata": {},
   "outputs": [
    {
     "data": {
      "text/plain": [
       "array([-6.60765116e+14, -2.08198284e+14,  1.10224856e+13, -2.61071896e+14,\n",
       "       -4.77827137e+13, -4.01338868e+13, -3.00834702e+14, -1.56067766e+14,\n",
       "       -1.45407906e+14, -5.80910399e+14, -6.55287056e+13, -1.14148890e+14,\n",
       "       -1.69026627e+14, -4.56205061e+14,  8.08620516e+14, -3.81052867e+14,\n",
       "       -4.14324986e+14, -8.75458872e+14, -1.15052447e+14, -7.81281159e+14,\n",
       "        1.18805243e+14, -6.42274468e+13, -6.87274746e+14, -2.10227519e+13,\n",
       "       -6.08861669e+13,  1.44385328e+14, -1.37886560e+14,  7.72519351e+14,\n",
       "       -2.81795424e+14,  1.40424364e+14, -2.27862424e+14, -1.48783893e+14,\n",
       "        1.93832433e+14, -2.29481785e+14, -1.57156364e+14, -9.81529622e+12,\n",
       "        1.86757447e+14, -6.16286238e+14,  6.11488464e+14, -4.77888873e+14,\n",
       "       -1.22330551e+14,  3.78790393e+13, -7.54584266e+14, -1.69758409e+14,\n",
       "       -1.90700555e+14,  2.68985326e+14, -7.48750357e+14,  5.56731855e+14,\n",
       "       -7.33362570e+14,  4.88919653e+14, -2.17316957e+14, -1.05107595e+14,\n",
       "        5.40181163e+14, -1.77603629e+14, -5.33427284e+14, -1.82820277e+14,\n",
       "       -2.31150625e+13, -4.95887257e+14, -1.84894459e+14, -8.59228760e+13,\n",
       "       -7.48550082e+12, -6.60901328e+14,  9.55627097e+13, -1.07553714e+14,\n",
       "       -1.71945032e+13, -1.68726929e+14, -2.07199387e+14, -1.24907447e+14,\n",
       "       -6.43444139e+14, -6.60185963e+14, -9.62673854e+13,  5.84610750e+14,\n",
       "       -1.89684050e+14, -2.24965769e+14, -9.68645631e+13,  1.59073931e+14,\n",
       "       -3.00258469e+14, -1.49666868e+14, -5.28078104e+14,  1.76310786e+14,\n",
       "       -3.03983840e+14, -6.80921768e+14, -5.98424923e+14, -1.91046492e+14,\n",
       "       -2.52820272e+14,  4.99768619e+14, -5.24825094e+13, -1.39920502e+14,\n",
       "       -1.74061308e+14, -1.01558384e+14, -2.01623329e+14, -2.76491877e+14,\n",
       "       -6.82930162e+13, -3.14290563e+14, -9.80813345e+12, -7.47327687e+14,\n",
       "       -1.41175130e+14, -4.42901619e+14, -2.73672291e+14, -5.30585087e+14,\n",
       "       -8.84981220e+13, -3.12597661e+14, -2.48988827e+14, -6.14927398e+14,\n",
       "       -2.61224608e+14, -2.66629886e+14, -3.16801202e+14, -2.13868321e+14,\n",
       "       -2.17359162e+14, -2.28557398e+14, -3.53285498e+13, -5.11198704e+13,\n",
       "       -2.61663046e+14, -3.55228635e+14, -3.24205776e+14,  7.27566377e+13,\n",
       "        3.06169989e+14, -3.45004220e+14,  9.54522081e+13, -8.34930144e+13,\n",
       "       -9.64608623e+14, -7.67316617e+14, -1.50255483e+14, -2.76743270e+14,\n",
       "       -1.75457928e+14, -1.39658654e+14,  7.13973829e+13, -9.59029288e+13,\n",
       "       -2.11021070e+14, -1.83551974e+14, -2.49022041e+14,  1.54278166e+13,\n",
       "        1.12027380e+14, -8.41565147e+13, -3.04636134e+14,  2.02766915e+14,\n",
       "       -8.45901297e+13, -2.97592084e+14, -1.30816871e+14, -1.34265497e+14,\n",
       "       -3.22463293e+14, -8.75283766e+13,  8.00919574e+13, -4.77756392e+13,\n",
       "       -1.92411010e+14, -1.98937604e+14, -2.05807020e+14, -7.69198133e+14,\n",
       "        2.36013363e+14, -2.74466275e+14, -5.79362864e+14, -7.27972512e+14,\n",
       "       -1.99544245e+14,  1.17907719e+14, -1.93762515e+14,  5.38507383e+14,\n",
       "       -2.88427649e+14,  5.55224836e+14, -2.19365985e+14, -2.05512517e+14,\n",
       "       -1.17568076e+15, -7.02969249e+13, -6.27824163e+14,  4.96509376e+14,\n",
       "       -2.70807795e+13, -7.54026532e+14, -2.48148791e+14, -5.37997984e+14,\n",
       "       -3.17588268e+14, -7.54254910e+14, -2.97518984e+14, -1.40061340e+14,\n",
       "       -2.51432189e+14, -4.91092259e+13, -2.32049453e+14, -3.34662924e+14,\n",
       "       -1.39540300e+14, -1.74892773e+14, -3.39081026e+14, -2.85649464e+14,\n",
       "       -4.39599774e+13,  1.43117938e+14, -2.74763664e+14, -1.22410870e+14,\n",
       "       -1.60174668e+14, -5.03034523e+14, -2.67655675e+14, -2.41663636e+14,\n",
       "        3.73417643e+14, -3.58797064e+14,  3.31995894e+14, -2.35336046e+14,\n",
       "       -3.33415796e+14, -6.77609391e+14, -4.06877277e+13, -2.90333126e+13,\n",
       "       -1.25559142e+14, -2.20133214e+14, -1.18857304e+14, -6.91616978e+14,\n",
       "       -2.61319740e+14, -2.28809336e+14, -1.15112110e+14,  1.12933848e+14,\n",
       "       -2.59006193e+14, -7.23532504e+13, -2.42317667e+14, -7.29040695e+14,\n",
       "        6.13635424e+14, -2.19840772e+14, -2.20157459e+14, -4.81173540e+13,\n",
       "       -1.75123781e+14, -2.06573382e+14, -1.81255863e+14, -2.24781627e+14,\n",
       "       -7.23868708e+14,  3.48773696e+14, -6.65579542e+13, -2.25489977e+14,\n",
       "       -4.14697522e+14,  6.50538356e+14, -1.50857388e+15, -2.71796517e+13,\n",
       "        4.78802166e+13, -4.30750874e+14, -3.38018341e+13, -2.92802932e+13,\n",
       "       -1.63882491e+14, -7.77439639e+14, -4.24935385e+14, -2.78575026e+14,\n",
       "       -2.63752672e+14, -2.01612217e+14, -2.15614237e+14,  6.72102221e+14,\n",
       "       -1.54478962e+14,  1.79690746e+14, -2.60440710e+13, -1.08324046e+14,\n",
       "       -2.92275015e+14, -2.05302885e+14, -2.19744619e+14, -1.34609399e+14,\n",
       "       -5.55531301e+14,  4.34969091e+13, -7.13518612e+14, -1.52180080e+14,\n",
       "       -1.85462701e+14, -1.92370307e+14,  1.64108712e+13, -2.98876301e+14,\n",
       "       -4.57146942e+12,  1.06257022e+13, -1.86006027e+14, -1.08788031e+14,\n",
       "       -1.46543110e+14, -1.68002037e+14, -4.41143384e+13, -6.43899571e+13,\n",
       "       -1.26289024e+14, -3.36353566e+14, -2.65297445e+14,  4.13870245e+13,\n",
       "       -6.89094087e+14, -1.75230403e+12, -4.35930505e+13,  2.45321032e+14,\n",
       "       -1.39375309e+14, -1.14881699e+14, -7.86780528e+14, -7.78012287e+14,\n",
       "        4.24590058e+14, -1.75769141e+14, -1.09176771e+14, -1.47503777e+14,\n",
       "       -8.62968445e+13, -2.18964136e+14, -2.05480920e+14,  1.21193360e+14,\n",
       "       -1.52687440e+14, -6.61182613e+14, -1.22966700e+14, -1.02096320e+14,\n",
       "       -1.94010417e+14, -7.51029603e+13, -3.69468191e+13, -2.45930520e+14,\n",
       "       -6.63433057e+14,  4.14282205e+14, -5.23811982e+13, -2.04469992e+14,\n",
       "       -2.52159757e+14,  1.28729864e+13, -3.16275982e+14, -3.81729453e+14,\n",
       "       -3.84617982e+14, -1.73277632e+14, -1.71385188e+14, -1.34254851e+14,\n",
       "        4.84844526e+14, -1.29760590e+14, -1.49099122e+14,  4.18056091e+13,\n",
       "       -5.79301030e+13, -2.30368963e+14, -1.68143890e+14, -3.11327168e+14,\n",
       "       -3.76226808e+14, -1.20977395e+14,  3.97942478e+14, -1.40144247e+14,\n",
       "       -2.99034627e+14, -6.88639117e+13, -2.38234550e+14, -1.50410278e+14,\n",
       "        1.70495951e+13, -8.27058331e+14,  4.60135623e+14, -2.64825601e+14,\n",
       "       -8.21282709e+13,  2.51842730e+14,  4.76723964e+14, -1.43425883e+14,\n",
       "       -2.69961286e+14, -1.42515378e+14, -4.99202222e+13, -7.88938895e+13,\n",
       "       -2.48300346e+14, -1.14164411e+14, -9.19331532e+14, -1.76171910e+14,\n",
       "       -5.40573243e+14, -2.20512117e+14,  1.48391137e+13, -1.71436702e+14,\n",
       "       -7.70713752e+14,  1.77347288e+14, -5.84379892e+13, -2.90978395e+14,\n",
       "        9.97215460e+13, -7.77414554e+14, -1.76108446e+14,  6.76934928e+13,\n",
       "       -4.93231184e+13, -3.76766413e+14, -8.79982200e+13,  5.04297772e+13,\n",
       "       -1.58201730e+14,  5.15384205e+13, -5.85262242e+13, -4.28120774e+13,\n",
       "       -2.49853361e+14,  2.11600818e+14, -3.95906822e+14,  1.77697455e+14,\n",
       "       -2.60881982e+14, -7.07556241e+14, -5.75652154e+14, -2.99207129e+14,\n",
       "       -1.72854794e+14, -4.49462162e+14, -2.64638053e+14, -5.32833858e+14,\n",
       "       -5.36932646e+14, -2.56406762e+14,  5.34431891e+13,  6.64690724e+14,\n",
       "       -4.39340639e+14, -3.11176154e+13, -6.38854636e+14, -6.76031114e+14,\n",
       "        3.66572276e+11, -2.09707011e+15,  5.00101213e+14, -1.26488788e+14,\n",
       "        1.92209166e+14, -9.36407268e+13, -1.60489913e+14, -1.72259538e+14,\n",
       "        1.53825733e+14, -2.93242037e+14, -2.15807764e+14, -1.83170283e+14,\n",
       "       -1.82353691e+14, -1.99450458e+14, -6.74771237e+14, -7.54122231e+13,\n",
       "       -1.50264986e+14,  1.76632084e+14, -2.95042446e+14, -1.61697577e+14,\n",
       "       -1.53650560e+14, -1.42570002e+14, -2.60734817e+14, -5.42271026e+13,\n",
       "       -1.40659545e+14, -2.94740622e+14, -7.24808790e+14, -1.30362972e+14,\n",
       "       -6.07735155e+14, -2.22724026e+14, -2.26510092e+14, -1.01089217e+14,\n",
       "       -5.91022055e+14, -7.72394814e+14, -1.95235338e+14, -1.88994489e+14,\n",
       "       -5.83710741e+13, -7.08954300e+14,  6.44906953e+14,  2.60097953e+14,\n",
       "       -2.63671633e+14, -1.29746784e+14,  5.93894171e+13, -5.13838086e+13,\n",
       "        7.19575504e+13, -3.04685776e+14,  5.48305990e+14, -8.73838824e+13,\n",
       "       -1.59764235e+14, -4.29296695e+12, -7.69025873e+14, -5.03771702e+14,\n",
       "        1.28164836e+14, -1.07440266e+13, -2.36220736e+14, -3.19278310e+14,\n",
       "        2.40329880e+13, -1.42711466e+14, -1.17680993e+13, -7.30510047e+14,\n",
       "        1.23946196e+14,  3.57104912e+14, -1.38593961e+14, -2.61884439e+14,\n",
       "       -6.47273105e+14, -1.39023337e+14, -1.03616315e+14, -3.41693521e+14,\n",
       "       -7.53578574e+13,  1.59801496e+14, -4.99667053e+14, -1.67616167e+14,\n",
       "        1.46015703e+14, -5.99906267e+15, -1.20793784e+14, -2.15698457e+14,\n",
       "       -1.15199260e+14, -2.59274463e+14, -1.82896198e+14, -5.12720146e+13,\n",
       "        1.83669736e+14, -1.91255153e+14,  1.87555715e+14, -1.28769876e+14,\n",
       "       -2.15642549e+14,  4.84942263e+14, -7.13973845e+14, -1.84429481e+14,\n",
       "       -1.20969790e+14,  1.38336246e+14, -1.19705841e+14, -5.59465633e+13,\n",
       "       -2.43315796e+13,  1.49676369e+14, -1.90188669e+14, -7.12797761e+13,\n",
       "       -1.42267452e+14, -4.15561674e+13, -1.33520931e+14, -1.28351807e+14,\n",
       "        1.32191041e+14, -6.35986750e+14, -3.08033811e+14,  4.83625752e+14,\n",
       "       -3.52961276e+14,  6.21416958e+13, -1.98830823e+14, -1.88356645e+14,\n",
       "       -2.96559410e+14, -6.45950540e+14, -9.87812879e+13, -1.43872708e+14,\n",
       "        1.51500638e+15,  3.57733263e+13, -4.69287203e+13, -2.53216197e+14,\n",
       "       -6.67109661e+14, -6.21031325e+14, -1.96186945e+14, -1.35459021e+14,\n",
       "        1.05446597e+14,  1.48714850e+14, -3.04022619e+14, -1.50335279e+14,\n",
       "       -1.70825024e+14, -5.42358812e+14, -3.18389026e+14,  5.03644281e+14,\n",
       "       -2.52987720e+14, -6.74170536e+14, -3.40202842e+14, -2.61210931e+14,\n",
       "        5.00119870e+14,  2.19945559e+14, -6.87469884e+14, -1.48157889e+14,\n",
       "       -3.01760518e+14, -1.69164454e+14, -2.21843728e+14, -2.54354249e+14,\n",
       "       -1.27628331e+14, -1.66080794e+14, -4.51927508e+14, -2.04092762e+14,\n",
       "        2.46351456e+14,  2.39483320e+13,  1.41353828e+14, -2.25559270e+14,\n",
       "       -7.24304828e+14,  2.74918831e+13, -1.76902696e+13, -5.99262070e+14,\n",
       "       -1.87306509e+14, -3.65641225e+14, -1.09168264e+14, -6.80613698e+14,\n",
       "       -1.46883788e+14,  6.00606980e+14, -2.05907582e+14, -2.85579703e+14,\n",
       "       -1.48751541e+14, -2.23078357e+14, -6.14493582e+13,  4.31818592e+14,\n",
       "       -9.96679924e+14, -8.38872170e+14, -3.11607612e+14, -2.46298883e+14,\n",
       "       -3.88393341e+14, -2.82149728e+14, -2.37753334e+14, -4.09583902e+14,\n",
       "       -4.86698579e+14, -7.74172649e+13, -2.09122132e+14,  1.68627190e+14,\n",
       "        5.30650118e+14, -2.10804322e+14, -1.46276995e+14, -1.23691849e+14,\n",
       "       -7.52106523e+13,  1.09081075e+14, -7.22064677e+14, -5.56495907e+13,\n",
       "       -1.56818641e+14, -6.12286282e+14, -1.35684930e+14, -4.56252823e+14,\n",
       "       -1.18184847e+14, -2.83013730e+14, -1.84402399e+14,  4.56407386e+14,\n",
       "       -1.67070648e+14, -2.39318457e+14, -1.84044573e+14, -8.15326038e+14,\n",
       "       -1.47645875e+14,  1.27410154e+13,  1.86562832e+14, -1.71404555e+14,\n",
       "       -1.10043518e+14,  2.76478813e+14, -2.56514162e+14, -1.58232756e+14,\n",
       "       -9.65936857e+13, -2.00701466e+14, -1.87514786e+13,  7.85543337e+13,\n",
       "       -3.92619366e+14, -2.30443832e+14, -1.38697035e+14, -7.69604088e+14,\n",
       "        8.28589996e+13,  1.33807929e+14,  1.23130331e+14, -2.36614855e+14,\n",
       "       -6.86812009e+13, -1.16631398e+14, -2.89799686e+14,  6.33474901e+13,\n",
       "       -7.51291642e+13, -2.65575640e+14, -4.78495664e+14, -3.23847079e+14,\n",
       "       -2.02409873e+13, -4.95663106e+14, -6.76469567e+14, -8.13601510e+13,\n",
       "       -1.34894260e+14,  3.74213405e+14, -1.60415868e+14, -5.94002554e+14,\n",
       "       -1.47221037e+14,  8.29540843e+13, -2.10786599e+13, -2.07565458e+14,\n",
       "       -7.00890524e+14, -1.80513255e+14, -2.16097000e+14, -1.16570605e+14,\n",
       "       -8.16086136e+14, -1.05788418e+14, -5.15672251e+14,  2.66716402e+14,\n",
       "       -6.66767261e+14, -1.86704986e+14, -5.59129328e+14, -2.27857658e+14,\n",
       "       -1.87929783e+14, -1.26101031e+14, -1.18163595e+13,  6.42175911e+14,\n",
       "       -1.16118089e+14, -2.08627968e+13, -2.81722496e+14,  1.24319181e+14,\n",
       "       -5.18059349e+14, -7.58697768e+13, -2.59124769e+14, -1.86825190e+14,\n",
       "        2.02347881e+12, -6.58953845e+13, -1.73910236e+14, -1.69200876e+14,\n",
       "        4.83993033e+14, -1.00846484e+15, -3.27333641e+14, -1.35394996e+14,\n",
       "       -1.60173163e+14, -6.92244296e+14, -7.41108481e+13,  3.62928478e+14,\n",
       "        6.02256798e+14,  5.52596424e+14, -5.71360274e+13, -1.70331237e+14,\n",
       "       -1.67182151e+14, -4.52875671e+13, -1.18908616e+14, -4.45536937e+14,\n",
       "       -2.84168165e+14, -7.59051515e+14, -7.52710222e+14, -2.95075952e+14,\n",
       "       -4.46032586e+14, -7.74377195e+14, -8.03952387e+14, -2.45071567e+14,\n",
       "       -3.50939207e+14, -3.40703537e+14, -2.17974272e+14, -2.82890674e+14,\n",
       "        4.48884951e+14, -8.19015921e+13, -2.46124113e+14, -1.80494512e+14,\n",
       "       -2.26639906e+14, -1.62931564e+14, -3.65624568e+13, -1.57317781e+14,\n",
       "       -1.87766323e+14, -6.63706872e+13, -4.61357326e+14, -2.50223578e+14,\n",
       "       -6.98128552e+14, -1.97891384e+14, -1.66506140e+14, -8.66039026e+13,\n",
       "        1.33441631e+14,  1.55783283e+14, -1.09258449e+14, -1.80234306e+14,\n",
       "       -1.83005683e+14,  7.25225388e+13, -2.57049047e+14,  5.37744265e+14,\n",
       "       -4.93648123e+13, -2.75136619e+14, -1.80034692e+14, -1.35008468e+14,\n",
       "       -7.32320505e+13, -6.93875579e+14, -6.67170902e+14, -1.24067057e+14,\n",
       "        1.00342598e+14, -2.04208952e+14, -2.01546443e+14, -8.24657679e+13,\n",
       "        3.13341479e+14, -2.39217676e+14,  4.73372189e+14,  2.62878225e+14,\n",
       "       -1.49351100e+14,  3.81463576e+14, -1.57569868e+14, -6.82206141e+13,\n",
       "       -2.58045424e+13, -2.82666028e+14, -4.78729848e+14, -7.59648100e+14,\n",
       "        1.54175726e+14, -1.33414816e+14, -1.11427580e+14, -1.15124821e+14,\n",
       "       -7.27599558e+14, -1.79069797e+13,  1.21968211e+14, -1.68021823e+13,\n",
       "       -1.58813850e+14, -1.12776019e+14, -2.47754675e+14, -4.20502409e+14,\n",
       "       -2.40889101e+14, -3.42817172e+14,  4.29406699e+13, -1.14254838e+14,\n",
       "        2.19905178e+14, -2.39304958e+14, -2.63223221e+14, -3.03628996e+14,\n",
       "       -2.42478454e+14, -2.31049777e+14, -1.23536464e+14, -4.98581087e+13,\n",
       "       -1.31968749e+14,  7.33299020e+13,  1.49998573e+14, -5.10507977e+14,\n",
       "       -2.20873693e+14, -1.06825118e+14, -8.21466505e+14, -1.42343392e+14,\n",
       "       -3.18439896e+14, -4.97268135e+14, -1.16700921e+14, -1.33727292e+14,\n",
       "        5.38836445e+14,  3.13257516e+12, -6.23163462e+14, -1.58599079e+14,\n",
       "       -1.42828796e+14,  3.92771639e+13,  1.42634586e+14,  1.09213901e+14,\n",
       "        8.74074061e+13, -6.27810857e+13, -2.75641516e+14,  2.52035646e+14,\n",
       "        3.77202385e+11, -7.51862294e+14,  3.31694323e+14, -1.77337758e+14,\n",
       "       -6.25331751e+13, -9.31622186e+13, -2.53899230e+14, -1.01224261e+14,\n",
       "       -1.01133673e+14,  2.27455398e+13, -2.04854946e+14, -1.40895955e+14,\n",
       "        5.85749270e+14, -6.74087892e+14,  3.02294347e+14, -2.56972287e+14,\n",
       "        2.04998896e+14, -2.41599485e+14,  3.30053154e+14,  5.78639159e+14,\n",
       "        2.51126576e+13, -2.13646045e+14, -5.86332243e+13, -1.23195512e+14,\n",
       "       -3.82635826e+14, -4.18002786e+14, -6.81168412e+14, -1.16933211e+14,\n",
       "       -1.49210368e+14, -3.05586916e+14, -1.36380822e+14, -1.24085959e+14,\n",
       "       -7.46162925e+14, -6.12470809e+13, -3.78715665e+14, -1.88798083e+14,\n",
       "       -8.09447676e+13, -1.91063313e+14, -4.73864761e+14,  2.08940801e+14,\n",
       "       -6.84834479e+14, -1.75794905e+14,  1.92593077e+14,  3.56802809e+13,\n",
       "       -2.07096999e+14,  1.36387464e+14, -3.41095363e+13, -2.61842084e+14,\n",
       "       -3.37863252e+14,  9.67586219e+13, -2.52104462e+14, -5.60148338e+13,\n",
       "       -1.71199099e+14, -3.55438610e+14,  1.80379007e+14,  3.87281709e+14,\n",
       "       -1.10545921e+14, -5.89838368e+14, -1.23210162e+14, -6.64026212e+14,\n",
       "       -9.70437554e+13,  1.52784809e+14,  6.62648318e+13, -4.34430796e+14,\n",
       "        7.54063408e+14, -1.35271260e+14,  1.27350905e+14, -8.38509575e+13,\n",
       "       -2.30809790e+14,  4.65433665e+13, -1.23718297e+14, -2.80712252e+14,\n",
       "       -2.89009991e+13, -2.81883038e+14, -1.57278290e+14,  3.49901109e+14,\n",
       "       -2.48803134e+14, -1.34865113e+12, -1.53846810e+14, -6.93329547e+14,\n",
       "       -6.68043374e+14, -3.72805889e+14, -2.04514811e+14, -1.72067941e+14,\n",
       "       -7.18416243e+14, -7.23618030e+14,  3.27749749e+14, -1.15552127e+14,\n",
       "       -8.75747521e+13, -1.10835846e+14, -7.20967953e+13,  2.23577377e+14,\n",
       "       -9.94268680e+13, -8.40783541e+13, -6.65614045e+14, -3.52528300e+14,\n",
       "       -8.85941667e+13,  2.19646485e+14,  5.55812342e+13,  1.63436917e+14,\n",
       "       -3.04841521e+14,  4.44632920e+14, -1.12651420e+14, -1.44260598e+14,\n",
       "       -2.04530486e+13, -7.38727516e+14,  8.38424017e+13, -4.94728583e+13,\n",
       "        6.59351347e+13, -1.03323806e+14,  5.37089779e+14,  6.32043197e+14,\n",
       "       -1.06845580e+14, -3.43738285e+14, -3.30094465e+14,  3.90624315e+13,\n",
       "       -3.12788318e+14, -3.51756600e+14, -9.50685706e+14, -3.36274642e+14,\n",
       "       -1.50759010e+14, -1.56989941e+14, -1.94542651e+13, -1.65446535e+14,\n",
       "       -1.48586140e+14,  1.56162833e+13,  4.42073894e+14, -6.70353588e+14,\n",
       "       -5.47150837e+13])"
      ]
     },
     "execution_count": 34,
     "metadata": {},
     "output_type": "execute_result"
    }
   ],
   "source": [
    "sty_pred"
   ]
  },
  {
   "cell_type": "code",
   "execution_count": null,
   "metadata": {},
   "outputs": [],
   "source": []
  }
 ],
 "metadata": {
  "kernelspec": {
   "display_name": "Python 3",
   "language": "python",
   "name": "python3"
  },
  "language_info": {
   "codemirror_mode": {
    "name": "ipython",
    "version": 3
   },
   "file_extension": ".py",
   "mimetype": "text/x-python",
   "name": "python",
   "nbconvert_exporter": "python",
   "pygments_lexer": "ipython3",
   "version": "3.7.1"
  }
 },
 "nbformat": 4,
 "nbformat_minor": 2
}
