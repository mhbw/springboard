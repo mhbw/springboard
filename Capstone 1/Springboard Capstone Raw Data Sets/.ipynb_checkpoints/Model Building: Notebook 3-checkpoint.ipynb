{
 "cells": [
  {
   "cell_type": "markdown",
   "metadata": {},
   "source": [
    "## Capstone Model Building\n",
    "\n",
    "In this third notebook we're going to use the python SKLearn library to explore a number of machine learning models, beinging with the most basic with a linear regression and moving to the more advanced methods such as gradient decent and grid search."
   ]
  },
  {
   "cell_type": "code",
   "execution_count": 1,
   "metadata": {},
   "outputs": [],
   "source": [
    "## set up packages and import saved flat file\n",
    "import pandas as pd\n",
    "import numpy as np\n",
    "from matplotlib import pyplot as plt\n",
    "from matplotlib import cm as cm\n",
    "import seaborn as sb\n",
    "import researchpy as rp\n",
    "from scipy import stats\n",
    "from sklearn import metrics\n",
    "from sklearn.model_selection import cross_val_predict, GridSearchCV, cross_val_score\n",
    "from sklearn.model_selection import cross_val_score\n",
    "from sklearn.ensemble import RandomForestRegressor\n",
    "from sklearn.model_selection import train_test_split\n",
    "import time"
   ]
  },
  {
   "cell_type": "code",
   "execution_count": 2,
   "metadata": {},
   "outputs": [
    {
     "data": {
      "text/html": [
       "<div>\n",
       "<style scoped>\n",
       "    .dataframe tbody tr th:only-of-type {\n",
       "        vertical-align: middle;\n",
       "    }\n",
       "\n",
       "    .dataframe tbody tr th {\n",
       "        vertical-align: top;\n",
       "    }\n",
       "\n",
       "    .dataframe thead th {\n",
       "        text-align: right;\n",
       "    }\n",
       "</style>\n",
       "<table border=\"1\" class=\"dataframe\">\n",
       "  <thead>\n",
       "    <tr style=\"text-align: right;\">\n",
       "      <th></th>\n",
       "      <th>Player</th>\n",
       "      <th>Team</th>\n",
       "      <th>Year</th>\n",
       "      <th>Position</th>\n",
       "      <th>Fantasy Points</th>\n",
       "      <th>GP</th>\n",
       "      <th>TOI</th>\n",
       "      <th>IPP</th>\n",
       "      <th>SHPer</th>\n",
       "      <th>iCF</th>\n",
       "      <th>...</th>\n",
       "      <th>Weight_(lbs)</th>\n",
       "      <th>Draft_Round</th>\n",
       "      <th>Round_Pick</th>\n",
       "      <th>Overall_Draft_Position</th>\n",
       "      <th>drafted</th>\n",
       "      <th>Total Minutes Played</th>\n",
       "      <th>C</th>\n",
       "      <th>D</th>\n",
       "      <th>L</th>\n",
       "      <th>R</th>\n",
       "    </tr>\n",
       "  </thead>\n",
       "  <tbody>\n",
       "    <tr>\n",
       "      <th>0</th>\n",
       "      <td>Aaron Ness</td>\n",
       "      <td>NYI</td>\n",
       "      <td>2014</td>\n",
       "      <td>D</td>\n",
       "      <td>25.80</td>\n",
       "      <td>20</td>\n",
       "      <td>275.25</td>\n",
       "      <td>100.0</td>\n",
       "      <td>4.35</td>\n",
       "      <td>48</td>\n",
       "      <td>...</td>\n",
       "      <td>184</td>\n",
       "      <td>2.0</td>\n",
       "      <td>10.0</td>\n",
       "      <td>40.0</td>\n",
       "      <td>1</td>\n",
       "      <td>295.88</td>\n",
       "      <td>0</td>\n",
       "      <td>1</td>\n",
       "      <td>0</td>\n",
       "      <td>0</td>\n",
       "    </tr>\n",
       "    <tr>\n",
       "      <th>1</th>\n",
       "      <td>Aaron Palushaj</td>\n",
       "      <td>CAR</td>\n",
       "      <td>2014</td>\n",
       "      <td>R</td>\n",
       "      <td>0.95</td>\n",
       "      <td>2</td>\n",
       "      <td>17.52</td>\n",
       "      <td>0.0</td>\n",
       "      <td>0.00</td>\n",
       "      <td>4</td>\n",
       "      <td>...</td>\n",
       "      <td>187</td>\n",
       "      <td>2.0</td>\n",
       "      <td>14.0</td>\n",
       "      <td>44.0</td>\n",
       "      <td>1</td>\n",
       "      <td>18.65</td>\n",
       "      <td>0</td>\n",
       "      <td>0</td>\n",
       "      <td>0</td>\n",
       "      <td>1</td>\n",
       "    </tr>\n",
       "    <tr>\n",
       "      <th>2</th>\n",
       "      <td>Aaron Rome</td>\n",
       "      <td>DAL</td>\n",
       "      <td>2014</td>\n",
       "      <td>D</td>\n",
       "      <td>27.50</td>\n",
       "      <td>25</td>\n",
       "      <td>301.20</td>\n",
       "      <td>10.0</td>\n",
       "      <td>0.00</td>\n",
       "      <td>36</td>\n",
       "      <td>...</td>\n",
       "      <td>220</td>\n",
       "      <td>4.0</td>\n",
       "      <td>8.0</td>\n",
       "      <td>104.0</td>\n",
       "      <td>1</td>\n",
       "      <td>327.20</td>\n",
       "      <td>0</td>\n",
       "      <td>1</td>\n",
       "      <td>0</td>\n",
       "      <td>0</td>\n",
       "    </tr>\n",
       "    <tr>\n",
       "      <th>3</th>\n",
       "      <td>Aaron Volpatti</td>\n",
       "      <td>WSH</td>\n",
       "      <td>2014</td>\n",
       "      <td>L</td>\n",
       "      <td>32.25</td>\n",
       "      <td>41</td>\n",
       "      <td>300.18</td>\n",
       "      <td>50.0</td>\n",
       "      <td>11.11</td>\n",
       "      <td>39</td>\n",
       "      <td>...</td>\n",
       "      <td>215</td>\n",
       "      <td>100.0</td>\n",
       "      <td>100.0</td>\n",
       "      <td>1000.0</td>\n",
       "      <td>0</td>\n",
       "      <td>301.87</td>\n",
       "      <td>0</td>\n",
       "      <td>0</td>\n",
       "      <td>1</td>\n",
       "      <td>0</td>\n",
       "    </tr>\n",
       "    <tr>\n",
       "      <th>4</th>\n",
       "      <td>Adam Almquist</td>\n",
       "      <td>DET</td>\n",
       "      <td>2014</td>\n",
       "      <td>D</td>\n",
       "      <td>3.45</td>\n",
       "      <td>2</td>\n",
       "      <td>31.52</td>\n",
       "      <td>50.0</td>\n",
       "      <td>50.00</td>\n",
       "      <td>3</td>\n",
       "      <td>...</td>\n",
       "      <td>174</td>\n",
       "      <td>7.0</td>\n",
       "      <td>29.0</td>\n",
       "      <td>210.0</td>\n",
       "      <td>1</td>\n",
       "      <td>34.43</td>\n",
       "      <td>0</td>\n",
       "      <td>1</td>\n",
       "      <td>0</td>\n",
       "      <td>0</td>\n",
       "    </tr>\n",
       "  </tbody>\n",
       "</table>\n",
       "<p>5 rows × 219 columns</p>\n",
       "</div>"
      ],
      "text/plain": [
       "           Player Team  Year Position  Fantasy Points  GP     TOI    IPP  \\\n",
       "0      Aaron Ness  NYI  2014        D           25.80  20  275.25  100.0   \n",
       "1  Aaron Palushaj  CAR  2014        R            0.95   2   17.52    0.0   \n",
       "2      Aaron Rome  DAL  2014        D           27.50  25  301.20   10.0   \n",
       "3  Aaron Volpatti  WSH  2014        L           32.25  41  300.18   50.0   \n",
       "4   Adam Almquist  DET  2014        D            3.45   2   31.52   50.0   \n",
       "\n",
       "   SHPer  iCF ...  Weight_(lbs)  Draft_Round  Round_Pick  \\\n",
       "0   4.35   48 ...           184          2.0        10.0   \n",
       "1   0.00    4 ...           187          2.0        14.0   \n",
       "2   0.00   36 ...           220          4.0         8.0   \n",
       "3  11.11   39 ...           215        100.0       100.0   \n",
       "4  50.00    3 ...           174          7.0        29.0   \n",
       "\n",
       "   Overall_Draft_Position  drafted  Total Minutes Played  C  D  L  R  \n",
       "0                    40.0        1                295.88  0  1  0  0  \n",
       "1                    44.0        1                 18.65  0  0  0  1  \n",
       "2                   104.0        1                327.20  0  1  0  0  \n",
       "3                  1000.0        0                301.87  0  0  1  0  \n",
       "4                   210.0        1                 34.43  0  1  0  0  \n",
       "\n",
       "[5 rows x 219 columns]"
      ]
     },
     "execution_count": 2,
     "metadata": {},
     "output_type": "execute_result"
    }
   ],
   "source": [
    "## import our now cleaned flat file, remind ourselves what it looks like\n",
    "\n",
    "model_data = pd.read_csv('Model_Ready_Data2.csv')\n",
    "model_data.head()"
   ]
  },
  {
   "cell_type": "code",
   "execution_count": 3,
   "metadata": {},
   "outputs": [],
   "source": [
    "# we need to reset the index and split into target and features \n",
    "model_data.set_index(keys=['Player','Team','Year','Position'],inplace=True)\n",
    "Target = model_data.iloc[:,0].values  \n",
    "features = model_data.iloc[:, 1:].values \n",
    "X_train, X_test, y_train, y_test = train_test_split(features, Target, test_size=0.2, random_state=0)  "
   ]
  },
  {
   "cell_type": "markdown",
   "metadata": {},
   "source": [
    "Initially we'll start with a simple linear regression, to see where we stand."
   ]
  },
  {
   "cell_type": "code",
   "execution_count": 4,
   "metadata": {},
   "outputs": [
    {
     "name": "stdout",
     "output_type": "stream",
     "text": [
      "87.15026638513251\n"
     ]
    }
   ],
   "source": [
    "## linear regression\n",
    "from sklearn.linear_model import LinearRegression\n",
    "lin_reg = LinearRegression()  \n",
    "lin_reg.fit(X_train, y_train) \n",
    "print(lin_reg.intercept_)"
   ]
  },
  {
   "cell_type": "code",
   "execution_count": 5,
   "metadata": {},
   "outputs": [
    {
     "data": {
      "text/html": [
       "<div>\n",
       "<style scoped>\n",
       "    .dataframe tbody tr th:only-of-type {\n",
       "        vertical-align: middle;\n",
       "    }\n",
       "\n",
       "    .dataframe tbody tr th {\n",
       "        vertical-align: top;\n",
       "    }\n",
       "\n",
       "    .dataframe thead th {\n",
       "        text-align: right;\n",
       "    }\n",
       "</style>\n",
       "<table border=\"1\" class=\"dataframe\">\n",
       "  <thead>\n",
       "    <tr style=\"text-align: right;\">\n",
       "      <th></th>\n",
       "      <th>Actual</th>\n",
       "      <th>Predicted</th>\n",
       "    </tr>\n",
       "  </thead>\n",
       "  <tbody>\n",
       "    <tr>\n",
       "      <th>1</th>\n",
       "      <td>14.35</td>\n",
       "      <td>16.345905</td>\n",
       "    </tr>\n",
       "    <tr>\n",
       "      <th>2</th>\n",
       "      <td>233.65</td>\n",
       "      <td>199.122171</td>\n",
       "    </tr>\n",
       "    <tr>\n",
       "      <th>3</th>\n",
       "      <td>141.50</td>\n",
       "      <td>153.884527</td>\n",
       "    </tr>\n",
       "    <tr>\n",
       "      <th>4</th>\n",
       "      <td>185.85</td>\n",
       "      <td>200.685099</td>\n",
       "    </tr>\n",
       "    <tr>\n",
       "      <th>5</th>\n",
       "      <td>150.95</td>\n",
       "      <td>164.722378</td>\n",
       "    </tr>\n",
       "    <tr>\n",
       "      <th>6</th>\n",
       "      <td>135.25</td>\n",
       "      <td>130.762182</td>\n",
       "    </tr>\n",
       "    <tr>\n",
       "      <th>7</th>\n",
       "      <td>75.00</td>\n",
       "      <td>91.965383</td>\n",
       "    </tr>\n",
       "    <tr>\n",
       "      <th>8</th>\n",
       "      <td>158.80</td>\n",
       "      <td>176.621311</td>\n",
       "    </tr>\n",
       "    <tr>\n",
       "      <th>9</th>\n",
       "      <td>108.85</td>\n",
       "      <td>109.707625</td>\n",
       "    </tr>\n",
       "    <tr>\n",
       "      <th>10</th>\n",
       "      <td>120.45</td>\n",
       "      <td>144.194731</td>\n",
       "    </tr>\n",
       "    <tr>\n",
       "      <th>11</th>\n",
       "      <td>28.90</td>\n",
       "      <td>37.639986</td>\n",
       "    </tr>\n",
       "    <tr>\n",
       "      <th>12</th>\n",
       "      <td>2.10</td>\n",
       "      <td>-4.960843</td>\n",
       "    </tr>\n",
       "    <tr>\n",
       "      <th>13</th>\n",
       "      <td>23.20</td>\n",
       "      <td>22.921415</td>\n",
       "    </tr>\n",
       "    <tr>\n",
       "      <th>14</th>\n",
       "      <td>306.30</td>\n",
       "      <td>275.603812</td>\n",
       "    </tr>\n",
       "    <tr>\n",
       "      <th>15</th>\n",
       "      <td>59.05</td>\n",
       "      <td>44.927537</td>\n",
       "    </tr>\n",
       "    <tr>\n",
       "      <th>16</th>\n",
       "      <td>33.55</td>\n",
       "      <td>33.830962</td>\n",
       "    </tr>\n",
       "    <tr>\n",
       "      <th>17</th>\n",
       "      <td>162.30</td>\n",
       "      <td>170.539265</td>\n",
       "    </tr>\n",
       "    <tr>\n",
       "      <th>18</th>\n",
       "      <td>1.45</td>\n",
       "      <td>-7.266844</td>\n",
       "    </tr>\n",
       "    <tr>\n",
       "      <th>19</th>\n",
       "      <td>35.95</td>\n",
       "      <td>38.811194</td>\n",
       "    </tr>\n",
       "  </tbody>\n",
       "</table>\n",
       "</div>"
      ],
      "text/plain": [
       "    Actual   Predicted\n",
       "1    14.35   16.345905\n",
       "2   233.65  199.122171\n",
       "3   141.50  153.884527\n",
       "4   185.85  200.685099\n",
       "5   150.95  164.722378\n",
       "6   135.25  130.762182\n",
       "7    75.00   91.965383\n",
       "8   158.80  176.621311\n",
       "9   108.85  109.707625\n",
       "10  120.45  144.194731\n",
       "11   28.90   37.639986\n",
       "12    2.10   -4.960843\n",
       "13   23.20   22.921415\n",
       "14  306.30  275.603812\n",
       "15   59.05   44.927537\n",
       "16   33.55   33.830962\n",
       "17  162.30  170.539265\n",
       "18    1.45   -7.266844\n",
       "19   35.95   38.811194"
      ]
     },
     "execution_count": 5,
     "metadata": {},
     "output_type": "execute_result"
    }
   ],
   "source": [
    "y_pred = lin_reg.predict(X_test)\n",
    "df = pd.DataFrame({'Actual': y_test.flatten(), 'Predicted': y_pred.flatten()})\n",
    "df[1:20]"
   ]
  },
  {
   "cell_type": "markdown",
   "metadata": {},
   "source": [
    "This is sort of goofy in that there are negative values, which I'm sure there should be some way to prevent in the code. From a glance they're low value players anyway, but it's still seems less than ideal. "
   ]
  },
  {
   "cell_type": "code",
   "execution_count": 6,
   "metadata": {},
   "outputs": [
    {
     "name": "stdout",
     "output_type": "stream",
     "text": [
      "Mean Absolute Error: 12.528943815263634\n",
      "Mean Squared Error: 280.0456937924292\n",
      "Root Mean Squared Error: 16.734565838181435\n",
      "Regressor Score: 0.9540330384137164\n"
     ]
    }
   ],
   "source": [
    "## looking at metrics\n",
    "print('Mean Absolute Error:', metrics.mean_absolute_error(y_test, y_pred))  \n",
    "print('Mean Squared Error:', metrics.mean_squared_error(y_test, y_pred))  \n",
    "print('Root Mean Squared Error:', np.sqrt(metrics.mean_squared_error(y_test, y_pred))) \n",
    "print('Regressor Score:',LinearRegression.score(lin_reg,X_test,  y_test))"
   ]
  },
  {
   "cell_type": "markdown",
   "metadata": {},
   "source": [
    "That's not bad. Let's try a random forest regressor,and see what we can find as far as improvements."
   ]
  },
  {
   "cell_type": "code",
   "execution_count": 7,
   "metadata": {},
   "outputs": [
    {
     "data": {
      "text/plain": [
       "RandomForestRegressor(bootstrap=True, criterion='mse', max_depth=None,\n",
       "           max_features='auto', max_leaf_nodes=None,\n",
       "           min_impurity_decrease=0.0, min_impurity_split=None,\n",
       "           min_samples_leaf=1, min_samples_split=2,\n",
       "           min_weight_fraction_leaf=0.0, n_estimators=20, n_jobs=None,\n",
       "           oob_score=False, random_state=0, verbose=0, warm_start=False)"
      ]
     },
     "execution_count": 7,
     "metadata": {},
     "output_type": "execute_result"
    }
   ],
   "source": [
    "## fitting without parameter tuning\n",
    "regressor = RandomForestRegressor(n_estimators=20, random_state=0)  \n",
    "regressor.fit(X_train, y_train)  "
   ]
  },
  {
   "cell_type": "markdown",
   "metadata": {},
   "source": [
    "Making intial predictions and charting performance"
   ]
  },
  {
   "cell_type": "code",
   "execution_count": 8,
   "metadata": {},
   "outputs": [
    {
     "name": "stdout",
     "output_type": "stream",
     "text": [
      "Mean Absolute Error: 11.753717660292464\n",
      "Mean Squared Error: 295.7487059898763\n",
      "Root Mean Squared Error: 17.19734589958219\n",
      "Regreessor Score: 0.9514555313337327\n"
     ]
    }
   ],
   "source": [
    "y_pred = regressor.predict(X_test)  \n",
    "from sklearn import metrics\n",
    "\n",
    "print('Mean Absolute Error:', metrics.mean_absolute_error(y_test, y_pred))  \n",
    "print('Mean Squared Error:', metrics.mean_squared_error(y_test, y_pred))  \n",
    "print('Root Mean Squared Error:', np.sqrt(metrics.mean_squared_error(y_test, y_pred))) \n",
    "print('Regreessor Score:',RandomForestRegressor.score(regressor,X_test,  y_test))"
   ]
  },
  {
   "cell_type": "markdown",
   "metadata": {},
   "source": [
    "That did better, but not that much better and actually dropped off at MSE.\n",
    "\n",
    "| Metric      | Linear Regression          | Random Forest  | \n",
    "| ------------- |:-------------:| -----:| \n",
    "| Mean Absolute Error:    |  12.5 | **11.75** | \n",
    "| Mean Squared Error:    |  **280.05** | 295.75 | \n",
    "| Root Mean Squared Error:     |  16.73 | **17.2** | \n",
    "| Regressor Score:    |  0.95 | 0.95 | \n",
    "\n",
    "This is a fun glance at the features for the Random Forest: "
   ]
  },
  {
   "cell_type": "code",
   "execution_count": 9,
   "metadata": {
    "scrolled": true
   },
   "outputs": [
    {
     "data": {
      "image/png": "[encoded data removed]",
      "text/plain": [
       "<Figure size 432x288 with 1 Axes>"
      ]
     },
     "metadata": {
      "needs_background": "light"
     },
     "output_type": "display_data"
    }
   ],
   "source": [
    "feature_import= list(zip(regressor.feature_importances_, model_data.columns[1:]))\n",
    "feature_import = pd.DataFrame(feature_import, columns = ['Importance', 'Feature'])\n",
    "top_features = feature_import.sort_values(by='Importance', ascending=False)[0:15]\n",
    "# quick plot of values\n",
    "sb.set_color_codes(\"pastel\")\n",
    "sb.barplot(x='Importance', y=\"Feature\", data=top_features, color=\"b\")\n",
    "sb.despine(left=True, bottom=True)"
   ]
  },
  {
   "cell_type": "markdown",
   "metadata": {},
   "source": [
    "Looking at features scores it's interesting that time again holds a lot of import. What I dislike here is that's not really something that we can then use as predictive value since that's a coaching decision, not a player skill.\n",
    "\n",
    "Let's try some grid searching to see where we can find some improvements."
   ]
  },
  {
   "cell_type": "code",
   "execution_count": 10,
   "metadata": {},
   "outputs": [
    {
     "name": "stdout",
     "output_type": "stream",
     "text": [
      "GridSearchCV took 365.00 seconds for 108 candidate parameter settings.\n"
     ]
    },
    {
     "data": {
      "text/plain": [
       "{'bootstrap': False,\n",
       " 'max_depth': None,\n",
       " 'max_features': 10,\n",
       " 'min_samples_split': 2,\n",
       " 'n_estimators': 100}"
      ]
     },
     "execution_count": 10,
     "metadata": {},
     "output_type": "execute_result"
    }
   ],
   "source": [
    "RandomForestRegressor(bootstrap=True, criterion='mse', max_depth=None,\n",
    "           max_features='auto', max_leaf_nodes=None,\n",
    "           min_impurity_decrease=0.0, min_impurity_split=None,\n",
    "           min_samples_leaf=1, min_samples_split=2,\n",
    "           min_weight_fraction_leaf=0.0, n_estimators=100, n_jobs=None,\n",
    "           oob_score=False, random_state=0, verbose=0, warm_start=False)\n",
    "\n",
    "\n",
    "param_grid = {\"max_depth\": [10, None],\n",
    "              \"max_features\": [1, 3, 10],\n",
    "              \"min_samples_split\": [2, 3, 10],\n",
    "              'n_estimators':[20,50,100],\n",
    "              \"bootstrap\": [True, False]}\n",
    "\n",
    "# run grid search\n",
    "grid_search = GridSearchCV(regressor, param_grid=param_grid, cv=5)\n",
    "start = time.gmtime()\n",
    "grid_search.fit(X_train,  y_train)\n",
    "\n",
    "print(\"GridSearchCV took %.2f seconds for %d candidate parameter settings.\"\n",
    "      % (time.mktime(time.gmtime()) - time.mktime(start), len(grid_search.cv_results_['params'])))\n",
    "grid_search.best_params_"
   ]
  },
  {
   "cell_type": "code",
   "execution_count": 11,
   "metadata": {},
   "outputs": [
    {
     "name": "stdout",
     "output_type": "stream",
     "text": [
      "Mean Absolute Error: 11.198483689538806\n",
      "Mean Squared Error: 264.4461418239595\n",
      "Root Mean Squared Error: 16.261800079448754\n",
      "Regressor Score: 0.9565935634351417\n"
     ]
    }
   ],
   "source": [
    "best_grid = grid_search.best_estimator_\n",
    "y_pred = best_grid.predict(X_test) \n",
    "\n",
    "print('Mean Absolute Error:', metrics.mean_absolute_error(y_test, y_pred))  \n",
    "print('Mean Squared Error:', metrics.mean_squared_error(y_test, y_pred))  \n",
    "print('Root Mean Squared Error:', np.sqrt(metrics.mean_squared_error(y_test, y_pred))) \n",
    "print('Regressor Score:',RandomForestRegressor.score(best_grid,X_test,  y_test))"
   ]
  },
  {
   "cell_type": "markdown",
   "metadata": {},
   "source": [
    "The grid search did improve some but not a ton across the board, other than in MSE, which makes sense as that's the metric it's scoring on.\n",
    "\n",
    "\n",
    "| Metric      | Linear Regression          | Random Forest  | Grid Search  | \n",
    "| ------------- |:-------------:| -----:| -----:| \n",
    "| Mean Absolute Error:    |  12.5 | 11.75 | **11.2** | \n",
    "| Mean Squared Error:    |  280.05 | 295.75 | **264.45** | \n",
    "| Root Mean Squared Error:     |  16.73 | 17.2 | **16.26** | \n",
    "| Regressor Score:    |  0.95 | 0.95 | **0.96** | \n",
    "\n",
    "Again, a fun look at the important features:"
   ]
  },
  {
   "cell_type": "code",
   "execution_count": 12,
   "metadata": {},
   "outputs": [
    {
     "data": {
      "image/png": "[encoded data removed]",
      "text/plain": [
       "<Figure size 432x288 with 1 Axes>"
      ]
     },
     "metadata": {
      "needs_background": "light"
     },
     "output_type": "display_data"
    }
   ],
   "source": [
    "## checking how feature importance has changed\n",
    "feature_import= list(zip(best_grid.feature_importances_, model_data.columns[1:]))\n",
    "feature_import = pd.DataFrame(feature_import, columns = ['Importance', 'Feature'])\n",
    "top_features_grid = feature_import.sort_values(by='Importance', ascending=False)[0:15]\n",
    "# quick plot of values\n",
    "sb.set_color_codes(\"pastel\")\n",
    "sb.barplot(x='Importance', y=\"Feature\", data=top_features, color=\"b\")\n",
    "sb.despine(left=True, bottom=True)"
   ]
  },
  {
   "cell_type": "code",
   "execution_count": 13,
   "metadata": {},
   "outputs": [],
   "source": [
    "## for fun I decided to re run the above using just the top 15 features, to see if triming \n",
    "## the options would reduce noise even further\n",
    "feature_list = top_features_grid.Feature.unique()\n",
    "trimmed_features = model_data.loc[:,feature_list].values \n",
    "trimmed_X_train, trimmed_X_test, trimmed_y_train, trimmed_y_test = train_test_split(trimmed_features, Target, test_size=0.2, random_state=0) "
   ]
  },
  {
   "cell_type": "code",
   "execution_count": 14,
   "metadata": {
    "scrolled": true
   },
   "outputs": [
    {
     "name": "stdout",
     "output_type": "stream",
     "text": [
      "GridSearchCV took 362.00 seconds for 108 candidate parameter settings.\n"
     ]
    },
    {
     "data": {
      "text/plain": [
       "{'bootstrap': False,\n",
       " 'max_depth': None,\n",
       " 'max_features': 3,\n",
       " 'min_samples_split': 10,\n",
       " 'n_estimators': 100}"
      ]
     },
     "execution_count": 14,
     "metadata": {},
     "output_type": "execute_result"
    }
   ],
   "source": [
    "trimmed_regressor = RandomForestRegressor(n_estimators=20, random_state=0)  \n",
    "trimmed_regressor.fit(trimmed_X_train, trimmed_y_train)\n",
    "# run grid search\n",
    "grid_search = GridSearchCV(regressor, param_grid=param_grid, cv=5)\n",
    "start = time.gmtime()\n",
    "grid_search.fit(trimmed_X_train,  trimmed_y_train)\n",
    "\n",
    "print(\"GridSearchCV took %.2f seconds for %d candidate parameter settings.\"\n",
    "      % (time.mktime(time.gmtime()) - time.mktime(start), len(grid_search.cv_results_['params'])))\n",
    "grid_search.best_params_"
   ]
  },
  {
   "cell_type": "code",
   "execution_count": 15,
   "metadata": {},
   "outputs": [
    {
     "name": "stdout",
     "output_type": "stream",
     "text": [
      "Mean Absolute Error: 13.700202715955148\n",
      "Mean Squared Error: 400.8060463075549\n",
      "Root Mean Squared Error: 20.020141016175558\n",
      "Regressor Score: 0.9342113214287618\n"
     ]
    }
   ],
   "source": [
    "best_grid = grid_search.best_estimator_\n",
    "trimmed_y_pred = best_grid.predict(trimmed_X_test) \n",
    "\n",
    "print('Mean Absolute Error:', metrics.mean_absolute_error(trimmed_y_test, trimmed_y_pred))  \n",
    "print('Mean Squared Error:', metrics.mean_squared_error(trimmed_y_test, trimmed_y_pred))  \n",
    "print('Root Mean Squared Error:', np.sqrt(metrics.mean_squared_error(trimmed_y_test, trimmed_y_pred))) \n",
    "print('Regressor Score:',RandomForestRegressor.score(best_grid,trimmed_X_test,  trimmed_y_test))"
   ]
  },
  {
   "cell_type": "markdown",
   "metadata": {},
   "source": [
    "So this for me is most interesting, and a good lesson on overtuning; I thought that since the numbers are so heavily weighted on those top few metrics it would improve but in fact it dropped off significantly. Live and learn!\n",
    "\n",
    "Let's try some gradient decent models, starting with a Gradient Boosted Regressor."
   ]
  },
  {
   "cell_type": "code",
   "execution_count": 19,
   "metadata": {},
   "outputs": [],
   "source": [
    "from sklearn import ensemble\n",
    "params = {'n_estimators': 500, 'max_depth': 4, 'min_samples_split': 2,\n",
    "          'learning_rate': 0.01, 'loss': 'ls', 'warm_start':'True'}\n",
    "clf = ensemble.GradientBoostingRegressor(**params)\n",
    "\n",
    "clf_pred = clf.fit(X_train, y_train).predict(X_test)\n"
   ]
  },
  {
   "cell_type": "code",
   "execution_count": 20,
   "metadata": {},
   "outputs": [
    {
     "name": "stdout",
     "output_type": "stream",
     "text": [
      "Mean Absolute Error: 10.126794852921838\n",
      "Mean Squared Error: 209.87326449686032\n",
      "Root Mean Squared Error: 14.487003295949798\n",
      "Regressor Score: 1.0\n"
     ]
    }
   ],
   "source": [
    "print('Mean Absolute Error:', metrics.mean_absolute_error(y_test, clf_pred))  \n",
    "print('Mean Squared Error:', metrics.mean_squared_error(y_test, clf_pred))  \n",
    "print('Root Mean Squared Error:', np.sqrt(metrics.mean_squared_error(y_test, clf_pred))) \n",
    "print('Regressor Score:',LinearRegression.score(clf,X_test,  clf_pred))"
   ]
  },
  {
   "cell_type": "code",
   "execution_count": 21,
   "metadata": {},
   "outputs": [
    {
     "data": {
      "image/png": "[encoded data removed]",
      "text/plain": [
       "<Figure size 432x288 with 1 Axes>"
      ]
     },
     "metadata": {
      "needs_background": "light"
     },
     "output_type": "display_data"
    }
   ],
   "source": [
    "feature_import= list(zip(clf.feature_importances_, model_data.columns[1:]))\n",
    "feature_import = pd.DataFrame(feature_import, columns = ['Importance', 'Feature'])\n",
    "top_features = feature_import.sort_values(by='Importance', ascending=False)[0:15]\n",
    "# quick plot of values\n",
    "sb.set_color_codes(\"pastel\")\n",
    "sb.barplot(x='Importance', y=\"Feature\", data=top_features, color=\"b\")\n",
    "sb.despine(left=True, bottom=True)"
   ]
  },
  {
   "cell_type": "markdown",
   "metadata": {},
   "source": [
    "This is the first model to outperform the cross-validated Random Forest Regressor, and perhaps as interesting the first to move to Fenwick up to the top three. Time factors sill dominate but not as much.  Also perhaps the first to have to have significant improvements across the board as far as errors.\n",
    "\n",
    "\n",
    "| Metric      | Linear Regression          | Random Forest  | Grid Search  | Gradient Boost  |\n",
    "| ------------- |:-------------:| -----:| -----:| -----:| \n",
    "| Mean Absolute Error:    |  12.5 | 11.75 | 11.2 |  **10.13** |\n",
    "| Mean Squared Error:    |  280.05 | 295.75 | 264.45 |  **209.94** | \n",
    "| Root Mean Squared Error:     |  16.73 | 17.2 | 16.26 | **14.49** | \n",
    "| Regressor Score:    |  0.95 | 0.95 | 0.96 | **1.0** |\n",
    "\n",
    "Next we'll do a grid search on the gradient regressor."
   ]
  },
  {
   "cell_type": "code",
   "execution_count": null,
   "metadata": {},
   "outputs": [],
   "source": [
    "clfparam_grid = {\"max_depth\": [4, 10, None],\n",
    "              \"max_features\": [1, 3, 10],\n",
    "              \"min_samples_split\": [2, 3, 10],\n",
    "              'n_estimators':[500,600,700]}\n",
    "\n",
    "# run grid search\n",
    "clfgrid_search = GridSearchCV(clf, param_grid=clfparam_grid, cv=5)\n",
    "start = time.gmtime()\n",
    "clf_grid = clfgrid_search.fit(X_train,  y_train).predict(X_test)\n",
    "\n",
    "print(\"GridSearchCV took %.2f seconds for %d candidate parameter settings.\"\n",
    "      % (time.mktime(time.gmtime()) - time.mktime(start), len(clfgrid_search.cv_results_['params'])))\n",
    "clfgrid_search.best_params_"
   ]
  },
  {
   "cell_type": "code",
   "execution_count": null,
   "metadata": {},
   "outputs": [],
   "source": [
    "print('Mean Absolute Error:', metrics.mean_absolute_error(y_test, clf_grid))  \n",
    "print('Mean Squared Error:', metrics.mean_squared_error(y_test, clf_grid))  \n",
    "print('Root Mean Squared Error:', np.sqrt(metrics.mean_squared_error(y_test, clf_grid))) \n",
    "print('Regressor Score:',LinearRegression.score(clf,X_test,  clf_grid))"
   ]
  },
  {
   "cell_type": "markdown",
   "metadata": {},
   "source": [
    "This actually performs worse than the first options. I'm thinking it's becuase I eliminated the 'none' options so I'm rerunning with that added back in. Score comparisions:\n",
    "\n",
    "| Metric      | Linear Regression         | Grid Search  | Gradient Boost  | Grid and Gradient  |\n",
    "| ------------- |-------------:| -----:| -----:| -----:| \n",
    "| Mean Absolute Error:    |  12.53 | 11.2 | **10.13** | 10.26 |\n",
    "| Mean Squared Error:    |  280.05 | 264.45 | **209.94** |  220.11 |\n",
    "| Root Mean Squared Error:     |  16.73 | 16.26 |  **14.49** | 14.84 |\n",
    "| Regressor Score:    |  0.95 | 0.96 |  **1** | .99 |\n",
    "\n",
    "Below we add in the none options but also squared up the number of features and max depth, making max depth the square root of each of the max features.\n"
   ]
  },
  {
   "cell_type": "code",
   "execution_count": 23,
   "metadata": {
    "scrolled": true
   },
   "outputs": [],
   "source": [
    "\n",
    "clfparam_grid2 = {\"max_depth\": [ None,3,  5],\n",
    "              \"max_features\": [None, 10, 25],\n",
    "              \"min_samples_split\": [2, 3, 10],\n",
    "              'n_estimators':[500, 600] }\n",
    "\n",
    "\n",
    "clfgrid_search2 = GridSearchCV(clf, param_grid=clfparam_grid2, cv=5)\n",
    "start = time.gmtime()\n",
    "clf_grid2 = clfgrid_search2.fit(X_train,  y_train).predict(X_test)\n",
    "\n",
    "print(\"GridSearchCV took %.2f seconds for %d candidate parameter settings.\"\n",
    "      % (time.mktime(time.gmtime()) - time.mktime(start), len(clfgrid_search2.cv_results_['params'])))\n",
    "clfgrid_search2.best_params_\n",
    "\n"
   ]
  },
  {
   "cell_type": "markdown",
   "metadata": {},
   "source": [
    "GridSearchCV took 34545.00 seconds for 54 candidate parameter settings.\n",
    "'max_depth': 5, 'max_features': 25, 'min_samples_split': 2, 'n_estimators': 600}"
   ]
  },
  {
   "cell_type": "code",
   "execution_count": null,
   "metadata": {},
   "outputs": [],
   "source": [
    "print('Mean Absolute Error:', metrics.mean_absolute_error(y_test, clf_grid2))  \n",
    "print('Mean Squared Error:', metrics.mean_squared_error(y_test, clf_grid2))  \n",
    "print('Root Mean Squared Error:', np.sqrt(metrics.mean_squared_error(y_test, clf_grid2))) \n",
    "print('Regressor Score:',LinearRegression.score(clf,X_test,  clf_grid2))"
   ]
  },
  {
   "cell_type": "markdown",
   "metadata": {},
   "source": [
    "Mean Absolute Error: 9.24464315243264  \n",
    "Mean Squared Error: 177.46336088204436  \n",
    "Root Mean Squared Error: 13.321537481914179  \n",
    "Regressor Score: 0.9968268291598121\n",
    "    \n",
    "That makes this slightly better than the others are far as MAE but dramatically better in MSE and RMSE and if you round the regressor score it's a 1\n",
    "\n",
    "| Metric      | Linear Regression         | Grid Search  | Gradient Boost  | Gradient Grid 1  | Gradient Grid 2 |\n",
    "| ------------- |-------------:| -----:| -----:| -----:| -----:| \n",
    "| Mean Absolute Error:    |  12.53 | 11.2 | 10.13 | 10.26 | **9.24** |\n",
    "| Mean Squared Error:    |  280.05 | 264.45 | 209.94 |  220.11 | **177.46** |\n",
    "| Root Mean Squared Error:     |  16.73 | 16.26 |  14.49 | 14.84 | **13.32** |\n",
    "    | Regressor Score:    |  0.95 | 0.96 |  **1** | 0.99 |0.996|\n",
    "\n",
    "\n",
    "## Conclusion\n",
    "\n",
    "I think arguably you could run through deeper regressions with more estimators and get a a closer and closer score, but for our purposes here there's no real need. Also, you could make a decent argument that the standard Gradient Boost works just as well for the effort as going through those iterations of grid searches. \n",
    "\n",
    "That said, I'm happy here with the version that we found with the second grid search. Now we'll make this somewhat forward looking and see how teams in the actual fantasy league would have done with this model.\n"
   ]
  }
 ],
 "metadata": {
  "kernelspec": {
   "display_name": "Python 3",
   "language": "python",
   "name": "python3"
  },
  "language_info": {
   "codemirror_mode": {
    "name": "ipython",
    "version": 3
   },
   "file_extension": ".py",
   "mimetype": "text/x-python",
   "name": "python",
   "nbconvert_exporter": "python",
   "pygments_lexer": "ipython3",
   "version": "3.7.1"
  }
 },
 "nbformat": 4,
 "nbformat_minor": 2
}
