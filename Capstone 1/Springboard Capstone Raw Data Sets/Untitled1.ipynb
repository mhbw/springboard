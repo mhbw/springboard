{
 "cells": [
  {
   "cell_type": "markdown",
   "metadata": {},
   "source": [
    "This is Munging and cleaning the 2019 data for comparison to the rest and seeing how well our model would perform on 2019 data"
   ]
  },
  {
   "cell_type": "code",
   "execution_count": 1,
   "metadata": {},
   "outputs": [],
   "source": [
    "## import working modules\n",
    "import pandas as pd\n",
    "import numpy as np\n",
    "import glob\n",
    "import os\n",
    "import unicodedata\n",
    "from datetime import datetime\n",
    "from functools import reduce\n"
   ]
  },
  {
   "cell_type": "code",
   "execution_count": 10,
   "metadata": {},
   "outputs": [],
   "source": [
    "## loop through all the csvs, import them into a dictionary with edicted names\n",
    "## first read all the csvs as raw files\n",
    "## important note here, the output files save na values as \"-\", so those have to be dealt with. \n",
    "## you could do it later, but here I'm adding them in\n",
    "\n",
    "df = [pd.read_csv(f,na_values = '-') for f in glob.glob('*.csv')]\n",
    "\n",
    "## pull in the names and clean them\n",
    "names = glob.glob('*.csv')\n",
    "for i in range(len(names)):\n",
    "    names[i]= names[i].replace(\"-\",\"\").replace(\"Natural Stat Trick\",\"\").replace(\".csv\",\"\").replace(\" \",\"\")\n",
    "\n",
    "## zip together for clean mapping and create dictionary\n",
    "player_data = list(zip(names, df))\n",
    "player_data_dict = dict(player_data)"
   ]
  },
  {
   "cell_type": "code",
   "execution_count": 11,
   "metadata": {},
   "outputs": [
    {
     "data": {
      "text/plain": [
       "dict_keys(['Combined_Player_Data', 'model_ready_data', 'PlayerSeasonTotals2014PKIndCounts', 'PlayerSeasonTotals2014PKOIRates', 'PlayerSeasonTotals2014PPindCounts', 'PlayerSeasonTotals2014PPOIRates', 'PlayerSeasonTotals2014SIndCounts', 'PlayerSeasonTotals2014SOIRates', 'PlayerSeasonTotals2015PKIndCounts', 'PlayerSeasonTotals2015PKOIRates', 'PlayerSeasonTotals2015PPIndCounts', 'PlayerSeasonTotals2015PPOIRates', 'PlayerSeasonTotals2015SIndCounts', 'PlayerSeasonTotals2015SOIRates', 'PlayerSeasonTotals2016PKindCounts', 'PlayerSeasonTotals2016PKOIRates', 'PlayerSeasonTotals2016PPindCounts', 'PlayerSeasonTotals2016PPOIRates', 'PlayerSeasonTotals2016SIndCounts', 'PlayerSeasonTotals2016SOIRates', 'PlayerSeasonTotals2017PKindCounts', 'PlayerSeasonTotals2017PKOIRates', 'PlayerSeasonTotals2017PPindCounts', 'PlayerSeasonTotals2017PPOIRates', 'PlayerSeasonTotals2017SIndCounts', 'PlayerSeasonTotals2017SOIRates', 'PlayerSeasonTotals2018PKindCounts', 'PlayerSeasonTotals2018PKOIRates', 'PlayerSeasonTotals2018PPindCounts', 'PlayerSeasonTotals2018PPOIRates', 'PlayerSeasonTotals2018SIndCounts', 'PlayerSeasonTotals2018SOIRates', 'PlayerSeasonTotals2019PKindCounts', 'PlayerSeasonTotals2019PKOIRates', 'PlayerSeasonTotals2019PPindCounts', 'PlayerSeasonTotals2019PPOIRates', 'PlayerSeasonTotals2019SIndCounts', 'PlayerSeasonTotals2019SOIRates', 'player_data_2018', 'Playerbios2014', 'Playerbios2015', 'Playerbios2016', 'Playerbios2017', 'Playerbios2018', 'Playerbios2019', 'Playerbios2019b'])"
      ]
     },
     "execution_count": 11,
     "metadata": {},
     "output_type": "execute_result"
    }
   ],
   "source": [
    "## set index for joining\n",
    "for key, value in player_data_dict.items():\n",
    "    value.set_index(['Player','Year','Team'], inplace=True)\n",
    "    \n",
    "player_data_dict.keys()"
   ]
  },
  {
   "cell_type": "code",
   "execution_count": 12,
   "metadata": {},
   "outputs": [],
   "source": [
    "## cleaning up column headers\n",
    "## all those not recorded here I manually replaced \" \" with \"_\" and \"%\" with \"Per\" prior to saving\n",
    "## if not for my meddling with the flat files you wouldn't have to do this, and arguably it's not \n",
    "## necissary here, but I prefer it to be more standardized\n",
    "keys = player_data_dict.keys()\n",
    "for i in keys:\n",
    "    player_data_dict[i].columns = player_data_dict[i].columns.str.replace(r\" \", \"_\")\n",
    "    player_data_dict[i].columns = player_data_dict[i].columns.str.replace(r\"%\",\"Per\")\n",
    "\n",
    "player_data_2019 = pd.merge(player_data_dict['PlayerSeasonTotals2019SIndCounts'],player_data_dict['PlayerSeasonTotals2019PPindCounts'], left_index=True, right_index=True, suffixes=(\"\",'_PPIndC'), how='outer').merge(player_data_dict['PlayerSeasonTotals2019PKindCounts'],left_index=True, right_index=True, suffixes=(\"\",'_PkIndC'), how='outer').merge(player_data_dict['PlayerSeasonTotals2019PKOIRates'],left_index=True, right_index=True, suffixes=(\"\",'_PkIndR'), how='outer').merge(player_data_dict['PlayerSeasonTotals2019PPOIRates'],left_index=True, right_index=True, suffixes=(\"\",'_PPIndR'), how='outer').merge(player_data_dict['PlayerSeasonTotals2019SOIRates'],left_index=True, right_index=True, suffixes=(\"\",'_SIndR'), how='outer').merge(player_data_dict['Playerbios2019b'],left_index=True, right_index=True, suffixes=(\"\",'_Bios'), how='outer')\n"
   ]
  },
  {
   "cell_type": "code",
   "execution_count": 13,
   "metadata": {},
   "outputs": [
    {
     "name": "stdout",
     "output_type": "stream",
     "text": [
      "['IPP', 'SHPer', 'Faceoffs_Per', 'Position_PPIndC', 'GP_PPIndC', 'TOI_PPIndC', 'Goals_PPIndC', 'Total_Assists_PPIndC', 'First_Assists_PPIndC', 'Second_Assists_PPIndC', 'Total_Points_PPIndC', 'IPP_PPIndC', 'Shots_PPIndC', 'SHPer_PPIndC', 'iCF_PPIndC', 'iFF_PPIndC', 'iSCF_PPIndC', 'iHDCF_PPIndC', 'Rush_Attempts_PPIndC', 'Rebounds_Created_PPIndC', 'PIM_PPIndC', 'Total_Penalties_PPIndC', 'Minor_PPIndC', 'Major_PPIndC', 'Misconduct_PPIndC', 'Penalties_Drawn_PPIndC', 'Giveaways_PPIndC', 'Takeaways_PPIndC', 'Hits_PPIndC', 'Hits_Taken_PPIndC', 'Shots_Blocked_PPIndC', 'Faceoffs_Won_PPIndC', 'Faceoffs_Lost_PPIndC', 'Faceoffs_Per_PPIndC', 'Position_PkIndC', 'GP_PkIndC', 'TOI_PkIndC', 'Goals_PkIndC', 'Total_Assists_PkIndC', 'First_Assists_PkIndC', 'Second_Assists_PkIndC', 'Total_Points_PkIndC', 'IPP_PkIndC', 'Shots_PkIndC', 'SHPer_PkIndC', 'iCF_PkIndC', 'iFF_PkIndC', 'iSCF_PkIndC', 'iHDCF_PkIndC', 'Rush_Attempts_PkIndC', 'Rebounds_Created_PkIndC', 'PIM_PkIndC', 'Total_Penalties_PkIndC', 'Minor_PkIndC', 'Major_PkIndC', 'Misconduct_PkIndC', 'Penalties_Drawn_PkIndC', 'Giveaways_PkIndC', 'Takeaways_PkIndC', 'Hits_PkIndC', 'Hits_Taken_PkIndC', 'Shots_Blocked_PkIndC', 'Faceoffs_Won_PkIndC', 'Faceoffs_Lost_PkIndC', 'Faceoffs_Per_PkIndC', 'Position_PkIndR', 'GP_PkIndR', 'PKTOI', 'PKTOI_GP', 'PKCF_60', 'PKCA_60', 'PKCFPer', 'PKFF_60', 'PKFA_60', 'PKFFPer', 'PKSF_60', 'PKSA_60', 'PKSFPer', 'PKGF_60', 'PKGA_60', 'PKGFPer', 'PKSCF_60', 'PKSCA_60', 'PKSCFPer', 'PKHDCF_60', 'PKHDCA_60', 'PKHDCFPer', 'PKHDGF_60', 'PKHDGA_60', 'PKHDGFPer', 'PKMDCF_60', 'PKMDCA_60', 'PKMDCFPer', 'PKMDGF_60', 'PKMDGA_60', 'PKMDGFPer', 'PKLDCF_60', 'PKLDCA_60', 'PKLDCFPer', 'PKLDGF_60', 'PKLDGA_60', 'PKLDGFPer', 'PKOn-Ice_SHPer', 'PKOn-Ice_SVPer', 'PKPDO', 'PKOff.\\xa0Zone_Faceoffs_60', 'PKNeu.\\xa0Zone_Faceoffs_60', 'PKDef.\\xa0Zone_Faceoffs_60', 'PKOnTFStarts_60', 'PKOffZoneStartPer', 'PKOffZoneFaceoffs_60', 'PKNeuZoneFaceoffs_60', 'PKDefZoneFaceoffs_60', 'PKOff.\\xa0Zone_Faceoff_Per', 'Position_PPIndR', 'GP_PPIndR', 'PPTOI', 'PPTOI_GP', 'PPCF_60', 'PPCA_60', 'PPCFPer', 'PPFF_60', 'PPFA_60', 'PPFFPer', 'PPSF_60', 'PPSA_60', 'PPSFPer', 'PPGF_60', 'PPGA_60', 'PPGFPer', 'PPSCF_60', 'PPSCA_60', 'PPSCFPer', 'PPHDCF_60', 'PPHDCA_60', 'PPHDCFPer', 'PPHDGF_60', 'PPHDGA_60', 'PPHDGFPer', 'PPMDCF_60', 'PPMDCA_60', 'PPMDCFPer', 'PPMDGF_60', 'PPMDGA_60', 'PPMDGFPer', 'PPLDCF_60', 'PPLDCA_60', 'PPLDCFPer', 'PPLDGF_60', 'PPLDGA_60', 'PPLDGFPer', 'PPOn-Ice_SHPer', 'PPOn-Ice_SVPer', 'PPPDO', 'PPOff.\\xa0Zone_Faceoffs_60', 'PPNeu.\\xa0Zone_Faceoffs_60', 'PPDef.\\xa0Zone_Faceoffs_60', 'PPOnTFStarts_60', 'PPOffZoneStartPer', 'PPOffZoneFaceoffs_60', 'PPNeuZoneFaceoffs_60', 'PPDefZoneFaceoffs_60', 'PPOff.\\xa0Zone_Faceoff_Per', 'GFPer', 'HDGFPer', 'MDCFPer', 'MDGFPer', 'LDCFPer', 'LDGFPer', 'On-Ice_SHPer', 'On-Ice_SVPer', 'OffZoneStartPer', 'Age', 'Date_of_Birth', 'Birth_City', 'Birth_State/Province', 'Birth_Country', 'Nationality', 'Height_(in)', 'Weight_(lbs)']\n"
     ]
    }
   ],
   "source": [
    "player_data_2019['Draft_Round'].fillna(100,inplace = True)\n",
    "player_data_2019['Draft_Year'].fillna(1900,inplace = True)\n",
    "player_data_2019['Round_Pick'].fillna(100,inplace = True)\n",
    "player_data_2019['Overall_Draft_Position'].fillna(1000,inplace = True)\n",
    "player_data_2019['Draft_Team'].fillna('Undrafted',inplace = True)\n",
    "## this is the iteration to return each value\n",
    "has_na = player_data_2019.isnull().sum() > 0\n",
    "comb_player_data_cols = player_data_2019.columns[has_na]\n",
    "comb_player_data_cols_2 = [col for col in player_data_2019.columns if col in comb_player_data_cols]\n",
    "print(comb_player_data_cols_2)"
   ]
  },
  {
   "cell_type": "code",
   "execution_count": 14,
   "metadata": {},
   "outputs": [
    {
     "name": "stdout",
     "output_type": "stream",
     "text": [
      "['Age', 'Date_of_Birth', 'Birth_City', 'Birth_Country', 'Nationality', 'Height_(in)', 'Weight_(lbs)']\n"
     ]
    }
   ],
   "source": [
    "## these are the count values that I'm filling as zero\n",
    "fill_zero = ['SHPer_PPIndC','IPP','SHPer','GP_PPIndC','TOI_PPIndC','Goals_PPIndC','Total_Assists_PPIndC','IPP_PPIndC','Shots_PPIndC','GP_PPIndC','TOI_PPIndC','IPP_PPIndC','IPP_PPIndC', 'Shots_PPIndC', 'SHPer_PPIndC', 'iSCF_PPIndC', 'iHDCF_PPIndC', 'Rush_Attempts_PPIndC', 'Rebounds_Created_PPIndC', 'PIM_PPIndC','Total_Penalties_PPIndC', 'Minor_PPIndC', 'Major_PPIndC', 'Misconduct_PPIndC', 'Penalties_Drawn_PPIndC', 'Giveaways_PPIndC', 'Takeaways_PPIndC', 'Hits_PPIndC', 'Hits_Taken_PPIndC', 'Shots_Blocked_PPIndC', 'Faceoffs_Won_PPIndC', 'Faceoffs_Lost_PPIndC','Faceoffs_Per_PPIndC','GP_PkIndC', 'TOI_PkIndC', 'Goals_PkIndC', 'Total_Assists_PkIndC', 'IPP_PkIndC', 'Shots_PkIndC', 'SHPer_PkIndC',    'iSCF_PkIndC', 'iHDCF_PkIndC', 'Rush_Attempts_PkIndC', 'Rebounds_Created_PkIndC', 'PIM_PkIndC', 'Total_Penalties_PkIndC', 'Minor_PkIndC', 'Major_PkIndC', 'Misconduct_PkIndC', 'Penalties_Drawn_PkIndC', 'Giveaways_PkIndC', 'Takeaways_PkIndC', 'Hits_PkIndC', 'Hits_Taken_PkIndC', 'Shots_Blocked_PkIndC', 'Faceoffs_Won_PkIndC', 'Faceoffs_Lost_PkIndC', 'PKTOI', 'PKTOI_GP', 'PKCF_60', 'PKCA_60', 'PKTOI', 'PKTOI_GP', 'PKCF_60', 'PKCA_60','PKFF_60', 'PKFA_60','PKSF_60', 'PKSA_60', 'PKGF_60', 'PKGA_60','PKSCF_60', 'PKSCA_60', 'PKHDCF_60', 'PKHDCA_60',  'PKHDGF_60', 'PKHDGA_60','PKLDCF_60', 'PKLDCA_60',  'PKMDCF_60', 'PKMDCA_60', 'PKMDGF_60', 'PKMDGA_60', 'PKLDGF_60', 'PKLDGA_60',  'PKPDO', 'PKOff.\\xa0Zone_Faceoffs_60', 'PKNeu.\\xa0Zone_Faceoffs_60', 'PKDef.\\xa0Zone_Faceoffs_60', 'PKOnTFStarts_60',     'PKOffZoneFaceoffs_60', 'PKNeuZoneFaceoffs_60', 'PKDefZoneFaceoffs_60',   'PPTOI', 'PPTOI_GP', 'PPCF_60', 'PPCA_60', 'PPFF_60', 'PPFA_60',  'PPSF_60', 'PPSA_60',  'PPGF_60', 'PPGA_60', 'PPSCF_60', 'PPSCA_60','PPHDCF_60', 'PPHDCA_60',  'PPHDGF_60', 'PPHDGA_60',  'PPMDCF_60', 'PPMDCA_60','PPMDGF_60', 'PPMDGA_60',  'PPLDCF_60', 'PPLDCA_60', 'PPLDGF_60', 'PPLDGA_60', 'PPPDO', 'PPOff.\\xa0Zone_Faceoffs_60', 'PPNeu.\\xa0Zone_Faceoffs_60', 'PPDef.\\xa0Zone_Faceoffs_60', 'PPOnTFStarts_60',  'PPOffZoneFaceoffs_60', 'PPNeuZoneFaceoffs_60', 'PPDefZoneFaceoffs_60',  'CFPer', 'FFPer', 'SFPer', 'GFPer', 'SCFPer', 'HDCFPer', 'HDGFPer', 'MDCFPer', 'MDGFPer', 'LDCFPer', 'LDGFPer', 'On-Ice_SHPer', 'On-Ice_SVPer', 'PDO', 'OffZoneStartPer', 'Off.\\xa0Zone_Faceoff_Per']\n",
    "\n",
    "for i in fill_zero:\n",
    "    player_data_2019[i].fillna(0,inplace = True)\n",
    "    \n",
    "## mean values\n",
    "fill_mean = ['PPLDGFPer', 'PPOn-Ice_SHPer', 'PPOn-Ice_SVPer',  'PPLDCFPer', 'PPMDGFPer','PPMDCFPer', 'PPHDGFPer','PPHDCFPer', 'PPSCFPer','PPGFPer','PPSFPer','PPFFPer','PPCFPer','PKOff.\\xa0Zone_Faceoff_Per', 'PKOffZoneStartPer','PKLDGFPer', 'PKOn-Ice_SHPer', 'PKOn-Ice_SVPer','PPOffZoneStartPer','Faceoffs_Per','Faceoffs_Per_PPIndC','Faceoffs_Per_PPIndC','iCF_PPIndC',  'PKMDCFPer', 'PKMDGFPer',  'PKLDCFPer','iFF_PPIndC','iCF_PkIndC', 'iFF_PkIndC','Faceoffs_Per_PkIndC','PKCFPer','PKFFPer','PKSFPer','PKGFPer','PKSCFPer','PKHDCFPer', 'PKHDGFPer','PPOff.\\xa0Zone_Faceoff_Per' ]\n",
    "\n",
    "for i in fill_mean:\n",
    "    player_data_2019[i].fillna(player_data_2019[i].mean(),inplace = True)\n",
    "\n",
    "## the drop values\n",
    "player_data_2019.drop(['Position_PPIndC', 'First_Assists_PPIndC', 'Second_Assists_PPIndC', 'Total_Points_PPIndC', 'Position_PkIndC', 'First_Assists_PkIndC', 'Second_Assists_PkIndC', 'Total_Points_PkIndC', 'Position_PkIndR', 'GP_PkIndR', 'Position_PPIndR', 'GP_PPIndR', 'Birth_State/Province','Position_PPIndR', 'GP_PPIndR','Position_PkIndR', 'GP_PkIndR',  'First_Assists_PkIndC', 'Second_Assists_PkIndC', 'Total_Points_PkIndC', 'Position_PkIndC','First_Assists','Second_Assists','Total_Points','Position_PPIndC','First_Assists_PPIndC', 'Second_Assists_PPIndC', 'Total_Points_PPIndC','Position_PPIndC','Birth_State/Province'], axis=1, inplace=True)\n",
    "## dropping a few more excess columns I found, just to reduce junk variables\n",
    "player_data_2019.drop(['GP_PPIndC','GP_PkIndC','Position_SIndR', 'GP_SIndR','Position_Bios'], axis=1, inplace=True)\n",
    "\n",
    "## checking that all na are gone\n",
    "has_na = player_data_2019.isnull().sum() > 0\n",
    "player_data_2019_cols = player_data_2019.columns[has_na]\n",
    "player_data_2019_cols_3 = [col for col in player_data_2019.columns if col in player_data_2019_cols]\n",
    "print(player_data_2019_cols_3)"
   ]
  },
  {
   "cell_type": "code",
   "execution_count": 15,
   "metadata": {},
   "outputs": [
    {
     "data": {
      "text/plain": [
       "Position                  0\n",
       "GP                        0\n",
       "TOI                       0\n",
       "Goals                     0\n",
       "Total_Assists             0\n",
       "IPP                       0\n",
       "Shots                     0\n",
       "SHPer                     0\n",
       "iCF                       0\n",
       "iFF                       0\n",
       "iSCF                      0\n",
       "iHDCF                     0\n",
       "Rush_Attempts             0\n",
       "Rebounds_Created          0\n",
       "PIM                       0\n",
       "Total_Penalties           0\n",
       "Minor                     0\n",
       "Major                     0\n",
       "Misconduct                0\n",
       "Penalties_Drawn           0\n",
       "Giveaways                 0\n",
       "Takeaways                 0\n",
       "Hits                      0\n",
       "Hits_Taken                0\n",
       "Shots_Blocked             0\n",
       "Faceoffs_Won              0\n",
       "Faceoffs_Lost             0\n",
       "Faceoffs_Per              0\n",
       "TOI_PPIndC                0\n",
       "Goals_PPIndC              0\n",
       "                         ..\n",
       "LDCF_60                   0\n",
       "LDCA_60                   0\n",
       "LDCFPer                   0\n",
       "LDGF_60                   0\n",
       "LDGA_60                   0\n",
       "LDGFPer                   0\n",
       "On-Ice_SHPer              0\n",
       "On-Ice_SVPer              0\n",
       "PDO                       0\n",
       "Off. Zone_Faceoffs_60     0\n",
       "Neu. Zone_Faceoffs_60     0\n",
       "Def. Zone_Faceoffs_60     0\n",
       "OnTFStarts_60             0\n",
       "OffZoneStartPer           0\n",
       "OffZoneFaceoffs_60        0\n",
       "NeuZoneFaceoffs_60        0\n",
       "DefZoneFaceoffs_60        0\n",
       "Off. Zone_Faceoff_Per     0\n",
       "Age                       1\n",
       "Date_of_Birth             1\n",
       "Birth_City                1\n",
       "Birth_Country             1\n",
       "Nationality               3\n",
       "Height_(in)               1\n",
       "Weight_(lbs)              1\n",
       "Draft_Year                0\n",
       "Draft_Team                0\n",
       "Draft_Round               0\n",
       "Round_Pick                0\n",
       "Overall_Draft_Position    0\n",
       "Length: 233, dtype: int64"
      ]
     },
     "execution_count": 15,
     "metadata": {},
     "output_type": "execute_result"
    }
   ],
   "source": [
    "player_data_2019.isnull().sum()"
   ]
  },
  {
   "cell_type": "code",
   "execution_count": 17,
   "metadata": {},
   "outputs": [
    {
     "name": "stdout",
     "output_type": "stream",
     "text": [
      "[]\n"
     ]
    }
   ],
   "source": [
    "## since it's only 3 rows I'm just going to drop them here\n",
    "\n",
    "player_data_2019.dropna(inplace=True)\n",
    "## checking that all na are gone\n",
    "has_na = player_data_2019.isnull().sum() > 0\n",
    "player_data_2019_cols = player_data_2019.columns[has_na]\n",
    "player_data_2019_cols_3 = [col for col in player_data_2019.columns if col in player_data_2019_cols]\n",
    "print(player_data_2019_cols_3)"
   ]
  },
  {
   "cell_type": "code",
   "execution_count": 21,
   "metadata": {},
   "outputs": [
    {
     "ename": "ValueError",
     "evalue": "cannot insert level_0, already exists",
     "output_type": "error",
     "traceback": [
      "\u001b[0;31m---------------------------------------------------------------------------\u001b[0m",
      "\u001b[0;31mValueError\u001b[0m                                Traceback (most recent call last)",
      "\u001b[0;32m<ipython-input-21-84d2765d54bf>\u001b[0m in \u001b[0;36m<module>\u001b[0;34m\u001b[0m\n\u001b[1;32m      1\u001b[0m \u001b[0;31m## reset the index so we can use the year column\u001b[0m\u001b[0;34m\u001b[0m\u001b[0;34m\u001b[0m\u001b[0;34m\u001b[0m\u001b[0m\n\u001b[0;32m----> 2\u001b[0;31m \u001b[0mplayer_data_2019\u001b[0m\u001b[0;34m.\u001b[0m\u001b[0mreset_index\u001b[0m\u001b[0;34m(\u001b[0m\u001b[0minplace\u001b[0m\u001b[0;34m=\u001b[0m\u001b[0;32mTrue\u001b[0m\u001b[0;34m)\u001b[0m\u001b[0;34m\u001b[0m\u001b[0;34m\u001b[0m\u001b[0m\n\u001b[0m\u001b[1;32m      3\u001b[0m \u001b[0;34m\u001b[0m\u001b[0m\n\u001b[1;32m      4\u001b[0m \u001b[0;31m## year imported as an int so need to convert that from 2018 into '1-1-2018'\u001b[0m\u001b[0;34m\u001b[0m\u001b[0;34m\u001b[0m\u001b[0;34m\u001b[0m\u001b[0m\n\u001b[1;32m      5\u001b[0m \u001b[0;31m## going to make a mini function here and then iterate row wise\u001b[0m\u001b[0;34m\u001b[0m\u001b[0;34m\u001b[0m\u001b[0;34m\u001b[0m\u001b[0m\n",
      "\u001b[0;32m/anaconda3/lib/python3.7/site-packages/pandas/core/frame.py\u001b[0m in \u001b[0;36mreset_index\u001b[0;34m(self, level, drop, inplace, col_level, col_fill)\u001b[0m\n\u001b[1;32m   4137\u001b[0m                 \u001b[0;31m# to ndarray and maybe infer different dtype\u001b[0m\u001b[0;34m\u001b[0m\u001b[0;34m\u001b[0m\u001b[0;34m\u001b[0m\u001b[0m\n\u001b[1;32m   4138\u001b[0m                 \u001b[0mlevel_values\u001b[0m \u001b[0;34m=\u001b[0m \u001b[0m_maybe_casted_values\u001b[0m\u001b[0;34m(\u001b[0m\u001b[0mlev\u001b[0m\u001b[0;34m,\u001b[0m \u001b[0mlab\u001b[0m\u001b[0;34m)\u001b[0m\u001b[0;34m\u001b[0m\u001b[0;34m\u001b[0m\u001b[0m\n\u001b[0;32m-> 4139\u001b[0;31m                 \u001b[0mnew_obj\u001b[0m\u001b[0;34m.\u001b[0m\u001b[0minsert\u001b[0m\u001b[0;34m(\u001b[0m\u001b[0;36m0\u001b[0m\u001b[0;34m,\u001b[0m \u001b[0mname\u001b[0m\u001b[0;34m,\u001b[0m \u001b[0mlevel_values\u001b[0m\u001b[0;34m)\u001b[0m\u001b[0;34m\u001b[0m\u001b[0;34m\u001b[0m\u001b[0m\n\u001b[0m\u001b[1;32m   4140\u001b[0m \u001b[0;34m\u001b[0m\u001b[0m\n\u001b[1;32m   4141\u001b[0m         \u001b[0mnew_obj\u001b[0m\u001b[0;34m.\u001b[0m\u001b[0mindex\u001b[0m \u001b[0;34m=\u001b[0m \u001b[0mnew_index\u001b[0m\u001b[0;34m\u001b[0m\u001b[0;34m\u001b[0m\u001b[0m\n",
      "\u001b[0;32m/anaconda3/lib/python3.7/site-packages/pandas/core/frame.py\u001b[0m in \u001b[0;36minsert\u001b[0;34m(self, loc, column, value, allow_duplicates)\u001b[0m\n\u001b[1;32m   3220\u001b[0m         \u001b[0mvalue\u001b[0m \u001b[0;34m=\u001b[0m \u001b[0mself\u001b[0m\u001b[0;34m.\u001b[0m\u001b[0m_sanitize_column\u001b[0m\u001b[0;34m(\u001b[0m\u001b[0mcolumn\u001b[0m\u001b[0;34m,\u001b[0m \u001b[0mvalue\u001b[0m\u001b[0;34m,\u001b[0m \u001b[0mbroadcast\u001b[0m\u001b[0;34m=\u001b[0m\u001b[0;32mFalse\u001b[0m\u001b[0;34m)\u001b[0m\u001b[0;34m\u001b[0m\u001b[0;34m\u001b[0m\u001b[0m\n\u001b[1;32m   3221\u001b[0m         self._data.insert(loc, column, value,\n\u001b[0;32m-> 3222\u001b[0;31m                           allow_duplicates=allow_duplicates)\n\u001b[0m\u001b[1;32m   3223\u001b[0m \u001b[0;34m\u001b[0m\u001b[0m\n\u001b[1;32m   3224\u001b[0m     \u001b[0;32mdef\u001b[0m \u001b[0massign\u001b[0m\u001b[0;34m(\u001b[0m\u001b[0mself\u001b[0m\u001b[0;34m,\u001b[0m \u001b[0;34m**\u001b[0m\u001b[0mkwargs\u001b[0m\u001b[0;34m)\u001b[0m\u001b[0;34m:\u001b[0m\u001b[0;34m\u001b[0m\u001b[0;34m\u001b[0m\u001b[0m\n",
      "\u001b[0;32m/anaconda3/lib/python3.7/site-packages/pandas/core/internals.py\u001b[0m in \u001b[0;36minsert\u001b[0;34m(self, loc, item, value, allow_duplicates)\u001b[0m\n\u001b[1;32m   4336\u001b[0m         \u001b[0;32mif\u001b[0m \u001b[0;32mnot\u001b[0m \u001b[0mallow_duplicates\u001b[0m \u001b[0;32mand\u001b[0m \u001b[0mitem\u001b[0m \u001b[0;32min\u001b[0m \u001b[0mself\u001b[0m\u001b[0;34m.\u001b[0m\u001b[0mitems\u001b[0m\u001b[0;34m:\u001b[0m\u001b[0;34m\u001b[0m\u001b[0;34m\u001b[0m\u001b[0m\n\u001b[1;32m   4337\u001b[0m             \u001b[0;31m# Should this be a different kind of error??\u001b[0m\u001b[0;34m\u001b[0m\u001b[0;34m\u001b[0m\u001b[0;34m\u001b[0m\u001b[0m\n\u001b[0;32m-> 4338\u001b[0;31m             \u001b[0;32mraise\u001b[0m \u001b[0mValueError\u001b[0m\u001b[0;34m(\u001b[0m\u001b[0;34m'cannot insert {}, already exists'\u001b[0m\u001b[0;34m.\u001b[0m\u001b[0mformat\u001b[0m\u001b[0;34m(\u001b[0m\u001b[0mitem\u001b[0m\u001b[0;34m)\u001b[0m\u001b[0;34m)\u001b[0m\u001b[0;34m\u001b[0m\u001b[0;34m\u001b[0m\u001b[0m\n\u001b[0m\u001b[1;32m   4339\u001b[0m \u001b[0;34m\u001b[0m\u001b[0m\n\u001b[1;32m   4340\u001b[0m         \u001b[0;32mif\u001b[0m \u001b[0;32mnot\u001b[0m \u001b[0misinstance\u001b[0m\u001b[0;34m(\u001b[0m\u001b[0mloc\u001b[0m\u001b[0;34m,\u001b[0m \u001b[0mint\u001b[0m\u001b[0;34m)\u001b[0m\u001b[0;34m:\u001b[0m\u001b[0;34m\u001b[0m\u001b[0;34m\u001b[0m\u001b[0m\n",
      "\u001b[0;31mValueError\u001b[0m: cannot insert level_0, already exists"
     ]
    }
   ],
   "source": [
    "## reset the index so we can use the year column\n",
    "player_data_2019.reset_index(inplace=True)\n",
    "\n",
    "## year imported as an int so need to convert that from 2018 into '1-1-2018'\n",
    "## going to make a mini function here and then iterate row wise\n",
    "def age_formula(x,y):\n",
    "    return round((datetime.strptime(str(x), '%Y')-datetime.strptime(str(y), '%Y-%m-%d')).days/365)\n",
    "\n",
    "player_data_2019['Age'] = player_data_2019.apply(lambda row: age_formula(row['Year'],row['Date_of_Birth']), axis=1)\n",
    "\n",
    "## checking that it worked\n",
    "player_data_2019['Age'].loc[player_data_2019['Player'] == 'Zdeno Chara']"
   ]
  },
  {
   "cell_type": "code",
   "execution_count": null,
   "metadata": {},
   "outputs": [],
   "source": []
  },
  {
   "cell_type": "code",
   "execution_count": null,
   "metadata": {},
   "outputs": [],
   "source": []
  },
  {
   "cell_type": "code",
   "execution_count": null,
   "metadata": {},
   "outputs": [],
   "source": []
  },
  {
   "cell_type": "code",
   "execution_count": null,
   "metadata": {},
   "outputs": [],
   "source": []
  },
  {
   "cell_type": "code",
   "execution_count": null,
   "metadata": {},
   "outputs": [],
   "source": []
  },
  {
   "cell_type": "code",
   "execution_count": null,
   "metadata": {},
   "outputs": [],
   "source": []
  },
  {
   "cell_type": "code",
   "execution_count": null,
   "metadata": {},
   "outputs": [],
   "source": []
  },
  {
   "cell_type": "code",
   "execution_count": null,
   "metadata": {},
   "outputs": [],
   "source": []
  },
  {
   "cell_type": "code",
   "execution_count": null,
   "metadata": {},
   "outputs": [],
   "source": []
  },
  {
   "cell_type": "code",
   "execution_count": null,
   "metadata": {},
   "outputs": [],
   "source": []
  }
 ],
 "metadata": {
  "kernelspec": {
   "display_name": "Python 3",
   "language": "python",
   "name": "python3"
  },
  "language_info": {
   "codemirror_mode": {
    "name": "ipython",
    "version": 3
   },
   "file_extension": ".py",
   "mimetype": "text/x-python",
   "name": "python",
   "nbconvert_exporter": "python",
   "pygments_lexer": "ipython3",
   "version": "3.7.1"
  }
 },
 "nbformat": 4,
 "nbformat_minor": 2
}
