{
 "cells": [
  {
   "cell_type": "code",
   "execution_count": 1,
   "metadata": {},
   "outputs": [
    {
     "ename": "SyntaxError",
     "evalue": "invalid syntax (<ipython-input-1-5a271f8858e8>, line 1)",
     "output_type": "error",
     "traceback": [
      "\u001b[0;36m  File \u001b[0;32m\"<ipython-input-1-5a271f8858e8>\"\u001b[0;36m, line \u001b[0;32m1\u001b[0m\n\u001b[0;31m    Prompt:Create a Google Doc (1-2 pages) describing the data wrangling steps you took to clean the dataset.\u001b[0m\n\u001b[0m                  ^\u001b[0m\n\u001b[0;31mSyntaxError\u001b[0m\u001b[0;31m:\u001b[0m invalid syntax\n"
     ]
    }
   ],
   "source": [
    "Prompt: create a Google Doc (1-2 pages) describing the data wrangling steps you took to clean the dataset. \n",
    "Include answers to these questions in your submission:\n",
    "\n",
    "What kind of cleaning steps did you perform?\n",
    "\n",
    "How did you deal with missing values, if any?\n",
    "\n",
    "Were there outliers, and how did you handle them?"
   ]
  },
  {
   "cell_type": "markdown",
   "metadata": {},
   "source": [
    "This is a process documentation of the steps I took to build the base data file for my capstone project. I'm endebted to Micah Blake McCurdy and the amazing work he's done at [Natural Stat Trick](https://www.naturalstattrick.com) where all the flat files were initially gerenated.\n",
    "\n"
   ]
  },
  {
   "cell_type": "markdown",
   "metadata": {},
   "source": [
    "Each csv represents a different segment pulled from NST. The labeling convention is as follows:\n",
    "\n",
    "PK = Penalty Kill\n",
    "PP = Power Play\n",
    "S = 5 on 5 or Standard Play\n",
    "OI = On-Ice (raw counts of an action)\n",
    "Ind = Indivitual \n",
    "Counts = Raw occurances of metric\n",
    "Rates = occurances over time, often per 60 or per time on ice\n",
    "2015 = or any other number indicates the season, with 2015 being the year the cup was awarded. so 2015 is the 2014-2015 season\n",
    "\n",
    "So for example, 'Player Season Totals - Natural Stat Trick-2015PKOIRates.csv' has the data for players On Ice rates during penalty kill situations for the 2014-1015 season. \n",
    "\n",
    "I did two bits of pre-processing outside of this notebook. \n",
    "\n",
    "1) I adding the first column, 'Year' to each csv, where I added the same style of date format as above, so 2015 means the 2015-2016 NHL season starting October 7th, 2015.\n",
    "\n",
    "2) to reduce confusion I added 'pk' or 'pp' to the column headers, so there would not be overlapping variables. This could also be delt with in the pd.concat using the key variables but I'd already handled when downloading. If attempting to reproduce this effort from scratch with new data, one would be wise to consider that the file exports have many over lapping namespaces (each file will have 'goals' but no denotation of if they are power play goals, 5-on-5, or short handed) which is important to modify for since each of these factors has a different value in the end product."
   ]
  },
  {
   "cell_type": "code",
   "execution_count": 10,
   "metadata": {},
   "outputs": [],
   "source": [
    "## import modules\n",
    "import csv\n",
    "import glob\n",
    "import os\n",
    "import numpy as np\n",
    "import pandas as pd\n",
    "from argparse import Namespace \n",
    "pd.set_option('display.max_columns', None)\n",
    "pd.set_option('display.max_rows', 50)"
   ]
  },
  {
   "cell_type": "code",
   "execution_count": 2,
   "metadata": {},
   "outputs": [],
   "source": [
    "## import the csvs for processing\n",
    "os.chdir('/Users/michaelwood/Documents/springboard/springboard/Capstone 1/Springboard Capstone Raw Data Sets')\n",
    "csvs = glob.glob(\"*.csv\")\n",
    "\n",
    "## create a new dictionary and pipe in the csvs\n",
    "player_data = {}\n",
    "for x in csvs:\n",
    "    player_data[x.replace(\" \",\"\").replace(\".csv\",\"\").replace(\"NaturalStatTrick\",\"\").replace(\"--\",\"_\")]=pd.read_csv(x)\n",
    "\n",
    "    \n"
   ]
  },
  {
   "cell_type": "markdown",
   "metadata": {},
   "source": [
    "Next I'm going to deal with what I call ['The Sebastian Aho Problem'](https://www.youtube.com/watch?v=5dZo-866LP4) which is that for a time, there were two Sebastian Ahos in the league, so names are an unreliable identifier. Intead I'm concatenating on name, year, and team. Name and birthdate would also likely work here, but since birthday is contained only in one of the files name/year/team will work in it's place. (Certainly most large data sets without primary keys will need one generated as name is almost always redundant but this particular iteration lets me slip in a clever YouTube video; go watch it, it's worth it. I'll wait).\n",
    "\n",
    "After that I'll flatten the data by year, create a variable for age at the start of the season, and create a Fantasy Points Value. "
   ]
  },
  {
   "cell_type": "code",
   "execution_count": 3,
   "metadata": {},
   "outputs": [
    {
     "name": "stdout",
     "output_type": "stream",
     "text": [
      "dict_keys(['PlayerSeasonTotals_2014SOIRates', 'PlayerSeasonTotals_2014PKOIRates', 'PlayerSeasonTotals_2014PKIndCounts', 'PlayerSeasonTotals_2015PPOIRates', 'PlayerSeasonTotals_2015PKOIRates', 'PlayerSeasonTotals_2018SOIRates', 'Playerbios2017', 'Playerbios2016', 'PlayerSeasonTotals_2015PKIndCounts', 'PlayerSeasonTotals_2014PPOIRates', 'Playerbios2014', 'Playerbios2015', 'PlayerSeasonTotals_2018PKindCounts', 'PlayerSeasonTotals_2014SIndCounts', 'PlayerSeasonTotals_2017PKindCounts', 'PlayerSeasonTotals_2018PKOIRates', 'PlayerSeasonTotals_2018PPOIRates', 'PlayerSeasonTotals_2016PKindCounts', 'PlayerSeasonTotals_2017SIndCounts', 'PlayerSeasonTotals_2017SOIRates', 'PlayerSeasonTotals_2017PPindCounts', 'PlayerSeasonTotals_2016SIndCounts', 'PlayerSeasonTotals_2018PPindCounts', 'PlayerSeasonTotals_2015SIndCounts', 'PlayerSeasonTotals_2015SOIRates', 'PlayerSeasonTotals_2016PPindCounts', 'PlayerSeasonTotals_2017PKOIRates', 'PlayerSeasonTotals_2016SOIRates', 'Playerbios2018', 'Playerbios2019', 'PlayerSeasonTotals_2014PPindCounts', 'PlayerSeasonTotals_2016PPOIRates', 'PlayerSeasonTotals_2016PKOIRates', 'PlayerSeasonTotals_2015PPindCounts', 'PlayerSeasonTotals_2018SIndCounts', 'PlayerSeasonTotals_2017PPOIRates'])\n"
     ]
    }
   ],
   "source": [
    "print(player_data.keys())"
   ]
  },
  {
   "cell_type": "code",
   "execution_count": 3,
   "metadata": {},
   "outputs": [],
   "source": [
    "## create index value for each dictionary\n",
    "## player_data[key] = value.set_index(['Year', 'Player','Team'])\n",
    "    \n",
    "    \n",
    "## create single year variables\n",
    "player_data_2014 = pd.concat([player_data['PlayerSeasonTotals_2014SOIRates'],player_data['PlayerSeasonTotals_2014PKOIRates'],player_data['PlayerSeasonTotals_2014PKIndCounts'],player_data['PlayerSeasonTotals_2014PPOIRates'], player_data['Playerbios2014'],player_data['PlayerSeasonTotals_2014SIndCounts'],player_data['PlayerSeasonTotals_2014PPindCounts']], axis=1)"
   ]
  },
  {
   "cell_type": "code",
   "execution_count": 17,
   "metadata": {},
   "outputs": [
    {
     "data": {
      "text/plain": [
       "785"
      ]
     },
     "execution_count": 17,
     "metadata": {},
     "output_type": "execute_result"
    }
   ],
   "source": [
    "\n",
    "\n",
    "len(player_data_2014)"
   ]
  },
  {
   "cell_type": "code",
   "execution_count": 18,
   "metadata": {
    "scrolled": false
   },
   "outputs": [
    {
     "data": {
      "text/plain": [
       "785"
      ]
     },
     "execution_count": 18,
     "metadata": {},
     "output_type": "execute_result"
    }
   ],
   "source": [
    "player_data_2014.Player.nunique()"
   ]
  },
  {
   "cell_type": "code",
   "execution_count": 24,
   "metadata": {},
   "outputs": [],
   "source": [
    "dfs = [player_data['PlayerSeasonTotals_2014SOIRates'],player_data['PlayerSeasonTotals_2014PKOIRates'],player_data['PlayerSeasonTotals_2014PKIndCounts'],player_data['PlayerSeasonTotals_2014PPOIRates'], player_data['Playerbios2014'],player_data['PlayerSeasonTotals_2014SIndCounts'],player_data['PlayerSeasonTotals_2014PPindCounts']]\n",
    "cols = ['Player', 'Team']\n",
    "df = pd.concat([d.set_index(cols) for d in dfs], axis=1)"
   ]
  },
  {
   "cell_type": "code",
   "execution_count": 26,
   "metadata": {
    "scrolled": true
   },
   "outputs": [
    {
     "ename": "AttributeError",
     "evalue": "'DataFrame' object has no attribute 'Player'",
     "output_type": "error",
     "traceback": [
      "\u001b[0;31m---------------------------------------------------------------------------\u001b[0m",
      "\u001b[0;31mAttributeError\u001b[0m                            Traceback (most recent call last)",
      "\u001b[0;32m<ipython-input-26-5f06ffb33d70>\u001b[0m in \u001b[0;36m<module>\u001b[0;34m\u001b[0m\n\u001b[0;32m----> 1\u001b[0;31m \u001b[0mdf\u001b[0m\u001b[0;34m.\u001b[0m\u001b[0mPlayer\u001b[0m\u001b[0;34m.\u001b[0m\u001b[0mnunique\u001b[0m\u001b[0;34m(\u001b[0m\u001b[0;34m)\u001b[0m\u001b[0;34m\u001b[0m\u001b[0;34m\u001b[0m\u001b[0m\n\u001b[0m",
      "\u001b[0;32m/anaconda3/lib/python3.7/site-packages/pandas/core/generic.py\u001b[0m in \u001b[0;36m__getattr__\u001b[0;34m(self, name)\u001b[0m\n\u001b[1;32m   4374\u001b[0m             \u001b[0;32mif\u001b[0m \u001b[0mself\u001b[0m\u001b[0;34m.\u001b[0m\u001b[0m_info_axis\u001b[0m\u001b[0;34m.\u001b[0m\u001b[0m_can_hold_identifiers_and_holds_name\u001b[0m\u001b[0;34m(\u001b[0m\u001b[0mname\u001b[0m\u001b[0;34m)\u001b[0m\u001b[0;34m:\u001b[0m\u001b[0;34m\u001b[0m\u001b[0;34m\u001b[0m\u001b[0m\n\u001b[1;32m   4375\u001b[0m                 \u001b[0;32mreturn\u001b[0m \u001b[0mself\u001b[0m\u001b[0;34m[\u001b[0m\u001b[0mname\u001b[0m\u001b[0;34m]\u001b[0m\u001b[0;34m\u001b[0m\u001b[0;34m\u001b[0m\u001b[0m\n\u001b[0;32m-> 4376\u001b[0;31m             \u001b[0;32mreturn\u001b[0m \u001b[0mobject\u001b[0m\u001b[0;34m.\u001b[0m\u001b[0m__getattribute__\u001b[0m\u001b[0;34m(\u001b[0m\u001b[0mself\u001b[0m\u001b[0;34m,\u001b[0m \u001b[0mname\u001b[0m\u001b[0;34m)\u001b[0m\u001b[0;34m\u001b[0m\u001b[0;34m\u001b[0m\u001b[0m\n\u001b[0m\u001b[1;32m   4377\u001b[0m \u001b[0;34m\u001b[0m\u001b[0m\n\u001b[1;32m   4378\u001b[0m     \u001b[0;32mdef\u001b[0m \u001b[0m__setattr__\u001b[0m\u001b[0;34m(\u001b[0m\u001b[0mself\u001b[0m\u001b[0;34m,\u001b[0m \u001b[0mname\u001b[0m\u001b[0;34m,\u001b[0m \u001b[0mvalue\u001b[0m\u001b[0;34m)\u001b[0m\u001b[0;34m:\u001b[0m\u001b[0;34m\u001b[0m\u001b[0;34m\u001b[0m\u001b[0m\n",
      "\u001b[0;31mAttributeError\u001b[0m: 'DataFrame' object has no attribute 'Player'"
     ]
    }
   ],
   "source": [
    "player_data['PlayerSeasonTotals_2014SOIRates'].loc[player_data['PlayerSeasonTotals_2014SOIRates']]"
   ]
  }
 ],
 "metadata": {
  "kernelspec": {
   "display_name": "Python 3",
   "language": "python",
   "name": "python3"
  },
  "language_info": {
   "codemirror_mode": {
    "name": "ipython",
    "version": 3
   },
   "file_extension": ".py",
   "mimetype": "text/x-python",
   "name": "python",
   "nbconvert_exporter": "python",
   "pygments_lexer": "ipython3",
   "version": "3.7.1"
  }
 },
 "nbformat": 4,
 "nbformat_minor": 2
}
