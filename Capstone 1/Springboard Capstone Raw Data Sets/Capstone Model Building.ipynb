{
 "cells": [
  {
   "cell_type": "markdown",
   "metadata": {},
   "source": [
    "## Capstone Model Building\n",
    "\n",
    "This is our inital passes at a few machine learning models designed to predict NHL player performance in an ESPN fantasy league. "
   ]
  },
  {
   "cell_type": "code",
   "execution_count": 2,
   "metadata": {},
   "outputs": [],
   "source": [
    "## set up packages and import saved flat file\n",
    "import pandas as pd\n",
    "import numpy as np\n",
    "from matplotlib import pyplot as plt\n",
    "from matplotlib import cm as cm\n",
    "import seaborn as sb\n",
    "import researchpy as rp\n",
    "from scipy import stats\n",
    "from sklearn import metrics\n",
    "from sklearn.model_selection import cross_val_predict, GridSearchCV, cross_val_score\n",
    "from sklearn.model_selection import cross_val_score\n",
    "from sklearn.ensemble import RandomForestRegressor\n",
    "from sklearn.model_selection import train_test_split\n",
    "import time\n",
    "from sklearn.metrics import roc_curve, roc_auc_score"
   ]
  },
  {
   "cell_type": "code",
   "execution_count": 3,
   "metadata": {},
   "outputs": [
    {
     "data": {
      "text/html": [
       "<div>\n",
       "<style scoped>\n",
       "    .dataframe tbody tr th:only-of-type {\n",
       "        vertical-align: middle;\n",
       "    }\n",
       "\n",
       "    .dataframe tbody tr th {\n",
       "        vertical-align: top;\n",
       "    }\n",
       "\n",
       "    .dataframe thead th {\n",
       "        text-align: right;\n",
       "    }\n",
       "</style>\n",
       "<table border=\"1\" class=\"dataframe\">\n",
       "  <thead>\n",
       "    <tr style=\"text-align: right;\">\n",
       "      <th></th>\n",
       "      <th>Player</th>\n",
       "      <th>Team</th>\n",
       "      <th>Year</th>\n",
       "      <th>Position</th>\n",
       "      <th>Fantasy Points</th>\n",
       "      <th>GP</th>\n",
       "      <th>TOI</th>\n",
       "      <th>IPP</th>\n",
       "      <th>SHPer</th>\n",
       "      <th>iCF</th>\n",
       "      <th>...</th>\n",
       "      <th>Weight_(lbs)</th>\n",
       "      <th>Draft_Round</th>\n",
       "      <th>Round_Pick</th>\n",
       "      <th>Overall_Draft_Position</th>\n",
       "      <th>drafted</th>\n",
       "      <th>Total Minutes Played</th>\n",
       "      <th>C</th>\n",
       "      <th>D</th>\n",
       "      <th>L</th>\n",
       "      <th>R</th>\n",
       "    </tr>\n",
       "  </thead>\n",
       "  <tbody>\n",
       "    <tr>\n",
       "      <th>0</th>\n",
       "      <td>Aaron Ness</td>\n",
       "      <td>NYI</td>\n",
       "      <td>2014</td>\n",
       "      <td>D</td>\n",
       "      <td>25.80</td>\n",
       "      <td>20</td>\n",
       "      <td>275.25</td>\n",
       "      <td>100.0</td>\n",
       "      <td>4.35</td>\n",
       "      <td>48</td>\n",
       "      <td>...</td>\n",
       "      <td>184</td>\n",
       "      <td>2.0</td>\n",
       "      <td>10.0</td>\n",
       "      <td>40.0</td>\n",
       "      <td>1</td>\n",
       "      <td>295.88</td>\n",
       "      <td>0</td>\n",
       "      <td>1</td>\n",
       "      <td>0</td>\n",
       "      <td>0</td>\n",
       "    </tr>\n",
       "    <tr>\n",
       "      <th>1</th>\n",
       "      <td>Aaron Palushaj</td>\n",
       "      <td>CAR</td>\n",
       "      <td>2014</td>\n",
       "      <td>R</td>\n",
       "      <td>0.95</td>\n",
       "      <td>2</td>\n",
       "      <td>17.52</td>\n",
       "      <td>0.0</td>\n",
       "      <td>0.00</td>\n",
       "      <td>4</td>\n",
       "      <td>...</td>\n",
       "      <td>187</td>\n",
       "      <td>2.0</td>\n",
       "      <td>14.0</td>\n",
       "      <td>44.0</td>\n",
       "      <td>1</td>\n",
       "      <td>18.65</td>\n",
       "      <td>0</td>\n",
       "      <td>0</td>\n",
       "      <td>0</td>\n",
       "      <td>1</td>\n",
       "    </tr>\n",
       "    <tr>\n",
       "      <th>2</th>\n",
       "      <td>Aaron Rome</td>\n",
       "      <td>DAL</td>\n",
       "      <td>2014</td>\n",
       "      <td>D</td>\n",
       "      <td>27.50</td>\n",
       "      <td>25</td>\n",
       "      <td>301.20</td>\n",
       "      <td>10.0</td>\n",
       "      <td>0.00</td>\n",
       "      <td>36</td>\n",
       "      <td>...</td>\n",
       "      <td>220</td>\n",
       "      <td>4.0</td>\n",
       "      <td>8.0</td>\n",
       "      <td>104.0</td>\n",
       "      <td>1</td>\n",
       "      <td>327.20</td>\n",
       "      <td>0</td>\n",
       "      <td>1</td>\n",
       "      <td>0</td>\n",
       "      <td>0</td>\n",
       "    </tr>\n",
       "    <tr>\n",
       "      <th>3</th>\n",
       "      <td>Aaron Volpatti</td>\n",
       "      <td>WSH</td>\n",
       "      <td>2014</td>\n",
       "      <td>L</td>\n",
       "      <td>32.25</td>\n",
       "      <td>41</td>\n",
       "      <td>300.18</td>\n",
       "      <td>50.0</td>\n",
       "      <td>11.11</td>\n",
       "      <td>39</td>\n",
       "      <td>...</td>\n",
       "      <td>215</td>\n",
       "      <td>100.0</td>\n",
       "      <td>100.0</td>\n",
       "      <td>1000.0</td>\n",
       "      <td>0</td>\n",
       "      <td>301.87</td>\n",
       "      <td>0</td>\n",
       "      <td>0</td>\n",
       "      <td>1</td>\n",
       "      <td>0</td>\n",
       "    </tr>\n",
       "    <tr>\n",
       "      <th>4</th>\n",
       "      <td>Adam Almquist</td>\n",
       "      <td>DET</td>\n",
       "      <td>2014</td>\n",
       "      <td>D</td>\n",
       "      <td>3.45</td>\n",
       "      <td>2</td>\n",
       "      <td>31.52</td>\n",
       "      <td>50.0</td>\n",
       "      <td>50.00</td>\n",
       "      <td>3</td>\n",
       "      <td>...</td>\n",
       "      <td>174</td>\n",
       "      <td>7.0</td>\n",
       "      <td>29.0</td>\n",
       "      <td>210.0</td>\n",
       "      <td>1</td>\n",
       "      <td>34.43</td>\n",
       "      <td>0</td>\n",
       "      <td>1</td>\n",
       "      <td>0</td>\n",
       "      <td>0</td>\n",
       "    </tr>\n",
       "  </tbody>\n",
       "</table>\n",
       "<p>5 rows × 219 columns</p>\n",
       "</div>"
      ],
      "text/plain": [
       "           Player Team  Year Position  Fantasy Points  GP     TOI    IPP  \\\n",
       "0      Aaron Ness  NYI  2014        D           25.80  20  275.25  100.0   \n",
       "1  Aaron Palushaj  CAR  2014        R            0.95   2   17.52    0.0   \n",
       "2      Aaron Rome  DAL  2014        D           27.50  25  301.20   10.0   \n",
       "3  Aaron Volpatti  WSH  2014        L           32.25  41  300.18   50.0   \n",
       "4   Adam Almquist  DET  2014        D            3.45   2   31.52   50.0   \n",
       "\n",
       "   SHPer  iCF ...  Weight_(lbs)  Draft_Round  Round_Pick  \\\n",
       "0   4.35   48 ...           184          2.0        10.0   \n",
       "1   0.00    4 ...           187          2.0        14.0   \n",
       "2   0.00   36 ...           220          4.0         8.0   \n",
       "3  11.11   39 ...           215        100.0       100.0   \n",
       "4  50.00    3 ...           174          7.0        29.0   \n",
       "\n",
       "   Overall_Draft_Position  drafted  Total Minutes Played  C  D  L  R  \n",
       "0                    40.0        1                295.88  0  1  0  0  \n",
       "1                    44.0        1                 18.65  0  0  0  1  \n",
       "2                   104.0        1                327.20  0  1  0  0  \n",
       "3                  1000.0        0                301.87  0  0  1  0  \n",
       "4                   210.0        1                 34.43  0  1  0  0  \n",
       "\n",
       "[5 rows x 219 columns]"
      ]
     },
     "execution_count": 3,
     "metadata": {},
     "output_type": "execute_result"
    }
   ],
   "source": [
    "## import our now cleaned flat file, remind ourselves what it looks like\n",
    "\n",
    "model_data = pd.read_csv('model_ready_data.csv')\n",
    "model_data.head()"
   ]
  },
  {
   "cell_type": "code",
   "execution_count": 4,
   "metadata": {},
   "outputs": [],
   "source": [
    "# we need to reset the index and split into target and features \n",
    "model_data.set_index(keys=['Player','Team','Year','Position'],inplace=True)\n",
    "Target = model_data.iloc[:,0].values  \n",
    "features = model_data.iloc[:, 1:].values \n",
    "X_train, X_test, y_train, y_test = train_test_split(features, Target, test_size=0.2, random_state=0)  "
   ]
  },
  {
   "cell_type": "markdown",
   "metadata": {},
   "source": [
    "Initially we'll start with a random forest regressor"
   ]
  },
  {
   "cell_type": "code",
   "execution_count": 4,
   "metadata": {},
   "outputs": [
    {
     "data": {
      "text/plain": [
       "RandomForestRegressor(bootstrap=True, criterion='mse', max_depth=None,\n",
       "           max_features='auto', max_leaf_nodes=None,\n",
       "           min_impurity_decrease=0.0, min_impurity_split=None,\n",
       "           min_samples_leaf=1, min_samples_split=2,\n",
       "           min_weight_fraction_leaf=0.0, n_estimators=20, n_jobs=None,\n",
       "           oob_score=False, random_state=0, verbose=0, warm_start=False)"
      ]
     },
     "execution_count": 4,
     "metadata": {},
     "output_type": "execute_result"
    }
   ],
   "source": [
    "## fitting without parameter tuning\n",
    "regressor = RandomForestRegressor(n_estimators=20, random_state=0)  \n",
    "regressor.fit(X_train, y_train)  "
   ]
  },
  {
   "cell_type": "markdown",
   "metadata": {},
   "source": [
    "Making intial predictions and charting performance"
   ]
  },
  {
   "cell_type": "code",
   "execution_count": 5,
   "metadata": {},
   "outputs": [
    {
     "name": "stdout",
     "output_type": "stream",
     "text": [
      "Mean Absolute Error: 11.753717660292464\n",
      "Mean Squared Error: 295.7487059898763\n",
      "Root Mean Squared Error: 17.19734589958219\n",
      "Regreessor Score: 0.9514555313337327\n"
     ]
    }
   ],
   "source": [
    "y_pred = regressor.predict(X_test)  \n",
    "from sklearn import metrics\n",
    "\n",
    "print('Mean Absolute Error:', metrics.mean_absolute_error(y_test, y_pred))  \n",
    "print('Mean Squared Error:', metrics.mean_squared_error(y_test, y_pred))  \n",
    "print('Root Mean Squared Error:', np.sqrt(metrics.mean_squared_error(y_test, y_pred))) \n",
    "print('Regreessor Score:',RandomForestRegressor.score(regressor,X_test,  y_test))"
   ]
  },
  {
   "cell_type": "markdown",
   "metadata": {},
   "source": [
    "Examining the features"
   ]
  },
  {
   "cell_type": "code",
   "execution_count": 6,
   "metadata": {
    "scrolled": true
   },
   "outputs": [
    {
     "data": {
      "image/png": "[encoded data removed]",
      "text/plain": [
       "<Figure size 432x288 with 1 Axes>"
      ]
     },
     "metadata": {
      "needs_background": "light"
     },
     "output_type": "display_data"
    }
   ],
   "source": [
    "feature_import= list(zip(regressor.feature_importances_, model_data.columns[1:]))\n",
    "feature_import = pd.DataFrame(feature_import, columns = ['Importance', 'Feature'])\n",
    "top_features = feature_import.sort_values(by='Importance', ascending=False)[0:15]\n",
    "# quick plot of values\n",
    "sb.set_color_codes(\"pastel\")\n",
    "sb.barplot(x='Importance', y=\"Feature\", data=top_features, color=\"b\")\n",
    "sb.despine(left=True, bottom=True)"
   ]
  },
  {
   "cell_type": "markdown",
   "metadata": {},
   "source": [
    "Looking at features scores it's interesting that time again holds a lot of import. What I dislike here is that's not really something that we can then use as predictive value since that's a coaching decision, not a player skill.\n",
    "\n",
    "Let's try some grid searching to see where we can find some improvements."
   ]
  },
  {
   "cell_type": "code",
   "execution_count": null,
   "metadata": {},
   "outputs": [],
   "source": [
    "RandomForestRegressor(bootstrap=True, criterion='mse', max_depth=None,\n",
    "           max_features='auto', max_leaf_nodes=None,\n",
    "           min_impurity_decrease=0.0, min_impurity_split=None,\n",
    "           min_samples_leaf=1, min_samples_split=2,\n",
    "           min_weight_fraction_leaf=0.0, n_estimators=100, n_jobs=None,\n",
    "           oob_score=False, random_state=0, verbose=0, warm_start=False)\n",
    "\n",
    "\n",
    "param_grid = {\"max_depth\": [10, None],\n",
    "              \"max_features\": [1, 3, 10],\n",
    "              \"min_samples_split\": [2, 3, 10],\n",
    "              'n_estimators':[20,50,100],\n",
    "              \"bootstrap\": [True, False]}\n",
    "\n",
    "# run grid search\n",
    "grid_search = GridSearchCV(regressor, param_grid=param_grid, cv=5)\n",
    "start = time.gmtime()\n",
    "grid_search.fit(X_train,  y_train)\n",
    "\n",
    "print(\"GridSearchCV took %.2f seconds for %d candidate parameter settings.\"\n",
    "      % (time.mktime(time.gmtime()) - time.mktime(start), len(grid_search.cv_results_['params'])))\n",
    "grid_search.best_params_"
   ]
  },
  {
   "cell_type": "code",
   "execution_count": null,
   "metadata": {},
   "outputs": [],
   "source": [
    "best_grid = grid_search.best_estimator_\n",
    "y_pred = best_grid.predict(X_test) \n",
    "\n",
    "print('Mean Absolute Error:', metrics.mean_absolute_error(y_test, y_pred))  \n",
    "print('Mean Squared Error:', metrics.mean_squared_error(y_test, y_pred))  \n",
    "print('Root Mean Squared Error:', np.sqrt(metrics.mean_squared_error(y_test, y_pred))) \n",
    "print('Regressor Score:',RandomForestRegressor.score(best_grid,X_test,  y_test))"
   ]
  },
  {
   "cell_type": "markdown",
   "metadata": {},
   "source": [
    "The grid search did improve some but not a ton across the board, other than in MSE, which makes sense as that's the metric it's scoring on.\n",
    "\n",
    "| Metric      | Original          | Grid Search  | \n",
    "| ------------- |:-------------:| -----:| \n",
    "| Mean Absolute Error:    |  11.75 | **11.2** | \n",
    "| Mean Squared Error:    |  295.75 | **264.45** | \n",
    "| Root Mean Squared Error:     |  17.2 | **16.26** | \n",
    "| Regressor Score:    |  0.95 | **0.96** | \n",
    "    \n"
   ]
  },
  {
   "cell_type": "code",
   "execution_count": null,
   "metadata": {},
   "outputs": [],
   "source": [
    "## checking how feature importance has changed\n",
    "feature_import= list(zip(best_grid.feature_importances_, model_data.columns[1:]))\n",
    "feature_import = pd.DataFrame(feature_import, columns = ['Importance', 'Feature'])\n",
    "top_features_grid = feature_import.sort_values(by='Importance', ascending=False)[0:15]\n",
    "# quick plot of values\n",
    "sb.set_color_codes(\"pastel\")\n",
    "sb.barplot(x='Importance', y=\"Feature\", data=top_features, color=\"b\")\n",
    "sb.despine(left=True, bottom=True)"
   ]
  },
  {
   "cell_type": "code",
   "execution_count": null,
   "metadata": {},
   "outputs": [],
   "source": [
    "## for fun I decided to re run the above using just the top 15 features, to see if triming \n",
    "## the options would reduce noise even further\n",
    "feature_list = top_features_grid.Feature.unique()\n",
    "trimmed_features = model_data.loc[:,feature_list].values \n",
    "trimmed_X_train, trimmed_X_test, trimmed_y_train, trimmed_y_test = train_test_split(trimmed_features, Target, test_size=0.2, random_state=0) "
   ]
  },
  {
   "cell_type": "code",
   "execution_count": null,
   "metadata": {
    "scrolled": true
   },
   "outputs": [],
   "source": [
    "trimmed_regressor = RandomForestRegressor(n_estimators=20, random_state=0)  \n",
    "trimmed_regressor.fit(trimmed_X_train, trimmed_y_train)\n",
    "# run grid search\n",
    "grid_search = GridSearchCV(regressor, param_grid=param_grid, cv=5)\n",
    "start = time.gmtime()\n",
    "grid_search.fit(trimmed_X_train,  trimmed_y_train)\n",
    "\n",
    "print(\"GridSearchCV took %.2f seconds for %d candidate parameter settings.\"\n",
    "      % (time.mktime(time.gmtime()) - time.mktime(start), len(grid_search.cv_results_['params'])))\n",
    "grid_search.best_params_"
   ]
  },
  {
   "cell_type": "code",
   "execution_count": null,
   "metadata": {},
   "outputs": [],
   "source": [
    "best_grid = grid_search.best_estimator_\n",
    "trimmed_y_pred = best_grid.predict(trimmed_X_test) \n",
    "\n",
    "print('Mean Absolute Error:', metrics.mean_absolute_error(trimmed_y_test, trimmed_y_pred))  \n",
    "print('Mean Squared Error:', metrics.mean_squared_error(trimmed_y_test, trimmed_y_pred))  \n",
    "print('Root Mean Squared Error:', np.sqrt(metrics.mean_squared_error(trimmed_y_test, trimmed_y_pred))) \n",
    "print('Regressor Score:',RandomForestRegressor.score(best_grid,trimmed_X_test,  trimmed_y_test))"
   ]
  },
  {
   "cell_type": "markdown",
   "metadata": {},
   "source": [
    "So that backfired in that it significantly increased the errors, especially on MSE, which is pretty significant.\n",
    "\n",
    "Let's move on and try some more classic models"
   ]
  },
  {
   "cell_type": "code",
   "execution_count": 72,
   "metadata": {},
   "outputs": [
    {
     "name": "stdout",
     "output_type": "stream",
     "text": [
      "87.15018870475052\n"
     ]
    }
   ],
   "source": [
    "## linear regression\n",
    "from sklearn.linear_model import LinearRegression\n",
    "lin_reg = LinearRegression()  \n",
    "lin_reg.fit(X_train, y_train) \n",
    "print(lin_reg.intercept_)"
   ]
  },
  {
   "cell_type": "code",
   "execution_count": 73,
   "metadata": {},
   "outputs": [
    {
     "data": {
      "text/html": [
       "<div>\n",
       "<style scoped>\n",
       "    .dataframe tbody tr th:only-of-type {\n",
       "        vertical-align: middle;\n",
       "    }\n",
       "\n",
       "    .dataframe tbody tr th {\n",
       "        vertical-align: top;\n",
       "    }\n",
       "\n",
       "    .dataframe thead th {\n",
       "        text-align: right;\n",
       "    }\n",
       "</style>\n",
       "<table border=\"1\" class=\"dataframe\">\n",
       "  <thead>\n",
       "    <tr style=\"text-align: right;\">\n",
       "      <th></th>\n",
       "      <th>Actual</th>\n",
       "      <th>Predicted</th>\n",
       "    </tr>\n",
       "  </thead>\n",
       "  <tbody>\n",
       "    <tr>\n",
       "      <th>1</th>\n",
       "      <td>14.35</td>\n",
       "      <td>16.345904</td>\n",
       "    </tr>\n",
       "    <tr>\n",
       "      <th>2</th>\n",
       "      <td>233.65</td>\n",
       "      <td>199.122168</td>\n",
       "    </tr>\n",
       "    <tr>\n",
       "      <th>3</th>\n",
       "      <td>141.50</td>\n",
       "      <td>153.884523</td>\n",
       "    </tr>\n",
       "    <tr>\n",
       "      <th>4</th>\n",
       "      <td>185.85</td>\n",
       "      <td>200.685100</td>\n",
       "    </tr>\n",
       "    <tr>\n",
       "      <th>5</th>\n",
       "      <td>150.95</td>\n",
       "      <td>164.722377</td>\n",
       "    </tr>\n",
       "    <tr>\n",
       "      <th>6</th>\n",
       "      <td>135.25</td>\n",
       "      <td>130.762171</td>\n",
       "    </tr>\n",
       "    <tr>\n",
       "      <th>7</th>\n",
       "      <td>75.00</td>\n",
       "      <td>91.965385</td>\n",
       "    </tr>\n",
       "    <tr>\n",
       "      <th>8</th>\n",
       "      <td>158.80</td>\n",
       "      <td>176.621316</td>\n",
       "    </tr>\n",
       "    <tr>\n",
       "      <th>9</th>\n",
       "      <td>108.85</td>\n",
       "      <td>109.707626</td>\n",
       "    </tr>\n",
       "    <tr>\n",
       "      <th>10</th>\n",
       "      <td>120.45</td>\n",
       "      <td>144.194733</td>\n",
       "    </tr>\n",
       "    <tr>\n",
       "      <th>11</th>\n",
       "      <td>28.90</td>\n",
       "      <td>37.639985</td>\n",
       "    </tr>\n",
       "    <tr>\n",
       "      <th>12</th>\n",
       "      <td>2.10</td>\n",
       "      <td>-4.960848</td>\n",
       "    </tr>\n",
       "    <tr>\n",
       "      <th>13</th>\n",
       "      <td>23.20</td>\n",
       "      <td>22.921417</td>\n",
       "    </tr>\n",
       "    <tr>\n",
       "      <th>14</th>\n",
       "      <td>306.30</td>\n",
       "      <td>275.603815</td>\n",
       "    </tr>\n",
       "    <tr>\n",
       "      <th>15</th>\n",
       "      <td>59.05</td>\n",
       "      <td>44.927538</td>\n",
       "    </tr>\n",
       "    <tr>\n",
       "      <th>16</th>\n",
       "      <td>33.55</td>\n",
       "      <td>33.830963</td>\n",
       "    </tr>\n",
       "    <tr>\n",
       "      <th>17</th>\n",
       "      <td>162.30</td>\n",
       "      <td>170.539265</td>\n",
       "    </tr>\n",
       "    <tr>\n",
       "      <th>18</th>\n",
       "      <td>1.45</td>\n",
       "      <td>-7.266848</td>\n",
       "    </tr>\n",
       "    <tr>\n",
       "      <th>19</th>\n",
       "      <td>35.95</td>\n",
       "      <td>38.811192</td>\n",
       "    </tr>\n",
       "  </tbody>\n",
       "</table>\n",
       "</div>"
      ],
      "text/plain": [
       "    Actual   Predicted\n",
       "1    14.35   16.345904\n",
       "2   233.65  199.122168\n",
       "3   141.50  153.884523\n",
       "4   185.85  200.685100\n",
       "5   150.95  164.722377\n",
       "6   135.25  130.762171\n",
       "7    75.00   91.965385\n",
       "8   158.80  176.621316\n",
       "9   108.85  109.707626\n",
       "10  120.45  144.194733\n",
       "11   28.90   37.639985\n",
       "12    2.10   -4.960848\n",
       "13   23.20   22.921417\n",
       "14  306.30  275.603815\n",
       "15   59.05   44.927538\n",
       "16   33.55   33.830963\n",
       "17  162.30  170.539265\n",
       "18    1.45   -7.266848\n",
       "19   35.95   38.811192"
      ]
     },
     "execution_count": 73,
     "metadata": {},
     "output_type": "execute_result"
    }
   ],
   "source": [
    "y_pred = lin_reg.predict(X_test)\n",
    "df = pd.DataFrame({'Actual': y_test.flatten(), 'Predicted': y_pred.flatten()})\n",
    "df[1:20]"
   ]
  },
  {
   "cell_type": "markdown",
   "metadata": {},
   "source": [
    "This is sort of goofy in that there are negative values, which I'm sure there should be some way to prevent in the code. From a glance they're low value players anyway, but it's still seems less than ideal. "
   ]
  },
  {
   "cell_type": "code",
   "execution_count": 74,
   "metadata": {},
   "outputs": [
    {
     "name": "stdout",
     "output_type": "stream",
     "text": [
      "Mean Absolute Error: 12.528944160797773\n",
      "Mean Squared Error: 280.0456966076711\n",
      "Root Mean Squared Error: 16.734565922296017\n",
      "Regressor Score: 0.9540330379516203\n"
     ]
    }
   ],
   "source": [
    "## looking at metrics\n",
    "print('Mean Absolute Error:', metrics.mean_absolute_error(y_test, y_pred))  \n",
    "print('Mean Squared Error:', metrics.mean_squared_error(y_test, y_pred))  \n",
    "print('Root Mean Squared Error:', np.sqrt(metrics.mean_squared_error(y_test, y_pred))) \n",
    "print('Regressor Score:',LinearRegression.score(lin_reg,X_test,  y_test))"
   ]
  },
  {
   "cell_type": "markdown",
   "metadata": {},
   "source": [
    "Well this is a close but no cigar type item. The RMSE was about the same, but in every other area \n",
    "\n",
    "| Metric      | Linear Regression         | Grid Search  | \n",
    "| ------------- |:-------------:| -----:| \n",
    "| Mean Absolute Error:    |  12.53 | **11.2** | \n",
    "| Mean Squared Error:    |  280.05 | **264.45** | \n",
    "| Root Mean Squared Error:     |  16.73 | **16.26** | \n",
    "| Regressor Score:    |  0.95 | **0.96** | "
   ]
  },
  {
   "cell_type": "code",
   "execution_count": 75,
   "metadata": {},
   "outputs": [
    {
     "name": "stderr",
     "output_type": "stream",
     "text": [
      "/anaconda3/lib/python3.7/site-packages/sklearn/linear_model/stochastic_gradient.py:166: FutureWarning: max_iter and tol parameters have been added in SGDRegressor in 0.19. If both are left unset, they default to max_iter=5 and tol=None. If tol is not None, max_iter defaults to max_iter=1000. From 0.21, default max_iter will be 1000, and default tol will be 1e-3.\n",
      "  FutureWarning)\n"
     ]
    }
   ],
   "source": [
    "## let's try some gradient decent\n",
    "\n",
    "from sklearn.linear_model import SGDRegressor\n",
    "\n",
    "stgd = SGDRegressor()\n",
    "stgd.fit(X_train, y_train)\n",
    "sty_pred = stgd.predict(X_test)\n"
   ]
  },
  {
   "cell_type": "code",
   "execution_count": null,
   "metadata": {},
   "outputs": [],
   "source": [
    "print('Mean Absolute Error:', metrics.mean_absolute_error(y_test, sty_pred))  \n",
    "print('Mean Squared Error:', metrics.mean_squared_error(y_test, sty_pred))  \n",
    "print('Root Mean Squared Error:', np.sqrt(metrics.mean_squared_error(y_test, sty_pred))) \n",
    "print('Regressor Score:',LinearRegression.score(stgd,X_test,  y_test))"
   ]
  },
  {
   "cell_type": "code",
   "execution_count": null,
   "metadata": {},
   "outputs": [],
   "source": [
    "sty_pred"
   ]
  },
  {
   "cell_type": "code",
   "execution_count": null,
   "metadata": {},
   "outputs": [],
   "source": [
    "from sklearn.svm import SVR\n",
    "svr_lin = SVR(kernel='linear')\n",
    "\n",
    "y_lin = svr_lin.fit(X_train, y_train).predict(X_test)"
   ]
  },
  {
   "cell_type": "code",
   "execution_count": null,
   "metadata": {},
   "outputs": [],
   "source": [
    "y_lin\n",
    "\n"
   ]
  },
  {
   "cell_type": "code",
   "execution_count": null,
   "metadata": {},
   "outputs": [],
   "source": [
    "print('Mean Absolute Error:', metrics.mean_absolute_error(y_test, y_lin))  \n",
    "print('Mean Squared Error:', metrics.mean_squared_error(y_test, y_lin))  \n",
    "print('Root Mean Squared Error:', np.sqrt(metrics.mean_squared_error(y_test, y_lin))) \n",
    "print('Regressor Score:',LinearRegression.score(svr_lin,X_test,  y_test))"
   ]
  },
  {
   "cell_type": "code",
   "execution_count": 6,
   "metadata": {},
   "outputs": [],
   "source": [
    "from sklearn import ensemble\n",
    "params = {'n_estimators': 500, 'max_depth': 4, 'min_samples_split': 2,\n",
    "          'learning_rate': 0.01, 'loss': 'ls'}\n",
    "clf = ensemble.GradientBoostingRegressor(**params)\n",
    "\n",
    "clf_pred = clf.fit(X_train, y_train).predict(X_test)\n",
    "\n"
   ]
  },
  {
   "cell_type": "code",
   "execution_count": null,
   "metadata": {},
   "outputs": [],
   "source": [
    "print('Mean Absolute Error:', metrics.mean_absolute_error(y_test, clf_pred))  \n",
    "print('Mean Squared Error:', metrics.mean_squared_error(y_test, clf_pred))  \n",
    "print('Root Mean Squared Error:', np.sqrt(metrics.mean_squared_error(y_test, clf_pred))) \n",
    "print('Regressor Score:',LinearRegression.score(clf,X_test,  clf_pred))"
   ]
  },
  {
   "cell_type": "code",
   "execution_count": null,
   "metadata": {},
   "outputs": [],
   "source": [
    "feature_import= list(zip(clf.feature_importances_, model_data.columns[1:]))\n",
    "feature_import = pd.DataFrame(feature_import, columns = ['Importance', 'Feature'])\n",
    "top_features = feature_import.sort_values(by='Importance', ascending=False)[0:15]\n",
    "# quick plot of values\n",
    "sb.set_color_codes(\"pastel\")\n",
    "sb.barplot(x='Importance', y=\"Feature\", data=top_features, color=\"b\")\n",
    "sb.despine(left=True, bottom=True)"
   ]
  },
  {
   "cell_type": "markdown",
   "metadata": {},
   "source": [
    "This is the first model to outperform the cross-validated Random Forest Regressor, and perhaps as interesting the first to move to Fenwick up to the top three. Time factors sill dominate but not as much.  Also perhaps to have significant improvements across the board as far as errors.\n",
    "\n",
    "| Metric      | Linear Regression         | Grid Search  | Gradient Boost  |\n",
    "| ------------- |:-------------:| -----:| -----:| \n",
    "| Mean Absolute Error:    |  12.53 | 11.2 | **10.13** |\n",
    "| Mean Squared Error:    |  280.05 | 264.45 | **209.94** |  \n",
    "| Root Mean Squared Error:     |  16.73 | 16.26 |  **14.49** | \n",
    "| Regressor Score:    |  0.95 | 0.96 |  **1** | "
   ]
  },
  {
   "cell_type": "code",
   "execution_count": null,
   "metadata": {},
   "outputs": [],
   "source": [
    "\n",
    "\n",
    "clfparam_grid = {\"max_depth\": [4, 10, None],\n",
    "              \"max_features\": [1, 3, 10],\n",
    "              \"min_samples_split\": [2, 3, 10],\n",
    "              'n_estimators':[500,600,700]}\n",
    "\n",
    "# run grid search\n",
    "clfgrid_search = GridSearchCV(clf, param_grid=clfparam_grid, cv=5)\n",
    "start = time.gmtime()\n",
    "clf_grid = clfgrid_search.fit(X_train,  y_train).predict(X_test)\n",
    "\n",
    "print(\"GridSearchCV took %.2f seconds for %d candidate parameter settings.\"\n",
    "      % (time.mktime(time.gmtime()) - time.mktime(start), len(clfgrid_search.cv_results_['params'])))\n",
    "clfgrid_search.best_params_"
   ]
  },
  {
   "cell_type": "code",
   "execution_count": null,
   "metadata": {},
   "outputs": [],
   "source": [
    "print('Mean Absolute Error:', metrics.mean_absolute_error(y_test, clf_grid))  \n",
    "print('Mean Squared Error:', metrics.mean_squared_error(y_test, clf_grid))  \n",
    "print('Root Mean Squared Error:', np.sqrt(metrics.mean_squared_error(y_test, clf_grid))) \n",
    "print('Regressor Score:',LinearRegression.score(clf,X_test,  clf_grid))"
   ]
  },
  {
   "cell_type": "markdown",
   "metadata": {},
   "source": [
    "This actually performs worse than the first options. I'm thinking it's becuase I eliminated the 'none' options so I'm rerunning with that added back in. Score comparisions:\n",
    "\n",
    "| Metric      | Linear Regression         | Grid Search  | Gradient Boost  | Grid and Gradient  |\n",
    "| ------------- |-------------:| -----:| -----:| -----:| \n",
    "| Mean Absolute Error:    |  12.53 | 11.2 | **10.13** | 10.26 |\n",
    "| Mean Squared Error:    |  280.05 | 264.45 | **209.94** |  220.11 |\n",
    "| Root Mean Squared Error:     |  16.73 | 16.26 |  **14.49** | 14.84 |\n",
    "| Regressor Score:    |  0.95 | 0.96 |  **1** | .99 |\n"
   ]
  },
  {
   "cell_type": "code",
   "execution_count": null,
   "metadata": {
    "scrolled": true
   },
   "outputs": [],
   "source": [
    "\n",
    "clfparam_grid2 = {\"max_depth\": [ None,  10],\n",
    "              \"max_features\": [None, 10],\n",
    "              \"min_samples_split\": [2, 3, 10],\n",
    "              'n_estimators':[700,800],\n",
    "                 \n",
    "                }\n",
    "\n",
    "# run grid search\n",
    "clfgrid_search2 = GridSearchCV(clf, param_grid=clfparam_grid2, cv=5)\n",
    "start = time.gmtime()\n",
    "clf_grid2 = clfgrid_search2.fit(X_train,  y_train).predict(X_test)\n",
    "\n",
    "print(\"GridSearchCV took %.2f seconds for %d candidate parameter settings.\"\n",
    "      % (time.mktime(time.gmtime()) - time.mktime(start), len(grid_search.cv_results_['params'])))\n",
    "clfgrid_search.best_params_"
   ]
  },
  {
   "cell_type": "code",
   "execution_count": null,
   "metadata": {},
   "outputs": [],
   "source": [
    "print('Mean Absolute Error:', metrics.mean_absolute_error(y_test, clf_grid2))  \n",
    "print('Mean Squared Error:', metrics.mean_squared_error(y_test, clf_grid2))  \n",
    "print('Root Mean Squared Error:', np.sqrt(metrics.mean_squared_error(y_test, clf_grid2))) \n",
    "print('Regressor Score:',LinearRegression.score(clf,X_test,  clf_grid2))"
   ]
  },
  {
   "cell_type": "code",
   "execution_count": null,
   "metadata": {},
   "outputs": [],
   "source": []
  },
  {
   "cell_type": "code",
   "execution_count": null,
   "metadata": {},
   "outputs": [],
   "source": [
    "clfgrid_search."
   ]
  },
  {
   "cell_type": "code",
   "execution_count": null,
   "metadata": {},
   "outputs": [],
   "source": [
    "clfgrid_search.best_params_"
   ]
  },
  {
   "cell_type": "code",
   "execution_count": null,
   "metadata": {},
   "outputs": [],
   "source": [
    "clfgrid_search"
   ]
  },
  {
   "cell_type": "code",
   "execution_count": null,
   "metadata": {},
   "outputs": [],
   "source": []
  },
  {
   "cell_type": "code",
   "execution_count": null,
   "metadata": {},
   "outputs": [],
   "source": []
  },
  {
   "cell_type": "code",
   "execution_count": null,
   "metadata": {},
   "outputs": [],
   "source": []
  }
 ],
 "metadata": {
  "kernelspec": {
   "display_name": "Python 3",
   "language": "python",
   "name": "python3"
  },
  "language_info": {
   "codemirror_mode": {
    "name": "ipython",
    "version": 3
   },
   "file_extension": ".py",
   "mimetype": "text/x-python",
   "name": "python",
   "nbconvert_exporter": "python",
   "pygments_lexer": "ipython3",
   "version": "3.7.1"
  }
 },
 "nbformat": 4,
 "nbformat_minor": 2
}
