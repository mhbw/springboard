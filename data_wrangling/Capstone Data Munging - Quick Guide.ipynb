{
 "cells": [
  {
   "cell_type": "code",
   "execution_count": null,
   "metadata": {},
   "outputs": [],
   "source": [
    "Create a Google Doc (1-2 pages) describing the data wrangling steps you took to clean the dataset. \n",
    "Include answers to these questions in your submission:\n",
    "\n",
    "What kind of cleaning steps did you perform?\n",
    "\n",
    "How did you deal with missing values, if any?\n",
    "\n",
    "Were there outliers, and how did you handle them?"
   ]
  },
  {
   "cell_type": "code",
   "execution_count": null,
   "metadata": {},
   "outputs": [],
   "source": []
  }
 ],
 "metadata": {
  "kernelspec": {
   "display_name": "Python 3",
   "language": "python",
   "name": "python3"
  },
  "language_info": {
   "codemirror_mode": {
    "name": "ipython",
    "version": 3
   },
   "file_extension": ".py",
   "mimetype": "text/x-python",
   "name": "python",
   "nbconvert_exporter": "python",
   "pygments_lexer": "ipython3",
   "version": "3.7.1"
  }
 },
 "nbformat": 4,
 "nbformat_minor": 2
}
